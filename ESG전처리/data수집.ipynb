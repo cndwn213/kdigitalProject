{
 "cells": [
  {
   "cell_type": "code",
   "execution_count": 1,
   "outputs": [],
   "source": [
    "from bs4 import BeautifulSoup as bs\n",
    "from selenium import webdriver\n",
    "import pandas as pd\n",
    "from pandas_datareader import data as pdr\n",
    "import matplotlib.font_manager as fm\n",
    "import matplotlib.pyplot as plt\n",
    "import yfinance as yf\n",
    "import time\n",
    "import warnings\n",
    "import os\n",
    "warnings.filterwarnings('ignore')\n",
    "url = 'http://www.cgs.or.kr/business/esg_tab04.jsp?pg=1&pp=10&skey=&svalue=&sfyear=2021&styear=2021&sgtype=&sgrade=#ui_contents'"
   ],
   "metadata": {
    "collapsed": false,
    "pycharm": {
     "name": "#%%\n"
    }
   }
  },
  {
   "cell_type": "markdown",
   "source": [
    "### 셀레니움과 beautifulSoup으로 기업명과 기업코드 가져오기"
   ],
   "metadata": {
    "collapsed": false,
    "pycharm": {
     "name": "#%% md\n"
    }
   }
  },
  {
   "cell_type": "code",
   "execution_count": 66,
   "outputs": [],
   "source": [
    "def crawling_data(url):\n",
    "    driver = webdriver.Chrome('chromedriver/chromedriver.exe')\n",
    "    driver.get(url)\n",
    "\n",
    "    next_button = '//*[@id=\"ui_contents\"]/div[2]/div[4]/button[2]'\n",
    "    btn_cnt = 0\n",
    "    company_ticker_list = []\n",
    "\n",
    "    while btn_cnt < 10:\n",
    "        for page in range(2, 12):\n",
    "            html = driver.page_source\n",
    "            soup = bs(html, 'html.parser')\n",
    "\n",
    "            for code in range(1, 11):\n",
    "                name = soup.select(f'#ui_contents > div.rating-wrap > div.business_board > table > tbody > tr:nth-child({i}) > td:nth-child(2)')[0].text\n",
    "                ticker = soup.select(f'#ui_contents > div.rating-wrap > div.business_board > table > tbody > tr:nth-child({code}) > td:nth-child(3)')[0].text\n",
    "                company_ticker_list.append({name:ticker})\n",
    "                time.sleep(1)\n",
    "\n",
    "            page_button = f'//*[@id=\"ui_contents\"]/div[2]/div[4]/span/a[{page}]'\n",
    "\n",
    "            if page == 11:\n",
    "                driver.find_element_by_xpath(next_button).click()\n",
    "                btn_cnt+=1\n",
    "                continue\n",
    "            driver.find_element_by_xpath(page_button).click()\n",
    "            time.sleep(1)\n",
    "\n",
    "    df = pd.DataFrame(company_ticker_list)\n",
    "    return df"
   ],
   "metadata": {
    "collapsed": false,
    "pycharm": {
     "name": "#%%\n"
    }
   }
  },
  {
   "cell_type": "code",
   "execution_count": 54,
   "outputs": [
    {
     "data": {
      "text/plain": "      회사명  ticker\n0  AJ네트웍스  095570\n1   AK홀딩스  006840\n2   AP시스템  265520\n3     BGF  027410\n4  BGF리테일  282330",
      "text/html": "<div>\n<style scoped>\n    .dataframe tbody tr th:only-of-type {\n        vertical-align: middle;\n    }\n\n    .dataframe tbody tr th {\n        vertical-align: top;\n    }\n\n    .dataframe thead th {\n        text-align: right;\n    }\n</style>\n<table border=\"1\" class=\"dataframe\">\n  <thead>\n    <tr style=\"text-align: right;\">\n      <th></th>\n      <th>회사명</th>\n      <th>ticker</th>\n    </tr>\n  </thead>\n  <tbody>\n    <tr>\n      <th>0</th>\n      <td>AJ네트웍스</td>\n      <td>095570</td>\n    </tr>\n    <tr>\n      <th>1</th>\n      <td>AK홀딩스</td>\n      <td>006840</td>\n    </tr>\n    <tr>\n      <th>2</th>\n      <td>AP시스템</td>\n      <td>265520</td>\n    </tr>\n    <tr>\n      <th>3</th>\n      <td>BGF</td>\n      <td>027410</td>\n    </tr>\n    <tr>\n      <th>4</th>\n      <td>BGF리테일</td>\n      <td>282330</td>\n    </tr>\n  </tbody>\n</table>\n</div>"
     },
     "execution_count": 54,
     "metadata": {},
     "output_type": "execute_result"
    }
   ],
   "source": [
    "ticker_df = crawling_data(url)\n",
    "ticker_df.head()"
   ],
   "metadata": {
    "collapsed": false,
    "pycharm": {
     "name": "#%%\n"
    }
   }
  },
  {
   "cell_type": "code",
   "execution_count": 57,
   "outputs": [],
   "source": [
    "ticker_df.to_csv('./data/기업코드.csv',index=False)"
   ],
   "metadata": {
    "collapsed": false,
    "pycharm": {
     "name": "#%%\n"
    }
   }
  },
  {
   "cell_type": "code",
   "execution_count": 62,
   "outputs": [
    {
     "data": {
      "text/plain": "      회사명  ticker\n0  AJ네트웍스  095570\n1   AK홀딩스  006840\n2   AP시스템  265520\n3     BGF  027410\n4  BGF리테일  282330",
      "text/html": "<div>\n<style scoped>\n    .dataframe tbody tr th:only-of-type {\n        vertical-align: middle;\n    }\n\n    .dataframe tbody tr th {\n        vertical-align: top;\n    }\n\n    .dataframe thead th {\n        text-align: right;\n    }\n</style>\n<table border=\"1\" class=\"dataframe\">\n  <thead>\n    <tr style=\"text-align: right;\">\n      <th></th>\n      <th>회사명</th>\n      <th>ticker</th>\n    </tr>\n  </thead>\n  <tbody>\n    <tr>\n      <th>0</th>\n      <td>AJ네트웍스</td>\n      <td>095570</td>\n    </tr>\n    <tr>\n      <th>1</th>\n      <td>AK홀딩스</td>\n      <td>006840</td>\n    </tr>\n    <tr>\n      <th>2</th>\n      <td>AP시스템</td>\n      <td>265520</td>\n    </tr>\n    <tr>\n      <th>3</th>\n      <td>BGF</td>\n      <td>027410</td>\n    </tr>\n    <tr>\n      <th>4</th>\n      <td>BGF리테일</td>\n      <td>282330</td>\n    </tr>\n  </tbody>\n</table>\n</div>"
     },
     "execution_count": 62,
     "metadata": {},
     "output_type": "execute_result"
    }
   ],
   "source": [
    "# 잘 저장되이있는 지 확인\n",
    "ticker_df = pd.read_csv('./data/기업코드.csv', dtype=object)\n",
    "ticker_df.head()"
   ],
   "metadata": {
    "collapsed": false,
    "pycharm": {
     "name": "#%%\n"
    }
   }
  },
  {
   "cell_type": "code",
   "execution_count": 63,
   "outputs": [
    {
     "data": {
      "text/plain": "           회사명  ticker\n995      휠라홀딩스  081660\n996  휴니드테크놀러지스  005870\n997        휴비스  079980\n998        휴스틸  005010\n999        휴온스  243070",
      "text/html": "<div>\n<style scoped>\n    .dataframe tbody tr th:only-of-type {\n        vertical-align: middle;\n    }\n\n    .dataframe tbody tr th {\n        vertical-align: top;\n    }\n\n    .dataframe thead th {\n        text-align: right;\n    }\n</style>\n<table border=\"1\" class=\"dataframe\">\n  <thead>\n    <tr style=\"text-align: right;\">\n      <th></th>\n      <th>회사명</th>\n      <th>ticker</th>\n    </tr>\n  </thead>\n  <tbody>\n    <tr>\n      <th>995</th>\n      <td>휠라홀딩스</td>\n      <td>081660</td>\n    </tr>\n    <tr>\n      <th>996</th>\n      <td>휴니드테크놀러지스</td>\n      <td>005870</td>\n    </tr>\n    <tr>\n      <th>997</th>\n      <td>휴비스</td>\n      <td>079980</td>\n    </tr>\n    <tr>\n      <th>998</th>\n      <td>휴스틸</td>\n      <td>005010</td>\n    </tr>\n    <tr>\n      <th>999</th>\n      <td>휴온스</td>\n      <td>243070</td>\n    </tr>\n  </tbody>\n</table>\n</div>"
     },
     "execution_count": 63,
     "metadata": {},
     "output_type": "execute_result"
    }
   ],
   "source": [
    "ticker_df.tail()"
   ],
   "metadata": {
    "collapsed": false,
    "pycharm": {
     "name": "#%%\n"
    }
   }
  },
  {
   "cell_type": "markdown",
   "source": [
    "### openApi를 활용해 pdf 파일을 csv파일로 변환"
   ],
   "metadata": {
    "collapsed": false,
    "pycharm": {
     "name": "#%% md\n"
    }
   }
  },
  {
   "cell_type": "code",
   "execution_count": 75,
   "outputs": [
    {
     "name": "stdout",
     "output_type": "stream",
     "text": [
      "Collecting git+https://github.com/pdftables/python-pdftables-api.git"
     ]
    },
    {
     "name": "stderr",
     "output_type": "stream",
     "text": [
      "  Running command git clone --filter=blob:none --quiet https://github.com/pdftables/python-pdftables-api.git 'C:\\Users\\tjgml\\AppData\\Local\\Temp\\pip-req-build-s3m2innq'\n"
     ]
    },
    {
     "name": "stdout",
     "output_type": "stream",
     "text": [
      "\n",
      "  Cloning https://github.com/pdftables/python-pdftables-api.git to c:\\users\\tjgml\\appdata\\local\\temp\\pip-req-build-s3m2innq\n",
      "  Resolved https://github.com/pdftables/python-pdftables-api.git to commit a2d329a346197c4dcfc6d1b63b02a89dc87481e6\n",
      "  Preparing metadata (setup.py): started\n",
      "  Preparing metadata (setup.py): finished with status 'done'\n",
      "Requirement already satisfied: requests in c:\\users\\tjgml\\machinelearning\\kdigproj\\venv\\lib\\site-packages (from pdftables-api==1.1.0) (2.27.1)\n",
      "Requirement already satisfied: urllib3<1.27,>=1.21.1 in c:\\users\\tjgml\\machinelearning\\kdigproj\\venv\\lib\\site-packages (from requests->pdftables-api==1.1.0) (1.26.9)\n",
      "Requirement already satisfied: certifi>=2017.4.17 in c:\\users\\tjgml\\machinelearning\\kdigproj\\venv\\lib\\site-packages (from requests->pdftables-api==1.1.0) (2021.10.8)\n",
      "Requirement already satisfied: idna<4,>=2.5 in c:\\users\\tjgml\\machinelearning\\kdigproj\\venv\\lib\\site-packages (from requests->pdftables-api==1.1.0) (3.3)\n",
      "Requirement already satisfied: charset-normalizer~=2.0.0 in c:\\users\\tjgml\\machinelearning\\kdigproj\\venv\\lib\\site-packages (from requests->pdftables-api==1.1.0) (2.0.12)\n",
      "Building wheels for collected packages: pdftables-api\n",
      "  Building wheel for pdftables-api (setup.py): started\n",
      "  Building wheel for pdftables-api (setup.py): finished with status 'done'\n",
      "  Created wheel for pdftables-api: filename=pdftables_api-1.1.0-py3-none-any.whl size=5916 sha256=dfda3ab0066655d43faaa877ef71912121fa242d59b3bd395649a8549c5d3db6\n",
      "  Stored in directory: C:\\Users\\tjgml\\AppData\\Local\\Temp\\pip-ephem-wheel-cache-8xa3o6s0\\wheels\\08\\f9\\61\\03de7463e2d9a990f0ee3865faf7286ad320d0a0095bb99cc9\n",
      "Successfully built pdftables-api\n",
      "Installing collected packages: pdftables-api\n",
      "Successfully installed pdftables-api-1.1.0\n"
     ]
    }
   ],
   "source": [
    "# !pip install git+https://github.com/pdftables/python-pdftables-api.git"
   ],
   "metadata": {
    "collapsed": false,
    "pycharm": {
     "name": "#%%\n"
    }
   }
  },
  {
   "cell_type": "code",
   "execution_count": 156,
   "outputs": [],
   "source": [
    "# Import Module\n",
    "import pdftables_api\n",
    "\n",
    "# API KEY VERIFICATION\n",
    "key = 'o2avkfspsnqq'\n",
    "\n",
    "# csv로 변환\n",
    "def trans_csv(key, pdf_path, csv_path):\n",
    "    conversion = pdftables_api.Client(key)\n",
    "    conversion.csv(pdf_path, csv_path)\n",
    "\n",
    "file_list = os.listdir('./data/각종목ESG등급(11~18)/')\n",
    "krx_df_list = []\n",
    "for filename in file_list:\n",
    "    tmp_df = pd.read_csv(f'./data/각종목ESG등급(11~18)/{filename}')\n",
    "    krx_df_list.append(tmp_df)"
   ],
   "metadata": {
    "collapsed": false,
    "pycharm": {
     "name": "#%%\n"
    }
   }
  },
  {
   "cell_type": "code",
   "execution_count": 5,
   "outputs": [
    {
     "data": {
      "text/plain": "Index(['종목명', '통합등급', '환경', '사회', '지배구조', '평가연도'], dtype='object')"
     },
     "execution_count": 5,
     "metadata": {},
     "output_type": "execute_result"
    }
   ],
   "source": [
    "krx_df_list[0].columns"
   ],
   "metadata": {
    "collapsed": false,
    "pycharm": {
     "name": "#%%\n"
    }
   }
  },
  {
   "cell_type": "markdown",
   "source": [
    "## yfinance를 이용해 각 회사 주식 데이터 가져오기"
   ],
   "metadata": {
    "collapsed": false,
    "pycharm": {
     "name": "#%% md\n"
    }
   }
  },
  {
   "cell_type": "code",
   "execution_count": 9,
   "outputs": [],
   "source": [
    "def get_jusik_data(df, sdate, edate):\n",
    "    jusik_list = []\n",
    "\n",
    "    for ii in df.index:\n",
    "        cname = df.loc[ii, '기업명']\n",
    "        code = df.loc[ii, '기업코드'] + str('.KS')\n",
    "        print(cname, code)\n",
    "        if len(code) != 9:\n",
    "            print('잘못된 코드입니다.')\n",
    "            continue\n",
    "        df_aapi = yf.download(code, start=sdate, end=edate, progress=False)\n",
    "        jusik_list.append({cname : df_aapi})\n",
    "\n",
    "    return jusik_list"
   ],
   "metadata": {
    "collapsed": false,
    "pycharm": {
     "name": "#%%\n"
    }
   }
  },
  {
   "cell_type": "code",
   "execution_count": 23,
   "outputs": [
    {
     "name": "stdout",
     "output_type": "stream",
     "text": [
      "AJ네트웍스 095570.KS\n",
      "AK홀딩스 006840.KS\n",
      "BGF 027410.KS\n",
      "BNK금융지주 138930.KS\n",
      "BYC 001460.KS\n",
      "CJ 001040.KS\n",
      "CJ CGV 079160.KS\n",
      "CJ대한통운 000120.KS\n",
      "CJ씨푸드 011150.KS\n",
      "CJ제일제당 097950.KS\n",
      "CS홀딩스 000590.KS\n",
      "DB 012030.KS\n",
      "DB금융투자 016610.KS\n",
      "DB손해보험 005830.KS\n",
      "DB하이텍 000990.KS\n",
      "DGB금융지주 139130.KS\n",
      "DRB동일 004840.KS\n",
      "DSR 155660.KS\n",
      "DSR제강 069730.KS\n",
      "E1 017940.KS\n",
      "F&F 007700.KS\n",
      "GKL 114090.KS\n",
      "GS 078930.KS\n",
      "GS건설 006360.KS\n",
      "GS글로벌 001250.KS\n",
      "GS리테일 007070.KS\n",
      "HDC 012630.KS\n",
      "HDC현대EP 089470.KS\n",
      "HSD엔진 082740.KS\n",
      "JB금융지주 175330.KS\n",
      "JW생명과학 234080.KS\n",
      "JW중외제약 001060.KS\n",
      "JW홀딩스 096760.KS\n",
      "KB금융 105560.KS\n",
      "KC그린홀딩스 009440.KS\n",
      "KC코트렐 119650.KS\n",
      "KEC 092220.KS\n",
      "KG케미칼 001390.KS\n",
      "KISCO홀딩스 001940.KS\n",
      "KPX케미칼 025000.KS\n",
      "KPX홀딩스 092230.KS\n",
      "KR모터스 000040.KS\n",
      "KSS해운 044450.KS\n",
      "KTcs 058850.KS\n",
      "LF 093050.KS\n",
      "LG 003550.KS\n",
      "LG디스플레이 034220.KS\n",
      "LG생활건강 051900.KS\n",
      "LG유플러스 032640.KS\n",
      "LG이노텍 011070.KS\n",
      "LG전자 066570.KS\n",
      "LG화학 051910.KS\n",
      "LIG넥스원 079550.KS\n",
      "LS 006260.KS\n",
      "LS네트웍스 000680.KS\n",
      "LS전선아시아 229640.KS\n",
      "MH에탄올 023150.KS\n",
      "NAVER 035420.KS\n",
      "NH투자증권 005940.KS\n",
      "NICE 034310.KS\n",
      "NI스틸 008260.KS\n",
      "OCI 010060.KS\n",
      "S-Oil 010950.KS\n",
      "SBS 034120.KS\n",
      "SG세계물산 004060.KS\n",
      "SH에너지화학 002360.KS\n",
      "SIMPAC 009160.KS\n",
      "SK 034730.KS\n",
      "SKC 011790.KS\n",
      "SK가스 018670.KS\n",
      "SK네트웍스 001740.KS\n",
      "SK디스커버리 006120.KS\n",
      "SK디앤디 210980.KS\n",
      "SK이노베이션 096770.KS\n",
      "SK증권 001510.KS\n",
      "SK텔레콤 017670.KS\n",
      "SK하이닉스 000660.KS\n",
      "SPC삼립 005610.KS\n",
      "STX 011810.KS\n",
      "STX엔진 077970.KS\n",
      "STX중공업 071970.KS\n",
      "WISCOM 024070.KS\n",
      "YG PLUS 037270.KS\n",
      "가온전선 000500.KS\n",
      "강남제비스코 000860.KS\n",
      "강원랜드 035250.KS\n",
      "갤럭시아에스엠 011420.KS\n",
      "경농 002100.KS\n",
      "경동나비엔 009450.KS\n",
      "경동인베스트 012320.KS\n",
      "경방 000050.KS\n",
      "경보제약 214390.KS\n",
      "경인양행 012610.KS\n",
      "경인전자 009140.KS\n",
      "계룡건설산업 013580.KS\n",
      "계양전기 012200.KS\n",
      "고려산업 002140.KS\n",
      "고려아연 010130.KS\n",
      "고려제강 002240.KS\n",
      "광동제약 009290.KS\n",
      "광명전기 017040.KS\n",
      "광전자 017900.KS\n",
      "광주신세계 037710.KS\n",
      "교보증권 030610.KS\n",
      "국도화학 007690.KS\n",
      "국동 005320.KS\n",
      "국보 001140.KS\n",
      "국제약품 002720.KS\n",
      "그린케미칼 083420.KS\n",
      "극동유화 014530.KS\n",
      "금강공업 014280.KS\n",
      "금비 008870.KS\n",
      "금양 001570.KS\n",
      "금호석유화학 011780.KS\n",
      "금호에이치티 214330.KS\n",
      "금호전기 001210.KS\n",
      "금호타이어 073240.KS\n",
      "기신정기 092440.KS\n",
      "기업은행 024110.KS\n",
      "까뮤이앤씨 013700.KS\n",
      "깨끗한나라 004540.KS\n",
      "남광토건 001260.KS\n",
      "남선알미늄 008350.KS\n",
      "남성 004270.KS\n",
      "남양유업 003920.KS\n",
      "남해화학 025860.KS\n",
      "넥센 005720.KS\n",
      "넥센타이어 002350.KS\n",
      "노루페인트 090350.KS\n",
      "노루홀딩스 000320.KS\n",
      "녹십자 006280.KS\n",
      "녹십자홀딩스 005250.KS\n",
      "농심 004370.KS\n",
      "농심홀딩스 072710.KS\n",
      "다스코 058730.KS\n",
      "다우기술 023590.KS\n",
      "대교 019680.KS\n",
      "대구백화점 006370.KS\n",
      "대동전자 008110.KS\n",
      "대림비앤코 005750.KS\n",
      "대림통상 006570.KS\n",
      "대상 001680.KS\n",
      "대상홀딩스 084690.KS\n",
      "대성산업 128820.KS\n",
      "대성에너지 117580.KS\n",
      "대성홀딩스 016710.KS\n",
      "대신증권 003540.KS\n",
      "대양금속 009190.KS\n",
      "대영포장 014160.KS\n",
      "대우건설 047040.KS\n",
      "대우부품 009320.KS\n",
      "대우조선해양 042660.KS\n",
      "대웅 003090.KS\n",
      "대웅제약 069620.KS\n",
      "대원강업 000430.KS\n",
      "대원전선 006340.KS\n",
      "대원제약 003220.KS\n",
      "대원화성 024890.KS\n",
      "대유에이텍 002880.KS\n",
      "대유플러스 000300.KS\n",
      "대창 012800.KS\n",
      "대창단조 015230.KS\n",
      "대한방직 001070.KS\n",
      "대한유화 006650.KS\n",
      "대한전선 001440.KS\n",
      "대한제강 084010.KS\n",
      "대한제당 001790.KS\n",
      "대한제분 001130.KS\n",
      "대한항공 003490.KS\n",
      "대한해운 005880.KS\n",
      "대한화섬 003830.KS\n",
      "대현 016090.KS\n",
      "대호에이엘 069460.KS\n",
      "더존비즈온 012510.KS\n",
      "덕성 004830.KS\n",
      "덕양산업 024900.KS\n",
      "도화엔지니어링 002150.KS\n",
      "동국제강 001230.KS\n",
      "동남합성 023450.KS\n",
      "동방 004140.KS\n",
      "동방아그로 007590.KS\n",
      "동부건설 005960.KS\n",
      "동서 026960.KS\n",
      "동성제약 002210.KS\n",
      "동아쏘시오홀딩스 000640.KS\n",
      "동아에스티 170900.KS\n",
      "동아지질 028100.KS\n",
      "동양 001520.KS\n",
      "동양고속 084670.KS\n",
      "동양생명 082640.KS\n",
      "동양철관 008970.KS\n",
      "동원F&B 049770.KS\n",
      "동원금속 018500.KS\n",
      "동원산업 006040.KS\n",
      "동원수산 030720.KS\n",
      "동원시스템즈 014820.KS\n",
      "동일고무벨트 163560.KS\n",
      "동일산업 004890.KS\n",
      "동일제강 002690.KS\n",
      "동화약품 000020.KS\n",
      "두산 000150.KS\n",
      "두산밥캣 241560.KS\n",
      "두올 016740.KS\n",
      "디씨엠 024090.KS\n",
      "디아이 003160.KS\n",
      "디아이씨 092200.KS\n",
      "디와이 013570.KS\n",
      "디와이파워 210540.KS\n",
      "디티알오토모티브 007340.KS\n",
      "락앤락 115390.KS\n",
      "롯데관광개발 032350.KS\n",
      "롯데손해보험 000400.KS\n",
      "롯데쇼핑 023530.KS\n",
      "롯데정밀화학 004000.KS\n",
      "롯데지주 004990.KS\n",
      "롯데칠성음료 005300.KS\n",
      "롯데케미칼 011170.KS\n",
      "롯데푸드 002270.KS\n",
      "롯데하이마트 071840.KS\n",
      "마니커 027740.KS\n",
      "만도 204320.KS\n",
      "만호제강 001080.KS\n",
      "메리츠금융지주 138040.KS\n",
      "메리츠화재 000060.KS\n",
      "메타랩스 090370.KS\n",
      "명문제약 017180.KS\n",
      "모나리자 012690.KS\n",
      "모나미 005360.KS\n",
      "모토닉 009680.KS\n",
      "무림P&P 009580.KS\n",
      "무림페이퍼 009200.KS\n",
      "무학 033920.KS\n",
      "문배철강 008420.KS\n",
      "미래산업 025560.KS\n",
      "미래아이앤지 007120.KS\n",
      "미래에셋생명 085620.KS\n",
      "미래에셋증권 006800.KS\n",
      "미원상사 002840.KS\n",
      "미원홀딩스 107590.KS\n",
      "미원화학 134380.KS\n",
      "미창석유공업 003650.KS\n",
      "방림 003610.KS\n",
      "백광산업 001340.KS\n",
      "백산 035150.KS\n",
      "범양건영 002410.KS\n",
      "벽산 007210.KS\n",
      "보락 002760.KS\n",
      "보해양조 000890.KS\n",
      "부광약품 003000.KS\n",
      "부국증권 001270.KS\n",
      "부국철강 026940.KS\n",
      "부산산업 011390.KS\n",
      "부산주공 005030.KS\n",
      "비상교육 100220.KS\n",
      "빙그레 005180.KS\n",
      "사조대림 003960.KS\n",
      "사조동아원 008040.KS\n",
      "사조산업 007160.KS\n",
      "사조씨푸드 014710.KS\n",
      "사조오양 006090.KS\n",
      "삼부토건 001470.KS\n",
      "삼성SDI 006400.KS\n",
      "삼성공조 006660.KS\n",
      "삼성물산 028260.KS\n",
      "삼성바이오로직스 207940.KS\n",
      "삼성생명 032830.KS\n",
      "삼성에스디에스 018260.KS\n",
      "삼성엔지니어링 028050.KS\n",
      "삼성전기 009150.KS\n",
      "삼성전자 005930.KS\n",
      "삼성제약 001360.KS\n",
      "삼성중공업 010140.KS\n",
      "삼성증권 016360.KS\n",
      "삼성출판사 068290.KS\n",
      "삼성카드 029780.KS\n",
      "삼성화재해상보험 000810.KS\n",
      "삼아알미늄 006110.KS\n",
      "삼양사 145990.KS\n",
      "삼양식품 003230.KS\n",
      "삼양통상 002170.KS\n",
      "삼양홀딩스 000070.KS\n",
      "삼영무역 002810.KS\n",
      "삼영전자공업 005680.KS\n",
      "삼영화학공업 003720.KS\n",
      "삼원강재 023000.KS\n",
      "삼익THK 004380.KS\n",
      "삼익악기 002450.KS\n",
      "삼일제약 000520.KS\n",
      "삼정펄프 009770.KS\n",
      "삼진제약 005500.KS\n",
      "삼천리 004690.KS\n",
      "삼호개발 010960.KS\n",
      "삼화왕관 004450.KS\n",
      "삼화전기 009470.KS\n",
      "삼화전자공업 011230.KS\n",
      "삼화콘덴서공업 001820.KS\n",
      "삼화페인트공업 000390.KS\n",
      "상신브레이크 041650.KS\n",
      "새론오토모티브 075180.KS\n",
      "샘표 007540.KS\n",
      "샘표식품 248170.KS\n",
      "서연 007860.KS\n",
      "서연이화 200880.KS\n",
      "서울도시가스 017390.KS\n",
      "서울식품공업 004410.KS\n",
      "서원 021050.KS\n",
      "서흥 008490.KS\n",
      "선도전기 007610.KS\n",
      "선진 136490.KS\n",
      "성문전자 014910.KS\n",
      "성보화학 003080.KS\n",
      "성신양회 004980.KS\n",
      "성안 011300.KS\n",
      "성창기업지주 000180.KS\n",
      "세기상사 002420.KS\n",
      "세방 004360.KS\n",
      "세방전지 004490.KS\n",
      "세아제강 306200.KS\n",
      "세아특수강 019440.KS\n",
      "세아홀딩스 058650.KS\n",
      "세우글로벌 013000.KS\n",
      "세원정공 021820.KS\n",
      "세이브존I&C 067830.KS\n",
      "세종공업 033530.KS\n",
      "세진중공업 075580.KS\n",
      "세하 027970.KS\n",
      "셀트리온 068270.KS\n",
      "송원산업 004430.KS\n",
      "수산중공업 017550.KS\n",
      "시디즈 134790.KS\n",
      "신대양제지 016590.KS\n",
      "신도리코 029530.KS\n",
      "신라교역 004970.KS\n",
      "신성이엔지 011930.KS\n",
      "신성통상 005390.KS\n",
      "신세계 004170.KS\n",
      "신세계I&C 035510.KS\n",
      "신세계건설 034300.KS\n",
      "신세계인터내셔날 031430.KS\n",
      "신세계푸드 031440.KS\n",
      "신송홀딩스 006880.KS\n",
      "신영와코루 005800.KS\n",
      "신영증권 001720.KS\n",
      "신원 009270.KS\n",
      "신풍제약 019170.KS\n",
      "신풍제지 002870.KS\n",
      "신한지주 055550.KS\n",
      "신흥 004080.KS\n",
      "쌍방울 102280.KS\n",
      "쌍용자동차 003620.KS\n",
      "써니전자 004770.KS\n",
      "씨아이테크 004920.KS\n",
      "씨에스윈드 112610.KS\n",
      "아남전자 008700.KS\n",
      "아모레퍼시픽 090430.KS\n",
      "아모레퍼시픽그룹 002790.KS\n",
      "아세아 002030.KS\n",
      "아세아시멘트 183190.KS\n",
      "아세아제지 002310.KS\n",
      "아시아나항공 020560.KS\n",
      "아이마켓코리아 122900.KS\n",
      "아이에스동서 010780.KS\n",
      "아이에이치큐 003560.KS\n",
      "알루코 001780.KS\n",
      "에넥스 011090.KS\n",
      "에스엘 005850.KS\n",
      "에스원 012750.KS\n",
      "에스제이엠 123700.KS\n",
      "에스제이엠홀딩스 025530.KS\n",
      "에쓰씨엔지니어링 023960.KS\n",
      "에이블씨엔씨 078520.KS\n",
      "에이엔피 015260.KS\n",
      "에이프로젠제약 003060.KS\n",
      "엔씨소프트 036570.KS\n",
      "엔케이 085310.KS\n",
      "엔피씨 004250.KS\n",
      "영보화학 014440.KS\n",
      "영원무역 111770.KS\n",
      "영원무역홀딩스 009970.KS\n",
      "영진약품 003520.KS\n",
      "영풍 000670.KS\n",
      "영풍제지 006740.KS\n",
      "영화금속 012280.KS\n",
      "예스코홀딩스 015360.KS\n",
      "오뚜기 007310.KS\n",
      "오리엔트바이오 002630.KS\n",
      "오리온홀딩스 001800.KS\n",
      "용평리조트 070960.KS\n",
      "우리금융지주 316140.KS\n",
      "우리종금 010050.KS\n",
      "우신시스템 017370.KS\n",
      "우진 105840.KS\n",
      "우진플라임 049800.KS\n",
      "웅진 016880.KS\n",
      "웅진씽크빅 095720.KS\n",
      "원림 005820.KS\n",
      "웰바이오텍 010600.KS\n",
      "윌비스 008600.KS\n",
      "유나이티드 033270.KS\n",
      "유니드 014830.KS\n",
      "유니온 000910.KS\n",
      "유니온머티리얼 047400.KS\n",
      "유니켐 011330.KS\n",
      "유니퀘스트 077500.KS\n",
      "유성기업 002920.KS\n",
      "유수홀딩스 000700.KS\n",
      "유안타증권 003470.KS\n",
      "유엔젤 072130.KS\n",
      "유유제약 000220.KS\n",
      "유진증권 001200.KS\n",
      "유한양행 000100.KS\n",
      "유화증권 003460.KS\n",
      "율촌화학 008730.KS\n",
      "이건산업 008250.KS\n",
      "이구산업 025820.KS\n",
      "이노션 214320.KS\n",
      "이마트 139480.KS\n",
      "이수페타시스 007660.KS\n",
      "이수화학 005950.KS\n",
      "이스타코 015020.KS\n",
      "이아이디 093230.KS\n",
      "이연제약 102460.KS\n",
      "이월드 084680.KS\n",
      "이화산업 000760.KS\n",
      "인디에프 014990.KS\n",
      "인스코비 006490.KS\n",
      "인지컨트롤스 023800.KS\n",
      "인천도시가스 034590.KS\n",
      "인터지스 129260.KS\n",
      "인팩 023810.KS\n",
      "일동제약 249420.KS\n",
      "일동홀딩스 000230.KS\n",
      "일성건설 013360.KS\n",
      "일성신약 003120.KS\n",
      "일신방직 003200.KS\n",
      "일신석재 007110.KS\n",
      "일양약품 007570.KS\n",
      "일정실업 008500.KS\n",
      "일진다이아 081000.KS\n",
      "일진디스플 020760.KS\n",
      "일진머티리얼즈 020150.KS\n",
      "일진전기 103590.KS\n",
      "일진홀딩스 015860.KS\n",
      "잇츠한불 226320.KS\n",
      "자화전자 033240.KS\n",
      "전방 000950.KS\n",
      "제이에스코퍼레이션 194370.KS\n",
      "제이준코스메틱 025620.KS\n",
      "제일기획 030000.KS\n",
      "제일연마 001560.KS\n",
      "제일파마홀딩스 002620.KS\n",
      "제주은행 006220.KS\n",
      "제주항공 089590.KS\n",
      "조광페인트 004910.KS\n",
      "조광피혁 004700.KS\n",
      "조비 001550.KS\n",
      "조선내화 000480.KS\n",
      "조선선재 120030.KS\n",
      "조일알미늄 018470.KS\n",
      "조흥 002600.KS\n",
      "종근당 185750.KS\n",
      "종근당바이오 063160.KS\n",
      "종근당홀딩스 001630.KS\n",
      "주연테크 044380.KS\n",
      "지엠비코리아 013870.KS\n",
      "지역난방공사 071320.KS\n",
      "지투알 035000.KS\n",
      "진도 088790.KS\n",
      "진양산업 003780.KS\n",
      "진양폴리우레탄 010640.KS\n",
      "진양홀딩스 100250.KS\n",
      "진양화학 051630.KS\n",
      "진원생명과학 011000.KS\n",
      "진흥기업 002780.KS\n",
      "참엔지니어링 009310.KS\n",
      "천일고속 000650.KS\n",
      "체시스 033250.KS\n",
      "카카오 035720.KS\n",
      "카프로 006380.KS\n",
      "컨버즈 109070.KS\n",
      "케이씨 029460.KS\n",
      "케이씨씨 002380.KS\n",
      "케이씨티시 009070.KS\n",
      "케이티 030200.KS\n",
      "케이티스카이라이프 053210.KS\n",
      "케이티앤지 033780.KS\n",
      "코리아써키트 007810.KS\n",
      "코리안리 003690.KS\n",
      "코스맥스 192820.KS\n",
      "코스맥스비티아이 044820.KS\n",
      "코스모신소재 005070.KS\n",
      "코스모화학 005420.KS\n",
      "코아스 071950.KS\n",
      "코오롱 002020.KS\n",
      "코오롱글로벌 003070.KS\n",
      "코오롱인더 120110.KS\n",
      "코오롱플라스틱 138490.KS\n",
      "코웨이 021240.KS\n",
      "콤텍시스템 031820.KS\n",
      "쿠쿠홀딩스 192400.KS\n",
      "큐로 015590.KS\n",
      "크라운해태홀딩스 005740.KS\n",
      "키다리스튜디오 020120.KS\n",
      "키움증권 039490.KS\n",
      "태경산업 015890.KS\n",
      "태광산업 003240.KS\n",
      "태림포장 011280.KS\n",
      "태양금속공업 004100.KS\n",
      "태영건설 009410.KS\n",
      "태원물산 001420.KS\n",
      "태평양물산 007980.KS\n",
      "텔코웨어 078000.KS\n",
      "토니모리 214420.KS\n",
      "티비에이치글로벌 084870.KS\n",
      "티에이치엔 019180.KS\n",
      "티웨이홀딩스 004870.KS\n",
      "파미셀 005690.KS\n",
      "팜스코 036580.KS\n",
      "팬오션 028670.KS\n",
      "퍼스텍 010820.KS\n",
      "퍼시스 016800.KS\n",
      "페이퍼코리아 001020.KS\n",
      "평화산업 090080.KS\n",
      "평화홀딩스 010770.KS\n",
      "풀무원 017810.KS\n",
      "풍산 103140.KS\n",
      "풍산홀딩스 005810.KS\n",
      "하나금융지주 086790.KS\n",
      "하나투어 039130.KS\n",
      "하이스틸 071090.KS\n",
      "하이트론씨스템즈 019490.KS\n",
      "하이트진로 000080.KS\n",
      "하이트진로홀딩스 000140.KS\n",
      "한국가스공사 036460.KS\n",
      "한국공항 005430.KS\n",
      "한국금융지주 071050.KS\n",
      "한국내화 010040.KS\n",
      "한국단자공업 025540.KS\n",
      "한국석유공업 004090.KS\n",
      "한국수출포장공업 002200.KS\n",
      "한국쉘석유 002960.KS\n",
      "한국자산신탁 123890.KS\n",
      "한국전력공사 015760.KS\n",
      "한국전자홀딩스 006200.KS\n",
      "한국종합기술 023350.KS\n",
      "한국주강 025890.KS\n",
      "한국주철관공업 000970.KS\n",
      "한국철강 104700.KS\n",
      "한국카본 017960.KS\n",
      "한국콜마 161890.KS\n",
      "한국콜마홀딩스 024720.KS\n",
      "한국토지신탁 034830.KS\n",
      "한국프랜지공업 010100.KS\n",
      "한국항공우주 047810.KS\n",
      "한국화장품 123690.KS\n",
      "한국화장품제조 003350.KS\n",
      "한농화성 011500.KS\n",
      "한독 002390.KS\n",
      "한라 014790.KS\n",
      "한라홀딩스 060980.KS\n",
      "한미글로벌 053690.KS\n",
      "한미반도체 042700.KS\n",
      "한미사이언스 008930.KS\n",
      "한미약품 128940.KS\n",
      "한샘 009240.KS\n",
      "한섬 020000.KS\n",
      "한성기업 003680.KS\n",
      "한세실업 105630.KS\n",
      "한세엠케이 069640.KS\n",
      "한세예스24홀딩스 016450.KS\n",
      "한솔로지스틱스 009180.KS\n",
      "한솔제지 213500.KS\n",
      "한솔케미칼 014680.KS\n",
      "한솔테크닉스 004710.KS\n",
      "한솔피엔에스 010420.KS\n",
      "한솔홀딩스 004150.KS\n",
      "한솔홈데코 025750.KS\n",
      "한신공영 004960.KS\n",
      "한신기계공업 011700.KS\n",
      "한양증권 001750.KS\n",
      "한온시스템 018880.KS\n",
      "한올바이오파마 009420.KS\n",
      "한익스프레스 014130.KS\n",
      "한일시멘트 300720.KS\n",
      "한일철강 002220.KS\n",
      "한일현대시멘트 006390.KS\n",
      "한전KPS 051600.KS\n",
      "한전기술 052690.KS\n",
      "한전산업 130660.KS\n",
      "한진 002320.KS\n",
      "한진중공업홀딩스 003480.KS\n",
      "한진칼 180640.KS\n",
      "한창 005110.KS\n",
      "한창제지 009460.KS\n",
      "한화 000880.KS\n",
      "한화생명 088350.KS\n",
      "한화손해보험 000370.KS\n",
      "한화에어로스페이스 012450.KS\n",
      "한화투자증권 003530.KS\n",
      "해성디에스 195870.KS\n",
      "해태제과식품 101530.KS\n",
      "핸즈코퍼레이션 143210.KS\n",
      "현대건설 000720.KS\n",
      "현대그린푸드 005440.KS\n",
      "현대글로비스 086280.KS\n",
      "현대로템 064350.KS\n",
      "현대리바트 079430.KS\n",
      "현대모비스 012330.KS\n",
      "현대미포조선 010620.KS\n",
      "현대백화점 069960.KS\n",
      "현대비앤지스틸 004560.KS\n",
      "현대약품 004310.KS\n",
      "현대엘리베이터 017800.KS\n",
      "현대위아 011210.KS\n",
      "현대자동차 005380.KS\n",
      "현대제철 004020.KS\n",
      "현대차증권 001500.KS\n",
      "현대코퍼레이션홀딩스 227840.KS\n",
      "현대해상 001450.KS\n",
      "현대홈쇼핑 057050.KS\n",
      "형지엘리트 093240.KS\n",
      "혜인 003010.KS\n",
      "호텔신라 008770.KS\n",
      "화성산업 002460.KS\n",
      "화승엔터프라이즈 241590.KS\n",
      "화승인더스트리 006060.KS\n",
      "화신 010690.KS\n",
      "화인베스틸 133820.KS\n",
      "화천기계 010660.KS\n",
      "화천기공 000850.KS\n",
      "환인제약 016580.KS\n",
      "황금에스티 032560.KS\n",
      "효성 004800.KS\n",
      "효성 ITX 094280.KS\n",
      "후성 093370.KS\n"
     ]
    }
   ],
   "source": [
    "import numpy as np\n",
    "company_code_df = pd.read_csv('data/기업명_기업코드.csv', dtype=object)\n",
    "company_code_df.drop(columns=['Unnamed: 0'], inplace=True)\n",
    "company_jusik_list = get_jusik_data(company_code_df, '2010-01-01', '2022-03-31')"
   ],
   "metadata": {
    "collapsed": false,
    "pycharm": {
     "name": "#%%\n"
    }
   }
  },
  {
   "cell_type": "code",
   "execution_count": 24,
   "outputs": [
    {
     "name": "stdout",
     "output_type": "stream",
     "text": [
      "2015 AJ네트웍스\n",
      "2014 BGF\n",
      "2013 DSR\n",
      "2016 JW생명과학\n",
      "2015 LIG넥스원\n",
      "2016 LS전선아시아\n",
      "2015 SK디앤디\n",
      "2015 경보제약\n",
      "2015 금호에이치티\n",
      "2013 동아에스티\n",
      "2012 동일고무벨트\n",
      "2015 동일제강\n",
      "2016 두산밥캣\n",
      "2016 두올\n",
      "2015 디와이파워\n",
      "2014 만도\n",
      "2014 미래에셋생명\n",
      "2012 사조씨푸드\n",
      "2014 삼성물산\n",
      "2016 삼성바이오로직스\n",
      "2014 삼성에스디에스\n",
      "2016 샘표식품\n",
      "2014 서연이화\n",
      "2018 세아제강\n",
      "2015 세진중공업\n",
      "2013 신송홀딩스\n",
      "2014 씨에스윈드\n",
      "2013 아세아시멘트\n",
      "2016 용평리조트\n",
      "2019 우리금융지주\n",
      "2015 이노션\n",
      "2016 일동제약\n",
      "2015 잇츠한불\n",
      "2016 제이에스코퍼레이션\n",
      "2014 제주항공\n",
      "2013 종근당\n",
      "2012 지엠비코리아\n",
      "2014 코스맥스\n",
      "2014 쿠쿠홀딩스\n",
      "2015 토니모리\n",
      "2016 한국자산신탁\n",
      "2012 한국콜마\n",
      "2015 한솔제지\n",
      "2018 한일시멘트\n",
      "2013 한진칼\n",
      "2016 해성디에스\n",
      "2016 해태제과식품\n",
      "2016 핸즈코퍼레이션\n",
      "2013 현대로템\n",
      "2015 현대코퍼레이션홀딩스\n",
      "2016 화승엔터프라이즈\n",
      "2014 화인베스틸\n"
     ]
    },
    {
     "data": {
      "text/plain": "52"
     },
     "execution_count": 24,
     "metadata": {},
     "output_type": "execute_result"
    }
   ],
   "source": [
    "# 2011년 이후부터 상장된 회사 리스트\n",
    "company_list = []\n",
    "\n",
    "for i in company_code_df.index:\n",
    "    name = company_code_df.loc[i, '기업명']\n",
    "    tmp_df2 = company_jusik_list[i].get(name)\n",
    "    year = int(str(tmp_df2.index[0])[:4])\n",
    "    if year > 2011:\n",
    "        print(year, name)\n",
    "        company_list.append(name)\n",
    "\n",
    "len(company_list)"
   ],
   "metadata": {
    "collapsed": false,
    "pycharm": {
     "name": "#%%\n"
    }
   }
  },
  {
   "cell_type": "code",
   "execution_count": 26,
   "outputs": [],
   "source": [
    "## 뽑은 주식 데이터 회사별로 저장\n",
    "for i in company_code_df.index:\n",
    "    name = company_code_df.loc[i, '기업명']\n",
    "    jusik_df = company_jusik_list[i].get(name)\n",
    "    jusik_df.to_csv(f'./data/회사별주식데이터/{name}.csv')"
   ],
   "metadata": {
    "collapsed": false,
    "pycharm": {
     "name": "#%%\n"
    }
   }
  },
  {
   "cell_type": "markdown",
   "source": [
    "#### yfinance모듈로 KOSPI지수 구하기"
   ],
   "metadata": {
    "collapsed": false,
    "pycharm": {
     "name": "#%% md\n"
    }
   }
  },
  {
   "cell_type": "code",
   "execution_count": 55,
   "outputs": [
    {
     "name": "stdout",
     "output_type": "stream",
     "text": [
      "[*********************100%***********************]  1 of 1 completed\n"
     ]
    },
    {
     "data": {
      "text/plain": "                  KOSPI\nDate                   \n2011-01-03  2070.080078\n2011-01-04  2085.139893\n2011-01-05  2082.550049\n2011-01-06  2077.610107\n2011-01-07  2086.199951",
      "text/html": "<div>\n<style scoped>\n    .dataframe tbody tr th:only-of-type {\n        vertical-align: middle;\n    }\n\n    .dataframe tbody tr th {\n        vertical-align: top;\n    }\n\n    .dataframe thead th {\n        text-align: right;\n    }\n</style>\n<table border=\"1\" class=\"dataframe\">\n  <thead>\n    <tr style=\"text-align: right;\">\n      <th></th>\n      <th>KOSPI</th>\n    </tr>\n    <tr>\n      <th>Date</th>\n      <th></th>\n    </tr>\n  </thead>\n  <tbody>\n    <tr>\n      <th>2011-01-03</th>\n      <td>2070.080078</td>\n    </tr>\n    <tr>\n      <th>2011-01-04</th>\n      <td>2085.139893</td>\n    </tr>\n    <tr>\n      <th>2011-01-05</th>\n      <td>2082.550049</td>\n    </tr>\n    <tr>\n      <th>2011-01-06</th>\n      <td>2077.610107</td>\n    </tr>\n    <tr>\n      <th>2011-01-07</th>\n      <td>2086.199951</td>\n    </tr>\n  </tbody>\n</table>\n</div>"
     },
     "execution_count": 55,
     "metadata": {},
     "output_type": "execute_result"
    }
   ],
   "source": [
    "yf.pdr_override()\n",
    "kospi = pdr.get_data_yahoo('^KS11', '2011-01-01')\n",
    "\n",
    "df_kospi = pd.DataFrame({'KOSPI':kospi['Close']})\n",
    "df_kospi.head()"
   ],
   "metadata": {
    "collapsed": false,
    "pycharm": {
     "name": "#%%\n"
    }
   }
  },
  {
   "cell_type": "code",
   "execution_count": 56,
   "outputs": [
    {
     "data": {
      "text/plain": "                  KOSPI\nDate                   \n2022-04-28  2667.489990\n2022-04-29  2695.050049\n2022-05-02  2687.449951\n2022-05-03  2680.459961\n2022-05-04  2685.149902",
      "text/html": "<div>\n<style scoped>\n    .dataframe tbody tr th:only-of-type {\n        vertical-align: middle;\n    }\n\n    .dataframe tbody tr th {\n        vertical-align: top;\n    }\n\n    .dataframe thead th {\n        text-align: right;\n    }\n</style>\n<table border=\"1\" class=\"dataframe\">\n  <thead>\n    <tr style=\"text-align: right;\">\n      <th></th>\n      <th>KOSPI</th>\n    </tr>\n    <tr>\n      <th>Date</th>\n      <th></th>\n    </tr>\n  </thead>\n  <tbody>\n    <tr>\n      <th>2022-04-28</th>\n      <td>2667.489990</td>\n    </tr>\n    <tr>\n      <th>2022-04-29</th>\n      <td>2695.050049</td>\n    </tr>\n    <tr>\n      <th>2022-05-02</th>\n      <td>2687.449951</td>\n    </tr>\n    <tr>\n      <th>2022-05-03</th>\n      <td>2680.459961</td>\n    </tr>\n    <tr>\n      <th>2022-05-04</th>\n      <td>2685.149902</td>\n    </tr>\n  </tbody>\n</table>\n</div>"
     },
     "execution_count": 56,
     "metadata": {},
     "output_type": "execute_result"
    }
   ],
   "source": [
    "df_kospi.tail()"
   ],
   "metadata": {
    "collapsed": false,
    "pycharm": {
     "name": "#%%\n"
    }
   }
  },
  {
   "cell_type": "code",
   "execution_count": 61,
   "outputs": [
    {
     "data": {
      "text/plain": "<Figure size 720x432 with 1 Axes>",
      "image/png": "[encoded data removed]"
     },
     "metadata": {
      "needs_background": "light"
     },
     "output_type": "display_data"
    }
   ],
   "source": [
    "#한글폰트 적용\n",
    "path = 'C:/Windows/Fonts/gulim.ttc'\n",
    "font_name = fm.FontProperties(fname=path, size=50).get_name()\n",
    "plt.rc('font', family=font_name)\n",
    "\n",
    "plt.figure(figsize=(10,6))\n",
    "plt.plot(kospi.index, kospi.Close, 'r', label='코스피')\n",
    "plt.grid(True)\n",
    "plt.legend(loc='best')\n",
    "plt.savefig('./data/코스피시각화.jpg')\n",
    "plt.show()"
   ],
   "metadata": {
    "collapsed": false,
    "pycharm": {
     "name": "#%%\n"
    }
   }
  },
  {
   "cell_type": "code",
   "execution_count": 60,
   "outputs": [],
   "source": [
    "df_kospi.to_csv('./data/코스피지수.csv')"
   ],
   "metadata": {
    "collapsed": false,
    "pycharm": {
     "name": "#%%\n"
    }
   }
  },
  {
   "cell_type": "code",
   "execution_count": 74,
   "outputs": [
    {
     "data": {
      "text/plain": "     고유번호     기업명          자산총계          부채총계          자본총계        당기순이익    연도\n0  102113    경인양행  579492465098  327622550348  251869914750  27210074941  2021\n1  103592    광동제약  883845298043  356600480140  527244817903  25540744737  2021\n2  104519      국보  102314951997   70471633267   31843318730 -17669052258  2021\n3  104786  미래아이앤지   99668333058   28587955823   71080377235 -18081302852  2021\n4  104999     윌비스  294073485577  183381461941  110692023636  -8532095509  2021",
      "text/html": "<div>\n<style scoped>\n    .dataframe tbody tr th:only-of-type {\n        vertical-align: middle;\n    }\n\n    .dataframe tbody tr th {\n        vertical-align: top;\n    }\n\n    .dataframe thead th {\n        text-align: right;\n    }\n</style>\n<table border=\"1\" class=\"dataframe\">\n  <thead>\n    <tr style=\"text-align: right;\">\n      <th></th>\n      <th>고유번호</th>\n      <th>기업명</th>\n      <th>자산총계</th>\n      <th>부채총계</th>\n      <th>자본총계</th>\n      <th>당기순이익</th>\n      <th>연도</th>\n    </tr>\n  </thead>\n  <tbody>\n    <tr>\n      <th>0</th>\n      <td>102113</td>\n      <td>경인양행</td>\n      <td>579492465098</td>\n      <td>327622550348</td>\n      <td>251869914750</td>\n      <td>27210074941</td>\n      <td>2021</td>\n    </tr>\n    <tr>\n      <th>1</th>\n      <td>103592</td>\n      <td>광동제약</td>\n      <td>883845298043</td>\n      <td>356600480140</td>\n      <td>527244817903</td>\n      <td>25540744737</td>\n      <td>2021</td>\n    </tr>\n    <tr>\n      <th>2</th>\n      <td>104519</td>\n      <td>국보</td>\n      <td>102314951997</td>\n      <td>70471633267</td>\n      <td>31843318730</td>\n      <td>-17669052258</td>\n      <td>2021</td>\n    </tr>\n    <tr>\n      <th>3</th>\n      <td>104786</td>\n      <td>미래아이앤지</td>\n      <td>99668333058</td>\n      <td>28587955823</td>\n      <td>71080377235</td>\n      <td>-18081302852</td>\n      <td>2021</td>\n    </tr>\n    <tr>\n      <th>4</th>\n      <td>104999</td>\n      <td>윌비스</td>\n      <td>294073485577</td>\n      <td>183381461941</td>\n      <td>110692023636</td>\n      <td>-8532095509</td>\n      <td>2021</td>\n    </tr>\n  </tbody>\n</table>\n</div>"
     },
     "execution_count": 74,
     "metadata": {},
     "output_type": "execute_result"
    }
   ],
   "source": [
    "df_jamu = pd.read_csv('./data/전체.csv')\n",
    "df_jamu.drop(columns=['Unnamed: 0'], inplace=True)\n",
    "df_jamu.head()"
   ],
   "metadata": {
    "collapsed": false,
    "pycharm": {
     "name": "#%%\n"
    }
   }
  },
  {
   "cell_type": "code",
   "execution_count": 76,
   "outputs": [
    {
     "data": {
      "text/plain": "         고유번호     기업명           자산총계           부채총계           자본총계  \\\n5987   956930   동아에스티  1063538923196   509765483221   553773439975   \n5988   983040     한진칼  2315048938843   846537512824  1468511426019   \n5989   990165  아세아시멘트   809317420218   182684468071   626632952147   \n5990  1067516     골프존   178132252912    69278343432   108853909480   \n5991   120562    롯데지주  4228827416044  1431503351896  2797324064148   \n\n             당기순이익    연도  \n5987   48573315513  2015  \n5988 -193723899362  2015  \n5989   44346134836  2015  \n5990   36533154720  2015  \n5991   36831003453  2015  ",
      "text/html": "<div>\n<style scoped>\n    .dataframe tbody tr th:only-of-type {\n        vertical-align: middle;\n    }\n\n    .dataframe tbody tr th {\n        vertical-align: top;\n    }\n\n    .dataframe thead th {\n        text-align: right;\n    }\n</style>\n<table border=\"1\" class=\"dataframe\">\n  <thead>\n    <tr style=\"text-align: right;\">\n      <th></th>\n      <th>고유번호</th>\n      <th>기업명</th>\n      <th>자산총계</th>\n      <th>부채총계</th>\n      <th>자본총계</th>\n      <th>당기순이익</th>\n      <th>연도</th>\n    </tr>\n  </thead>\n  <tbody>\n    <tr>\n      <th>5987</th>\n      <td>956930</td>\n      <td>동아에스티</td>\n      <td>1063538923196</td>\n      <td>509765483221</td>\n      <td>553773439975</td>\n      <td>48573315513</td>\n      <td>2015</td>\n    </tr>\n    <tr>\n      <th>5988</th>\n      <td>983040</td>\n      <td>한진칼</td>\n      <td>2315048938843</td>\n      <td>846537512824</td>\n      <td>1468511426019</td>\n      <td>-193723899362</td>\n      <td>2015</td>\n    </tr>\n    <tr>\n      <th>5989</th>\n      <td>990165</td>\n      <td>아세아시멘트</td>\n      <td>809317420218</td>\n      <td>182684468071</td>\n      <td>626632952147</td>\n      <td>44346134836</td>\n      <td>2015</td>\n    </tr>\n    <tr>\n      <th>5990</th>\n      <td>1067516</td>\n      <td>골프존</td>\n      <td>178132252912</td>\n      <td>69278343432</td>\n      <td>108853909480</td>\n      <td>36533154720</td>\n      <td>2015</td>\n    </tr>\n    <tr>\n      <th>5991</th>\n      <td>120562</td>\n      <td>롯데지주</td>\n      <td>4228827416044</td>\n      <td>1431503351896</td>\n      <td>2797324064148</td>\n      <td>36831003453</td>\n      <td>2015</td>\n    </tr>\n  </tbody>\n</table>\n</div>"
     },
     "execution_count": 76,
     "metadata": {},
     "output_type": "execute_result"
    }
   ],
   "source": [
    "df_jamu.tail()"
   ],
   "metadata": {
    "collapsed": false,
    "pycharm": {
     "name": "#%%\n"
    }
   }
  },
  {
   "cell_type": "code",
   "execution_count": 75,
   "outputs": [
    {
     "data": {
      "text/plain": "     종목코드     종목명      2011_1분기      2011_2분기      2011_3분기      2011_4분기  \\\n0  069110      3H  4.421505e+10  4.780265e+10  4.631109e+10  3.723739e+10   \n1  060310      3S  1.500834e+11  1.480114e+11  3.503794e+11  9.867575e+11   \n2  900010  3노드디지탈  9.693474e+10  6.403669e+10  6.025486e+10  5.531356e+10   \n3  038120   AD모터스  4.673474e+10  6.283227e+10  5.068938e+10  3.961572e+10   \n4  013340     AJS  7.526157e+10  3.904602e+10  4.085304e+10  4.158156e+10   \n\n       2012_1분기      2012_2분기      2012_3분기      2012_4분기  ...      2019_4분기  \\\n0  3.341377e+10  2.787366e+10  3.579909e+10           NaN  ...           NaN   \n1  8.105189e+11  6.818519e+11  4.246380e+11  2.784926e+11  ...  1.233659e+11   \n2  6.666784e+10  4.846599e+10  5.162168e+10  5.260622e+10  ...           NaN   \n3  2.506364e+10  2.417696e+10  1.974917e+10  6.412671e+09  ...           NaN   \n4  4.818040e+10  3.632788e+10  3.888645e+10  3.414454e+10  ...           NaN   \n\n       2020_1분기      2020_2분기      2020_3분기      2020_4분기      2021_1분기  \\\n0           NaN           NaN           NaN           NaN           NaN   \n1  7.758085e+10  1.125983e+11  9.734207e+10  9.983493e+10  1.094778e+11   \n2           NaN           NaN           NaN           NaN           NaN   \n3           NaN           NaN           NaN           NaN           NaN   \n4           NaN           NaN           NaN           NaN           NaN   \n\n       2021_2분기      2021_3분기      2021_4분기      2022_1분기  \n0           NaN           NaN           NaN           NaN  \n1  1.452264e+11  1.782295e+11  1.518773e+11  1.518201e+11  \n2           NaN           NaN           NaN           NaN  \n3           NaN           NaN           NaN           NaN  \n4           NaN           NaN           NaN           NaN  \n\n[5 rows x 47 columns]",
      "text/html": "<div>\n<style scoped>\n    .dataframe tbody tr th:only-of-type {\n        vertical-align: middle;\n    }\n\n    .dataframe tbody tr th {\n        vertical-align: top;\n    }\n\n    .dataframe thead th {\n        text-align: right;\n    }\n</style>\n<table border=\"1\" class=\"dataframe\">\n  <thead>\n    <tr style=\"text-align: right;\">\n      <th></th>\n      <th>종목코드</th>\n      <th>종목명</th>\n      <th>2011_1분기</th>\n      <th>2011_2분기</th>\n      <th>2011_3분기</th>\n      <th>2011_4분기</th>\n      <th>2012_1분기</th>\n      <th>2012_2분기</th>\n      <th>2012_3분기</th>\n      <th>2012_4분기</th>\n      <th>...</th>\n      <th>2019_4분기</th>\n      <th>2020_1분기</th>\n      <th>2020_2분기</th>\n      <th>2020_3분기</th>\n      <th>2020_4분기</th>\n      <th>2021_1분기</th>\n      <th>2021_2분기</th>\n      <th>2021_3분기</th>\n      <th>2021_4분기</th>\n      <th>2022_1분기</th>\n    </tr>\n  </thead>\n  <tbody>\n    <tr>\n      <th>0</th>\n      <td>069110</td>\n      <td>3H</td>\n      <td>4.421505e+10</td>\n      <td>4.780265e+10</td>\n      <td>4.631109e+10</td>\n      <td>3.723739e+10</td>\n      <td>3.341377e+10</td>\n      <td>2.787366e+10</td>\n      <td>3.579909e+10</td>\n      <td>NaN</td>\n      <td>...</td>\n      <td>NaN</td>\n      <td>NaN</td>\n      <td>NaN</td>\n      <td>NaN</td>\n      <td>NaN</td>\n      <td>NaN</td>\n      <td>NaN</td>\n      <td>NaN</td>\n      <td>NaN</td>\n      <td>NaN</td>\n    </tr>\n    <tr>\n      <th>1</th>\n      <td>060310</td>\n      <td>3S</td>\n      <td>1.500834e+11</td>\n      <td>1.480114e+11</td>\n      <td>3.503794e+11</td>\n      <td>9.867575e+11</td>\n      <td>8.105189e+11</td>\n      <td>6.818519e+11</td>\n      <td>4.246380e+11</td>\n      <td>2.784926e+11</td>\n      <td>...</td>\n      <td>1.233659e+11</td>\n      <td>7.758085e+10</td>\n      <td>1.125983e+11</td>\n      <td>9.734207e+10</td>\n      <td>9.983493e+10</td>\n      <td>1.094778e+11</td>\n      <td>1.452264e+11</td>\n      <td>1.782295e+11</td>\n      <td>1.518773e+11</td>\n      <td>1.518201e+11</td>\n    </tr>\n    <tr>\n      <th>2</th>\n      <td>900010</td>\n      <td>3노드디지탈</td>\n      <td>9.693474e+10</td>\n      <td>6.403669e+10</td>\n      <td>6.025486e+10</td>\n      <td>5.531356e+10</td>\n      <td>6.666784e+10</td>\n      <td>4.846599e+10</td>\n      <td>5.162168e+10</td>\n      <td>5.260622e+10</td>\n      <td>...</td>\n      <td>NaN</td>\n      <td>NaN</td>\n      <td>NaN</td>\n      <td>NaN</td>\n      <td>NaN</td>\n      <td>NaN</td>\n      <td>NaN</td>\n      <td>NaN</td>\n      <td>NaN</td>\n      <td>NaN</td>\n    </tr>\n    <tr>\n      <th>3</th>\n      <td>038120</td>\n      <td>AD모터스</td>\n      <td>4.673474e+10</td>\n      <td>6.283227e+10</td>\n      <td>5.068938e+10</td>\n      <td>3.961572e+10</td>\n      <td>2.506364e+10</td>\n      <td>2.417696e+10</td>\n      <td>1.974917e+10</td>\n      <td>6.412671e+09</td>\n      <td>...</td>\n      <td>NaN</td>\n      <td>NaN</td>\n      <td>NaN</td>\n      <td>NaN</td>\n      <td>NaN</td>\n      <td>NaN</td>\n      <td>NaN</td>\n      <td>NaN</td>\n      <td>NaN</td>\n      <td>NaN</td>\n    </tr>\n    <tr>\n      <th>4</th>\n      <td>013340</td>\n      <td>AJS</td>\n      <td>7.526157e+10</td>\n      <td>3.904602e+10</td>\n      <td>4.085304e+10</td>\n      <td>4.158156e+10</td>\n      <td>4.818040e+10</td>\n      <td>3.632788e+10</td>\n      <td>3.888645e+10</td>\n      <td>3.414454e+10</td>\n      <td>...</td>\n      <td>NaN</td>\n      <td>NaN</td>\n      <td>NaN</td>\n      <td>NaN</td>\n      <td>NaN</td>\n      <td>NaN</td>\n      <td>NaN</td>\n      <td>NaN</td>\n      <td>NaN</td>\n      <td>NaN</td>\n    </tr>\n  </tbody>\n</table>\n<p>5 rows × 47 columns</p>\n</div>"
     },
     "execution_count": 75,
     "metadata": {},
     "output_type": "execute_result"
    }
   ],
   "source": [
    "df_siga = pd.read_csv('./data/시가총액.csv')\n",
    "df_siga.drop(columns=['Unnamed: 0'], inplace=True)\n",
    "df_siga.head()"
   ],
   "metadata": {
    "collapsed": false,
    "pycharm": {
     "name": "#%%\n"
    }
   }
  },
  {
   "cell_type": "code",
   "execution_count": null,
   "outputs": [],
   "source": [],
   "metadata": {
    "collapsed": false,
    "pycharm": {
     "name": "#%%\n"
    }
   }
  },
  {
   "cell_type": "code",
   "execution_count": null,
   "outputs": [],
   "source": [],
   "metadata": {
    "collapsed": false,
    "pycharm": {
     "name": "#%%\n"
    }
   }
  },
  {
   "cell_type": "code",
   "execution_count": null,
   "outputs": [],
   "source": [],
   "metadata": {
    "collapsed": false,
    "pycharm": {
     "name": "#%%\n"
    }
   }
  },
  {
   "cell_type": "code",
   "execution_count": null,
   "outputs": [],
   "source": [],
   "metadata": {
    "collapsed": false,
    "pycharm": {
     "name": "#%%\n"
    }
   }
  },
  {
   "cell_type": "code",
   "execution_count": null,
   "outputs": [],
   "source": [],
   "metadata": {
    "collapsed": false,
    "pycharm": {
     "name": "#%%\n"
    }
   }
  },
  {
   "cell_type": "code",
   "execution_count": null,
   "outputs": [],
   "source": [],
   "metadata": {
    "collapsed": false,
    "pycharm": {
     "name": "#%%\n"
    }
   }
  },
  {
   "cell_type": "code",
   "execution_count": null,
   "outputs": [],
   "source": [],
   "metadata": {
    "collapsed": false,
    "pycharm": {
     "name": "#%%\n"
    }
   }
  }
 ],
 "metadata": {
  "kernelspec": {
   "display_name": "Python 3",
   "language": "python",
   "name": "python3"
  },
  "language_info": {
   "codemirror_mode": {
    "name": "ipython",
    "version": 2
   },
   "file_extension": ".py",
   "mimetype": "text/x-python",
   "name": "python",
   "nbconvert_exporter": "python",
   "pygments_lexer": "ipython2",
   "version": "2.7.6"
  }
 },
 "nbformat": 4,
 "nbformat_minor": 0
}