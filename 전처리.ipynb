{
 "cells": [
  {
   "cell_type": "markdown",
   "metadata": {},
   "source": [
    "# 재무제표 크롤링\n"
   ]
  },
  {
   "cell_type": "markdown",
   "metadata": {},
   "source": [
    "## 기업정보 불러오기"
   ]
  },
  {
   "cell_type": "code",
   "execution_count": 2,
   "metadata": {
    "ExecuteTime": {
     "end_time": "2022-05-10T01:49:31.518568Z",
     "start_time": "2022-05-10T01:49:29.796085Z"
    }
   },
   "outputs": [],
   "source": [
    "import pandas as pd\n",
    "\n",
    "import warnings \n",
    "warnings.filterwarnings(\"ignore\")\n",
    "\n",
    "\n",
    "from tqdm import tqdm_notebook"
   ]
  },
  {
   "cell_type": "code",
   "execution_count": 2,
   "metadata": {
    "ExecuteTime": {
     "end_time": "2022-05-08T23:57:29.150406Z",
     "start_time": "2022-05-08T23:57:28.429822Z"
    }
   },
   "outputs": [],
   "source": [
    "# 고유번호 불러오기\n",
    "code = pd.read_csv(\"고유번호.csv\", index_col=0, dtype = {'corp_code':'str', 'stock_code':'str', 'modify_date':'str'})"
   ]
  },
  {
   "cell_type": "code",
   "execution_count": 3,
   "metadata": {
    "ExecuteTime": {
     "end_time": "2022-05-08T23:57:32.302038Z",
     "start_time": "2022-05-08T23:57:32.272361Z"
    }
   },
   "outputs": [],
   "source": [
    "# ESG 기업 목록 불러오기\n",
    "corp_esg = pd.read_csv('esg기업 목록.csv', encoding='utf-8')\n",
    "corp_esg['기업코드'] = corp_esg.기업코드.str.replace(\"A\", \"\")\n",
    "corp_esg.columns = ['corp_name', 'stock_code']"
   ]
  },
  {
   "cell_type": "code",
   "execution_count": 4,
   "metadata": {
    "ExecuteTime": {
     "end_time": "2022-05-08T23:57:48.398264Z",
     "start_time": "2022-05-08T23:57:48.318263Z"
    }
   },
   "outputs": [],
   "source": [
    "# 고유번호와 ESG 기업목록 합치기\n",
    "codes = pd.merge(code, corp_esg, how='right', on='stock_code')\n",
    "\n",
    "code_api = codes[codes.corp_code.notnull()]\n",
    "code_api.drop('corp_name_y', axis=1, inplace=True)\n",
    "code_api.rename(columns={'corp_name_x':'corp_name'}, inplace=True)\n",
    "\n",
    "code_sel = codes[codes.corp_code.isnull()]\n",
    "code_sel = code_sel[['corp_name_y', 'stock_code']]\n",
    "code_sel.rename(columns={'corp_name_y':'corp_name'}, inplace=True)"
   ]
  },
  {
   "cell_type": "code",
   "execution_count": 6,
   "metadata": {
    "ExecuteTime": {
     "end_time": "2022-05-07T15:17:08.809380Z",
     "start_time": "2022-05-07T15:17:08.778419Z"
    },
    "collapsed": true
   },
   "outputs": [
    {
     "data": {
      "text/html": [
       "<div>\n",
       "<style scoped>\n",
       "    .dataframe tbody tr th:only-of-type {\n",
       "        vertical-align: middle;\n",
       "    }\n",
       "\n",
       "    .dataframe tbody tr th {\n",
       "        vertical-align: top;\n",
       "    }\n",
       "\n",
       "    .dataframe thead th {\n",
       "        text-align: right;\n",
       "    }\n",
       "</style>\n",
       "<table border=\"1\" class=\"dataframe\">\n",
       "  <thead>\n",
       "    <tr style=\"text-align: right;\">\n",
       "      <th></th>\n",
       "      <th>corp_code</th>\n",
       "      <th>corp_name</th>\n",
       "      <th>stock_code</th>\n",
       "      <th>modify_date</th>\n",
       "    </tr>\n",
       "  </thead>\n",
       "  <tbody>\n",
       "    <tr>\n",
       "      <th>0</th>\n",
       "      <td>00159698</td>\n",
       "      <td>지역난방공사</td>\n",
       "      <td>071320</td>\n",
       "      <td>20210127</td>\n",
       "    </tr>\n",
       "    <tr>\n",
       "      <th>1</th>\n",
       "      <td>00458234</td>\n",
       "      <td>아시아나IDT</td>\n",
       "      <td>267850</td>\n",
       "      <td>20220114</td>\n",
       "    </tr>\n",
       "    <tr>\n",
       "      <th>2</th>\n",
       "      <td>00164706</td>\n",
       "      <td>현대약품</td>\n",
       "      <td>004310</td>\n",
       "      <td>20220114</td>\n",
       "    </tr>\n",
       "  </tbody>\n",
       "</table>\n",
       "</div>"
      ],
      "text/plain": [
       "  corp_code corp_name stock_code modify_date\n",
       "0  00159698    지역난방공사     071320    20210127\n",
       "1  00458234   아시아나IDT     267850    20220114\n",
       "2  00164706      현대약품     004310    20220114"
      ]
     },
     "metadata": {},
     "output_type": "display_data"
    },
    {
     "data": {
      "text/html": [
       "<div>\n",
       "<style scoped>\n",
       "    .dataframe tbody tr th:only-of-type {\n",
       "        vertical-align: middle;\n",
       "    }\n",
       "\n",
       "    .dataframe tbody tr th {\n",
       "        vertical-align: top;\n",
       "    }\n",
       "\n",
       "    .dataframe thead th {\n",
       "        text-align: right;\n",
       "    }\n",
       "</style>\n",
       "<table border=\"1\" class=\"dataframe\">\n",
       "  <thead>\n",
       "    <tr style=\"text-align: right;\">\n",
       "      <th></th>\n",
       "      <th>corp_name</th>\n",
       "      <th>stock_code</th>\n",
       "    </tr>\n",
       "  </thead>\n",
       "  <tbody>\n",
       "    <tr>\n",
       "      <th>967</th>\n",
       "      <td>BNK캐피탈</td>\n",
       "      <td>801190</td>\n",
       "    </tr>\n",
       "    <tr>\n",
       "      <th>968</th>\n",
       "      <td>DB생명보험</td>\n",
       "      <td>818158</td>\n",
       "    </tr>\n",
       "    <tr>\n",
       "      <th>969</th>\n",
       "      <td>DGB생명보험</td>\n",
       "      <td>813363</td>\n",
       "    </tr>\n",
       "  </tbody>\n",
       "</table>\n",
       "</div>"
      ],
      "text/plain": [
       "    corp_name stock_code\n",
       "967    BNK캐피탈     801190\n",
       "968    DB생명보험     818158\n",
       "969   DGB생명보험     813363"
      ]
     },
     "metadata": {},
     "output_type": "display_data"
    }
   ],
   "source": [
    "display(code_api.head(3))\n",
    "\n",
    "display(code_sel.head(3))"
   ]
  },
  {
   "cell_type": "markdown",
   "metadata": {},
   "source": [
    "## open API 사용\n",
    "\n",
    "- 2015년까지의 데이터만 불러올 수 있음"
   ]
  },
  {
   "cell_type": "code",
   "execution_count": 5,
   "metadata": {
    "ExecuteTime": {
     "end_time": "2022-05-08T12:52:43.060496Z",
     "start_time": "2022-05-08T12:52:42.612742Z"
    }
   },
   "outputs": [],
   "source": [
    "import requests\n",
    "from bs4 import BeautifulSoup as bs"
   ]
  },
  {
   "cell_type": "code",
   "execution_count": 6,
   "metadata": {
    "ExecuteTime": {
     "end_time": "2022-05-08T06:11:36.894276Z",
     "start_time": "2022-05-08T06:11:36.075752Z"
    },
    "scrolled": true
   },
   "outputs": [],
   "source": [
    "# 불러올 정보 세팅\n",
    "crtfc_key = '93a471927e5df8c8dd171591b9b80e38f24039fe'\n",
    "corp_code = ','.join(code_api['corp_code'].values[:100])\n",
    "bsns_year = '2015'\n",
    "reprt_code = '11011'\n",
    "\n",
    "url = f'https://opendart.fss.or.kr/api/fnlttMultiAcnt.json?crtfc_key={crtfc_key}&corp_code={corp_code}&bsns_year={bsns_year}&reprt_code={reprt_code}'\n",
    "soup_json = requests.get(url)\n",
    "json_obj = json.loads(soup_json.text)"
   ]
  },
  {
   "cell_type": "code",
   "execution_count": 251,
   "metadata": {
    "ExecuteTime": {
     "end_time": "2022-05-07T14:55:42.045565Z",
     "start_time": "2022-05-07T14:55:42.024577Z"
    },
    "scrolled": true
   },
   "outputs": [],
   "source": [
    "# json을 데이터프레임으로 바꾸기\n",
    "df = pd.DataFrame(json_obj['list'])\n",
    "\n",
    "# 찾고자 하는 계정만 불러오기\n",
    "df = df[df.account_nm.str.contains('자산총계|부채총계|당기순|자본총계')].drop_duplicates(['corp_code', 'account_nm'], keep = 'first')\n",
    "\n",
    "# 기준 연도 정하기\n",
    "year1 = int(df.thstrm_dt.str[0:4].values[0])\n",
    "\n",
    "# 데이터 정리\n",
    "df = df[['corp_code', 'account_nm', 'thstrm_amount', 'frmtrm_amount', 'bfefrmtrm_amount']]\n",
    "df['thstrm_amount'] = df['thstrm_amount'].str.replace(',', '').replace(\"-\", '')\n",
    "df['frmtrm_amount'] = df['frmtrm_amount'].str.replace(',', '').replace(\"-\", '')\n",
    "df['bfefrmtrm_amount'] = df['bfefrmtrm_amount'].str.replace(',', '').replace(\"-\", '')\n",
    "df.rename(columns = {'thstrm_amount':year1, 'frmtrm_amount':year1-1, 'bfefrmtrm_amount':year1-2}, inplace=True)"
   ]
  },
  {
   "cell_type": "code",
   "execution_count": 335,
   "metadata": {
    "ExecuteTime": {
     "end_time": "2022-05-09T03:19:47.293493Z",
     "start_time": "2022-05-09T03:19:47.276504Z"
    },
    "code_folding": []
   },
   "outputs": [],
   "source": [
    "# 연도별로 만들어주는 함수\n",
    "def get_cfs_api(crtfc_key, corp_code, end_year, account_nm):\n",
    "    data = pd.DataFrame()\n",
    "    ac_name = '|'.join(s for s in account_nm)\n",
    "    for bsns_year in range(end_year, 2014, -1):\n",
    "        url = f'https://opendart.fss.or.kr/api/fnlttMultiAcnt.json?crtfc_key={crtfc_key}&corp_code={corp_code}&bsns_year={bsns_year}&reprt_code=11011'\n",
    "        soup_json = requests.get(url)\n",
    "        json_obj = json.loads(soup_json.text)\n",
    "        \n",
    "        df = pd.DataFrame(json_obj['list'])\n",
    "        \n",
    "        df = df[df.account_nm.str.contains(ac_name)].drop_duplicates(['corp_code','account_nm'], keep = 'first')\n",
    "\n",
    "        df = df[['corp_code', 'account_nm', 'thstrm_amount', 'frmtrm_amount', 'bfefrmtrm_amount']]\n",
    "        df['thstrm_amount'] = df['thstrm_amount'].str.replace(',', '').replace(\"-\", '')\n",
    "        df['frmtrm_amount'] = df['frmtrm_amount'].str.replace(',', '').replace(\"-\", '')\n",
    "        df['bfefrmtrm_amount'] = df['bfefrmtrm_amount'].str.replace(',', '').replace(\"-\", '')\n",
    "        df.rename(columns = {'thstrm_amount':bsns_year, 'frmtrm_amount':bsns_year-1, 'bfefrmtrm_amount':bsns_year-2}, inplace=True)\n",
    "\n",
    "        if len(data) == 0:\n",
    "            data = df\n",
    "        else:\n",
    "            data = pd.merge(data, df, how='outer')\n",
    "\n",
    "    data.reset_index(drop=True, inplace=True)\n",
    "    return data"
   ]
  },
  {
   "cell_type": "code",
   "execution_count": 336,
   "metadata": {
    "ExecuteTime": {
     "end_time": "2022-05-09T03:19:49.360078Z",
     "start_time": "2022-05-09T03:19:49.341092Z"
    }
   },
   "outputs": [],
   "source": [
    "# 코드를 100개 단위로 나누기\n",
    "n = 100\n",
    "\n",
    "codes = [code_api['corp_code'].values[i * n:(i + 1) * n] for i in range((len(code_api) - 1 + n) // n )] "
   ]
  },
  {
   "cell_type": "code",
   "execution_count": 337,
   "metadata": {
    "ExecuteTime": {
     "end_time": "2022-05-09T03:20:40.597936Z",
     "start_time": "2022-05-09T03:19:51.219402Z"
    },
    "collapsed": true
   },
   "outputs": [
    {
     "data": {
      "application/vnd.jupyter.widget-view+json": {
       "model_id": "5ff464936b84444eaf66bd501a3ba361",
       "version_major": 2,
       "version_minor": 0
      },
      "text/plain": [
       "HBox(children=(FloatProgress(value=0.0, max=10.0), HTML(value='')))"
      ]
     },
     "metadata": {},
     "output_type": "display_data"
    },
    {
     "name": "stdout",
     "output_type": "stream",
     "text": [
      "\n"
     ]
    }
   ],
   "source": [
    "crtfc_key = '93a471927e5df8c8dd171591b9b80e38f24039fe'\n",
    "\n",
    "data = pd.DataFrame()\n",
    "\n",
    "for code in tqdm_notebook(codes):\n",
    "    corp_code = ','.join(code)\n",
    "    df = get_cfs_api(crtfc_key, corp_code, 2021, ['자산총계', '자본총계', '부채총계', '당기순'])\n",
    "    data = pd.concat([data, df])"
   ]
  },
  {
   "cell_type": "code",
   "execution_count": 338,
   "metadata": {
    "ExecuteTime": {
     "end_time": "2022-05-09T03:20:43.006001Z",
     "start_time": "2022-05-09T03:20:42.986910Z"
    }
   },
   "outputs": [],
   "source": [
    "data = pd.merge(code_api[['corp_code', 'corp_name']], data)"
   ]
  },
  {
   "cell_type": "code",
   "execution_count": 339,
   "metadata": {
    "ExecuteTime": {
     "end_time": "2022-05-09T03:20:43.920830Z",
     "start_time": "2022-05-09T03:20:43.896852Z"
    }
   },
   "outputs": [],
   "source": [
    "자산총계 = data[data['account_nm']=='자산총계']\n",
    "부채총계 = data[data['account_nm']=='부채총계']\n",
    "자본총계 = data[data['account_nm']=='자본총계']\n",
    "당기순이익 = data[data['account_nm'].str.contains('당기순')]"
   ]
  },
  {
   "cell_type": "code",
   "execution_count": 340,
   "metadata": {
    "ExecuteTime": {
     "end_time": "2022-05-09T03:20:46.816874Z",
     "start_time": "2022-05-09T03:20:45.092269Z"
    }
   },
   "outputs": [],
   "source": [
    "자산총계_중복 = 자산총계[자산총계.duplicated(['corp_code'], keep=False)]\n",
    "\n",
    "lst = pd.DataFrame()\n",
    "\n",
    "for code in 자산총계_중복['corp_code'].unique():\n",
    "    df = 자산총계_중복[자산총계_중복.corp_code == code]\n",
    "    for num in range(0, len(df)):\n",
    "        na_num = df[df.corp_code == code].isnull().sum(axis=1).values[0]\n",
    "        df.iloc[0, -na_num:] = df.iloc[num, -na_num:]\n",
    "    lst = pd.concat([lst, df.iloc[0]], axis=1)\n",
    "    \n",
    "자산총계1 = 자산총계.drop_duplicates(['corp_code'], keep=False)\n",
    "자산총계 = pd.concat([자산총계1, lst.T])\n",
    "자산총계.to_csv(\"자산총계.csv\")"
   ]
  },
  {
   "cell_type": "code",
   "execution_count": null,
   "metadata": {
    "ExecuteTime": {
     "end_time": "2022-05-09T03:20:46.898783Z",
     "start_time": "2022-05-09T03:20:45.798Z"
    }
   },
   "outputs": [],
   "source": [
    "부채총계_중복 = 부채총계[부채총계.duplicated(['corp_code'], keep=False)]\n",
    "\n",
    "lst = pd.DataFrame()\n",
    "\n",
    "for code in 부채총계_중복['corp_code'].unique():\n",
    "    df = 부채총계_중복[부채총계_중복.corp_code == code]\n",
    "    for num in range(0, len(df)):\n",
    "        na_num = df[df.corp_code == code].isnull().sum(axis=1).values[0]\n",
    "        df.iloc[0, -na_num:] = df.iloc[num, -na_num:]\n",
    "    lst = pd.concat([lst, df.iloc[0]], axis=1)\n",
    "    \n",
    "부채총계1 = 부채총계.drop_duplicates(['corp_code'], keep=False)\n",
    "부채총계 = pd.concat([부채총계1, lst.T])\n",
    "부채총계.to_csv(\"부채총계.csv\")"
   ]
  },
  {
   "cell_type": "code",
   "execution_count": 341,
   "metadata": {
    "ExecuteTime": {
     "end_time": "2022-05-09T03:20:49.245512Z",
     "start_time": "2022-05-09T03:20:47.107197Z"
    }
   },
   "outputs": [],
   "source": [
    "자본총계_중복 = 자본총계[자본총계.duplicated(['corp_code'], keep=False)]\n",
    "\n",
    "lst = pd.DataFrame()\n",
    "\n",
    "for code in 자본총계_중복['corp_code'].unique():\n",
    "    df = 자본총계_중복[자본총계_중복.corp_code == code]\n",
    "    for num in range(0, len(df)):\n",
    "        na_num = df[df.corp_code == code].isnull().sum(axis=1).values[0]\n",
    "        df.iloc[0, -na_num:] = df.iloc[num, -na_num:]\n",
    "    lst = pd.concat([lst, df.iloc[0]], axis=1)\n",
    "    \n",
    "자본총계1 = 자본총계.drop_duplicates(['corp_code'], keep=False)\n",
    "자본총계 = pd.concat([자본총계1, lst.T])\n",
    "자본총계.to_csv(\"자본총계.csv\")"
   ]
  },
  {
   "cell_type": "code",
   "execution_count": 367,
   "metadata": {
    "ExecuteTime": {
     "end_time": "2022-05-09T03:25:08.007410Z",
     "start_time": "2022-05-09T03:25:05.744270Z"
    }
   },
   "outputs": [],
   "source": [
    "당기순이익_중복 = 당기순이익[당기순이익.duplicated(['corp_code'], keep=False)]\n",
    "\n",
    "lst = pd.DataFrame()\n",
    "\n",
    "for code in 당기순이익_중복['corp_code'].unique():\n",
    "    df = 당기순이익_중복[당기순이익_중복.corp_code == code]\n",
    "    for num in range(0, len(df)):\n",
    "        na_num = df[df.corp_code == code].isnull().sum(axis=1).values[0]\n",
    "        df.iloc[0, -na_num:] = df.iloc[num, -na_num:]\n",
    "    lst = pd.concat([lst, df.iloc[0]], axis=1)\n",
    "    \n",
    "당기순이익1 = 당기순이익.drop_duplicates(['corp_code'], keep=False)\n",
    "당기순이익 = pd.concat([당기순이익1, lst.T])\n",
    "당기순이익.to_csv(\"당기순이익.csv\")"
   ]
  },
  {
   "cell_type": "markdown",
   "metadata": {},
   "source": [
    "## Selenium으로 2012년 이후 재무제표 불러오기\n"
   ]
  },
  {
   "cell_type": "markdown",
   "metadata": {},
   "source": [
    "### 사업보고서 link 불러오기\n"
   ]
  },
  {
   "cell_type": "code",
   "execution_count": 5,
   "metadata": {
    "ExecuteTime": {
     "end_time": "2022-05-08T23:57:57.836665Z",
     "start_time": "2022-05-08T23:57:57.212684Z"
    }
   },
   "outputs": [],
   "source": [
    "import selenium\n",
    "from selenium import webdriver\n",
    "\n",
    "from selenium.webdriver.common.keys import Keys\n",
    "from selenium.webdriver.common.by import By\n",
    "\n",
    "from bs4 import BeautifulSoup as bs\n",
    "import re\n",
    "\n",
    "from time import sleep"
   ]
  },
  {
   "cell_type": "code",
   "execution_count": 419,
   "metadata": {
    "ExecuteTime": {
     "end_time": "2022-05-08T15:32:36.533910Z",
     "start_time": "2022-05-08T15:32:36.522917Z"
    }
   },
   "outputs": [],
   "source": [
    "# 기업별 보고서 주소 불러오는 함수\n",
    "def sel_CFSlink(corp_name):\n",
    "    search_box = driver.find_element_by_xpath('//*[@id=\"textCrpNm\"]')\n",
    "    search_box.send_keys(corp_name)\n",
    "    search_box.send_keys(Keys.RETURN)\n",
    "    search_box.clear()\n",
    "    \n",
    "    sleep(0.5)\n",
    "    \n",
    "    html = driver.page_source\n",
    "    soup = bs(html, \"html.parser\")\n",
    "\n",
    "    table_soup = soup.find(\"table\", class_ = 'tbList')\n",
    "    a_soup = table_soup.find_all('a', {'title': '사업보고서 공시뷰어 새창'})\n",
    "\n",
    "    links = []\n",
    "    for i in a_soup:\n",
    "        links.append('https://dart.fss.or.kr/'+i['href'])\n",
    "        \n",
    "    return links"
   ]
  },
  {
   "cell_type": "code",
   "execution_count": 424,
   "metadata": {
    "ExecuteTime": {
     "end_time": "2022-05-08T15:37:36.401161Z",
     "start_time": "2022-05-08T15:37:33.469332Z"
    }
   },
   "outputs": [
    {
     "data": {
      "text/plain": [
       "'C:\\\\Users\\\\min\\\\Anaconda3\\\\lib\\\\site-packages\\\\chromedriver_autoinstaller\\\\101\\\\chromedriver.exe'"
      ]
     },
     "execution_count": 424,
     "metadata": {},
     "output_type": "execute_result"
    }
   ],
   "source": [
    "import chromedriver_autoinstaller as chr\n",
    "chr.install()"
   ]
  },
  {
   "cell_type": "code",
   "execution_count": 426,
   "metadata": {
    "ExecuteTime": {
     "end_time": "2022-05-08T15:38:20.848692Z",
     "start_time": "2022-05-08T15:38:12.992154Z"
    }
   },
   "outputs": [],
   "source": [
    "URL = 'https://dart.fss.or.kr/dsab007/main.do'\n",
    "\n",
    "driver = webdriver.Chrome(executable_path='C:\\\\Users\\\\min\\\\Anaconda3\\\\lib\\\\site-packages\\\\chromedriver_autoinstaller\\\\101\\\\chromedriver.exe')\n",
    "driver.get(url=URL)\n",
    "\n",
    "driver.find_element_by_xpath('//*[@id=\"dsab007_main\"]/a').click()  # 보고서 보기 클릭\n",
    "driver.find_element_by_xpath('//*[@id=\"date7\"]').click()    # 10년 클릭\n",
    "driver.find_element_by_xpath('//*[@id=\"li_01\"]/label[1]').click()    # 정기공시 클릭\n",
    "driver.find_element_by_xpath('//*[@id=\"publicTypeDetail_A001\"]').click()   # 사업계획서 클릭"
   ]
  },
  {
   "cell_type": "code",
   "execution_count": 1,
   "metadata": {
    "ExecuteTime": {
     "end_time": "2022-05-10T01:49:24.093366Z",
     "start_time": "2022-05-10T01:49:23.728796Z"
    }
   },
   "outputs": [
    {
     "ename": "NameError",
     "evalue": "name 'tqdm_notebook' is not defined",
     "output_type": "error",
     "traceback": [
      "\u001b[1;31m---------------------------------------------------------------------------\u001b[0m",
      "\u001b[1;31mNameError\u001b[0m                                 Traceback (most recent call last)",
      "\u001b[1;32m<ipython-input-1-ac52fb7553a7>\u001b[0m in \u001b[0;36m<module>\u001b[1;34m\u001b[0m\n\u001b[0;32m      1\u001b[0m \u001b[0mcfs_link2\u001b[0m \u001b[1;33m=\u001b[0m \u001b[1;33m[\u001b[0m\u001b[1;33m]\u001b[0m\u001b[1;33m\u001b[0m\u001b[1;33m\u001b[0m\u001b[0m\n\u001b[1;32m----> 2\u001b[1;33m \u001b[1;32mfor\u001b[0m \u001b[0mstock\u001b[0m \u001b[1;32min\u001b[0m \u001b[0mtqdm_notebook\u001b[0m\u001b[1;33m(\u001b[0m\u001b[0mcode_api\u001b[0m\u001b[1;33m[\u001b[0m\u001b[1;34m'stock_code'\u001b[0m\u001b[1;33m]\u001b[0m\u001b[1;33m)\u001b[0m\u001b[1;33m:\u001b[0m\u001b[1;33m\u001b[0m\u001b[1;33m\u001b[0m\u001b[0m\n\u001b[0m\u001b[0;32m      3\u001b[0m     \u001b[0mcfs_link2\u001b[0m\u001b[1;33m.\u001b[0m\u001b[0mappend\u001b[0m\u001b[1;33m(\u001b[0m\u001b[1;33m[\u001b[0m\u001b[0mcode_api\u001b[0m\u001b[1;33m.\u001b[0m\u001b[0mloc\u001b[0m\u001b[1;33m[\u001b[0m\u001b[0mi\u001b[0m\u001b[1;33m,\u001b[0m \u001b[1;34m'corp_name'\u001b[0m\u001b[1;33m]\u001b[0m\u001b[1;33m,\u001b[0m \u001b[0msel_CFSlink\u001b[0m\u001b[1;33m(\u001b[0m\u001b[0mstock\u001b[0m\u001b[1;33m)\u001b[0m\u001b[1;33m]\u001b[0m\u001b[1;33m)\u001b[0m\u001b[1;33m\u001b[0m\u001b[1;33m\u001b[0m\u001b[0m\n",
      "\u001b[1;31mNameError\u001b[0m: name 'tqdm_notebook' is not defined"
     ]
    }
   ],
   "source": [
    "cfs_link2 = []\n",
    "for stock in tqdm_notebook(code_api['stock_code']):\n",
    "    cfs_link2.append([code_api.loc[i, 'corp_name'], sel_CFSlink(stock)])"
   ]
  },
  {
   "cell_type": "markdown",
   "metadata": {},
   "source": [
    "### 재무제표 link로 변환"
   ]
  },
  {
   "cell_type": "code",
   "execution_count": 16,
   "metadata": {
    "ExecuteTime": {
     "end_time": "2022-05-08T23:59:44.516115Z",
     "start_time": "2022-05-08T23:59:44.353214Z"
    }
   },
   "outputs": [],
   "source": [
    "import re\n",
    "import requests\n",
    "import json\n",
    "\n",
    "from tqdm import tqdm_notebook"
   ]
  },
  {
   "cell_type": "code",
   "execution_count": 732,
   "metadata": {
    "ExecuteTime": {
     "end_time": "2022-05-08T17:39:05.871142Z",
     "start_time": "2022-05-08T17:39:05.856151Z"
    }
   },
   "outputs": [],
   "source": [
    "import copy\n",
    "test_link = copy.deepcopy(cfs_link2)"
   ]
  },
  {
   "cell_type": "code",
   "execution_count": 733,
   "metadata": {
    "ExecuteTime": {
     "end_time": "2022-05-08T17:45:46.261232Z",
     "start_time": "2022-05-08T17:39:07.104429Z"
    }
   },
   "outputs": [
    {
     "data": {
      "application/vnd.jupyter.widget-view+json": {
       "model_id": "70d88297078341b7a1d343838672bf4d",
       "version_major": 2,
       "version_minor": 0
      },
      "text/plain": [
       "HBox(children=(FloatProgress(value=0.0, max=967.0), HTML(value='')))"
      ]
     },
     "metadata": {},
     "output_type": "display_data"
    },
    {
     "name": "stdout",
     "output_type": "stream",
     "text": [
      "\n"
     ]
    }
   ],
   "source": [
    "for corp in tqdm_notebook(test_link):\n",
    "    url = []\n",
    "    for link in corp[1]:\n",
    "        page_source = requests.get(link).text\n",
    "        \n",
    "        rcpNo = link.split('rcpNo=')[1]\n",
    "        dcmNo = re.sub('[^가-힣A-Za-z0-9]', '', page_source).split('dcmNo')[1].split(\"node\")[0]\n",
    "        eleId = re.sub('[^가-힣A-Za-z0-9]', '', page_source).split('연결재무제표')\n",
    "        \n",
    "        try:\n",
    "            if len(eleId) != 1:\n",
    "                eleId = eleId[1].split('id')[1].split('node')[0]\n",
    "                offset = re.sub('[^가-힣A-Za-z0-9]', '', page_source).split('연결재무제표')[1].split('offset')[1].split('node')[0]\n",
    "                length = re.sub('[^가-힣A-Za-z0-9]', '', page_source).split('연결재무제표')[1].split('length')[1].split('node')[0]\n",
    "            else:\n",
    "                eleId = re.sub('[^가-힣A-Za-z0-9]', '', page_source).split('재무제표등')[1].split('id')[1].split('node')[0]\n",
    "                offset = re.sub('[^가-힣A-Za-z0-9]', '', page_source).split('재무제표등')[1].split('offset')[1].split('node')[0]\n",
    "                length = re.sub('[^가-힣A-Za-z0-9]', '', page_source).split('재무제표등')[1].split('length')[1].split('node')[0]\n",
    "        except:\n",
    "            continue\n",
    "        html = f'https://dart.fss.or.kr//report/viewer.do?rcpNo={rcpNo}&dcmNo={dcmNo}&eleId={eleId}&offset={offset}&length={length}&dtd=dart3.xsd'\n",
    "        url.append(html)\n",
    "    corp.insert(2, url)"
   ]
  },
  {
   "cell_type": "code",
   "execution_count": 734,
   "metadata": {
    "ExecuteTime": {
     "end_time": "2022-05-08T17:45:57.210640Z",
     "start_time": "2022-05-08T17:45:57.200650Z"
    }
   },
   "outputs": [],
   "source": [
    "# 리스트 저장하기\n",
    "import pickle\n",
    "with open('api기업링크.pkl','wb') as f:\n",
    "     pickle.dump(test_link,f)"
   ]
  },
  {
   "cell_type": "code",
   "execution_count": 7,
   "metadata": {
    "ExecuteTime": {
     "end_time": "2022-05-08T23:58:13.322767Z",
     "start_time": "2022-05-08T23:58:13.310261Z"
    }
   },
   "outputs": [],
   "source": [
    "import pickle\n",
    "\n",
    "# 저장한 리스트 불러오기\n",
    "with open('api기업링크.pkl','rb') as f:\n",
    "    cfs_link2 = pickle.load(f)"
   ]
  },
  {
   "cell_type": "markdown",
   "metadata": {},
   "source": [
    "### 재무제표에서 필요한 데이터 불러오기"
   ]
  },
  {
   "cell_type": "code",
   "execution_count": 235,
   "metadata": {
    "ExecuteTime": {
     "end_time": "2022-05-09T02:51:42.596704Z",
     "start_time": "2022-05-09T02:51:42.574718Z"
    }
   },
   "outputs": [],
   "source": [
    "# 함수만들기\n",
    "def get_data(report_list):\n",
    "    data = pd.DataFrame()\n",
    "    for num, link in enumerate(report_list):\n",
    "        res = requests.get(link)\n",
    "        soup = bs(res.text, 'html.parser')\n",
    "\n",
    "        table1 = soup.find_all(\"thead\")[0].find_parent('table').find_previous_siblings()[0]\n",
    "        table2 = soup.find_all(\"thead\")[0].find_parent('table')\n",
    "        table3 = soup.find_all(\"thead\")[1].find_parent('table').find_previous_siblings()[0]\n",
    "        table4 = soup.find_all(\"thead\")[1].find_parent('table')\n",
    "\n",
    "        tr_soup = table1.find_all('tr')\n",
    "        A = [list(filter(None, re.sub('[^가-힣0-9\\n]', '', tr.text).split('\\n'))) for tr in tr_soup]\n",
    "        A = [a[0].split('기')[1][:4] for a in A  if re.match('제.*기', a[0])]\n",
    "        A.insert(0, '과목')\n",
    "\n",
    "        tr_soup = table2.find_all('tr')\n",
    "        B = [list(filter(None, re.sub('[^가-힣0-9\\n(]', '', tr.text).split('\\n'))) for tr in tr_soup]\n",
    "        \n",
    "        tr_soup = table3.find_all('tr')\n",
    "        C = [list(filter(None, re.sub('[^가-힣0-9\\n]', '', tr.text).split('\\n'))) for tr in tr_soup]\n",
    "        C = [a[0].split('기')[1][:4] for a in C  if re.match('제.*기', a[0])]\n",
    "        C.insert(0, '과목')\n",
    "\n",
    "        tr_soup = table4.find_all(\"tr\")\n",
    "        D = [list(filter(None, re.sub('[^가-힣0-9\\n(]', '', tr.text).split('\\n'))) for tr in tr_soup]\n",
    "        \n",
    "        df1 = pd.DataFrame(B[1:], columns = A)\n",
    "        df2 = pd.DataFrame(D[1:], columns = C)\n",
    "        df = pd.concat([df1, df2])\n",
    "        \n",
    "        if num == 0:\n",
    "            data = df\n",
    "        else:\n",
    "            data = pd.merge(data, df, how='outer')\n",
    "    return data"
   ]
  },
  {
   "cell_type": "code",
   "execution_count": 215,
   "metadata": {
    "ExecuteTime": {
     "end_time": "2022-05-09T02:44:56.405841Z",
     "start_time": "2022-05-09T02:27:22.673952Z"
    }
   },
   "outputs": [
    {
     "data": {
      "application/vnd.jupyter.widget-view+json": {
       "model_id": "182b9d9931534a82a1de5012d4ac5b21",
       "version_major": 2,
       "version_minor": 0
      },
      "text/plain": [
       "HBox(children=(FloatProgress(value=0.0, max=967.0), HTML(value='')))"
      ]
     },
     "metadata": {},
     "output_type": "display_data"
    },
    {
     "name": "stdout",
     "output_type": "stream",
     "text": [
      "\n"
     ]
    }
   ],
   "source": [
    "total = pd.DataFrame()\n",
    "for link in tqdm_notebook(cfs_link2):\n",
    "    try:\n",
    "        df2 = get_data(link[2])\n",
    "        df2.insert(0, '기업명', link[0])\n",
    "        total = pd.concat([total, df2], axis=0)\n",
    "    except:\n",
    "        pass"
   ]
  },
  {
   "cell_type": "code",
   "execution_count": 216,
   "metadata": {
    "ExecuteTime": {
     "end_time": "2022-05-09T02:44:59.632441Z",
     "start_time": "2022-05-09T02:44:58.761706Z"
    }
   },
   "outputs": [],
   "source": [
    "total.rename(columns = {'기업명':'corp_name'}, inplace=True)\n",
    "total.to_csv(\"셀레.csv\")"
   ]
  },
  {
   "cell_type": "code",
   "execution_count": 405,
   "metadata": {
    "ExecuteTime": {
     "end_time": "2022-05-09T05:25:57.093242Z",
     "start_time": "2022-05-09T05:25:56.874364Z"
    }
   },
   "outputs": [],
   "source": [
    "자산총계_sel = total[total.과목 == '자산총계']\n",
    "자산총계_sel = 자산총계_sel[자산총계_sel['2012'].notnull()][['corp_name', '과목', '2012', '2011']]\n",
    "\n",
    "자산총계 = pd.read_csv(\"자산총계.csv\", index_col = 0)\n",
    "자산총계 = 자산총계.astype(\"str\")\n",
    "\n",
    "자산총계_sel['2012'] = 자산총계_sel['2012'].str.replace(\"(\", '-')\n",
    "자산총계_sel['2012'] = 자산총계_sel['2012'].str.replace(\")\", '')\n",
    "\n",
    "자산총계_sel['2011'] = 자산총계_sel['2011'].str.replace(\"(\", '-')\n",
    "자산총계_sel['2011'] = 자산총계_sel['2011'].str.replace(\")\", '')\n",
    "\n",
    "자산총계 = pd.merge(자산총계, 자산총계_sel[['corp_name', '2012', '2011']], how='left')\n",
    "자산총계 = 자산총계.drop_duplicates(['corp_name'], keep='last')\n",
    "자산총계.reset_index(drop=True, inplace=True)\n",
    "자산총계.to_csv(\"자산총계_최종.csv\")"
   ]
  },
  {
   "cell_type": "code",
   "execution_count": 410,
   "metadata": {
    "ExecuteTime": {
     "end_time": "2022-05-09T05:26:19.588284Z",
     "start_time": "2022-05-09T05:26:19.358419Z"
    }
   },
   "outputs": [],
   "source": [
    "부채총계_sel = total[total.과목 == '부채총계']\n",
    "부채총계_sel = 부채총계_sel[부채총계_sel['2012'].notnull()][['corp_name', '과목', '2012', '2011']]\n",
    "\n",
    "부채총계 = pd.read_csv(\"부채총계.csv\", index_col = 0)\n",
    "부채총계 = 부채총계.astype(\"str\")\n",
    "\n",
    "부채총계_sel['2012'] = 부채총계_sel['2012'].str.replace(\"(\", '-')\n",
    "부채총계_sel['2012'] = 부채총계_sel['2012'].str.replace(\")\", '')\n",
    "\n",
    "부채총계_sel['2011'] = 부채총계_sel['2011'].str.replace(\"(\", '-')\n",
    "부채총계_sel['2011'] = 부채총계_sel['2011'].str.replace(\")\", '')\n",
    "\n",
    "부채총계 = pd.merge(부채총계, 부채총계_sel[['corp_name', '2012', '2011']], how='left')\n",
    "부채총계 = 부채총계.drop_duplicates(['corp_name'], keep='last')\n",
    "부채총계.reset_index(drop=True, inplace=True)\n",
    "부채총계.to_csv(\"부채총계_최종.csv\")"
   ]
  },
  {
   "cell_type": "code",
   "execution_count": 407,
   "metadata": {
    "ExecuteTime": {
     "end_time": "2022-05-09T05:26:04.933611Z",
     "start_time": "2022-05-09T05:26:04.782640Z"
    }
   },
   "outputs": [],
   "source": [
    "자본총계_sel = total[total.과목 == '자본총계']\n",
    "자본총계_sel = 자본총계_sel[자본총계_sel['2012'].notnull()][['corp_name', '과목', '2012', '2011']]\n",
    "\n",
    "자본총계 = pd.read_csv(\"자본총계.csv\", index_col = 0)\n",
    "자본총계 = 자본총계.astype(\"str\")\n",
    "\n",
    "자본총계_sel['2012'] = 자본총계_sel['2012'].str.replace(\"(\", '-')\n",
    "자본총계_sel['2012'] = 자본총계_sel['2012'].str.replace(\")\", '')\n",
    "\n",
    "자본총계_sel['2011'] = 자본총계_sel['2011'].str.replace(\"(\", '-')\n",
    "자본총계_sel['2011'] = 자본총계_sel['2011'].str.replace(\")\", '')\n",
    "\n",
    "자본총계 = pd.merge(자본총계, 자본총계_sel[['corp_name', '2012', '2011']], how='left')\n",
    "자본총계 = 자본총계.drop_duplicates(['corp_name'], keep='last')\n",
    "자본총계.reset_index(drop=True, inplace=True)\n",
    "자본총계.to_csv(\"자본총계_최종.csv\")"
   ]
  },
  {
   "cell_type": "code",
   "execution_count": null,
   "metadata": {
    "ExecuteTime": {
     "end_time": "2022-05-09T05:25:33.340223Z",
     "start_time": "2022-05-09T05:25:33.305Z"
    },
    "scrolled": true
   },
   "outputs": [],
   "source": [
    "당기순이익_sel = total[(total.과목 == '당기순이익') | (total.과목 == '당기순이익(손실)')]\n",
    "당기순이익_sel = 당기순이익_sel[당기순이익_sel['2011'].notnull()][['corp_name', '과목', '2011', '2010']]\n",
    "당기순이익_sel.columns = ['corp_name', '과목', '2012', '2011']\n",
    "\n",
    "당기순이익_sel['2012'] = 당기순이익_sel['2012'].str.replace(\"(\", '-')\n",
    "당기순이익_sel['2012'] = 당기순이익_sel['2012'].str.replace(\")\", '')\n",
    "\n",
    "당기순이익_sel['2011'] = 당기순이익_sel['2011'].str.replace(\"(\", '-')\n",
    "당기순이익_sel['2011'] = 당기순이익_sel['2011'].str.replace(\")\", '')\n",
    "\n",
    "당기순이익 = pd.read_csv(\"당기순이익.csv\", index_col = 0)\n",
    "당기순이익 = 당기순이익.astype(\"str\")\n",
    "\n",
    "당기순이익 = pd.merge(당기순이익, 당기순이익_sel[['corp_name', '2012', '2011']], how='left')\n",
    "당기순이익 = 당기순이익.drop_duplicates(['corp_name'], keep='first')\n",
    "당기순이익.reset_index(drop=True, inplace=True)\n",
    "당기순이익.to_csv(\"당기순이익_최종.csv\")"
   ]
  },
  {
   "cell_type": "code",
   "execution_count": 421,
   "metadata": {
    "ExecuteTime": {
     "end_time": "2022-05-09T05:30:25.580523Z",
     "start_time": "2022-05-09T05:30:25.502000Z"
    }
   },
   "outputs": [],
   "source": [
    "자산총계 = pd.read_csv(\"자산총계_최종.csv\", index_col=0)\n",
    "부채총계 = pd.read_csv(\"부채총계_최종.csv\", index_col=0)\n",
    "자본총계 = pd.read_csv(\"자본총계_최종.csv\", index_col=0)\n",
    "당기순이익 = pd.read_csv(\"당기순이익_최종.csv\", index_col=0)"
   ]
  },
  {
   "cell_type": "code",
   "execution_count": null,
   "metadata": {},
   "outputs": [],
   "source": []
  }
 ],
 "metadata": {
  "kernelspec": {
   "display_name": "Python 3",
   "language": "python",
   "name": "python3"
  },
  "language_info": {
   "codemirror_mode": {
    "name": "ipython",
    "version": 3
   },
   "file_extension": ".py",
   "mimetype": "text/x-python",
   "name": "python",
   "nbconvert_exporter": "python",
   "pygments_lexer": "ipython3",
   "version": "3.7.6"
  },
  "toc": {
   "base_numbering": 1,
   "nav_menu": {},
   "number_sections": true,
   "sideBar": true,
   "skip_h1_title": false,
   "title_cell": "Table of Contents",
   "title_sidebar": "Contents",
   "toc_cell": false,
   "toc_position": {},
   "toc_section_display": true,
   "toc_window_display": false
  },
  "varInspector": {
   "cols": {
    "lenName": 16,
    "lenType": 16,
    "lenVar": 40
   },
   "kernels_config": {
    "python": {
     "delete_cmd_postfix": "",
     "delete_cmd_prefix": "del ",
     "library": "var_list.py",
     "varRefreshCmd": "print(var_dic_list())"
    },
    "r": {
     "delete_cmd_postfix": ") ",
     "delete_cmd_prefix": "rm(",
     "library": "var_list.r",
     "varRefreshCmd": "cat(var_dic_list()) "
    }
   },
   "position": {
    "height": "369.85px",
    "left": "796.4px",
    "right": "20px",
    "top": "89px",
    "width": "490px"
   },
   "types_to_exclude": [
    "module",
    "function",
    "builtin_function_or_method",
    "instance",
    "_Feature"
   ],
   "window_display": false
  }
 },
 "nbformat": 4,
 "nbformat_minor": 4
}
