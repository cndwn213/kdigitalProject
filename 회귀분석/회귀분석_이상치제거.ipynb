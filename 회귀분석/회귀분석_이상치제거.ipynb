{
 "cells": [
  {
   "cell_type": "code",
   "execution_count": 1,
   "outputs": [],
   "source": [
    "import numpy as np\n",
    "import pandas as pd\n",
    "import matplotlib.pyplot as plt\n",
    "import matplotlib as mpl\n",
    "from sklearn.utils import shuffle\n",
    "import matplotlib.font_manager as fm\n",
    "import seaborn as sns\n",
    "import warnings\n",
    "warnings.filterwarnings('ignore')\n",
    "%matplotlib inline"
   ],
   "metadata": {
    "collapsed": false,
    "pycharm": {
     "name": "#%%\n"
    }
   }
  },
  {
   "cell_type": "code",
   "execution_count": 2,
   "outputs": [],
   "source": [
    "## 이상치 제거\n",
    "def outliers_iqr(data):\n",
    "    q1 = np.quantile(data, 0.25)\n",
    "    q3 = np.quantile(data, 0.75)\n",
    "    # 넘파이 값을 퍼센트로 표시해주는 함수\n",
    "    iqr = q3 - q1\n",
    "    lower_bound = q1 - (iqr * 1.5)\n",
    "    upper_bound = q3 + (iqr * 1.5)\n",
    "\n",
    "    return np.where((data > upper_bound) | (data < lower_bound))"
   ],
   "metadata": {
    "collapsed": false,
    "pycharm": {
     "name": "#%%\n"
    }
   }
  },
  {
   "cell_type": "markdown",
   "source": [
    "### OLS를 활용해 회귀분석"
   ],
   "metadata": {
    "collapsed": false,
    "pycharm": {
     "name": "#%% md\n"
    }
   }
  },
  {
   "cell_type": "code",
   "execution_count": 3,
   "outputs": [],
   "source": [
    "import warnings\n",
    "warnings.filterwarnings('ignore')"
   ],
   "metadata": {
    "collapsed": false,
    "pycharm": {
     "name": "#%%\n"
    }
   }
  },
  {
   "cell_type": "code",
   "execution_count": 4,
   "outputs": [],
   "source": [
    "jasan_df = pd.read_csv('./data/자산총계_최종.csv', index_col=0, dtype={'corp_code':'str', 'stock_code':'str'})\n",
    "buchae_df = pd.read_csv('./data/부채총계_최종.csv', index_col=0, dtype={'corp_code':'str', 'stock_code':'str'})\n",
    "jabon_df = pd.read_csv('./data/자본총계_최종.csv', index_col=0, dtype={'corp_code':'str', 'stock_code':'str'})\n",
    "siga_df = pd.read_csv('./data/시가총액/시가총액_연평균.csv', index_col=0, dtype={'corp_code':'str', 'stock_code':'str'})\n",
    "LEV = pd.read_csv('./data/LEV.csv', index_col=0, dtype={'corp_code':'str', 'stock_code':'str'})"
   ],
   "metadata": {
    "collapsed": false,
    "pycharm": {
     "name": "#%%\n"
    }
   }
  },
  {
   "cell_type": "code",
   "execution_count": 5,
   "outputs": [],
   "source": [
    "LEV = pd.DataFrame()\n",
    "for name in jasan_df['corp_name']:\n",
    "    na_cnt =  jasan_df[jasan_df.corp_name == name].isnull().sum(axis=1).values[0]\n",
    "\n",
    "    if na_cnt == 0:\n",
    "        lev = buchae_df[buchae_df.corp_name == name].iloc[:, 4:].values / jasan_df[jasan_df.corp_name == name].iloc[:, 4:].values\n",
    "        lev = pd.DataFrame(lev, columns = jasan_df.columns[4:])\n",
    "    else:\n",
    "        lev = buchae_df[buchae_df.corp_name == name].iloc[:, 4:-na_cnt].values / jasan_df[jasan_df.corp_name == name].iloc[:, 4:-na_cnt].values\n",
    "        lev = pd.DataFrame(lev, columns = jasan_df.columns[4:-na_cnt])\n",
    "\n",
    "    lev.insert(0, '종목명', name)\n",
    "    LEV = pd.concat([LEV, lev])\n",
    "LEV.reset_index(drop=True, inplace=True)"
   ],
   "metadata": {
    "collapsed": false,
    "pycharm": {
     "name": "#%%\n"
    }
   }
  },
  {
   "cell_type": "code",
   "execution_count": 6,
   "outputs": [],
   "source": [
    "LEV_df = pd.DataFrame()\n",
    "for i in LEV.columns[2:]:\n",
    "    lev = LEV[['종목명', i]]\n",
    "    lev.columns = ['종목명', 'LEV']\n",
    "    lev['연도'] = i\n",
    "    LEV_df = pd.concat([LEV_df, lev])"
   ],
   "metadata": {
    "collapsed": false,
    "pycharm": {
     "name": "#%%\n"
    }
   }
  },
  {
   "cell_type": "code",
   "execution_count": 7,
   "outputs": [],
   "source": [
    "SIZE = np.log(jasan_df.iloc[:, 4:])\n",
    "SIZE = pd.concat([jasan_df[['corp_name', 'stock_code']], SIZE], axis=1)\n",
    "SIZE_df = pd.DataFrame()\n",
    "\n",
    "for i in SIZE.columns[2:]:\n",
    "    size = SIZE[['stock_code', 'corp_name', i]]\n",
    "    size.columns = ['기업코드', '종목명', 'SIZE']\n",
    "    size['연도'] = i\n",
    "    SIZE_df = pd.concat([SIZE_df, size])"
   ],
   "metadata": {
    "collapsed": false,
    "pycharm": {
     "name": "#%%\n"
    }
   }
  },
  {
   "cell_type": "markdown",
   "source": [
    "### 전처리"
   ],
   "metadata": {
    "collapsed": false,
    "pycharm": {
     "name": "#%% md\n"
    }
   }
  },
  {
   "cell_type": "code",
   "execution_count": 58,
   "outputs": [],
   "source": [
    "final_df = pd.read_csv('./data/최종데이터/최종데이터_ESG환산.csv', index_col=0)"
   ],
   "metadata": {
    "collapsed": false,
    "pycharm": {
     "name": "#%%\n"
    }
   }
  },
  {
   "cell_type": "code",
   "execution_count": 59,
   "outputs": [],
   "source": [
    "final_df = final_df.replace(\"A+\", 6).replace(\"A\", 5).replace(\"B+\", 4).replace(\"B\", 3).replace(\"C\", 2).replace(\"D\", 1).replace(\"E\", np.NaN)"
   ],
   "metadata": {
    "collapsed": false,
    "pycharm": {
     "name": "#%%\n"
    }
   }
  },
  {
   "cell_type": "code",
   "execution_count": 60,
   "outputs": [],
   "source": [
    "LEV_df['연도'] = LEV_df['연도'].astype('int64')\n",
    "SIZE_df['연도'] = SIZE_df['연도'].astype('int64')"
   ],
   "metadata": {
    "collapsed": false,
    "pycharm": {
     "name": "#%%\n"
    }
   }
  },
  {
   "cell_type": "code",
   "execution_count": 61,
   "outputs": [
    {
     "data": {
      "text/plain": "       종목명       LEV    연도\n0   지역난방공사  0.702998  2020\n1  아시아나IDT  0.364363  2020\n2     현대약품  0.427684  2020\n3     코스맥스  0.771329  2020\n4     경인양행  0.547850  2020",
      "text/html": "<div>\n<style scoped>\n    .dataframe tbody tr th:only-of-type {\n        vertical-align: middle;\n    }\n\n    .dataframe tbody tr th {\n        vertical-align: top;\n    }\n\n    .dataframe thead th {\n        text-align: right;\n    }\n</style>\n<table border=\"1\" class=\"dataframe\">\n  <thead>\n    <tr style=\"text-align: right;\">\n      <th></th>\n      <th>종목명</th>\n      <th>LEV</th>\n      <th>연도</th>\n    </tr>\n  </thead>\n  <tbody>\n    <tr>\n      <th>0</th>\n      <td>지역난방공사</td>\n      <td>0.702998</td>\n      <td>2020</td>\n    </tr>\n    <tr>\n      <th>1</th>\n      <td>아시아나IDT</td>\n      <td>0.364363</td>\n      <td>2020</td>\n    </tr>\n    <tr>\n      <th>2</th>\n      <td>현대약품</td>\n      <td>0.427684</td>\n      <td>2020</td>\n    </tr>\n    <tr>\n      <th>3</th>\n      <td>코스맥스</td>\n      <td>0.771329</td>\n      <td>2020</td>\n    </tr>\n    <tr>\n      <th>4</th>\n      <td>경인양행</td>\n      <td>0.547850</td>\n      <td>2020</td>\n    </tr>\n  </tbody>\n</table>\n</div>"
     },
     "execution_count": 61,
     "metadata": {},
     "output_type": "execute_result"
    }
   ],
   "source": [
    "LEV_df.head()"
   ],
   "metadata": {
    "collapsed": false,
    "pycharm": {
     "name": "#%%\n"
    }
   }
  },
  {
   "cell_type": "code",
   "execution_count": 62,
   "outputs": [],
   "source": [
    "final_df = pd.merge(final_df, LEV_df[['종목명', '연도', 'LEV']], on=['종목명', '연도'])\n",
    "final_df = pd.merge(final_df, SIZE_df[['종목명', '연도', 'SIZE']], on=['종목명', '연도'])"
   ],
   "metadata": {
    "collapsed": false,
    "pycharm": {
     "name": "#%%\n"
    }
   }
  },
  {
   "cell_type": "code",
   "execution_count": 63,
   "outputs": [],
   "source": [
    "final_df.dropna(axis=0, inplace=True)\n",
    "final_df = final_df[final_df['누적수익률'] != 'np.NAN']\n",
    "final_df['누적수익률'] = final_df['누적수익률'].astype('float')"
   ],
   "metadata": {
    "collapsed": false,
    "pycharm": {
     "name": "#%%\n"
    }
   }
  },
  {
   "cell_type": "code",
   "execution_count": 64,
   "outputs": [
    {
     "data": {
      "text/plain": "         종목명    연도       누적수익률  종합등급   환경   사회  지배구조        ROA        ROE  \\\n1     AJ네트웍스  2016  -16.696604   3.0  2.0  3.0   3.0   0.820595   3.995265   \n2     AJ네트웍스  2017  -21.116001   3.0  3.0  3.0   3.0   0.877023   4.617270   \n3     AJ네트웍스  2018  -15.324073   3.0  2.0  3.0   3.0   1.447255   7.577926   \n4     AJ네트웍스  2019  -27.945367   3.0  1.0  3.0   3.0   2.336252  12.128881   \n5     AJ네트웍스  2020  -37.503193   3.0  1.0  3.0   3.0  -0.208845  -1.151640   \n...      ...   ...         ...   ...  ...  ...   ...        ...        ...   \n5740      후성  2016   92.884451   3.0  3.0  3.0   4.0  19.759910  38.586363   \n5741      후성  2017  132.717768   3.0  2.0  3.0   4.0   8.928117  13.509607   \n5742      후성  2018   59.411275   3.0  3.0  3.0   4.0   6.353841  11.426047   \n5743      후성  2019   -8.495724   3.0  3.0  2.0   3.0   0.038912   0.084715   \n5744      후성  2020  -14.159244   2.0  3.0  2.0   2.0   0.490757   1.081137   \n\n        tobinQ   코스피누적수익률       LEV       SIZE  \n1     0.756037   0.244437  0.794608  28.364022  \n2     0.719738  14.838077  0.810056  28.487236  \n3     0.574388  17.010852  0.809017  28.576925  \n4     0.651385  -8.843388  0.807381  28.220615  \n5     0.556895  -4.513591  0.818654  28.093604  \n...        ...        ...       ...        ...  \n5740  3.582117   0.244437  0.487904  26.462838  \n5741  4.251250  14.838077  0.339128  26.479372  \n5742  3.626249  17.010852  0.443916  26.813401  \n5743  3.073370  -8.843388  0.540669  26.994080  \n5744  3.307261  -4.513591  0.546074  27.015036  \n\n[4648 rows x 13 columns]",
      "text/html": "<div>\n<style scoped>\n    .dataframe tbody tr th:only-of-type {\n        vertical-align: middle;\n    }\n\n    .dataframe tbody tr th {\n        vertical-align: top;\n    }\n\n    .dataframe thead th {\n        text-align: right;\n    }\n</style>\n<table border=\"1\" class=\"dataframe\">\n  <thead>\n    <tr style=\"text-align: right;\">\n      <th></th>\n      <th>종목명</th>\n      <th>연도</th>\n      <th>누적수익률</th>\n      <th>종합등급</th>\n      <th>환경</th>\n      <th>사회</th>\n      <th>지배구조</th>\n      <th>ROA</th>\n      <th>ROE</th>\n      <th>tobinQ</th>\n      <th>코스피누적수익률</th>\n      <th>LEV</th>\n      <th>SIZE</th>\n    </tr>\n  </thead>\n  <tbody>\n    <tr>\n      <th>1</th>\n      <td>AJ네트웍스</td>\n      <td>2016</td>\n      <td>-16.696604</td>\n      <td>3.0</td>\n      <td>2.0</td>\n      <td>3.0</td>\n      <td>3.0</td>\n      <td>0.820595</td>\n      <td>3.995265</td>\n      <td>0.756037</td>\n      <td>0.244437</td>\n      <td>0.794608</td>\n      <td>28.364022</td>\n    </tr>\n    <tr>\n      <th>2</th>\n      <td>AJ네트웍스</td>\n      <td>2017</td>\n      <td>-21.116001</td>\n      <td>3.0</td>\n      <td>3.0</td>\n      <td>3.0</td>\n      <td>3.0</td>\n      <td>0.877023</td>\n      <td>4.617270</td>\n      <td>0.719738</td>\n      <td>14.838077</td>\n      <td>0.810056</td>\n      <td>28.487236</td>\n    </tr>\n    <tr>\n      <th>3</th>\n      <td>AJ네트웍스</td>\n      <td>2018</td>\n      <td>-15.324073</td>\n      <td>3.0</td>\n      <td>2.0</td>\n      <td>3.0</td>\n      <td>3.0</td>\n      <td>1.447255</td>\n      <td>7.577926</td>\n      <td>0.574388</td>\n      <td>17.010852</td>\n      <td>0.809017</td>\n      <td>28.576925</td>\n    </tr>\n    <tr>\n      <th>4</th>\n      <td>AJ네트웍스</td>\n      <td>2019</td>\n      <td>-27.945367</td>\n      <td>3.0</td>\n      <td>1.0</td>\n      <td>3.0</td>\n      <td>3.0</td>\n      <td>2.336252</td>\n      <td>12.128881</td>\n      <td>0.651385</td>\n      <td>-8.843388</td>\n      <td>0.807381</td>\n      <td>28.220615</td>\n    </tr>\n    <tr>\n      <th>5</th>\n      <td>AJ네트웍스</td>\n      <td>2020</td>\n      <td>-37.503193</td>\n      <td>3.0</td>\n      <td>1.0</td>\n      <td>3.0</td>\n      <td>3.0</td>\n      <td>-0.208845</td>\n      <td>-1.151640</td>\n      <td>0.556895</td>\n      <td>-4.513591</td>\n      <td>0.818654</td>\n      <td>28.093604</td>\n    </tr>\n    <tr>\n      <th>...</th>\n      <td>...</td>\n      <td>...</td>\n      <td>...</td>\n      <td>...</td>\n      <td>...</td>\n      <td>...</td>\n      <td>...</td>\n      <td>...</td>\n      <td>...</td>\n      <td>...</td>\n      <td>...</td>\n      <td>...</td>\n      <td>...</td>\n    </tr>\n    <tr>\n      <th>5740</th>\n      <td>후성</td>\n      <td>2016</td>\n      <td>92.884451</td>\n      <td>3.0</td>\n      <td>3.0</td>\n      <td>3.0</td>\n      <td>4.0</td>\n      <td>19.759910</td>\n      <td>38.586363</td>\n      <td>3.582117</td>\n      <td>0.244437</td>\n      <td>0.487904</td>\n      <td>26.462838</td>\n    </tr>\n    <tr>\n      <th>5741</th>\n      <td>후성</td>\n      <td>2017</td>\n      <td>132.717768</td>\n      <td>3.0</td>\n      <td>2.0</td>\n      <td>3.0</td>\n      <td>4.0</td>\n      <td>8.928117</td>\n      <td>13.509607</td>\n      <td>4.251250</td>\n      <td>14.838077</td>\n      <td>0.339128</td>\n      <td>26.479372</td>\n    </tr>\n    <tr>\n      <th>5742</th>\n      <td>후성</td>\n      <td>2018</td>\n      <td>59.411275</td>\n      <td>3.0</td>\n      <td>3.0</td>\n      <td>3.0</td>\n      <td>4.0</td>\n      <td>6.353841</td>\n      <td>11.426047</td>\n      <td>3.626249</td>\n      <td>17.010852</td>\n      <td>0.443916</td>\n      <td>26.813401</td>\n    </tr>\n    <tr>\n      <th>5743</th>\n      <td>후성</td>\n      <td>2019</td>\n      <td>-8.495724</td>\n      <td>3.0</td>\n      <td>3.0</td>\n      <td>2.0</td>\n      <td>3.0</td>\n      <td>0.038912</td>\n      <td>0.084715</td>\n      <td>3.073370</td>\n      <td>-8.843388</td>\n      <td>0.540669</td>\n      <td>26.994080</td>\n    </tr>\n    <tr>\n      <th>5744</th>\n      <td>후성</td>\n      <td>2020</td>\n      <td>-14.159244</td>\n      <td>2.0</td>\n      <td>3.0</td>\n      <td>2.0</td>\n      <td>2.0</td>\n      <td>0.490757</td>\n      <td>1.081137</td>\n      <td>3.307261</td>\n      <td>-4.513591</td>\n      <td>0.546074</td>\n      <td>27.015036</td>\n    </tr>\n  </tbody>\n</table>\n<p>4648 rows × 13 columns</p>\n</div>"
     },
     "execution_count": 64,
     "metadata": {},
     "output_type": "execute_result"
    }
   ],
   "source": [
    "final_df"
   ],
   "metadata": {
    "collapsed": false,
    "pycharm": {
     "name": "#%%\n"
    }
   }
  },
  {
   "cell_type": "markdown",
   "source": [
    "### 상관계수"
   ],
   "metadata": {
    "collapsed": false,
    "pycharm": {
     "name": "#%% md\n"
    }
   }
  },
  {
   "cell_type": "code",
   "execution_count": 65,
   "outputs": [],
   "source": [
    "import warnings\n",
    "warnings.filterwarnings(\"ignore\")\n",
    "\n",
    "import matplotlib.pyplot as plt\n",
    "import seaborn as sns\n",
    "\n",
    "plt.rcParams['font.family'] = 'Malgun Gothic'\n",
    "plt.rcParams['axes.unicode_minus'] =False"
   ],
   "metadata": {
    "collapsed": false,
    "pycharm": {
     "name": "#%%\n"
    }
   }
  },
  {
   "cell_type": "code",
   "execution_count": 66,
   "outputs": [
    {
     "data": {
      "text/plain": "<AxesSubplot:>"
     },
     "execution_count": 66,
     "metadata": {},
     "output_type": "execute_result"
    },
    {
     "data": {
      "text/plain": "<Figure size 432x288 with 2 Axes>",
      "image/png": "[encoded data removed]"
     },
     "metadata": {
      "needs_background": "light"
     },
     "output_type": "display_data"
    }
   ],
   "source": [
    "sns.heatmap(final_df.corr(), annot=True, annot_kws=dict(color='g'), cmap='Greys')\n"
   ],
   "metadata": {
    "collapsed": false,
    "pycharm": {
     "name": "#%%\n"
    }
   }
  },
  {
   "cell_type": "markdown",
   "source": [
    "### 회귀분석"
   ],
   "metadata": {
    "collapsed": false,
    "pycharm": {
     "name": "#%% md\n"
    }
   }
  },
  {
   "cell_type": "code",
   "execution_count": 67,
   "outputs": [
    {
     "data": {
      "text/plain": "Index(['종목명', '연도', '누적수익률', '종합등급', '환경', '사회', '지배구조', 'ROA', 'ROE',\n       'tobinQ', '코스피누적수익률', 'LEV', 'SIZE'],\n      dtype='object')"
     },
     "execution_count": 67,
     "metadata": {},
     "output_type": "execute_result"
    }
   ],
   "source": [
    "final_df.columns"
   ],
   "metadata": {
    "collapsed": false,
    "pycharm": {
     "name": "#%%\n"
    }
   }
  },
  {
   "cell_type": "code",
   "execution_count": 118,
   "outputs": [],
   "source": [
    "from statsmodels.formula.api import ols\n",
    "import statsmodels.api as sm"
   ],
   "metadata": {
    "collapsed": false,
    "pycharm": {
     "name": "#%%\n"
    }
   }
  },
  {
   "cell_type": "code",
   "execution_count": 134,
   "outputs": [
    {
     "name": "stdout",
     "output_type": "stream",
     "text": [
      "                            OLS Regression Results                            \n",
      "==============================================================================\n",
      "Dep. Variable:                    ROA   R-squared:                       0.106\n",
      "Model:                            OLS   Adj. R-squared:                  0.104\n",
      "Method:                 Least Squares   F-statistic:                     54.74\n",
      "Date:                Sun, 15 May 2022   Prob (F-statistic):          6.69e-105\n",
      "Time:                        18:38:10   Log-Likelihood:                -17657.\n",
      "No. Observations:                4648   AIC:                         3.534e+04\n",
      "Df Residuals:                    4637   BIC:                         3.541e+04\n",
      "Df Model:                          10                                         \n",
      "Covariance Type:            nonrobust                                         \n",
      "==============================================================================\n",
      "                 coef    std err          t      P>|t|      [0.025      0.975]\n",
      "------------------------------------------------------------------------------\n",
      "Intercept    327.1299    129.788      2.520      0.012      72.683     581.577\n",
      "종합등급          -1.3934      0.566     -2.460      0.014      -2.504      -0.283\n",
      "환경             0.9840      0.228      4.317      0.000       0.537       1.431\n",
      "사회             0.9661      0.334      2.892      0.004       0.311       1.621\n",
      "지배구조           0.7555      0.354      2.134      0.033       0.061       1.450\n",
      "연도            -0.1679      0.064     -2.603      0.009      -0.294      -0.041\n",
      "LEV          -13.9635      0.773    -18.066      0.000     -15.479     -12.448\n",
      "SIZE           0.5701      0.099      5.754      0.000       0.376       0.764\n",
      "ROE            0.0046      0.001      6.156      0.000       0.003       0.006\n",
      "코스피누적수익률       0.0741      0.020      3.721      0.000       0.035       0.113\n",
      "누적수익률          0.0187      0.002      8.156      0.000       0.014       0.023\n",
      "==============================================================================\n",
      "Omnibus:                     8965.035   Durbin-Watson:                   1.723\n",
      "Prob(Omnibus):                  0.000   Jarque-Bera (JB):         44621090.423\n",
      "Skew:                          14.531   Prob(JB):                         0.00\n",
      "Kurtosis:                     482.121   Cond. No.                     1.65e+06\n",
      "==============================================================================\n",
      "\n",
      "Notes:\n",
      "[1] Standard Errors assume that the covariance matrix of the errors is correctly specified.\n",
      "[2] The condition number is large, 1.65e+06. This might indicate that there are\n",
      "strong multicollinearity or other numerical problems.\n"
     ]
    }
   ],
   "source": [
    "res = ols('ROA ~ 종합등급+환경+사회+지배구조+연도+LEV+SIZE+ROE+코스피누적수익률+누적수익률', data=final_df).fit()\n",
    "print(res.summary())"
   ],
   "metadata": {
    "collapsed": false,
    "pycharm": {
     "name": "#%%\n"
    }
   }
  },
  {
   "cell_type": "code",
   "execution_count": 70,
   "outputs": [
    {
     "data": {
      "text/plain": "Index(['종목명', '연도', '누적수익률', '종합등급', '환경', '사회', '지배구조', 'ROA', 'ROE',\n       'tobinQ', '코스피누적수익률', 'LEV', 'SIZE'],\n      dtype='object')"
     },
     "execution_count": 70,
     "metadata": {},
     "output_type": "execute_result"
    }
   ],
   "source": [
    "final_df.columns"
   ],
   "metadata": {
    "collapsed": false,
    "pycharm": {
     "name": "#%%\n"
    }
   }
  },
  {
   "cell_type": "code",
   "execution_count": 139,
   "outputs": [
    {
     "name": "stdout",
     "output_type": "stream",
     "text": [
      "                            OLS Regression Results                            \n",
      "==============================================================================\n",
      "Dep. Variable:                    ROE   R-squared:                       0.008\n",
      "Model:                            OLS   Adj. R-squared:                  0.007\n",
      "Method:                 Least Squares   F-statistic:                     6.577\n",
      "Date:                Sun, 15 May 2022   Prob (F-statistic):           6.22e-07\n",
      "Time:                        18:39:42   Log-Likelihood:                -31508.\n",
      "No. Observations:                4648   AIC:                         6.303e+04\n",
      "Df Residuals:                    4641   BIC:                         6.308e+04\n",
      "Df Model:                           6                                         \n",
      "Covariance Type:            nonrobust                                         \n",
      "==============================================================================\n",
      "                 coef    std err          t      P>|t|      [0.025      0.975]\n",
      "------------------------------------------------------------------------------\n",
      "Intercept      3.1550     16.440      0.192      0.848     -29.075      35.385\n",
      "환경             0.6363      3.810      0.167      0.867      -6.833       8.105\n",
      "사회            -6.3633      5.086     -1.251      0.211     -16.334       3.608\n",
      "지배구조           1.2471      5.391      0.231      0.817      -9.322      11.816\n",
      "LEV           26.3256     15.475      1.701      0.089      -4.013      56.664\n",
      "ROA            1.7583      0.286      6.143      0.000       1.197       2.319\n",
      "누적수익률          0.0006      0.045      0.013      0.989      -0.087       0.088\n",
      "==============================================================================\n",
      "Omnibus:                    15233.435   Durbin-Watson:                   2.019\n",
      "Prob(Omnibus):                  0.000   Jarque-Bera (JB):       2456649236.819\n",
      "Skew:                          55.166   Prob(JB):                         0.00\n",
      "Kurtosis:                    3562.882   Cond. No.                         428.\n",
      "==============================================================================\n",
      "\n",
      "Notes:\n",
      "[1] Standard Errors assume that the covariance matrix of the errors is correctly specified.\n"
     ]
    }
   ],
   "source": [
    "res = ols('ROE ~ 환경+사회+지배구조+LEV+ROA+누적수익률', data=final_df).fit()\n",
    "print(res.summary())"
   ],
   "metadata": {
    "collapsed": false,
    "pycharm": {
     "name": "#%%\n"
    }
   }
  },
  {
   "cell_type": "code",
   "execution_count": 144,
   "outputs": [
    {
     "name": "stdout",
     "output_type": "stream",
     "text": [
      "                            OLS Regression Results                            \n",
      "==============================================================================\n",
      "Dep. Variable:                 tobinQ   R-squared:                       0.337\n",
      "Model:                            OLS   Adj. R-squared:                  0.336\n",
      "Method:                 Least Squares   F-statistic:                     336.9\n",
      "Date:                Sun, 15 May 2022   Prob (F-statistic):               0.00\n",
      "Time:                        18:40:58   Log-Likelihood:                -60188.\n",
      "No. Observations:                4648   AIC:                         1.204e+05\n",
      "Df Residuals:                    4640   BIC:                         1.204e+05\n",
      "Df Model:                           7                                         \n",
      "Covariance Type:            nonrobust                                         \n",
      "==============================================================================\n",
      "                 coef    std err          t      P>|t|      [0.025      0.975]\n",
      "------------------------------------------------------------------------------\n",
      "Intercept   9.151e+05   2.25e+04     40.713      0.000    8.71e+05    9.59e+05\n",
      "환경          1.645e+04   1846.076      8.913      0.000    1.28e+04    2.01e+04\n",
      "사회          3.203e+04   2510.336     12.760      0.000    2.71e+04     3.7e+04\n",
      "지배구조        2.777e+04   2595.591     10.700      0.000    2.27e+04    3.29e+04\n",
      "LEV         4.974e+04   7244.328      6.866      0.000    3.55e+04    6.39e+04\n",
      "SIZE       -4.327e+04    921.105    -46.981      0.000   -4.51e+04   -4.15e+04\n",
      "누적수익률        -37.9589     21.209     -1.790      0.074     -79.538       3.620\n",
      "코스피누적수익률    -330.3886    182.351     -1.812      0.070    -687.882      27.105\n",
      "==============================================================================\n",
      "Omnibus:                     7980.065   Durbin-Watson:                   1.089\n",
      "Prob(Omnibus):                  0.000   Jarque-Bera (JB):          9321836.792\n",
      "Skew:                          11.756   Prob(JB):                         0.00\n",
      "Kurtosis:                     221.130   Cond. No.                     1.10e+03\n",
      "==============================================================================\n",
      "\n",
      "Notes:\n",
      "[1] Standard Errors assume that the covariance matrix of the errors is correctly specified.\n",
      "[2] The condition number is large, 1.1e+03. This might indicate that there are\n",
      "strong multicollinearity or other numerical problems.\n"
     ]
    }
   ],
   "source": [
    "res = ols('tobinQ ~ 환경+사회+지배구조+LEV+SIZE+누적수익률+코스피누적수익률', data=final_df).fit()\n",
    "print(res.summary())"
   ],
   "metadata": {
    "collapsed": false,
    "pycharm": {
     "name": "#%%\n"
    }
   }
  },
  {
   "cell_type": "code",
   "execution_count": 145,
   "outputs": [
    {
     "data": {
      "text/plain": "                연도        누적수익률         종합등급           환경           사회  \\\ncount  4648.000000  4648.000000  4648.000000  4648.000000  4648.000000   \nmean   2016.021084    15.934108     3.144793     2.767212     3.291093   \nstd       2.686309    70.863531     0.692042     0.931033     0.821640   \nmin    2011.000000   -97.254766     1.000000     1.000000     1.000000   \n25%    2014.000000   -23.425276     3.000000     2.000000     3.000000   \n50%    2016.000000    -0.541971     3.000000     3.000000     3.000000   \n75%    2018.000000    33.759901     3.000000     3.000000     3.000000   \nmax    2020.000000   812.227334     6.000000     6.000000     6.000000   \n\n              지배구조          ROA           ROE        tobinQ     코스피누적수익률  \\\ncount  4648.000000  4648.000000   4648.000000  4.648000e+03  4648.000000   \nmean      3.288511     2.155157      4.121703  9.405814e+03     3.769981   \nstd       0.735831    11.424236    213.647693  1.249672e+05     8.372362   \nmin       1.000000   -95.635348  -2818.284747 -6.131463e+01    -8.843388   \n25%       3.000000     0.175863      0.419832  5.340093e-01    -1.211481   \n50%       3.000000     2.419759      4.715228  8.545047e-01     2.619181   \n75%       4.000000     5.147215      9.179382  1.414875e+00    12.439058   \nmax       6.000000   407.621431  13546.418464  3.053058e+06    17.010852   \n\n               LEV         SIZE  \ncount  4648.000000  4648.000000  \nmean      0.465258    27.019159  \nstd       0.210572     1.847200  \nmin       0.024488    13.060203  \n25%       0.303779    26.030290  \n50%       0.470445    26.891537  \n75%       0.614202    27.879688  \nmax       2.945354    33.566539  ",
      "text/html": "<div>\n<style scoped>\n    .dataframe tbody tr th:only-of-type {\n        vertical-align: middle;\n    }\n\n    .dataframe tbody tr th {\n        vertical-align: top;\n    }\n\n    .dataframe thead th {\n        text-align: right;\n    }\n</style>\n<table border=\"1\" class=\"dataframe\">\n  <thead>\n    <tr style=\"text-align: right;\">\n      <th></th>\n      <th>연도</th>\n      <th>누적수익률</th>\n      <th>종합등급</th>\n      <th>환경</th>\n      <th>사회</th>\n      <th>지배구조</th>\n      <th>ROA</th>\n      <th>ROE</th>\n      <th>tobinQ</th>\n      <th>코스피누적수익률</th>\n      <th>LEV</th>\n      <th>SIZE</th>\n    </tr>\n  </thead>\n  <tbody>\n    <tr>\n      <th>count</th>\n      <td>4648.000000</td>\n      <td>4648.000000</td>\n      <td>4648.000000</td>\n      <td>4648.000000</td>\n      <td>4648.000000</td>\n      <td>4648.000000</td>\n      <td>4648.000000</td>\n      <td>4648.000000</td>\n      <td>4.648000e+03</td>\n      <td>4648.000000</td>\n      <td>4648.000000</td>\n      <td>4648.000000</td>\n    </tr>\n    <tr>\n      <th>mean</th>\n      <td>2016.021084</td>\n      <td>15.934108</td>\n      <td>3.144793</td>\n      <td>2.767212</td>\n      <td>3.291093</td>\n      <td>3.288511</td>\n      <td>2.155157</td>\n      <td>4.121703</td>\n      <td>9.405814e+03</td>\n      <td>3.769981</td>\n      <td>0.465258</td>\n      <td>27.019159</td>\n    </tr>\n    <tr>\n      <th>std</th>\n      <td>2.686309</td>\n      <td>70.863531</td>\n      <td>0.692042</td>\n      <td>0.931033</td>\n      <td>0.821640</td>\n      <td>0.735831</td>\n      <td>11.424236</td>\n      <td>213.647693</td>\n      <td>1.249672e+05</td>\n      <td>8.372362</td>\n      <td>0.210572</td>\n      <td>1.847200</td>\n    </tr>\n    <tr>\n      <th>min</th>\n      <td>2011.000000</td>\n      <td>-97.254766</td>\n      <td>1.000000</td>\n      <td>1.000000</td>\n      <td>1.000000</td>\n      <td>1.000000</td>\n      <td>-95.635348</td>\n      <td>-2818.284747</td>\n      <td>-6.131463e+01</td>\n      <td>-8.843388</td>\n      <td>0.024488</td>\n      <td>13.060203</td>\n    </tr>\n    <tr>\n      <th>25%</th>\n      <td>2014.000000</td>\n      <td>-23.425276</td>\n      <td>3.000000</td>\n      <td>2.000000</td>\n      <td>3.000000</td>\n      <td>3.000000</td>\n      <td>0.175863</td>\n      <td>0.419832</td>\n      <td>5.340093e-01</td>\n      <td>-1.211481</td>\n      <td>0.303779</td>\n      <td>26.030290</td>\n    </tr>\n    <tr>\n      <th>50%</th>\n      <td>2016.000000</td>\n      <td>-0.541971</td>\n      <td>3.000000</td>\n      <td>3.000000</td>\n      <td>3.000000</td>\n      <td>3.000000</td>\n      <td>2.419759</td>\n      <td>4.715228</td>\n      <td>8.545047e-01</td>\n      <td>2.619181</td>\n      <td>0.470445</td>\n      <td>26.891537</td>\n    </tr>\n    <tr>\n      <th>75%</th>\n      <td>2018.000000</td>\n      <td>33.759901</td>\n      <td>3.000000</td>\n      <td>3.000000</td>\n      <td>3.000000</td>\n      <td>4.000000</td>\n      <td>5.147215</td>\n      <td>9.179382</td>\n      <td>1.414875e+00</td>\n      <td>12.439058</td>\n      <td>0.614202</td>\n      <td>27.879688</td>\n    </tr>\n    <tr>\n      <th>max</th>\n      <td>2020.000000</td>\n      <td>812.227334</td>\n      <td>6.000000</td>\n      <td>6.000000</td>\n      <td>6.000000</td>\n      <td>6.000000</td>\n      <td>407.621431</td>\n      <td>13546.418464</td>\n      <td>3.053058e+06</td>\n      <td>17.010852</td>\n      <td>2.945354</td>\n      <td>33.566539</td>\n    </tr>\n  </tbody>\n</table>\n</div>"
     },
     "execution_count": 145,
     "metadata": {},
     "output_type": "execute_result"
    }
   ],
   "source": [
    "final_df.describe()"
   ],
   "metadata": {
    "collapsed": false,
    "pycharm": {
     "name": "#%%\n"
    }
   }
  },
  {
   "cell_type": "markdown",
   "source": [
    "### 이상치 제거하기"
   ],
   "metadata": {
    "collapsed": false,
    "pycharm": {
     "name": "#%% md\n"
    }
   }
  },
  {
   "cell_type": "code",
   "execution_count": 146,
   "outputs": [],
   "source": [
    "final_df.reset_index(drop=True, inplace=True)"
   ],
   "metadata": {
    "collapsed": false,
    "pycharm": {
     "name": "#%%\n"
    }
   }
  },
  {
   "cell_type": "code",
   "execution_count": 147,
   "outputs": [
    {
     "name": "stdout",
     "output_type": "stream",
     "text": [
      "1473\n"
     ]
    }
   ],
   "source": [
    "outlier_cols = ['ROA', 'ROE','tobinQ']\n",
    "total_outliers = []\n",
    "normal_index = []\n",
    "\n",
    "for col in outlier_cols:\n",
    "    outliers_index = outliers_iqr(final_df[col])[0]\n",
    "    total_outliers.append(outliers_index)\n",
    "\n",
    "total_outliers = [val for arr in total_outliers for val in arr]\n",
    "print(len(total_outliers))\n",
    "\n",
    "for i in final_df.index:\n",
    "    if i not in total_outliers:\n",
    "        normal_index.append(i)\n"
   ],
   "metadata": {
    "collapsed": false,
    "pycharm": {
     "name": "#%%\n"
    }
   }
  },
  {
   "cell_type": "code",
   "execution_count": 148,
   "outputs": [
    {
     "data": {
      "text/plain": "                연도        누적수익률         종합등급           환경           사회  \\\ncount  3701.000000  3701.000000  3701.000000  3701.000000  3701.000000   \nmean   2016.059714    12.223573     3.141043     2.780870     3.278573   \nstd       2.654308    54.593147     0.681884     0.921996     0.814031   \nmin    2011.000000   -97.254766     1.000000     1.000000     1.000000   \n25%    2014.000000   -21.747464     3.000000     2.000000     3.000000   \n50%    2016.000000    -0.427299     3.000000     3.000000     3.000000   \n75%    2018.000000    30.631486     3.000000     3.000000     3.000000   \nmax    2020.000000   587.185343     6.000000     6.000000     6.000000   \n\n              지배구조          ROA          ROE       tobinQ     코스피누적수익률  \\\ncount  3701.000000  3701.000000  3701.000000  3701.000000  3701.000000   \nmean      3.289381     2.831842     4.910389     0.891440     3.754504   \nstd       0.724303     3.330064     5.981161     0.533320     8.383863   \nmin       1.000000    -7.020217   -12.693839     0.094004    -8.843388   \n25%       3.000000     0.716239     1.480552     0.495927    -1.211481   \n50%       3.000000     2.585740     4.934787     0.760332     2.619181   \n75%       4.000000     4.923599     8.671294     1.132947    12.439058   \nmax       6.000000    12.594916    22.174749     2.731965    17.010852   \n\n               LEV         SIZE  \ncount  3701.000000  3701.000000  \nmean      0.445936    27.200095  \nstd       0.199001     1.495614  \nmin       0.024488    24.000482  \n25%       0.291332    26.133101  \n50%       0.450099    26.955053  \n75%       0.590914    27.929088  \nmax       2.945354    33.566539  ",
      "text/html": "<div>\n<style scoped>\n    .dataframe tbody tr th:only-of-type {\n        vertical-align: middle;\n    }\n\n    .dataframe tbody tr th {\n        vertical-align: top;\n    }\n\n    .dataframe thead th {\n        text-align: right;\n    }\n</style>\n<table border=\"1\" class=\"dataframe\">\n  <thead>\n    <tr style=\"text-align: right;\">\n      <th></th>\n      <th>연도</th>\n      <th>누적수익률</th>\n      <th>종합등급</th>\n      <th>환경</th>\n      <th>사회</th>\n      <th>지배구조</th>\n      <th>ROA</th>\n      <th>ROE</th>\n      <th>tobinQ</th>\n      <th>코스피누적수익률</th>\n      <th>LEV</th>\n      <th>SIZE</th>\n    </tr>\n  </thead>\n  <tbody>\n    <tr>\n      <th>count</th>\n      <td>3701.000000</td>\n      <td>3701.000000</td>\n      <td>3701.000000</td>\n      <td>3701.000000</td>\n      <td>3701.000000</td>\n      <td>3701.000000</td>\n      <td>3701.000000</td>\n      <td>3701.000000</td>\n      <td>3701.000000</td>\n      <td>3701.000000</td>\n      <td>3701.000000</td>\n      <td>3701.000000</td>\n    </tr>\n    <tr>\n      <th>mean</th>\n      <td>2016.059714</td>\n      <td>12.223573</td>\n      <td>3.141043</td>\n      <td>2.780870</td>\n      <td>3.278573</td>\n      <td>3.289381</td>\n      <td>2.831842</td>\n      <td>4.910389</td>\n      <td>0.891440</td>\n      <td>3.754504</td>\n      <td>0.445936</td>\n      <td>27.200095</td>\n    </tr>\n    <tr>\n      <th>std</th>\n      <td>2.654308</td>\n      <td>54.593147</td>\n      <td>0.681884</td>\n      <td>0.921996</td>\n      <td>0.814031</td>\n      <td>0.724303</td>\n      <td>3.330064</td>\n      <td>5.981161</td>\n      <td>0.533320</td>\n      <td>8.383863</td>\n      <td>0.199001</td>\n      <td>1.495614</td>\n    </tr>\n    <tr>\n      <th>min</th>\n      <td>2011.000000</td>\n      <td>-97.254766</td>\n      <td>1.000000</td>\n      <td>1.000000</td>\n      <td>1.000000</td>\n      <td>1.000000</td>\n      <td>-7.020217</td>\n      <td>-12.693839</td>\n      <td>0.094004</td>\n      <td>-8.843388</td>\n      <td>0.024488</td>\n      <td>24.000482</td>\n    </tr>\n    <tr>\n      <th>25%</th>\n      <td>2014.000000</td>\n      <td>-21.747464</td>\n      <td>3.000000</td>\n      <td>2.000000</td>\n      <td>3.000000</td>\n      <td>3.000000</td>\n      <td>0.716239</td>\n      <td>1.480552</td>\n      <td>0.495927</td>\n      <td>-1.211481</td>\n      <td>0.291332</td>\n      <td>26.133101</td>\n    </tr>\n    <tr>\n      <th>50%</th>\n      <td>2016.000000</td>\n      <td>-0.427299</td>\n      <td>3.000000</td>\n      <td>3.000000</td>\n      <td>3.000000</td>\n      <td>3.000000</td>\n      <td>2.585740</td>\n      <td>4.934787</td>\n      <td>0.760332</td>\n      <td>2.619181</td>\n      <td>0.450099</td>\n      <td>26.955053</td>\n    </tr>\n    <tr>\n      <th>75%</th>\n      <td>2018.000000</td>\n      <td>30.631486</td>\n      <td>3.000000</td>\n      <td>3.000000</td>\n      <td>3.000000</td>\n      <td>4.000000</td>\n      <td>4.923599</td>\n      <td>8.671294</td>\n      <td>1.132947</td>\n      <td>12.439058</td>\n      <td>0.590914</td>\n      <td>27.929088</td>\n    </tr>\n    <tr>\n      <th>max</th>\n      <td>2020.000000</td>\n      <td>587.185343</td>\n      <td>6.000000</td>\n      <td>6.000000</td>\n      <td>6.000000</td>\n      <td>6.000000</td>\n      <td>12.594916</td>\n      <td>22.174749</td>\n      <td>2.731965</td>\n      <td>17.010852</td>\n      <td>2.945354</td>\n      <td>33.566539</td>\n    </tr>\n  </tbody>\n</table>\n</div>"
     },
     "execution_count": 148,
     "metadata": {},
     "output_type": "execute_result"
    }
   ],
   "source": [
    "final_df_clean = final_df.loc[normal_index]\n",
    "final_df_clean.describe()"
   ],
   "metadata": {
    "collapsed": false,
    "pycharm": {
     "name": "#%%\n"
    }
   }
  },
  {
   "cell_type": "markdown",
   "source": [
    "### 회귀분석 (데이터 이상치 제거후)"
   ],
   "metadata": {
    "collapsed": false,
    "pycharm": {
     "name": "#%% md\n"
    }
   }
  },
  {
   "cell_type": "code",
   "execution_count": 158,
   "outputs": [
    {
     "name": "stdout",
     "output_type": "stream",
     "text": [
      "                            OLS Regression Results                            \n",
      "==============================================================================\n",
      "Dep. Variable:                    ROA   R-squared:                       0.884\n",
      "Model:                            OLS   Adj. R-squared:                  0.884\n",
      "Method:                 Least Squares   F-statistic:                     4030.\n",
      "Date:                Sun, 15 May 2022   Prob (F-statistic):               0.00\n",
      "Time:                        18:44:39   Log-Likelihood:                -5713.2\n",
      "No. Observations:                3701   AIC:                         1.144e+04\n",
      "Df Residuals:                    3693   BIC:                         1.149e+04\n",
      "Df Model:                           7                                         \n",
      "Covariance Type:            nonrobust                                         \n",
      "==============================================================================\n",
      "                 coef    std err          t      P>|t|      [0.025      0.975]\n",
      "------------------------------------------------------------------------------\n",
      "Intercept      0.8738      0.401      2.179      0.029       0.087       1.660\n",
      "환경             0.0628      0.023      2.720      0.007       0.018       0.108\n",
      "사회            -0.0343      0.033     -1.045      0.296      -0.099       0.030\n",
      "지배구조           0.0357      0.033      1.074      0.283      -0.029       0.101\n",
      "ROE            0.4866      0.003    149.243      0.000       0.480       0.493\n",
      "tobinQ         0.1684      0.037      4.522      0.000       0.095       0.241\n",
      "LEV           -4.3197      0.099    -43.561      0.000      -4.514      -4.125\n",
      "SIZE           0.0428      0.017      2.494      0.013       0.009       0.076\n",
      "==============================================================================\n",
      "Omnibus:                      876.436   Durbin-Watson:                   1.299\n",
      "Prob(Omnibus):                  0.000   Jarque-Bera (JB):            18073.917\n",
      "Skew:                           0.605   Prob(JB):                         0.00\n",
      "Kurtosis:                      13.758   Cond. No.                         610.\n",
      "==============================================================================\n",
      "\n",
      "Notes:\n",
      "[1] Standard Errors assume that the covariance matrix of the errors is correctly specified.\n"
     ]
    }
   ],
   "source": [
    "res = ols('ROA ~ 환경+사회+지배구조+ROE+tobinQ+LEV+SIZE', data=final_df_clean).fit()\n",
    "print(res.summary())"
   ],
   "metadata": {
    "collapsed": false,
    "pycharm": {
     "name": "#%%\n"
    }
   }
  },
  {
   "cell_type": "code",
   "execution_count": 163,
   "outputs": [
    {
     "name": "stdout",
     "output_type": "stream",
     "text": [
      "                            OLS Regression Results                            \n",
      "==============================================================================\n",
      "Dep. Variable:                    ROE   R-squared:                       0.822\n",
      "Model:                            OLS   Adj. R-squared:                  0.822\n",
      "Method:                 Least Squares   F-statistic:                     2851.\n",
      "Date:                Sun, 15 May 2022   Prob (F-statistic):               0.00\n",
      "Time:                        18:45:55   Log-Likelihood:                -8672.4\n",
      "No. Observations:                3701   AIC:                         1.736e+04\n",
      "Df Residuals:                    3694   BIC:                         1.740e+04\n",
      "Df Model:                           6                                         \n",
      "Covariance Type:            nonrobust                                         \n",
      "==============================================================================\n",
      "                 coef    std err          t      P>|t|      [0.025      0.975]\n",
      "------------------------------------------------------------------------------\n",
      "Intercept     55.4284     31.985      1.733      0.083      -7.282     118.139\n",
      "환경            -0.0667      0.051     -1.304      0.192      -0.167       0.034\n",
      "사회             0.1854      0.068      2.726      0.006       0.052       0.319\n",
      "지배구조           0.1140      0.072      1.584      0.113      -0.027       0.255\n",
      "연도            -0.0278      0.016     -1.755      0.079      -0.059       0.003\n",
      "ROA            1.6151      0.013    125.778      0.000       1.590       1.640\n",
      "tobinQ         0.2738      0.080      3.427      0.001       0.117       0.430\n",
      "==============================================================================\n",
      "Omnibus:                      878.291   Durbin-Watson:                   1.154\n",
      "Prob(Omnibus):                  0.000   Jarque-Bera (JB):             4072.708\n",
      "Skew:                           1.070   Prob(JB):                         0.00\n",
      "Kurtosis:                       7.672   Cond. No.                     1.56e+06\n",
      "==============================================================================\n",
      "\n",
      "Notes:\n",
      "[1] Standard Errors assume that the covariance matrix of the errors is correctly specified.\n",
      "[2] The condition number is large, 1.56e+06. This might indicate that there are\n",
      "strong multicollinearity or other numerical problems.\n"
     ]
    }
   ],
   "source": [
    "res = ols('ROE ~ 환경+사회+지배구조+연도+ROA+tobinQ', data=final_df_clean).fit()\n",
    "print(res.summary())"
   ],
   "metadata": {
    "collapsed": false,
    "pycharm": {
     "name": "#%%\n"
    }
   }
  },
  {
   "cell_type": "code",
   "execution_count": 167,
   "outputs": [
    {
     "name": "stdout",
     "output_type": "stream",
     "text": [
      "                            OLS Regression Results                            \n",
      "==============================================================================\n",
      "Dep. Variable:                 tobinQ   R-squared:                       0.198\n",
      "Model:                            OLS   Adj. R-squared:                  0.197\n",
      "Method:                 Least Squares   F-statistic:                     114.2\n",
      "Date:                Sun, 15 May 2022   Prob (F-statistic):          3.90e-171\n",
      "Time:                        18:46:50   Log-Likelihood:                -2515.1\n",
      "No. Observations:                3701   AIC:                             5048.\n",
      "Df Residuals:                    3692   BIC:                             5104.\n",
      "Df Model:                           8                                         \n",
      "Covariance Type:            nonrobust                                         \n",
      "==============================================================================\n",
      "                 coef    std err          t      P>|t|      [0.025      0.975]\n",
      "------------------------------------------------------------------------------\n",
      "Intercept    -34.2944      6.298     -5.445      0.000     -46.642     -21.947\n",
      "환경             0.0312      0.010      3.177      0.002       0.012       0.051\n",
      "사회             0.1137      0.014      8.285      0.000       0.087       0.141\n",
      "지배구조           0.0680      0.014      4.852      0.000       0.041       0.095\n",
      "연도             0.0185      0.003      5.902      0.000       0.012       0.025\n",
      "누적수익률          0.0028      0.000     18.521      0.000       0.003       0.003\n",
      "ROA            0.0345      0.003     13.296      0.000       0.029       0.040\n",
      "LEV            0.3521      0.045      7.885      0.000       0.265       0.440\n",
      "SIZE          -0.1119      0.007    -15.782      0.000      -0.126      -0.098\n",
      "==============================================================================\n",
      "Omnibus:                      682.215   Durbin-Watson:                   0.676\n",
      "Prob(Omnibus):                  0.000   Jarque-Bera (JB):             1195.405\n",
      "Skew:                           1.179   Prob(JB):                    2.64e-260\n",
      "Kurtosis:                       4.480   Cond. No.                     1.62e+06\n",
      "==============================================================================\n",
      "\n",
      "Notes:\n",
      "[1] Standard Errors assume that the covariance matrix of the errors is correctly specified.\n",
      "[2] The condition number is large, 1.62e+06. This might indicate that there are\n",
      "strong multicollinearity or other numerical problems.\n"
     ]
    }
   ],
   "source": [
    "res = ols('tobinQ ~ 환경+사회+지배구조+연도+누적수익률+ROA+LEV+SIZE', data=final_df_clean).fit()\n",
    "print(res.summary())"
   ],
   "metadata": {
    "collapsed": false,
    "pycharm": {
     "name": "#%%\n"
    }
   }
  },
  {
   "cell_type": "code",
   "execution_count": null,
   "outputs": [],
   "source": [],
   "metadata": {
    "collapsed": false,
    "pycharm": {
     "name": "#%%\n"
    }
   }
  }
 ],
 "metadata": {
  "kernelspec": {
   "display_name": "Python 3",
   "language": "python",
   "name": "python3"
  },
  "language_info": {
   "codemirror_mode": {
    "name": "ipython",
    "version": 2
   },
   "file_extension": ".py",
   "mimetype": "text/x-python",
   "name": "python",
   "nbconvert_exporter": "python",
   "pygments_lexer": "ipython2",
   "version": "2.7.6"
  }
 },
 "nbformat": 4,
 "nbformat_minor": 0
}