{
 "cells": [
  {
   "cell_type": "code",
   "execution_count": 99,
   "outputs": [],
   "source": [
    "import numpy as np\n",
    "import pandas as pd\n",
    "import matplotlib.pyplot as plt\n",
    "import matplotlib as mpl\n",
    "from sklearn.utils import shuffle\n",
    "import matplotlib.font_manager as fm\n",
    "import seaborn as sns\n",
    "import warnings\n",
    "warnings.filterwarnings('ignore')\n",
    "%matplotlib inline"
   ],
   "metadata": {
    "collapsed": false,
    "pycharm": {
     "name": "#%%\n"
    }
   }
  },
  {
   "cell_type": "code",
   "execution_count": 100,
   "outputs": [],
   "source": [
    "def downsampling_data(df, target, val):\n",
    "    desired_apriori=0.5\n",
    "\n",
    "    # Get the indices per target value\n",
    "    idx_val = df[df[target] == val].index\n",
    "    idx_remain = df[df[target] != val].index\n",
    "\n",
    "    remain = len(idx_remain)\n",
    "\n",
    "    # Get original number of records per target value\n",
    "    nb_val = len(df.loc[idx_val])\n",
    "\n",
    "    # Calculate the undersampling rate and resulting number of records with target=0\n",
    "    undersampling_rate = ((1-desired_apriori)*remain)/(nb_val*desired_apriori)\n",
    "    undersampled_nb_val = int(undersampling_rate*nb_val)\n",
    "    print('Rate to undersample records with target=0: {}'.format(undersampling_rate))\n",
    "    print('Number of records with target=B after undersampling: {}'.format(undersampled_nb_val))\n",
    "\n",
    "    # Randomly select records with target=0 to get at the desired a priori\n",
    "    undersampled_idx = shuffle(idx_val, random_state=37, n_samples=undersampled_nb_val)\n",
    "\n",
    "    # Construct list with remaining indices\n",
    "    idx_list = list(undersampled_idx) + list(idx_remain)\n",
    "\n",
    "    downsampled_df = df.loc[idx_list].reset_index(drop=True)\n",
    "\n",
    "    return downsampled_df"
   ],
   "metadata": {
    "collapsed": false,
    "pycharm": {
     "name": "#%%\n"
    }
   }
  },
  {
   "cell_type": "code",
   "execution_count": 127,
   "outputs": [],
   "source": [
    "## 이상치 제거\n",
    "def outliers_iqr(data):\n",
    "    q1 = np.quantile(data, 0.25)\n",
    "    q3 = np.quantile(data, 0.75)\n",
    "    # 넘파이 값을 퍼센트로 표시해주는 함수\n",
    "    iqr = q3 - q1\n",
    "    lower_bound = q1 - (iqr * 1.5)\n",
    "    upper_bound = q3 + (iqr * 1.5)\n",
    "\n",
    "    return np.where((data > upper_bound) | (data < lower_bound))"
   ],
   "metadata": {
    "collapsed": false,
    "pycharm": {
     "name": "#%%\n"
    }
   }
  },
  {
   "cell_type": "markdown",
   "source": [
    "### OLS를 활용해 회귀분석"
   ],
   "metadata": {
    "collapsed": false,
    "pycharm": {
     "name": "#%% md\n"
    }
   }
  },
  {
   "cell_type": "code",
   "execution_count": 102,
   "outputs": [],
   "source": [
    "import warnings\n",
    "warnings.filterwarnings('ignore')"
   ],
   "metadata": {
    "collapsed": false,
    "pycharm": {
     "name": "#%%\n"
    }
   }
  },
  {
   "cell_type": "code",
   "execution_count": 103,
   "outputs": [],
   "source": [
    "jasan_df = pd.read_csv('./data/자산총계_최종.csv', index_col=0, dtype={'corp_code':'str', 'stock_code':'str'})\n",
    "buchae_df = pd.read_csv('./data/부채총계_최종.csv', index_col=0, dtype={'corp_code':'str', 'stock_code':'str'})\n",
    "jabon_df = pd.read_csv('./data/자본총계_최종.csv', index_col=0, dtype={'corp_code':'str', 'stock_code':'str'})\n",
    "siga_df = pd.read_csv('./data/시가총액/시가총액_연평균.csv', index_col=0, dtype={'corp_code':'str', 'stock_code':'str'})\n",
    "LEV = pd.read_csv('./data/LEV.csv', index_col=0, dtype={'corp_code':'str', 'stock_code':'str'})"
   ],
   "metadata": {
    "collapsed": false,
    "pycharm": {
     "name": "#%%\n"
    }
   }
  },
  {
   "cell_type": "code",
   "execution_count": 104,
   "outputs": [],
   "source": [
    "LEV = pd.DataFrame()\n",
    "for name in jasan_df['corp_name']:\n",
    "    na_cnt =  jasan_df[jasan_df.corp_name == name].isnull().sum(axis=1).values[0]\n",
    "\n",
    "    if na_cnt == 0:\n",
    "        lev = buchae_df[buchae_df.corp_name == name].iloc[:, 4:].values / jasan_df[jasan_df.corp_name == name].iloc[:, 4:].values\n",
    "        lev = pd.DataFrame(lev, columns = jasan_df.columns[4:])\n",
    "    else:\n",
    "        lev = buchae_df[buchae_df.corp_name == name].iloc[:, 4:-na_cnt].values / jasan_df[jasan_df.corp_name == name].iloc[:, 4:-na_cnt].values\n",
    "        lev = pd.DataFrame(lev, columns = jasan_df.columns[4:-na_cnt])\n",
    "\n",
    "    lev.insert(0, '종목명', name)\n",
    "    LEV = pd.concat([LEV, lev])\n",
    "LEV.reset_index(drop=True, inplace=True)"
   ],
   "metadata": {
    "collapsed": false,
    "pycharm": {
     "name": "#%%\n"
    }
   }
  },
  {
   "cell_type": "code",
   "execution_count": 105,
   "outputs": [],
   "source": [
    "LEV_df = pd.DataFrame()\n",
    "for i in LEV.columns[2:]:\n",
    "    lev = LEV[['종목명', i]]\n",
    "    lev.columns = ['종목명', 'LEV']\n",
    "    lev['연도'] = i\n",
    "    LEV_df = pd.concat([LEV_df, lev])"
   ],
   "metadata": {
    "collapsed": false,
    "pycharm": {
     "name": "#%%\n"
    }
   }
  },
  {
   "cell_type": "code",
   "execution_count": 106,
   "outputs": [],
   "source": [
    "SIZE = np.log(jasan_df.iloc[:, 4:])\n",
    "SIZE = pd.concat([jasan_df[['corp_name', 'stock_code']], SIZE], axis=1)\n",
    "SIZE_df = pd.DataFrame()\n",
    "\n",
    "for i in SIZE.columns[2:]:\n",
    "    size = SIZE[['stock_code', 'corp_name', i]]\n",
    "    size.columns = ['기업코드', '종목명', 'SIZE']\n",
    "    size['연도'] = i\n",
    "    SIZE_df = pd.concat([SIZE_df, size])"
   ],
   "metadata": {
    "collapsed": false,
    "pycharm": {
     "name": "#%%\n"
    }
   }
  },
  {
   "cell_type": "markdown",
   "source": [
    "### 전처리"
   ],
   "metadata": {
    "collapsed": false,
    "pycharm": {
     "name": "#%% md\n"
    }
   }
  },
  {
   "cell_type": "code",
   "execution_count": 107,
   "outputs": [],
   "source": [
    "final_df = pd.read_csv('./data/최종데이터/최종데이터_ESG환산.csv', index_col=0)"
   ],
   "metadata": {
    "collapsed": false,
    "pycharm": {
     "name": "#%%\n"
    }
   }
  },
  {
   "cell_type": "code",
   "execution_count": 108,
   "outputs": [],
   "source": [
    "final_df = final_df.replace(\"A+\", 6).replace(\"A\", 5).replace(\"B+\", 4).replace(\"B\", 3).replace(\"C\", 2).replace(\"D\", 1).replace(\"E\", np.NaN)"
   ],
   "metadata": {
    "collapsed": false,
    "pycharm": {
     "name": "#%%\n"
    }
   }
  },
  {
   "cell_type": "code",
   "execution_count": 109,
   "outputs": [],
   "source": [
    "LEV_df['연도'] = LEV_df['연도'].astype('int64')\n",
    "SIZE_df['연도'] = SIZE_df['연도'].astype('int64')"
   ],
   "metadata": {
    "collapsed": false,
    "pycharm": {
     "name": "#%%\n"
    }
   }
  },
  {
   "cell_type": "code",
   "execution_count": 110,
   "outputs": [
    {
     "data": {
      "text/plain": "       종목명       LEV    연도\n0   지역난방공사  0.702998  2020\n1  아시아나IDT  0.364363  2020\n2     현대약품  0.427684  2020\n3     코스맥스  0.771329  2020\n4     경인양행  0.547850  2020",
      "text/html": "<div>\n<style scoped>\n    .dataframe tbody tr th:only-of-type {\n        vertical-align: middle;\n    }\n\n    .dataframe tbody tr th {\n        vertical-align: top;\n    }\n\n    .dataframe thead th {\n        text-align: right;\n    }\n</style>\n<table border=\"1\" class=\"dataframe\">\n  <thead>\n    <tr style=\"text-align: right;\">\n      <th></th>\n      <th>종목명</th>\n      <th>LEV</th>\n      <th>연도</th>\n    </tr>\n  </thead>\n  <tbody>\n    <tr>\n      <th>0</th>\n      <td>지역난방공사</td>\n      <td>0.702998</td>\n      <td>2020</td>\n    </tr>\n    <tr>\n      <th>1</th>\n      <td>아시아나IDT</td>\n      <td>0.364363</td>\n      <td>2020</td>\n    </tr>\n    <tr>\n      <th>2</th>\n      <td>현대약품</td>\n      <td>0.427684</td>\n      <td>2020</td>\n    </tr>\n    <tr>\n      <th>3</th>\n      <td>코스맥스</td>\n      <td>0.771329</td>\n      <td>2020</td>\n    </tr>\n    <tr>\n      <th>4</th>\n      <td>경인양행</td>\n      <td>0.547850</td>\n      <td>2020</td>\n    </tr>\n  </tbody>\n</table>\n</div>"
     },
     "execution_count": 110,
     "metadata": {},
     "output_type": "execute_result"
    }
   ],
   "source": [
    "LEV_df.head()"
   ],
   "metadata": {
    "collapsed": false,
    "pycharm": {
     "name": "#%%\n"
    }
   }
  },
  {
   "cell_type": "code",
   "execution_count": 111,
   "outputs": [],
   "source": [
    "final_df = pd.merge(final_df, LEV_df[['종목명', '연도', 'LEV']], on=['종목명', '연도'])\n",
    "final_df = pd.merge(final_df, SIZE_df[['종목명', '연도', 'SIZE']], on=['종목명', '연도'])"
   ],
   "metadata": {
    "collapsed": false,
    "pycharm": {
     "name": "#%%\n"
    }
   }
  },
  {
   "cell_type": "code",
   "execution_count": 112,
   "outputs": [],
   "source": [
    "final_df.dropna(axis=0, inplace=True)\n",
    "final_df = final_df[final_df['누적수익률'] != 'np.NAN']\n",
    "final_df['누적수익률'] = final_df['누적수익률'].astype('float')"
   ],
   "metadata": {
    "collapsed": false,
    "pycharm": {
     "name": "#%%\n"
    }
   }
  },
  {
   "cell_type": "code",
   "execution_count": 113,
   "outputs": [
    {
     "data": {
      "text/plain": "         종목명    연도       누적수익률  종합등급   환경   사회  지배구조        ROA        ROE  \\\n1     AJ네트웍스  2016  -16.696604   3.0  2.0  3.0   3.0   0.820595   3.995265   \n2     AJ네트웍스  2017  -21.116001   3.0  3.0  3.0   3.0   0.877023   4.617270   \n3     AJ네트웍스  2018  -15.324073   3.0  2.0  3.0   3.0   1.447255   7.577926   \n4     AJ네트웍스  2019  -27.945367   3.0  1.0  3.0   3.0   2.336252  12.128881   \n5     AJ네트웍스  2020  -37.503193   3.0  1.0  3.0   3.0  -0.208845  -1.151640   \n...      ...   ...         ...   ...  ...  ...   ...        ...        ...   \n5740      후성  2016   92.884451   3.0  3.0  3.0   4.0  19.759910  38.586363   \n5741      후성  2017  132.717768   3.0  2.0  3.0   4.0   8.928117  13.509607   \n5742      후성  2018   59.411275   3.0  3.0  3.0   4.0   6.353841  11.426047   \n5743      후성  2019   -8.495724   3.0  3.0  2.0   3.0   0.038912   0.084715   \n5744      후성  2020  -14.159244   2.0  3.0  2.0   2.0   0.490757   1.081137   \n\n        tobinQ   코스피누적수익률       LEV       SIZE  \n1     0.756037   0.244437  0.794608  28.364022  \n2     0.719738  14.838077  0.810056  28.487236  \n3     0.574388  17.010852  0.809017  28.576925  \n4     0.651385  -8.843388  0.807381  28.220615  \n5     0.556895  -4.513591  0.818654  28.093604  \n...        ...        ...       ...        ...  \n5740  3.582117   0.244437  0.487904  26.462838  \n5741  4.251250  14.838077  0.339128  26.479372  \n5742  3.626249  17.010852  0.443916  26.813401  \n5743  3.073370  -8.843388  0.540669  26.994080  \n5744  3.307261  -4.513591  0.546074  27.015036  \n\n[4648 rows x 13 columns]",
      "text/html": "<div>\n<style scoped>\n    .dataframe tbody tr th:only-of-type {\n        vertical-align: middle;\n    }\n\n    .dataframe tbody tr th {\n        vertical-align: top;\n    }\n\n    .dataframe thead th {\n        text-align: right;\n    }\n</style>\n<table border=\"1\" class=\"dataframe\">\n  <thead>\n    <tr style=\"text-align: right;\">\n      <th></th>\n      <th>종목명</th>\n      <th>연도</th>\n      <th>누적수익률</th>\n      <th>종합등급</th>\n      <th>환경</th>\n      <th>사회</th>\n      <th>지배구조</th>\n      <th>ROA</th>\n      <th>ROE</th>\n      <th>tobinQ</th>\n      <th>코스피누적수익률</th>\n      <th>LEV</th>\n      <th>SIZE</th>\n    </tr>\n  </thead>\n  <tbody>\n    <tr>\n      <th>1</th>\n      <td>AJ네트웍스</td>\n      <td>2016</td>\n      <td>-16.696604</td>\n      <td>3.0</td>\n      <td>2.0</td>\n      <td>3.0</td>\n      <td>3.0</td>\n      <td>0.820595</td>\n      <td>3.995265</td>\n      <td>0.756037</td>\n      <td>0.244437</td>\n      <td>0.794608</td>\n      <td>28.364022</td>\n    </tr>\n    <tr>\n      <th>2</th>\n      <td>AJ네트웍스</td>\n      <td>2017</td>\n      <td>-21.116001</td>\n      <td>3.0</td>\n      <td>3.0</td>\n      <td>3.0</td>\n      <td>3.0</td>\n      <td>0.877023</td>\n      <td>4.617270</td>\n      <td>0.719738</td>\n      <td>14.838077</td>\n      <td>0.810056</td>\n      <td>28.487236</td>\n    </tr>\n    <tr>\n      <th>3</th>\n      <td>AJ네트웍스</td>\n      <td>2018</td>\n      <td>-15.324073</td>\n      <td>3.0</td>\n      <td>2.0</td>\n      <td>3.0</td>\n      <td>3.0</td>\n      <td>1.447255</td>\n      <td>7.577926</td>\n      <td>0.574388</td>\n      <td>17.010852</td>\n      <td>0.809017</td>\n      <td>28.576925</td>\n    </tr>\n    <tr>\n      <th>4</th>\n      <td>AJ네트웍스</td>\n      <td>2019</td>\n      <td>-27.945367</td>\n      <td>3.0</td>\n      <td>1.0</td>\n      <td>3.0</td>\n      <td>3.0</td>\n      <td>2.336252</td>\n      <td>12.128881</td>\n      <td>0.651385</td>\n      <td>-8.843388</td>\n      <td>0.807381</td>\n      <td>28.220615</td>\n    </tr>\n    <tr>\n      <th>5</th>\n      <td>AJ네트웍스</td>\n      <td>2020</td>\n      <td>-37.503193</td>\n      <td>3.0</td>\n      <td>1.0</td>\n      <td>3.0</td>\n      <td>3.0</td>\n      <td>-0.208845</td>\n      <td>-1.151640</td>\n      <td>0.556895</td>\n      <td>-4.513591</td>\n      <td>0.818654</td>\n      <td>28.093604</td>\n    </tr>\n    <tr>\n      <th>...</th>\n      <td>...</td>\n      <td>...</td>\n      <td>...</td>\n      <td>...</td>\n      <td>...</td>\n      <td>...</td>\n      <td>...</td>\n      <td>...</td>\n      <td>...</td>\n      <td>...</td>\n      <td>...</td>\n      <td>...</td>\n      <td>...</td>\n    </tr>\n    <tr>\n      <th>5740</th>\n      <td>후성</td>\n      <td>2016</td>\n      <td>92.884451</td>\n      <td>3.0</td>\n      <td>3.0</td>\n      <td>3.0</td>\n      <td>4.0</td>\n      <td>19.759910</td>\n      <td>38.586363</td>\n      <td>3.582117</td>\n      <td>0.244437</td>\n      <td>0.487904</td>\n      <td>26.462838</td>\n    </tr>\n    <tr>\n      <th>5741</th>\n      <td>후성</td>\n      <td>2017</td>\n      <td>132.717768</td>\n      <td>3.0</td>\n      <td>2.0</td>\n      <td>3.0</td>\n      <td>4.0</td>\n      <td>8.928117</td>\n      <td>13.509607</td>\n      <td>4.251250</td>\n      <td>14.838077</td>\n      <td>0.339128</td>\n      <td>26.479372</td>\n    </tr>\n    <tr>\n      <th>5742</th>\n      <td>후성</td>\n      <td>2018</td>\n      <td>59.411275</td>\n      <td>3.0</td>\n      <td>3.0</td>\n      <td>3.0</td>\n      <td>4.0</td>\n      <td>6.353841</td>\n      <td>11.426047</td>\n      <td>3.626249</td>\n      <td>17.010852</td>\n      <td>0.443916</td>\n      <td>26.813401</td>\n    </tr>\n    <tr>\n      <th>5743</th>\n      <td>후성</td>\n      <td>2019</td>\n      <td>-8.495724</td>\n      <td>3.0</td>\n      <td>3.0</td>\n      <td>2.0</td>\n      <td>3.0</td>\n      <td>0.038912</td>\n      <td>0.084715</td>\n      <td>3.073370</td>\n      <td>-8.843388</td>\n      <td>0.540669</td>\n      <td>26.994080</td>\n    </tr>\n    <tr>\n      <th>5744</th>\n      <td>후성</td>\n      <td>2020</td>\n      <td>-14.159244</td>\n      <td>2.0</td>\n      <td>3.0</td>\n      <td>2.0</td>\n      <td>2.0</td>\n      <td>0.490757</td>\n      <td>1.081137</td>\n      <td>3.307261</td>\n      <td>-4.513591</td>\n      <td>0.546074</td>\n      <td>27.015036</td>\n    </tr>\n  </tbody>\n</table>\n<p>4648 rows × 13 columns</p>\n</div>"
     },
     "execution_count": 113,
     "metadata": {},
     "output_type": "execute_result"
    }
   ],
   "source": [
    "final_df"
   ],
   "metadata": {
    "collapsed": false,
    "pycharm": {
     "name": "#%%\n"
    }
   }
  },
  {
   "cell_type": "markdown",
   "source": [
    "### 상관계수"
   ],
   "metadata": {
    "collapsed": false,
    "pycharm": {
     "name": "#%% md\n"
    }
   }
  },
  {
   "cell_type": "code",
   "execution_count": 115,
   "outputs": [],
   "source": [
    "import warnings\n",
    "warnings.filterwarnings(\"ignore\")\n",
    "\n",
    "import matplotlib.pyplot as plt\n",
    "import seaborn as sns\n",
    "\n",
    "plt.rcParams['font.family'] = 'Malgun Gothic'\n",
    "plt.rcParams['axes.unicode_minus'] =False"
   ],
   "metadata": {
    "collapsed": false,
    "pycharm": {
     "name": "#%%\n"
    }
   }
  },
  {
   "cell_type": "code",
   "execution_count": 116,
   "outputs": [
    {
     "data": {
      "text/plain": "<AxesSubplot:>"
     },
     "execution_count": 116,
     "metadata": {},
     "output_type": "execute_result"
    },
    {
     "data": {
      "text/plain": "<Figure size 432x288 with 2 Axes>",
      "image/png": "[encoded data removed]"
     },
     "metadata": {
      "needs_background": "light"
     },
     "output_type": "display_data"
    }
   ],
   "source": [
    "sns.heatmap(final_df.corr(), annot=True, annot_kws=dict(color='g'), cmap='Greys')\n"
   ],
   "metadata": {
    "collapsed": false,
    "pycharm": {
     "name": "#%%\n"
    }
   }
  },
  {
   "cell_type": "markdown",
   "source": [
    "### 회귀분석"
   ],
   "metadata": {
    "collapsed": false,
    "pycharm": {
     "name": "#%% md\n"
    }
   }
  },
  {
   "cell_type": "code",
   "execution_count": 117,
   "outputs": [
    {
     "data": {
      "text/plain": "Index(['종목명', '연도', '누적수익률', '종합등급', '환경', '사회', '지배구조', 'ROA', 'ROE',\n       'tobinQ', '코스피누적수익률', 'LEV', 'SIZE'],\n      dtype='object')"
     },
     "execution_count": 117,
     "metadata": {},
     "output_type": "execute_result"
    }
   ],
   "source": [
    "final_df.columns"
   ],
   "metadata": {
    "collapsed": false,
    "pycharm": {
     "name": "#%%\n"
    }
   }
  },
  {
   "cell_type": "code",
   "execution_count": 153,
   "outputs": [],
   "source": [
    "from statsmodels.formula.api import ols"
   ],
   "metadata": {
    "collapsed": false,
    "pycharm": {
     "name": "#%%\n"
    }
   }
  },
  {
   "cell_type": "code",
   "execution_count": 152,
   "outputs": [
    {
     "name": "stdout",
     "output_type": "stream",
     "text": [
      "                            OLS Regression Results                            \n",
      "==============================================================================\n",
      "Dep. Variable:                    ROA   R-squared:                       0.080\n",
      "Model:                            OLS   Adj. R-squared:                  0.079\n",
      "Method:                 Least Squares   F-statistic:                     63.56\n",
      "Date:                Sat, 14 May 2022   Prob (F-statistic):           9.45e-64\n",
      "Time:                        20:28:25   Log-Likelihood:                -13778.\n",
      "No. Observations:                3640   AIC:                         2.757e+04\n",
      "Df Residuals:                    3634   BIC:                         2.761e+04\n",
      "Df Model:                           5                                         \n",
      "Covariance Type:            nonrobust                                         \n",
      "==============================================================================\n",
      "                 coef    std err          t      P>|t|      [0.025      0.975]\n",
      "------------------------------------------------------------------------------\n",
      "Intercept    565.9698    135.471      4.178      0.000     300.364     831.576\n",
      "연도            -0.2882      0.067     -4.279      0.000      -0.420      -0.156\n",
      "LEV          -13.7319      0.847    -16.204      0.000     -15.393     -12.070\n",
      "SIZE           0.8759      0.110      7.937      0.000       0.660       1.092\n",
      "ROE            0.0039      0.001      5.176      0.000       0.002       0.005\n",
      "tobinQ      7.507e-06   1.48e-06      5.087      0.000    4.61e-06    1.04e-05\n",
      "==============================================================================\n",
      "Omnibus:                     7614.337   Durbin-Watson:                   1.756\n",
      "Prob(Omnibus):                  0.000   Jarque-Bera (JB):         58036205.983\n",
      "Skew:                          17.335   Prob(JB):                         0.00\n",
      "Kurtosis:                     620.620   Cond. No.                     1.03e+08\n",
      "==============================================================================\n",
      "\n",
      "Notes:\n",
      "[1] Standard Errors assume that the covariance matrix of the errors is correctly specified.\n",
      "[2] The condition number is large, 1.03e+08. This might indicate that there are\n",
      "strong multicollinearity or other numerical problems.\n"
     ]
    }
   ],
   "source": [
    "res = ols('ROA ~ 연도+LEV+SIZE+ROE+tobinQ', data=final_df).fit()\n",
    "print(res.summary())"
   ],
   "metadata": {
    "collapsed": false,
    "pycharm": {
     "name": "#%%\n"
    }
   }
  },
  {
   "cell_type": "code",
   "execution_count": 145,
   "outputs": [
    {
     "data": {
      "text/plain": "Index(['종목명', '연도', '누적수익률', '종합등급', '환경', '사회', '지배구조', 'ROA', 'ROE',\n       'tobinQ', '코스피누적수익률', 'LEV', 'SIZE'],\n      dtype='object')"
     },
     "execution_count": 145,
     "metadata": {},
     "output_type": "execute_result"
    }
   ],
   "source": [
    "final_df.columns"
   ],
   "metadata": {
    "collapsed": false,
    "pycharm": {
     "name": "#%%\n"
    }
   }
  },
  {
   "cell_type": "code",
   "execution_count": 157,
   "outputs": [
    {
     "name": "stdout",
     "output_type": "stream",
     "text": [
      "                            OLS Regression Results                            \n",
      "==============================================================================\n",
      "Dep. Variable:                    ROE   R-squared:                       0.008\n",
      "Model:                            OLS   Adj. R-squared:                  0.006\n",
      "Method:                 Least Squares   F-statistic:                     5.602\n",
      "Date:                Sat, 14 May 2022   Prob (F-statistic):           3.79e-05\n",
      "Time:                        20:29:54   Log-Likelihood:                -25013.\n",
      "No. Observations:                3640   AIC:                         5.004e+04\n",
      "Df Residuals:                    3634   BIC:                         5.008e+04\n",
      "Df Model:                           5                                         \n",
      "Covariance Type:            nonrobust                                         \n",
      "==============================================================================\n",
      "                 coef    std err          t      P>|t|      [0.025      0.975]\n",
      "------------------------------------------------------------------------------\n",
      "Intercept  -4659.6592   3072.462     -1.517      0.129   -1.07e+04    1364.263\n",
      "연도             2.3042      1.523      1.513      0.130      -0.683       5.291\n",
      "LEV           33.6309     18.668      1.802      0.072      -2.970      70.232\n",
      "누적수익률          0.0082      0.057      0.143      0.886      -0.104       0.120\n",
      "ROA            1.8213      0.361      5.040      0.000       1.113       2.530\n",
      "코스피누적수익률      -0.1384      0.477     -0.290      0.772      -1.074       0.798\n",
      "==============================================================================\n",
      "Omnibus:                    11812.200   Durbin-Watson:                   1.991\n",
      "Prob(Omnibus):                  0.000   Jarque-Bera (JB):       1483380501.954\n",
      "Skew:                          53.374   Prob(JB):                         0.00\n",
      "Kurtosis:                    3128.562   Cond. No.                     1.60e+06\n",
      "==============================================================================\n",
      "\n",
      "Notes:\n",
      "[1] Standard Errors assume that the covariance matrix of the errors is correctly specified.\n",
      "[2] The condition number is large, 1.6e+06. This might indicate that there are\n",
      "strong multicollinearity or other numerical problems.\n"
     ]
    }
   ],
   "source": [
    "res = ols('ROE ~ 연도+LEV+누적수익률+ROA+코스피누적수익률', data=final_df).fit()\n",
    "print(res.summary())"
   ],
   "metadata": {
    "collapsed": false,
    "pycharm": {
     "name": "#%%\n"
    }
   }
  },
  {
   "cell_type": "code",
   "execution_count": 148,
   "outputs": [
    {
     "name": "stdout",
     "output_type": "stream",
     "text": [
      "                            OLS Regression Results                            \n",
      "==============================================================================\n",
      "Dep. Variable:                 tobinQ   R-squared:                       0.342\n",
      "Model:                            OLS   Adj. R-squared:                  0.341\n",
      "Method:                 Least Squares   F-statistic:                     188.9\n",
      "Date:                Sat, 14 May 2022   Prob (F-statistic):          3.37e-321\n",
      "Time:                        20:26:57   Log-Likelihood:                -47393.\n",
      "No. Observations:                3640   AIC:                         9.481e+04\n",
      "Df Residuals:                    3629   BIC:                         9.488e+04\n",
      "Df Model:                          10                                         \n",
      "Covariance Type:            nonrobust                                         \n",
      "==============================================================================\n",
      "                 coef    std err          t      P>|t|      [0.025      0.975]\n",
      "------------------------------------------------------------------------------\n",
      "Intercept   2.367e+06   1.47e+06      1.607      0.108   -5.21e+05    5.26e+06\n",
      "환경          1.694e+04   2245.438      7.543      0.000    1.25e+04    2.13e+04\n",
      "사회           3.23e+04   3001.872     10.759      0.000    2.64e+04    3.82e+04\n",
      "지배구조        3.065e+04   3147.215      9.740      0.000    2.45e+04    3.68e+04\n",
      "연도          -684.8757    732.396     -0.935      0.350   -2120.824     751.073\n",
      "LEV         6.126e+04   8963.781      6.834      0.000    4.37e+04    7.88e+04\n",
      "SIZE       -4.655e+04   1131.142    -41.149      0.000   -4.88e+04   -4.43e+04\n",
      "누적수익률        -52.8372     26.853     -1.968      0.049    -105.485      -0.189\n",
      "ROA          640.9573    171.389      3.740      0.000     304.929     976.986\n",
      "ROE           -0.7696      7.770     -0.099      0.921     -16.004      14.465\n",
      "코스피누적수익률    -364.9853    226.197     -1.614      0.107    -808.471      78.500\n",
      "==============================================================================\n",
      "Omnibus:                     6056.395   Durbin-Watson:                   1.120\n",
      "Prob(Omnibus):                  0.000   Jarque-Bera (JB):          5457899.426\n",
      "Skew:                          11.032   Prob(JB):                         0.00\n",
      "Kurtosis:                     191.413   Cond. No.                     1.64e+06\n",
      "==============================================================================\n",
      "\n",
      "Notes:\n",
      "[1] Standard Errors assume that the covariance matrix of the errors is correctly specified.\n",
      "[2] The condition number is large, 1.64e+06. This might indicate that there are\n",
      "strong multicollinearity or other numerical problems.\n"
     ]
    }
   ],
   "source": [
    "res = ols('tobinQ ~ 환경+사회+지배구조+연도+LEV+SIZE+누적수익률+ROA+ROE+코스피누적수익률', data=final_df).fit()\n",
    "print(res.summary())"
   ],
   "metadata": {
    "collapsed": false,
    "pycharm": {
     "name": "#%%\n"
    }
   }
  },
  {
   "cell_type": "code",
   "execution_count": 144,
   "outputs": [
    {
     "name": "stdout",
     "output_type": "stream",
     "text": [
      "                            OLS Regression Results                            \n",
      "==============================================================================\n",
      "Dep. Variable:                    LEV   R-squared:                       0.110\n",
      "Model:                            OLS   Adj. R-squared:                  0.109\n",
      "Method:                 Least Squares   F-statistic:                     56.37\n",
      "Date:                Sat, 14 May 2022   Prob (F-statistic):           6.88e-87\n",
      "Time:                        20:25:36   Log-Likelihood:                 659.50\n",
      "No. Observations:                3640   AIC:                            -1301.\n",
      "Df Residuals:                    3631   BIC:                            -1245.\n",
      "Df Model:                           8                                         \n",
      "Covariance Type:            nonrobust                                         \n",
      "==============================================================================\n",
      "                 coef    std err          t      P>|t|      [0.025      0.975]\n",
      "------------------------------------------------------------------------------\n",
      "Intercept     -0.3431      0.058     -5.883      0.000      -0.457      -0.229\n",
      "종합등급           0.0220      0.009      2.393      0.017       0.004       0.040\n",
      "사회            -0.0077      0.007     -1.109      0.267      -0.021       0.006\n",
      "환경            -0.0144      0.005     -3.118      0.002      -0.024      -0.005\n",
      "ROE         2.743e-05   1.43e-05      1.912      0.056   -6.93e-07    5.56e-05\n",
      "코스피누적수익률       0.0006      0.000      1.499      0.134      -0.000       0.001\n",
      "tobinQ      2.181e-07   3.01e-08      7.235      0.000    1.59e-07    2.77e-07\n",
      "SIZE           0.0300      0.002     12.382      0.000       0.025       0.035\n",
      "ROA           -0.0048      0.000    -15.785      0.000      -0.005      -0.004\n",
      "==============================================================================\n",
      "Omnibus:                     1358.897   Durbin-Watson:                   0.486\n",
      "Prob(Omnibus):                  0.000   Jarque-Bera (JB):            26441.618\n",
      "Skew:                           1.283   Prob(JB):                         0.00\n",
      "Kurtosis:                      15.952   Cond. No.                     2.35e+06\n",
      "==============================================================================\n",
      "\n",
      "Notes:\n",
      "[1] Standard Errors assume that the covariance matrix of the errors is correctly specified.\n",
      "[2] The condition number is large, 2.35e+06. This might indicate that there are\n",
      "strong multicollinearity or other numerical problems.\n"
     ]
    }
   ],
   "source": [
    "res = ols('LEV ~ 종합등급+사회+환경+ROE+코스피누적수익률+tobinQ+SIZE+ROA', data=final_df).fit()\n",
    "print(res.summary())"
   ],
   "metadata": {
    "collapsed": false,
    "pycharm": {
     "name": "#%%\n"
    }
   }
  },
  {
   "cell_type": "code",
   "execution_count": 126,
   "outputs": [
    {
     "data": {
      "text/plain": "                연도        누적수익률         종합등급           환경           사회  \\\ncount  3640.000000  3640.000000  3640.000000  3640.000000  3640.000000   \nmean   2016.014011    15.185732     3.170604     2.786264     3.321154   \nstd       2.671143    69.663566     0.697236     0.940043     0.836376   \nmin    2011.000000   -97.254766     1.000000     1.000000     1.000000   \n25%    2014.000000   -23.553170     3.000000     2.000000     3.000000   \n50%    2016.000000    -0.856072     3.000000     3.000000     3.000000   \n75%    2018.000000    32.889339     3.000000     3.000000     4.000000   \nmax    2020.000000   812.227334     6.000000     6.000000     6.000000   \n\n              지배구조          ROA           ROE        tobinQ     코스피누적수익률  \\\ncount  3640.000000  3640.000000   3640.000000  3.640000e+03  3640.000000   \nmean      3.306319     2.306278      5.177681  1.014962e+04     3.819718   \nstd       0.740879    11.115825    234.356995  1.347011e+05     8.379020   \nmin       1.000000   -95.635348  -2818.284747 -6.131463e+01    -8.843388   \n25%       3.000000     0.226852      0.546152  5.304646e-01    -1.211481   \n50%       3.000000     2.473175      4.812300  8.471438e-01     2.619181   \n75%       4.000000     5.249178      9.275426  1.404138e+00    12.439058   \nmax       6.000000   407.621431  13546.418464  3.053058e+06    17.010852   \n\n               LEV         SIZE  \ncount  3640.000000  3640.000000  \nmean      0.465914    27.074187  \nstd       0.214070     1.844436  \nmin       0.024488    13.060203  \n25%       0.299303    26.060719  \n50%       0.472989    26.944018  \n75%       0.615371    27.969631  \nmax       2.945354    33.566539  ",
      "text/html": "<div>\n<style scoped>\n    .dataframe tbody tr th:only-of-type {\n        vertical-align: middle;\n    }\n\n    .dataframe tbody tr th {\n        vertical-align: top;\n    }\n\n    .dataframe thead th {\n        text-align: right;\n    }\n</style>\n<table border=\"1\" class=\"dataframe\">\n  <thead>\n    <tr style=\"text-align: right;\">\n      <th></th>\n      <th>연도</th>\n      <th>누적수익률</th>\n      <th>종합등급</th>\n      <th>환경</th>\n      <th>사회</th>\n      <th>지배구조</th>\n      <th>ROA</th>\n      <th>ROE</th>\n      <th>tobinQ</th>\n      <th>코스피누적수익률</th>\n      <th>LEV</th>\n      <th>SIZE</th>\n    </tr>\n  </thead>\n  <tbody>\n    <tr>\n      <th>count</th>\n      <td>3640.000000</td>\n      <td>3640.000000</td>\n      <td>3640.000000</td>\n      <td>3640.000000</td>\n      <td>3640.000000</td>\n      <td>3640.000000</td>\n      <td>3640.000000</td>\n      <td>3640.000000</td>\n      <td>3.640000e+03</td>\n      <td>3640.000000</td>\n      <td>3640.000000</td>\n      <td>3640.000000</td>\n    </tr>\n    <tr>\n      <th>mean</th>\n      <td>2016.014011</td>\n      <td>15.185732</td>\n      <td>3.170604</td>\n      <td>2.786264</td>\n      <td>3.321154</td>\n      <td>3.306319</td>\n      <td>2.306278</td>\n      <td>5.177681</td>\n      <td>1.014962e+04</td>\n      <td>3.819718</td>\n      <td>0.465914</td>\n      <td>27.074187</td>\n    </tr>\n    <tr>\n      <th>std</th>\n      <td>2.671143</td>\n      <td>69.663566</td>\n      <td>0.697236</td>\n      <td>0.940043</td>\n      <td>0.836376</td>\n      <td>0.740879</td>\n      <td>11.115825</td>\n      <td>234.356995</td>\n      <td>1.347011e+05</td>\n      <td>8.379020</td>\n      <td>0.214070</td>\n      <td>1.844436</td>\n    </tr>\n    <tr>\n      <th>min</th>\n      <td>2011.000000</td>\n      <td>-97.254766</td>\n      <td>1.000000</td>\n      <td>1.000000</td>\n      <td>1.000000</td>\n      <td>1.000000</td>\n      <td>-95.635348</td>\n      <td>-2818.284747</td>\n      <td>-6.131463e+01</td>\n      <td>-8.843388</td>\n      <td>0.024488</td>\n      <td>13.060203</td>\n    </tr>\n    <tr>\n      <th>25%</th>\n      <td>2014.000000</td>\n      <td>-23.553170</td>\n      <td>3.000000</td>\n      <td>2.000000</td>\n      <td>3.000000</td>\n      <td>3.000000</td>\n      <td>0.226852</td>\n      <td>0.546152</td>\n      <td>5.304646e-01</td>\n      <td>-1.211481</td>\n      <td>0.299303</td>\n      <td>26.060719</td>\n    </tr>\n    <tr>\n      <th>50%</th>\n      <td>2016.000000</td>\n      <td>-0.856072</td>\n      <td>3.000000</td>\n      <td>3.000000</td>\n      <td>3.000000</td>\n      <td>3.000000</td>\n      <td>2.473175</td>\n      <td>4.812300</td>\n      <td>8.471438e-01</td>\n      <td>2.619181</td>\n      <td>0.472989</td>\n      <td>26.944018</td>\n    </tr>\n    <tr>\n      <th>75%</th>\n      <td>2018.000000</td>\n      <td>32.889339</td>\n      <td>3.000000</td>\n      <td>3.000000</td>\n      <td>4.000000</td>\n      <td>4.000000</td>\n      <td>5.249178</td>\n      <td>9.275426</td>\n      <td>1.404138e+00</td>\n      <td>12.439058</td>\n      <td>0.615371</td>\n      <td>27.969631</td>\n    </tr>\n    <tr>\n      <th>max</th>\n      <td>2020.000000</td>\n      <td>812.227334</td>\n      <td>6.000000</td>\n      <td>6.000000</td>\n      <td>6.000000</td>\n      <td>6.000000</td>\n      <td>407.621431</td>\n      <td>13546.418464</td>\n      <td>3.053058e+06</td>\n      <td>17.010852</td>\n      <td>2.945354</td>\n      <td>33.566539</td>\n    </tr>\n  </tbody>\n</table>\n</div>"
     },
     "execution_count": 126,
     "metadata": {},
     "output_type": "execute_result"
    }
   ],
   "source": [
    "final_df.describe()"
   ],
   "metadata": {
    "collapsed": false,
    "pycharm": {
     "name": "#%%\n"
    }
   }
  },
  {
   "cell_type": "markdown",
   "source": [
    "### 이상치 제거하기"
   ],
   "metadata": {
    "collapsed": false,
    "pycharm": {
     "name": "#%% md\n"
    }
   }
  },
  {
   "cell_type": "code",
   "execution_count": 128,
   "outputs": [
    {
     "name": "stdout",
     "output_type": "stream",
     "text": [
      "1447\n"
     ]
    }
   ],
   "source": [
    "outlier_cols = ['누적수익률', 'ROA', 'ROE', 'tobinQ', 'LEV', 'SIZE']\n",
    "total_outliers = []\n",
    "normal_index = []\n",
    "\n",
    "for col in outlier_cols:\n",
    "    outliers_index = outliers_iqr(final_df[col])[0]\n",
    "    total_outliers.append(outliers_index)\n",
    "\n",
    "total_outliers = [val for arr in total_outliers for val in arr]\n",
    "print(len(total_outliers))\n",
    "\n",
    "for i in final_df.index:\n",
    "    if i not in total_outliers:\n",
    "        normal_index.append(i)\n"
   ],
   "metadata": {
    "collapsed": false,
    "pycharm": {
     "name": "#%%\n"
    }
   }
  },
  {
   "cell_type": "code",
   "execution_count": 131,
   "outputs": [
    {
     "data": {
      "text/plain": "                연도        누적수익률         종합등급           환경           사회  \\\ncount  2705.000000  2705.000000  2705.000000  2705.000000  2705.000000   \nmean   2016.086137     3.838065     3.136784     2.771534     3.266543   \nstd       2.658784    37.025052     0.662664     0.910736     0.782298   \nmin    2011.000000   -97.254766     1.000000     1.000000     1.000000   \n25%    2014.000000   -23.001754     3.000000     2.000000     3.000000   \n50%    2016.000000    -2.494533     3.000000     3.000000     3.000000   \n75%    2018.000000    24.987889     3.000000     3.000000     3.000000   \nmax    2020.000000   117.403831     6.000000     6.000000     6.000000   \n\n              지배구조          ROA          ROE       tobinQ     코스피누적수익률  \\\ncount  2705.000000  2705.000000  2705.000000  2705.000000  2705.000000   \nmean      3.282070     2.838117     4.878767     0.870910     3.911717   \nstd       0.712261     3.362666     5.983061     0.513885     8.485781   \nmin       1.000000    -7.001288   -12.381975     0.100569    -8.843388   \n25%       3.000000     0.747990     1.514529     0.492247    -1.211481   \n50%       3.000000     2.575558     4.898956     0.737202     2.619181   \n75%       4.000000     4.931728     8.549370     1.109303    12.439058   \nmax       6.000000    12.775702    22.174749     2.714265    17.010852   \n\n               LEV         SIZE  \ncount  2705.000000  2705.000000  \nmean      0.439111    27.139052  \nstd       0.193024     1.356287  \nmin       0.024488    24.000482  \n25%       0.278033    26.152208  \n50%       0.444279    26.958429  \n75%       0.588472    27.898265  \nmax       0.944880    30.828749  ",
      "text/html": "<div>\n<style scoped>\n    .dataframe tbody tr th:only-of-type {\n        vertical-align: middle;\n    }\n\n    .dataframe tbody tr th {\n        vertical-align: top;\n    }\n\n    .dataframe thead th {\n        text-align: right;\n    }\n</style>\n<table border=\"1\" class=\"dataframe\">\n  <thead>\n    <tr style=\"text-align: right;\">\n      <th></th>\n      <th>연도</th>\n      <th>누적수익률</th>\n      <th>종합등급</th>\n      <th>환경</th>\n      <th>사회</th>\n      <th>지배구조</th>\n      <th>ROA</th>\n      <th>ROE</th>\n      <th>tobinQ</th>\n      <th>코스피누적수익률</th>\n      <th>LEV</th>\n      <th>SIZE</th>\n    </tr>\n  </thead>\n  <tbody>\n    <tr>\n      <th>count</th>\n      <td>2705.000000</td>\n      <td>2705.000000</td>\n      <td>2705.000000</td>\n      <td>2705.000000</td>\n      <td>2705.000000</td>\n      <td>2705.000000</td>\n      <td>2705.000000</td>\n      <td>2705.000000</td>\n      <td>2705.000000</td>\n      <td>2705.000000</td>\n      <td>2705.000000</td>\n      <td>2705.000000</td>\n    </tr>\n    <tr>\n      <th>mean</th>\n      <td>2016.086137</td>\n      <td>3.838065</td>\n      <td>3.136784</td>\n      <td>2.771534</td>\n      <td>3.266543</td>\n      <td>3.282070</td>\n      <td>2.838117</td>\n      <td>4.878767</td>\n      <td>0.870910</td>\n      <td>3.911717</td>\n      <td>0.439111</td>\n      <td>27.139052</td>\n    </tr>\n    <tr>\n      <th>std</th>\n      <td>2.658784</td>\n      <td>37.025052</td>\n      <td>0.662664</td>\n      <td>0.910736</td>\n      <td>0.782298</td>\n      <td>0.712261</td>\n      <td>3.362666</td>\n      <td>5.983061</td>\n      <td>0.513885</td>\n      <td>8.485781</td>\n      <td>0.193024</td>\n      <td>1.356287</td>\n    </tr>\n    <tr>\n      <th>min</th>\n      <td>2011.000000</td>\n      <td>-97.254766</td>\n      <td>1.000000</td>\n      <td>1.000000</td>\n      <td>1.000000</td>\n      <td>1.000000</td>\n      <td>-7.001288</td>\n      <td>-12.381975</td>\n      <td>0.100569</td>\n      <td>-8.843388</td>\n      <td>0.024488</td>\n      <td>24.000482</td>\n    </tr>\n    <tr>\n      <th>25%</th>\n      <td>2014.000000</td>\n      <td>-23.001754</td>\n      <td>3.000000</td>\n      <td>2.000000</td>\n      <td>3.000000</td>\n      <td>3.000000</td>\n      <td>0.747990</td>\n      <td>1.514529</td>\n      <td>0.492247</td>\n      <td>-1.211481</td>\n      <td>0.278033</td>\n      <td>26.152208</td>\n    </tr>\n    <tr>\n      <th>50%</th>\n      <td>2016.000000</td>\n      <td>-2.494533</td>\n      <td>3.000000</td>\n      <td>3.000000</td>\n      <td>3.000000</td>\n      <td>3.000000</td>\n      <td>2.575558</td>\n      <td>4.898956</td>\n      <td>0.737202</td>\n      <td>2.619181</td>\n      <td>0.444279</td>\n      <td>26.958429</td>\n    </tr>\n    <tr>\n      <th>75%</th>\n      <td>2018.000000</td>\n      <td>24.987889</td>\n      <td>3.000000</td>\n      <td>3.000000</td>\n      <td>3.000000</td>\n      <td>4.000000</td>\n      <td>4.931728</td>\n      <td>8.549370</td>\n      <td>1.109303</td>\n      <td>12.439058</td>\n      <td>0.588472</td>\n      <td>27.898265</td>\n    </tr>\n    <tr>\n      <th>max</th>\n      <td>2020.000000</td>\n      <td>117.403831</td>\n      <td>6.000000</td>\n      <td>6.000000</td>\n      <td>6.000000</td>\n      <td>6.000000</td>\n      <td>12.775702</td>\n      <td>22.174749</td>\n      <td>2.714265</td>\n      <td>17.010852</td>\n      <td>0.944880</td>\n      <td>30.828749</td>\n    </tr>\n  </tbody>\n</table>\n</div>"
     },
     "execution_count": 131,
     "metadata": {},
     "output_type": "execute_result"
    }
   ],
   "source": [
    "final_df_clean = final_df.loc[normal_index]\n",
    "final_df_clean.describe()"
   ],
   "metadata": {
    "collapsed": false,
    "pycharm": {
     "name": "#%%\n"
    }
   }
  },
  {
   "cell_type": "code",
   "execution_count": 132,
   "outputs": [
    {
     "name": "stdout",
     "output_type": "stream",
     "text": [
      "                            OLS Regression Results                            \n",
      "==============================================================================\n",
      "Dep. Variable:                     환경   R-squared:                       0.176\n",
      "Model:                            OLS   Adj. R-squared:                  0.175\n",
      "Method:                 Least Squares   F-statistic:                     96.31\n",
      "Date:                Sat, 14 May 2022   Prob (F-statistic):          5.77e-110\n",
      "Time:                        20:22:27   Log-Likelihood:                -3322.3\n",
      "No. Observations:                2705   AIC:                             6659.\n",
      "Df Residuals:                    2698   BIC:                             6700.\n",
      "Df Model:                           6                                         \n",
      "Covariance Type:            nonrobust                                         \n",
      "==============================================================================\n",
      "                 coef    std err          t      P>|t|      [0.025      0.975]\n",
      "------------------------------------------------------------------------------\n",
      "Intercept     72.3859     12.508      5.787      0.000      47.859      96.913\n",
      "코스피누적수익률       0.0150      0.002      7.785      0.000       0.011       0.019\n",
      "연도            -0.0381      0.006     -6.125      0.000      -0.050      -0.026\n",
      "LEV           -0.4082      0.094     -4.327      0.000      -0.593      -0.223\n",
      "SIZE           0.2623      0.013     20.808      0.000       0.238       0.287\n",
      "ROA           -0.0019      0.005     -0.351      0.725      -0.012       0.009\n",
      "tobinQ         0.2158      0.032      6.681      0.000       0.152       0.279\n",
      "==============================================================================\n",
      "Omnibus:                        0.822   Durbin-Watson:                   1.151\n",
      "Prob(Omnibus):                  0.663   Jarque-Bera (JB):                0.751\n",
      "Skew:                          -0.001   Prob(JB):                        0.687\n",
      "Kurtosis:                       3.082   Cond. No.                     1.59e+06\n",
      "==============================================================================\n",
      "\n",
      "Notes:\n",
      "[1] Standard Errors assume that the covariance matrix of the errors is correctly specified.\n",
      "[2] The condition number is large, 1.59e+06. This might indicate that there are\n",
      "strong multicollinearity or other numerical problems.\n"
     ]
    }
   ],
   "source": [
    "res = ols('환경 ~ 코스피누적수익률+연도+LEV+SIZE+ROA+tobinQ', data=final_df_clean).fit()\n",
    "print(res.summary())"
   ],
   "metadata": {
    "collapsed": false,
    "pycharm": {
     "name": "#%%\n"
    }
   }
  },
  {
   "cell_type": "code",
   "execution_count": 136,
   "outputs": [
    {
     "name": "stdout",
     "output_type": "stream",
     "text": [
      "                            OLS Regression Results                            \n",
      "==============================================================================\n",
      "Dep. Variable:                     사회   R-squared:                       0.302\n",
      "Model:                            OLS   Adj. R-squared:                  0.301\n",
      "Method:                 Least Squares   F-statistic:                     292.5\n",
      "Date:                Sat, 14 May 2022   Prob (F-statistic):          3.72e-209\n",
      "Time:                        20:23:06   Log-Likelihood:                -2686.8\n",
      "No. Observations:                2705   AIC:                             5384.\n",
      "Df Residuals:                    2700   BIC:                             5413.\n",
      "Df Model:                           4                                         \n",
      "Covariance Type:            nonrobust                                         \n",
      "==============================================================================\n",
      "                 coef    std err          t      P>|t|      [0.025      0.975]\n",
      "------------------------------------------------------------------------------\n",
      "Intercept     -5.3085      0.255    -20.787      0.000      -5.809      -4.808\n",
      "코스피누적수익률       0.0056      0.001      3.767      0.000       0.003       0.008\n",
      "SIZE           0.3072      0.009     33.010      0.000       0.289       0.325\n",
      "ROA           -0.0074      0.004     -1.937      0.053      -0.015    9.23e-05\n",
      "tobinQ         0.2711      0.025     10.741      0.000       0.222       0.321\n",
      "==============================================================================\n",
      "Omnibus:                      304.689   Durbin-Watson:                   1.030\n",
      "Prob(Omnibus):                  0.000   Jarque-Bera (JB):              614.491\n",
      "Skew:                           0.709   Prob(JB):                    3.67e-134\n",
      "Kurtosis:                       4.854   Cond. No.                         562.\n",
      "==============================================================================\n",
      "\n",
      "Notes:\n",
      "[1] Standard Errors assume that the covariance matrix of the errors is correctly specified.\n"
     ]
    }
   ],
   "source": [
    "res = ols('사회 ~ 코스피누적수익률+SIZE+ROA+tobinQ', data=final_df_clean).fit()\n",
    "print(res.summary())"
   ],
   "metadata": {
    "collapsed": false,
    "pycharm": {
     "name": "#%%\n"
    }
   }
  },
  {
   "cell_type": "code",
   "execution_count": 134,
   "outputs": [
    {
     "name": "stdout",
     "output_type": "stream",
     "text": [
      "                            OLS Regression Results                            \n",
      "==============================================================================\n",
      "Dep. Variable:                   지배구조   R-squared:                       0.230\n",
      "Model:                            OLS   Adj. R-squared:                  0.229\n",
      "Method:                 Least Squares   F-statistic:                     181.2\n",
      "Date:                Sat, 14 May 2022   Prob (F-statistic):          2.58e-202\n",
      "Time:                        20:22:55   Log-Likelihood:                -3596.3\n",
      "No. Observations:                3640   AIC:                             7207.\n",
      "Df Residuals:                    3633   BIC:                             7250.\n",
      "Df Model:                           6                                         \n",
      "Covariance Type:            nonrobust                                         \n",
      "==============================================================================\n",
      "                 coef    std err          t      P>|t|      [0.025      0.975]\n",
      "------------------------------------------------------------------------------\n",
      "Intercept     39.4289      8.617      4.575      0.000      22.533      56.324\n",
      "코스피누적수익률       0.0055      0.001      4.163      0.000       0.003       0.008\n",
      "연도            -0.0207      0.004     -4.826      0.000      -0.029      -0.012\n",
      "SIZE           0.2030      0.007     30.713      0.000       0.190       0.216\n",
      "ROA            0.0013      0.001      1.366      0.172      -0.001       0.003\n",
      "누적수익률         -0.0005      0.000     -3.007      0.003      -0.001      -0.000\n",
      "tobinQ      1.861e-06   8.98e-08     20.725      0.000    1.69e-06    2.04e-06\n",
      "==============================================================================\n",
      "Omnibus:                      294.207   Durbin-Watson:                   1.021\n",
      "Prob(Omnibus):                  0.000   Jarque-Bera (JB):              776.354\n",
      "Skew:                           0.457   Prob(JB):                    2.61e-169\n",
      "Kurtosis:                       5.070   Cond. No.                     1.08e+08\n",
      "==============================================================================\n",
      "\n",
      "Notes:\n",
      "[1] Standard Errors assume that the covariance matrix of the errors is correctly specified.\n",
      "[2] The condition number is large, 1.08e+08. This might indicate that there are\n",
      "strong multicollinearity or other numerical problems.\n"
     ]
    }
   ],
   "source": [
    "res = ols('지배구조 ~ 코스피누적수익률+연도+SIZE+ROA+누적수익률+tobinQ', data=final_df).fit()\n",
    "print(res.summary())"
   ],
   "metadata": {
    "collapsed": false,
    "pycharm": {
     "name": "#%%\n"
    }
   }
  },
  {
   "cell_type": "code",
   "execution_count": 151,
   "outputs": [
    {
     "name": "stdout",
     "output_type": "stream",
     "text": [
      "                            OLS Regression Results                            \n",
      "==============================================================================\n",
      "Dep. Variable:                    ROA   R-squared:                       0.892\n",
      "Model:                            OLS   Adj. R-squared:                  0.892\n",
      "Method:                 Least Squares   F-statistic:                     4467.\n",
      "Date:                Sat, 14 May 2022   Prob (F-statistic):               0.00\n",
      "Time:                        20:28:02   Log-Likelihood:                -4105.7\n",
      "No. Observations:                2705   AIC:                             8223.\n",
      "Df Residuals:                    2699   BIC:                             8259.\n",
      "Df Model:                           5                                         \n",
      "Covariance Type:            nonrobust                                         \n",
      "==============================================================================\n",
      "                 coef    std err          t      P>|t|      [0.025      0.975]\n",
      "------------------------------------------------------------------------------\n",
      "Intercept     61.6114     16.252      3.791      0.000      29.744      93.479\n",
      "연도            -0.0303      0.008     -3.752      0.000      -0.046      -0.014\n",
      "LEV           -4.7879      0.117    -40.954      0.000      -5.017      -4.559\n",
      "SIZE           0.0691      0.017      4.116      0.000       0.036       0.102\n",
      "ROE            0.4883      0.004    131.050      0.000       0.481       0.496\n",
      "tobinQ         0.2339      0.043      5.455      0.000       0.150       0.318\n",
      "==============================================================================\n",
      "Omnibus:                      219.214   Durbin-Watson:                   1.387\n",
      "Prob(Omnibus):                  0.000   Jarque-Bera (JB):             1228.946\n",
      "Skew:                          -0.112   Prob(JB):                    1.37e-267\n",
      "Kurtosis:                       6.295   Cond. No.                     1.54e+06\n",
      "==============================================================================\n",
      "\n",
      "Notes:\n",
      "[1] Standard Errors assume that the covariance matrix of the errors is correctly specified.\n",
      "[2] The condition number is large, 1.54e+06. This might indicate that there are\n",
      "strong multicollinearity or other numerical problems.\n"
     ]
    }
   ],
   "source": [
    "res = ols('ROA ~ 연도+LEV+SIZE+ROE+tobinQ', data=final_df_clean).fit()\n",
    "print(res.summary())"
   ],
   "metadata": {
    "collapsed": false,
    "pycharm": {
     "name": "#%%\n"
    }
   }
  },
  {
   "cell_type": "code",
   "execution_count": 156,
   "outputs": [
    {
     "name": "stdout",
     "output_type": "stream",
     "text": [
      "                            OLS Regression Results                            \n",
      "==============================================================================\n",
      "Dep. Variable:                    ROE   R-squared:                       0.877\n",
      "Model:                            OLS   Adj. R-squared:                  0.877\n",
      "Method:                 Least Squares   F-statistic:                     3858.\n",
      "Date:                Sat, 14 May 2022   Prob (F-statistic):               0.00\n",
      "Time:                        20:29:37   Log-Likelihood:                -5839.8\n",
      "No. Observations:                2705   AIC:                         1.169e+04\n",
      "Df Residuals:                    2699   BIC:                         1.173e+04\n",
      "Df Model:                           5                                         \n",
      "Covariance Type:            nonrobust                                         \n",
      "==============================================================================\n",
      "                 coef    std err          t      P>|t|      [0.025      0.975]\n",
      "------------------------------------------------------------------------------\n",
      "Intercept   -100.3654     32.826     -3.057      0.002    -164.732     -35.999\n",
      "연도             0.0480      0.016      2.949      0.003       0.016       0.080\n",
      "LEV            7.7866      0.223     34.883      0.000       7.349       8.224\n",
      "누적수익률          0.0040      0.001      3.481      0.001       0.002       0.006\n",
      "ROA            1.7581      0.013    134.518      0.000       1.732       1.784\n",
      "코스피누적수익률       0.0102      0.005      2.094      0.036       0.001       0.020\n",
      "==============================================================================\n",
      "Omnibus:                      300.579   Durbin-Watson:                   1.502\n",
      "Prob(Omnibus):                  0.000   Jarque-Bera (JB):             2731.831\n",
      "Skew:                           0.021   Prob(JB):                         0.00\n",
      "Kurtosis:                       7.923   Cond. No.                     1.64e+06\n",
      "==============================================================================\n",
      "\n",
      "Notes:\n",
      "[1] Standard Errors assume that the covariance matrix of the errors is correctly specified.\n",
      "[2] The condition number is large, 1.64e+06. This might indicate that there are\n",
      "strong multicollinearity or other numerical problems.\n"
     ]
    }
   ],
   "source": [
    "res = ols('ROE ~ 연도+LEV+누적수익률+ROA+코스피누적수익률', data=final_df_clean).fit()\n",
    "print(res.summary())"
   ],
   "metadata": {
    "collapsed": false,
    "pycharm": {
     "name": "#%%\n"
    }
   }
  },
  {
   "cell_type": "code",
   "execution_count": 150,
   "outputs": [
    {
     "name": "stdout",
     "output_type": "stream",
     "text": [
      "                            OLS Regression Results                            \n",
      "==============================================================================\n",
      "Dep. Variable:                 tobinQ   R-squared:                       0.173\n",
      "Model:                            OLS   Adj. R-squared:                  0.170\n",
      "Method:                 Least Squares   F-statistic:                     62.65\n",
      "Date:                Sat, 14 May 2022   Prob (F-statistic):          1.13e-104\n",
      "Time:                        20:27:29   Log-Likelihood:                -1779.9\n",
      "No. Observations:                2705   AIC:                             3580.\n",
      "Df Residuals:                    2695   BIC:                             3639.\n",
      "Df Model:                           9                                         \n",
      "Covariance Type:            nonrobust                                         \n",
      "==============================================================================\n",
      "                 coef    std err          t      P>|t|      [0.025      0.975]\n",
      "------------------------------------------------------------------------------\n",
      "Intercept    -25.3512      7.252     -3.496      0.000     -39.571     -11.132\n",
      "환경             0.0404      0.011      3.595      0.000       0.018       0.062\n",
      "사회             0.1099      0.016      7.007      0.000       0.079       0.141\n",
      "지배구조           0.0722      0.016      4.517      0.000       0.041       0.104\n",
      "연도             0.0138      0.004      3.839      0.000       0.007       0.021\n",
      "LEV            0.4716      0.063      7.534      0.000       0.349       0.594\n",
      "SIZE          -0.0997      0.009    -11.705      0.000      -0.116      -0.083\n",
      "누적수익률          0.0031      0.000     11.668      0.000       0.003       0.004\n",
      "ROA            0.0422      0.008      5.206      0.000       0.026       0.058\n",
      "ROE           -0.0034      0.004     -0.798      0.425      -0.012       0.005\n",
      "==============================================================================\n",
      "Omnibus:                      573.721   Durbin-Watson:                   0.799\n",
      "Prob(Omnibus):                  0.000   Jarque-Bera (JB):             1091.072\n",
      "Skew:                           1.289   Prob(JB):                    1.19e-237\n",
      "Kurtosis:                       4.743   Cond. No.                     1.62e+06\n",
      "==============================================================================\n",
      "\n",
      "Notes:\n",
      "[1] Standard Errors assume that the covariance matrix of the errors is correctly specified.\n",
      "[2] The condition number is large, 1.62e+06. This might indicate that there are\n",
      "strong multicollinearity or other numerical problems.\n"
     ]
    }
   ],
   "source": [
    "res = ols('tobinQ ~ 환경+사회+지배구조+연도+LEV+SIZE+누적수익률+ROA+ROE', data=final_df_clean).fit()\n",
    "print(res.summary())"
   ],
   "metadata": {
    "collapsed": false,
    "pycharm": {
     "name": "#%%\n"
    }
   }
  },
  {
   "cell_type": "code",
   "execution_count": 143,
   "outputs": [
    {
     "name": "stdout",
     "output_type": "stream",
     "text": [
      "                            OLS Regression Results                            \n",
      "==============================================================================\n",
      "Dep. Variable:                    LEV   R-squared:                       0.452\n",
      "Model:                            OLS   Adj. R-squared:                  0.450\n",
      "Method:                 Least Squares   F-statistic:                     277.8\n",
      "Date:                Sat, 14 May 2022   Prob (F-statistic):               0.00\n",
      "Time:                        20:25:22   Log-Likelihood:                 1425.0\n",
      "No. Observations:                2705   AIC:                            -2832.\n",
      "Df Residuals:                    2696   BIC:                            -2779.\n",
      "Df Model:                           8                                         \n",
      "Covariance Type:            nonrobust                                         \n",
      "==============================================================================\n",
      "                 coef    std err          t      P>|t|      [0.025      0.975]\n",
      "------------------------------------------------------------------------------\n",
      "Intercept     -0.5022      0.062     -8.138      0.000      -0.623      -0.381\n",
      "종합등급           0.0248      0.008      3.261      0.001       0.010       0.040\n",
      "사회            -0.0198      0.006     -3.338      0.001      -0.031      -0.008\n",
      "환경            -0.0119      0.004     -3.121      0.002      -0.019      -0.004\n",
      "ROE            0.0360      0.001     32.395      0.000       0.034       0.038\n",
      "코스피누적수익률       0.0006      0.000      1.750      0.080      -7e-05       0.001\n",
      "tobinQ         0.0402      0.006      7.074      0.000       0.029       0.051\n",
      "SIZE           0.0359      0.003     14.315      0.000       0.031       0.041\n",
      "ROA           -0.0793      0.002    -40.387      0.000      -0.083      -0.075\n",
      "==============================================================================\n",
      "Omnibus:                      113.203   Durbin-Watson:                   0.779\n",
      "Prob(Omnibus):                  0.000   Jarque-Bera (JB):              273.101\n",
      "Skew:                          -0.224   Prob(JB):                     4.98e-60\n",
      "Kurtosis:                       4.491   Cond. No.                         643.\n",
      "==============================================================================\n",
      "\n",
      "Notes:\n",
      "[1] Standard Errors assume that the covariance matrix of the errors is correctly specified.\n"
     ]
    }
   ],
   "source": [
    "res = ols('LEV ~ 종합등급+사회+환경+ROE+코스피누적수익률+tobinQ+SIZE+ROA', data=final_df_clean).fit()\n",
    "print(res.summary())"
   ],
   "metadata": {
    "collapsed": false,
    "pycharm": {
     "name": "#%%\n"
    }
   }
  }
 ],
 "metadata": {
  "kernelspec": {
   "display_name": "Python 3",
   "language": "python",
   "name": "python3"
  },
  "language_info": {
   "codemirror_mode": {
    "name": "ipython",
    "version": 2
   },
   "file_extension": ".py",
   "mimetype": "text/x-python",
   "name": "python",
   "nbconvert_exporter": "python",
   "pygments_lexer": "ipython2",
   "version": "2.7.6"
  }
 },
 "nbformat": 4,
 "nbformat_minor": 0
}