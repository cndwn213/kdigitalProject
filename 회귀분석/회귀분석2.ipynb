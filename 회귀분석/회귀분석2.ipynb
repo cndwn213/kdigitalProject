{
 "cells": [
  {
   "cell_type": "code",
   "execution_count": 1,
   "metadata": {},
   "outputs": [],
   "source": [
    "import pandas as pd\n",
    "\n",
    "import warnings \n",
    "warnings.filterwarnings(\"ignore\")\n",
    "\n",
    "\n",
    "from tqdm import tqdm_notebook"
   ]
  },
  {
   "cell_type": "code",
   "execution_count": 5,
   "metadata": {},
   "outputs": [],
   "source": [
    "data = pd.read_csv(\"./kdigitalProject/data/최종데이터_ESG환산.csv\", index_col=0)\n",
    "LEV = pd.read_csv(\"./data/LEV.csv\", dtype={'종목코드':'str'}, index_col=0)\n",
    "SIZE = pd.read_csv(\"./data/SIZE.csv\", dtype={'종목코드':'str'}, index_col=0)\n",
    "OCF = pd.read_csv(\"./data/OCF_최종.csv\", index_col=0, dtype={'stock_code':'str'})\n",
    "CAPEX = pd.read_csv(\"./data/CAPEX_최종.csv\", index_col=0, dtype={'stock_code':'str'})\n",
    "corp_code = pd.read_csv(\"./data/ROA.csv\", dtype={'stock_code':'str'})[['stock_code', '종목명']]\n",
    "corp_code.columns=['종목코드', '종목명']"
   ]
  },
  {
   "cell_type": "code",
   "execution_count": 10,
   "metadata": {},
   "outputs": [],
   "source": [
    "data = pd.merge(data, corp_code, how='left')[['종목코드', '종목명', '연도', '종합등급', '환경', '사회', '지배구조', 'ROA', 'ROE', 'tobinQ', '누적수익률', '코스피누적수익률']]\n",
    "data = pd.merge(data, LEV, how='left')\n",
    "data = pd.merge(data, SIZE, how='left')\n",
    "data = pd.merge(data, OCF[['종목명', '연도', 'OCF']], on=['종목명', '연도'])\n",
    "data = pd.merge(data, CAPEX[['종목명', '연도', 'CAPEX']], on=['종목명', '연도'])"
   ]
  },
  {
   "cell_type": "code",
   "execution_count": 11,
   "metadata": {},
   "outputs": [],
   "source": [
    "import numpy as np\n",
    "data = data.replace(\"A+\", 6).replace(\"A\", 5).replace(\"B+\", 4).replace(\"B\", 3).replace(\"C\", 2).replace(\"D\", 1).replace(\"E\", np.NaN)"
   ]
  },
  {
   "cell_type": "code",
   "execution_count": 12,
   "metadata": {},
   "outputs": [],
   "source": [
    "data = data.dropna()"
   ]
  },
  {
   "cell_type": "code",
   "execution_count": 13,
   "metadata": {},
   "outputs": [],
   "source": [
    "import statsmodels.api as sm"
   ]
  },
  {
   "cell_type": "code",
   "execution_count": 14,
   "metadata": {},
   "outputs": [],
   "source": [
    "X = data[['종합등급', '연도','LEV', 'SIZE', 'ROE', 'OCF', 'CAPEX']]\n",
    "y = data['ROA']"
   ]
  },
  {
   "cell_type": "code",
   "execution_count": 15,
   "metadata": {},
   "outputs": [
    {
     "data": {
      "text/html": [
       "<table class=\"simpletable\">\n",
       "<caption>OLS Regression Results</caption>\n",
       "<tr>\n",
       "  <th>Dep. Variable:</th>           <td>ROA</td>       <th>  R-squared:         </th> <td>   0.152</td> \n",
       "</tr>\n",
       "<tr>\n",
       "  <th>Model:</th>                   <td>OLS</td>       <th>  Adj. R-squared:    </th> <td>   0.150</td> \n",
       "</tr>\n",
       "<tr>\n",
       "  <th>Method:</th>             <td>Least Squares</td>  <th>  F-statistic:       </th> <td>   100.4</td> \n",
       "</tr>\n",
       "<tr>\n",
       "  <th>Date:</th>             <td>Tue, 17 May 2022</td> <th>  Prob (F-statistic):</th> <td>1.87e-135</td>\n",
       "</tr>\n",
       "<tr>\n",
       "  <th>Time:</th>                 <td>09:19:37</td>     <th>  Log-Likelihood:    </th> <td> -14998.</td> \n",
       "</tr>\n",
       "<tr>\n",
       "  <th>No. Observations:</th>      <td>  3943</td>      <th>  AIC:               </th> <td>3.001e+04</td>\n",
       "</tr>\n",
       "<tr>\n",
       "  <th>Df Residuals:</th>          <td>  3935</td>      <th>  BIC:               </th> <td>3.006e+04</td>\n",
       "</tr>\n",
       "<tr>\n",
       "  <th>Df Model:</th>              <td>     7</td>      <th>                     </th>     <td> </td>    \n",
       "</tr>\n",
       "<tr>\n",
       "  <th>Covariance Type:</th>      <td>nonrobust</td>    <th>                     </th>     <td> </td>    \n",
       "</tr>\n",
       "</table>\n",
       "<table class=\"simpletable\">\n",
       "<tr>\n",
       "    <td></td>       <th>coef</th>     <th>std err</th>      <th>t</th>      <th>P>|t|</th>  <th>[0.025</th>    <th>0.975]</th>  \n",
       "</tr>\n",
       "<tr>\n",
       "  <th>const</th> <td>  410.9631</td> <td>  121.991</td> <td>    3.369</td> <td> 0.001</td> <td>  171.791</td> <td>  650.135</td>\n",
       "</tr>\n",
       "<tr>\n",
       "  <th>종합등급</th>  <td>    0.4378</td> <td>    0.247</td> <td>    1.773</td> <td> 0.076</td> <td>   -0.046</td> <td>    0.922</td>\n",
       "</tr>\n",
       "<tr>\n",
       "  <th>연도</th>    <td>   -0.2076</td> <td>    0.061</td> <td>   -3.421</td> <td> 0.001</td> <td>   -0.327</td> <td>   -0.089</td>\n",
       "</tr>\n",
       "<tr>\n",
       "  <th>LEV</th>   <td>  -10.7965</td> <td>    0.863</td> <td>  -12.507</td> <td> 0.000</td> <td>  -12.489</td> <td>   -9.104</td>\n",
       "</tr>\n",
       "<tr>\n",
       "  <th>SIZE</th>  <td>    0.4185</td> <td>    0.106</td> <td>    3.931</td> <td> 0.000</td> <td>    0.210</td> <td>    0.627</td>\n",
       "</tr>\n",
       "<tr>\n",
       "  <th>ROE</th>   <td>    0.0045</td> <td>    0.001</td> <td>    5.965</td> <td> 0.000</td> <td>    0.003</td> <td>    0.006</td>\n",
       "</tr>\n",
       "<tr>\n",
       "  <th>OCF</th>   <td>   47.0761</td> <td>    2.585</td> <td>   18.209</td> <td> 0.000</td> <td>   42.007</td> <td>   52.145</td>\n",
       "</tr>\n",
       "<tr>\n",
       "  <th>CAPEX</th> <td>   -0.0017</td> <td>    0.002</td> <td>   -0.869</td> <td> 0.385</td> <td>   -0.005</td> <td>    0.002</td>\n",
       "</tr>\n",
       "</table>\n",
       "<table class=\"simpletable\">\n",
       "<tr>\n",
       "  <th>Omnibus:</th>       <td>7912.224</td> <th>  Durbin-Watson:     </th>   <td>   1.835</td>  \n",
       "</tr>\n",
       "<tr>\n",
       "  <th>Prob(Omnibus):</th>  <td> 0.000</td>  <th>  Jarque-Bera (JB):  </th> <td>39379307.686</td>\n",
       "</tr>\n",
       "<tr>\n",
       "  <th>Skew:</th>           <td>15.914</td>  <th>  Prob(JB):          </th>   <td>    0.00</td>  \n",
       "</tr>\n",
       "<tr>\n",
       "  <th>Kurtosis:</th>       <td>491.547</td> <th>  Cond. No.          </th>   <td>1.42e+06</td>  \n",
       "</tr>\n",
       "</table><br/><br/>Notes:<br/>[1] Standard Errors assume that the covariance matrix of the errors is correctly specified.<br/>[2] The condition number is large, 1.42e+06. This might indicate that there are<br/>strong multicollinearity or other numerical problems."
      ],
      "text/plain": [
       "<class 'statsmodels.iolib.summary.Summary'>\n",
       "\"\"\"\n",
       "                            OLS Regression Results                            \n",
       "==============================================================================\n",
       "Dep. Variable:                    ROA   R-squared:                       0.152\n",
       "Model:                            OLS   Adj. R-squared:                  0.150\n",
       "Method:                 Least Squares   F-statistic:                     100.4\n",
       "Date:                Tue, 17 May 2022   Prob (F-statistic):          1.87e-135\n",
       "Time:                        09:19:37   Log-Likelihood:                -14998.\n",
       "No. Observations:                3943   AIC:                         3.001e+04\n",
       "Df Residuals:                    3935   BIC:                         3.006e+04\n",
       "Df Model:                           7                                         \n",
       "Covariance Type:            nonrobust                                         \n",
       "==============================================================================\n",
       "                 coef    std err          t      P>|t|      [0.025      0.975]\n",
       "------------------------------------------------------------------------------\n",
       "const        410.9631    121.991      3.369      0.001     171.791     650.135\n",
       "종합등급           0.4378      0.247      1.773      0.076      -0.046       0.922\n",
       "연도            -0.2076      0.061     -3.421      0.001      -0.327      -0.089\n",
       "LEV          -10.7965      0.863    -12.507      0.000     -12.489      -9.104\n",
       "SIZE           0.4185      0.106      3.931      0.000       0.210       0.627\n",
       "ROE            0.0045      0.001      5.965      0.000       0.003       0.006\n",
       "OCF           47.0761      2.585     18.209      0.000      42.007      52.145\n",
       "CAPEX         -0.0017      0.002     -0.869      0.385      -0.005       0.002\n",
       "==============================================================================\n",
       "Omnibus:                     7912.224   Durbin-Watson:                   1.835\n",
       "Prob(Omnibus):                  0.000   Jarque-Bera (JB):         39379307.686\n",
       "Skew:                          15.914   Prob(JB):                         0.00\n",
       "Kurtosis:                     491.547   Cond. No.                     1.42e+06\n",
       "==============================================================================\n",
       "\n",
       "Notes:\n",
       "[1] Standard Errors assume that the covariance matrix of the errors is correctly specified.\n",
       "[2] The condition number is large, 1.42e+06. This might indicate that there are\n",
       "strong multicollinearity or other numerical problems.\n",
       "\"\"\""
      ]
     },
     "execution_count": 15,
     "metadata": {},
     "output_type": "execute_result"
    }
   ],
   "source": [
    "results = sm.OLS(y, sm.add_constant(X)).fit()\n",
    "results.summary()"
   ]
  },
  {
   "cell_type": "code",
   "execution_count": 16,
   "metadata": {},
   "outputs": [],
   "source": [
    "X = data[['종합등급', '연도','LEV', 'SIZE', 'ROE', 'OCF', 'CAPEX']]\n",
    "y = data['tobinQ']"
   ]
  },
  {
   "cell_type": "code",
   "execution_count": 17,
   "metadata": {},
   "outputs": [
    {
     "data": {
      "text/html": [
       "<table class=\"simpletable\">\n",
       "<caption>OLS Regression Results</caption>\n",
       "<tr>\n",
       "  <th>Dep. Variable:</th>         <td>tobinQ</td>      <th>  R-squared:         </th> <td>   0.349</td> \n",
       "</tr>\n",
       "<tr>\n",
       "  <th>Model:</th>                   <td>OLS</td>       <th>  Adj. R-squared:    </th> <td>   0.348</td> \n",
       "</tr>\n",
       "<tr>\n",
       "  <th>Method:</th>             <td>Least Squares</td>  <th>  F-statistic:       </th> <td>   301.8</td> \n",
       "</tr>\n",
       "<tr>\n",
       "  <th>Date:</th>             <td>Tue, 17 May 2022</td> <th>  Prob (F-statistic):</th>  <td>  0.00</td>  \n",
       "</tr>\n",
       "<tr>\n",
       "  <th>Time:</th>                 <td>09:19:51</td>     <th>  Log-Likelihood:    </th> <td> -51213.</td> \n",
       "</tr>\n",
       "<tr>\n",
       "  <th>No. Observations:</th>      <td>  3943</td>      <th>  AIC:               </th> <td>1.024e+05</td>\n",
       "</tr>\n",
       "<tr>\n",
       "  <th>Df Residuals:</th>          <td>  3935</td>      <th>  BIC:               </th> <td>1.025e+05</td>\n",
       "</tr>\n",
       "<tr>\n",
       "  <th>Df Model:</th>              <td>     7</td>      <th>                     </th>     <td> </td>    \n",
       "</tr>\n",
       "<tr>\n",
       "  <th>Covariance Type:</th>      <td>nonrobust</td>    <th>                     </th>     <td> </td>    \n",
       "</tr>\n",
       "</table>\n",
       "<table class=\"simpletable\">\n",
       "<tr>\n",
       "    <td></td>       <th>coef</th>     <th>std err</th>      <th>t</th>      <th>P>|t|</th>  <th>[0.025</th>    <th>0.975]</th>  \n",
       "</tr>\n",
       "<tr>\n",
       "  <th>const</th> <td> 2.276e+06</td> <td> 1.19e+06</td> <td>    1.915</td> <td> 0.056</td> <td>-5.48e+04</td> <td> 4.61e+06</td>\n",
       "</tr>\n",
       "<tr>\n",
       "  <th>종합등급</th>  <td> 5.428e+04</td> <td> 2406.056</td> <td>   22.558</td> <td> 0.000</td> <td> 4.96e+04</td> <td>  5.9e+04</td>\n",
       "</tr>\n",
       "<tr>\n",
       "  <th>연도</th>    <td> -659.9836</td> <td>  591.447</td> <td>   -1.116</td> <td> 0.265</td> <td>-1819.555</td> <td>  499.588</td>\n",
       "</tr>\n",
       "<tr>\n",
       "  <th>LEV</th>   <td> 5.355e+04</td> <td> 8412.754</td> <td>    6.365</td> <td> 0.000</td> <td> 3.71e+04</td> <td>    7e+04</td>\n",
       "</tr>\n",
       "<tr>\n",
       "  <th>SIZE</th>  <td>-4.202e+04</td> <td> 1037.541</td> <td>  -40.499</td> <td> 0.000</td> <td>-4.41e+04</td> <td>   -4e+04</td>\n",
       "</tr>\n",
       "<tr>\n",
       "  <th>ROE</th>   <td>    2.5217</td> <td>    7.349</td> <td>    0.343</td> <td> 0.732</td> <td>  -11.887</td> <td>   16.931</td>\n",
       "</tr>\n",
       "<tr>\n",
       "  <th>OCF</th>   <td> 2.048e+05</td> <td> 2.52e+04</td> <td>    8.130</td> <td> 0.000</td> <td> 1.55e+05</td> <td> 2.54e+05</td>\n",
       "</tr>\n",
       "<tr>\n",
       "  <th>CAPEX</th> <td> -227.4069</td> <td>   18.609</td> <td>  -12.220</td> <td> 0.000</td> <td> -263.892</td> <td> -190.922</td>\n",
       "</tr>\n",
       "</table>\n",
       "<table class=\"simpletable\">\n",
       "<tr>\n",
       "  <th>Omnibus:</th>       <td>6802.593</td> <th>  Durbin-Watson:     </th>  <td>   1.109</td>  \n",
       "</tr>\n",
       "<tr>\n",
       "  <th>Prob(Omnibus):</th>  <td> 0.000</td>  <th>  Jarque-Bera (JB):  </th> <td>7695103.962</td>\n",
       "</tr>\n",
       "<tr>\n",
       "  <th>Skew:</th>           <td>11.857</td>  <th>  Prob(JB):          </th>  <td>    0.00</td>  \n",
       "</tr>\n",
       "<tr>\n",
       "  <th>Kurtosis:</th>       <td>218.118</td> <th>  Cond. No.          </th>  <td>1.42e+06</td>  \n",
       "</tr>\n",
       "</table><br/><br/>Notes:<br/>[1] Standard Errors assume that the covariance matrix of the errors is correctly specified.<br/>[2] The condition number is large, 1.42e+06. This might indicate that there are<br/>strong multicollinearity or other numerical problems."
      ],
      "text/plain": [
       "<class 'statsmodels.iolib.summary.Summary'>\n",
       "\"\"\"\n",
       "                            OLS Regression Results                            \n",
       "==============================================================================\n",
       "Dep. Variable:                 tobinQ   R-squared:                       0.349\n",
       "Model:                            OLS   Adj. R-squared:                  0.348\n",
       "Method:                 Least Squares   F-statistic:                     301.8\n",
       "Date:                Tue, 17 May 2022   Prob (F-statistic):               0.00\n",
       "Time:                        09:19:51   Log-Likelihood:                -51213.\n",
       "No. Observations:                3943   AIC:                         1.024e+05\n",
       "Df Residuals:                    3935   BIC:                         1.025e+05\n",
       "Df Model:                           7                                         \n",
       "Covariance Type:            nonrobust                                         \n",
       "==============================================================================\n",
       "                 coef    std err          t      P>|t|      [0.025      0.975]\n",
       "------------------------------------------------------------------------------\n",
       "const       2.276e+06   1.19e+06      1.915      0.056   -5.48e+04    4.61e+06\n",
       "종합등급        5.428e+04   2406.056     22.558      0.000    4.96e+04     5.9e+04\n",
       "연도          -659.9836    591.447     -1.116      0.265   -1819.555     499.588\n",
       "LEV         5.355e+04   8412.754      6.365      0.000    3.71e+04       7e+04\n",
       "SIZE       -4.202e+04   1037.541    -40.499      0.000   -4.41e+04      -4e+04\n",
       "ROE            2.5217      7.349      0.343      0.732     -11.887      16.931\n",
       "OCF         2.048e+05   2.52e+04      8.130      0.000    1.55e+05    2.54e+05\n",
       "CAPEX       -227.4069     18.609    -12.220      0.000    -263.892    -190.922\n",
       "==============================================================================\n",
       "Omnibus:                     6802.593   Durbin-Watson:                   1.109\n",
       "Prob(Omnibus):                  0.000   Jarque-Bera (JB):          7695103.962\n",
       "Skew:                          11.857   Prob(JB):                         0.00\n",
       "Kurtosis:                     218.118   Cond. No.                     1.42e+06\n",
       "==============================================================================\n",
       "\n",
       "Notes:\n",
       "[1] Standard Errors assume that the covariance matrix of the errors is correctly specified.\n",
       "[2] The condition number is large, 1.42e+06. This might indicate that there are\n",
       "strong multicollinearity or other numerical problems.\n",
       "\"\"\""
      ]
     },
     "execution_count": 17,
     "metadata": {},
     "output_type": "execute_result"
    }
   ],
   "source": [
    "results = sm.OLS(y, sm.add_constant(X)).fit()\n",
    "results.summary()"
   ]
  },
  {
   "cell_type": "code",
   "execution_count": null,
   "metadata": {},
   "outputs": [],
   "source": []
  }
 ],
 "metadata": {
  "interpreter": {
   "hash": "9f5feb42f08914aecde0ece13ac07afe9f84906579ba918f8c70eb200f669000"
  },
  "kernelspec": {
   "display_name": "Python 3.7.6 ('min')",
   "language": "python",
   "name": "python3"
  },
  "language_info": {
   "codemirror_mode": {
    "name": "ipython",
    "version": 3
   },
   "file_extension": ".py",
   "mimetype": "text/x-python",
   "name": "python",
   "nbconvert_exporter": "python",
   "pygments_lexer": "ipython3",
   "version": "3.7.6"
  },
  "orig_nbformat": 4
 },
 "nbformat": 4,
 "nbformat_minor": 2
}
