{
 "cells": [
  {
   "cell_type": "code",
   "execution_count": 1,
   "metadata": {},
   "outputs": [],
   "source": [
    "import pandas as pd\n",
    "\n",
    "import warnings \n",
    "warnings.filterwarnings(\"ignore\")\n",
    "\n",
    "\n",
    "from tqdm import tqdm_notebook"
   ]
  },
  {
   "cell_type": "code",
   "execution_count": 16,
   "metadata": {},
   "outputs": [],
   "source": [
    "data = pd.read_csv(\"./data/최종데이터_ESG환산 copy.csv\", index_col=0)\n",
    "LEV = pd.read_csv(\"./data/LEV.csv\", dtype={'종목코드':'str'}, index_col=0)\n",
    "SIZE = pd.read_csv(\"./data/SIZE.csv\", dtype={'종목코드':'str'}, index_col=0)\n",
    "OCF = pd.read_csv(\"./data/OCF_최종.csv\", index_col=0, dtype={'stock_code':'str'})\n",
    "CAPEX = pd.read_csv(\"./data/CAPEX_최종.csv\", index_col=0, dtype={'stock_code':'str'})\n",
    "corp_code = pd.read_csv(\"./data/ROA.csv\", dtype={'stock_code':'str'})[['stock_code', '종목명']]\n",
    "corp_code.columns=['종목코드', '종목명']"
   ]
  },
  {
   "cell_type": "code",
   "execution_count": 17,
   "metadata": {},
   "outputs": [],
   "source": [
    "data = pd.merge(data, corp_code, how='left')[['종목코드', '종목명', '연도', '종합등급', '환경', '사회', '지배구조', 'ROA', 'ROE', 'tobinQ', '누적수익률', '코스피누적수익률']]\n",
    "data = pd.merge(data, LEV, how='left')\n",
    "data = pd.merge(data, SIZE, how='left')\n",
    "data = pd.merge(data, OCF[['종목명', '연도', 'OCF']], on=['종목명', '연도'])\n",
    "data = pd.merge(data, CAPEX[['종목명', '연도', 'CAPEX']], on=['종목명', '연도'])"
   ]
  },
  {
   "cell_type": "code",
   "execution_count": 18,
   "metadata": {},
   "outputs": [],
   "source": [
    "import numpy as np\n",
    "data = data.replace(\"A+\", 6).replace(\"A\", 5).replace(\"B+\", 4).replace(\"B\", 3).replace(\"C\", 2).replace(\"D\", 1).replace(\"E\", np.NaN)"
   ]
  },
  {
   "cell_type": "code",
   "execution_count": 19,
   "metadata": {},
   "outputs": [],
   "source": [
    "data.dropna(axis=0, inplace=True)"
   ]
  },
  {
   "cell_type": "code",
   "execution_count": 20,
   "metadata": {},
   "outputs": [],
   "source": [
    "data = data[data['누적수익률'] != 'np.NAN']\n",
    "data['누적수익률'] = data['누적수익률'].astype('float')"
   ]
  },
  {
   "cell_type": "code",
   "execution_count": 112,
   "metadata": {},
   "outputs": [
    {
     "data": {
      "text/plain": [
       "0       0\n",
       "1       0\n",
       "2       0\n",
       "3       0\n",
       "4       0\n",
       "       ..\n",
       "3937    0\n",
       "3938    0\n",
       "3939    0\n",
       "3940    0\n",
       "3941    0\n",
       "Name: 2012, Length: 3942, dtype: uint8"
      ]
     },
     "execution_count": 112,
     "metadata": {},
     "output_type": "execute_result"
    }
   ],
   "source": [
    "data.join(pd.get_dummies(data['연도']))"
   ]
  },
  {
   "cell_type": "code",
   "execution_count": 78,
   "metadata": {},
   "outputs": [],
   "source": [
    "from statsmodels.formula.api import ols\n",
    "import statsmodels.api as sm"
   ]
  },
  {
   "cell_type": "code",
   "execution_count": 82,
   "metadata": {},
   "outputs": [],
   "source": [
    "## 이상치 제거\n",
    "def outliers_iqr(data):\n",
    "    q1 = np.quantile(data, 0.25)\n",
    "    q3 = np.quantile(data, 0.75)\n",
    "    # 넘파이 값을 퍼센트로 표시해주는 함수\n",
    "    iqr = q3 - q1\n",
    "    lower_bound = q1 - (iqr * 1.5)\n",
    "    upper_bound = q3 + (iqr * 1.5)\n",
    "\n",
    "    return np.where((data > upper_bound) | (data < lower_bound))"
   ]
  },
  {
   "cell_type": "code",
   "execution_count": 80,
   "metadata": {},
   "outputs": [],
   "source": [
    "data.reset_index(drop=True, inplace=True)"
   ]
  },
  {
   "cell_type": "code",
   "execution_count": 85,
   "metadata": {},
   "outputs": [
    {
     "name": "stdout",
     "output_type": "stream",
     "text": [
      "1716\n"
     ]
    }
   ],
   "source": [
    "outlier_cols = ['ROA', 'ROE','tobinQ', 'OCF', 'CAPEX']\n",
    "total_outliers = []\n",
    "normal_index = []\n",
    "\n",
    "for col in outlier_cols:\n",
    "    outliers_index = outliers_iqr(data[col])[0]\n",
    "    total_outliers.append(outliers_index)\n",
    "\n",
    "total_outliers = [val for arr in total_outliers for val in arr]\n",
    "print(len(total_outliers))\n",
    "\n",
    "for i in data.index:\n",
    "    if i not in total_outliers:\n",
    "        normal_index.append(i)"
   ]
  },
  {
   "cell_type": "code",
   "execution_count": 88,
   "metadata": {},
   "outputs": [],
   "source": [
    "data2 = data.loc[normal_index]"
   ]
  },
  {
   "cell_type": "code",
   "execution_count": 114,
   "metadata": {},
   "outputs": [
    {
     "name": "stdout",
     "output_type": "stream",
     "text": [
      "                            OLS Regression Results                            \n",
      "==============================================================================\n",
      "Dep. Variable:                    ROA   R-squared:                       0.151\n",
      "Model:                            OLS   Adj. R-squared:                  0.150\n",
      "Method:                 Least Squares   F-statistic:                     116.5\n",
      "Date:                Tue, 17 May 2022   Prob (F-statistic):          8.00e-136\n",
      "Time:                        10:23:51   Log-Likelihood:                 9526.9\n",
      "No. Observations:                3942   AIC:                        -1.904e+04\n",
      "Df Residuals:                    3935   BIC:                        -1.900e+04\n",
      "Df Model:                           6                                         \n",
      "Covariance Type:            nonrobust                                         \n",
      "==============================================================================\n",
      "                 coef    std err          t      P>|t|      [0.025      0.975]\n",
      "------------------------------------------------------------------------------\n",
      "Intercept      0.1355      0.022      6.105      0.000       0.092       0.179\n",
      "환경             0.0013      0.000      3.675      0.000       0.001       0.002\n",
      "ROE            0.1444      0.025      5.887      0.000       0.096       0.192\n",
      "LEV           -0.0607      0.005    -12.176      0.000      -0.070      -0.051\n",
      "SIZE           0.0136      0.004      3.298      0.001       0.006       0.022\n",
      "OCF            0.1037      0.006     18.347      0.000       0.093       0.115\n",
      "CAPEX         -0.0193      0.022     -0.885      0.376      -0.062       0.023\n",
      "==============================================================================\n",
      "Omnibus:                     7908.518   Durbin-Watson:                   1.833\n",
      "Prob(Omnibus):                  0.000   Jarque-Bera (JB):         39239149.193\n",
      "Skew:                          15.907   Prob(JB):                         0.00\n",
      "Kurtosis:                     490.736   Cond. No.                         304.\n",
      "==============================================================================\n",
      "\n",
      "Notes:\n",
      "[1] Standard Errors assume that the covariance matrix of the errors is correctly specified.\n"
     ]
    }
   ],
   "source": [
    "res = ols('ROA ~ 환경+ROE+LEV+SIZE+OCF+CAPEX', data=data2).fit()\n",
    "print(res.summary())"
   ]
  },
  {
   "cell_type": "code",
   "execution_count": 153,
   "metadata": {},
   "outputs": [
    {
     "name": "stdout",
     "output_type": "stream",
     "text": [
      "                            OLS Regression Results                            \n",
      "==============================================================================\n",
      "Dep. Variable:                 tobinQ   R-squared:                       0.348\n",
      "Model:                            OLS   Adj. R-squared:                  0.347\n",
      "Method:                 Least Squares   F-statistic:                     262.6\n",
      "Date:                Tue, 17 May 2022   Prob (F-statistic):               0.00\n",
      "Time:                        11:11:07   Log-Likelihood:                 7656.4\n",
      "No. Observations:                3942   AIC:                        -1.529e+04\n",
      "Df Residuals:                    3933   BIC:                        -1.524e+04\n",
      "Df Model:                           8                                         \n",
      "Covariance Type:            nonrobust                                         \n",
      "==============================================================================\n",
      "                 coef    std err          t      P>|t|      [0.025      0.975]\n",
      "------------------------------------------------------------------------------\n",
      "Intercept      2.1336      0.391      5.461      0.000       1.368       2.900\n",
      "사회             0.0145      0.001     22.071      0.000       0.013       0.016\n",
      "연도            -0.0008      0.000     -4.086      0.000      -0.001      -0.000\n",
      "ROE            0.0127      0.039      0.322      0.748      -0.065       0.090\n",
      "LEV            0.0484      0.008      6.001      0.000       0.033       0.064\n",
      "SIZE          -0.2867      0.007    -40.513      0.000      -0.301      -0.273\n",
      "OCF            0.0735      0.009      8.012      0.000       0.056       0.092\n",
      "CAPEX         -0.4331      0.035    -12.316      0.000      -0.502      -0.364\n",
      "누적수익률         -0.0184      0.007     -2.781      0.005      -0.031      -0.005\n",
      "==============================================================================\n",
      "Omnibus:                     6826.107   Durbin-Watson:                   1.117\n",
      "Prob(Omnibus):                  0.000   Jarque-Bera (JB):          7824991.307\n",
      "Skew:                          11.949   Prob(JB):                         0.00\n",
      "Kurtosis:                     219.955   Cond. No.                     1.42e+06\n",
      "==============================================================================\n",
      "\n",
      "Notes:\n",
      "[1] Standard Errors assume that the covariance matrix of the errors is correctly specified.\n",
      "[2] The condition number is large, 1.42e+06. This might indicate that there are\n",
      "strong multicollinearity or other numerical problems.\n"
     ]
    }
   ],
   "source": [
    "res = ols('tobinQ ~ 사회+연도+ROE+LEV+SIZE+OCF+CAPEX+누적수익률', data=data2).fit()\n",
    "print(res.summary())"
   ]
  },
  {
   "cell_type": "code",
   "execution_count": 119,
   "metadata": {},
   "outputs": [
    {
     "data": {
      "text/html": [
       "<table class=\"simpletable\">\n",
       "<caption>OLS Regression Results</caption>\n",
       "<tr>\n",
       "  <th>Dep. Variable:</th>         <td>tobinQ</td>      <th>  R-squared:         </th> <td>   0.329</td> \n",
       "</tr>\n",
       "<tr>\n",
       "  <th>Model:</th>                   <td>OLS</td>       <th>  Adj. R-squared:    </th> <td>   0.326</td> \n",
       "</tr>\n",
       "<tr>\n",
       "  <th>Method:</th>             <td>Least Squares</td>  <th>  F-statistic:       </th> <td>   113.1</td> \n",
       "</tr>\n",
       "<tr>\n",
       "  <th>Date:</th>             <td>Tue, 17 May 2022</td> <th>  Prob (F-statistic):</th> <td>1.48e-323</td>\n",
       "</tr>\n",
       "<tr>\n",
       "  <th>Time:</th>                 <td>10:34:06</td>     <th>  Log-Likelihood:    </th> <td> -51262.</td> \n",
       "</tr>\n",
       "<tr>\n",
       "  <th>No. Observations:</th>      <td>  3942</td>      <th>  AIC:               </th> <td>1.026e+05</td>\n",
       "</tr>\n",
       "<tr>\n",
       "  <th>Df Residuals:</th>          <td>  3924</td>      <th>  BIC:               </th> <td>1.027e+05</td>\n",
       "</tr>\n",
       "<tr>\n",
       "  <th>Df Model:</th>              <td>    17</td>      <th>                     </th>     <td> </td>    \n",
       "</tr>\n",
       "<tr>\n",
       "  <th>Covariance Type:</th>      <td>nonrobust</td>    <th>                     </th>     <td> </td>    \n",
       "</tr>\n",
       "</table>\n",
       "<table class=\"simpletable\">\n",
       "<tr>\n",
       "    <td></td>       <th>coef</th>     <th>std err</th>      <th>t</th>      <th>P>|t|</th>  <th>[0.025</th>    <th>0.975]</th>  \n",
       "</tr>\n",
       "<tr>\n",
       "  <th>const</th> <td> 8.239e+05</td> <td> 2.42e+04</td> <td>   33.999</td> <td> 0.000</td> <td> 7.76e+05</td> <td> 8.71e+05</td>\n",
       "</tr>\n",
       "<tr>\n",
       "  <th>환경</th>    <td> 3.007e+04</td> <td> 1850.820</td> <td>   16.244</td> <td> 0.000</td> <td> 2.64e+04</td> <td> 3.37e+04</td>\n",
       "</tr>\n",
       "<tr>\n",
       "  <th>LEV</th>   <td> 5.801e+04</td> <td> 8577.454</td> <td>    6.763</td> <td> 0.000</td> <td> 4.12e+04</td> <td> 7.48e+04</td>\n",
       "</tr>\n",
       "<tr>\n",
       "  <th>SIZE</th>  <td>-3.693e+04</td> <td> 1034.648</td> <td>  -35.697</td> <td> 0.000</td> <td> -3.9e+04</td> <td>-3.49e+04</td>\n",
       "</tr>\n",
       "<tr>\n",
       "  <th>ROE</th>   <td>   -1.8710</td> <td>    7.482</td> <td>   -0.250</td> <td> 0.803</td> <td>  -16.540</td> <td>   12.799</td>\n",
       "</tr>\n",
       "<tr>\n",
       "  <th>OCF</th>   <td> 2.258e+05</td> <td> 2.59e+04</td> <td>    8.704</td> <td> 0.000</td> <td> 1.75e+05</td> <td> 2.77e+05</td>\n",
       "</tr>\n",
       "<tr>\n",
       "  <th>CAPEX</th> <td> -238.6577</td> <td>   18.933</td> <td>  -12.605</td> <td> 0.000</td> <td> -275.778</td> <td> -201.538</td>\n",
       "</tr>\n",
       "<tr>\n",
       "  <th>누적수익률</th> <td>  -66.5328</td> <td>   26.451</td> <td>   -2.515</td> <td> 0.012</td> <td> -118.392</td> <td>  -14.674</td>\n",
       "</tr>\n",
       "<tr>\n",
       "  <th>2011</th>  <td> 1.273e+05</td> <td> 8519.425</td> <td>   14.941</td> <td> 0.000</td> <td> 1.11e+05</td> <td> 1.44e+05</td>\n",
       "</tr>\n",
       "<tr>\n",
       "  <th>2012</th>  <td> 1.002e+05</td> <td> 6842.803</td> <td>   14.646</td> <td> 0.000</td> <td> 8.68e+04</td> <td> 1.14e+05</td>\n",
       "</tr>\n",
       "<tr>\n",
       "  <th>2013</th>  <td> 5.865e+04</td> <td> 5984.872</td> <td>    9.800</td> <td> 0.000</td> <td> 4.69e+04</td> <td> 7.04e+04</td>\n",
       "</tr>\n",
       "<tr>\n",
       "  <th>2014</th>  <td> 6.014e+04</td> <td> 5929.686</td> <td>   10.142</td> <td> 0.000</td> <td> 4.85e+04</td> <td> 7.18e+04</td>\n",
       "</tr>\n",
       "<tr>\n",
       "  <th>2015</th>  <td> 6.711e+04</td> <td> 5938.235</td> <td>   11.302</td> <td> 0.000</td> <td> 5.55e+04</td> <td> 7.88e+04</td>\n",
       "</tr>\n",
       "<tr>\n",
       "  <th>2016</th>  <td> 6.321e+04</td> <td> 5739.908</td> <td>   11.013</td> <td> 0.000</td> <td>  5.2e+04</td> <td> 7.45e+04</td>\n",
       "</tr>\n",
       "<tr>\n",
       "  <th>2017</th>  <td>  5.83e+04</td> <td> 5681.115</td> <td>   10.263</td> <td> 0.000</td> <td> 4.72e+04</td> <td> 6.94e+04</td>\n",
       "</tr>\n",
       "<tr>\n",
       "  <th>2018</th>  <td> 6.354e+04</td> <td> 5648.585</td> <td>   11.248</td> <td> 0.000</td> <td> 5.25e+04</td> <td> 7.46e+04</td>\n",
       "</tr>\n",
       "<tr>\n",
       "  <th>2019</th>  <td> 7.494e+04</td> <td> 5725.125</td> <td>   13.089</td> <td> 0.000</td> <td> 6.37e+04</td> <td> 8.62e+04</td>\n",
       "</tr>\n",
       "<tr>\n",
       "  <th>2020</th>  <td> 7.276e+04</td> <td> 5746.516</td> <td>   12.661</td> <td> 0.000</td> <td> 6.15e+04</td> <td>  8.4e+04</td>\n",
       "</tr>\n",
       "<tr>\n",
       "  <th>2021</th>  <td> 7.771e+04</td> <td> 5832.463</td> <td>   13.324</td> <td> 0.000</td> <td> 6.63e+04</td> <td> 8.91e+04</td>\n",
       "</tr>\n",
       "</table>\n",
       "<table class=\"simpletable\">\n",
       "<tr>\n",
       "  <th>Omnibus:</th>       <td>6901.476</td> <th>  Durbin-Watson:     </th>  <td>   1.106</td>  \n",
       "</tr>\n",
       "<tr>\n",
       "  <th>Prob(Omnibus):</th>  <td> 0.000</td>  <th>  Jarque-Bera (JB):  </th> <td>8151881.689</td>\n",
       "</tr>\n",
       "<tr>\n",
       "  <th>Skew:</th>           <td>12.232</td>  <th>  Prob(JB):          </th>  <td>    0.00</td>  \n",
       "</tr>\n",
       "<tr>\n",
       "  <th>Kurtosis:</th>       <td>224.433</td> <th>  Cond. No.          </th>  <td>2.08e+18</td>  \n",
       "</tr>\n",
       "</table><br/><br/>Notes:<br/>[1] Standard Errors assume that the covariance matrix of the errors is correctly specified.<br/>[2] The smallest eigenvalue is 4.8e-29. This might indicate that there are<br/>strong multicollinearity problems or that the design matrix is singular."
      ],
      "text/plain": [
       "<class 'statsmodels.iolib.summary.Summary'>\n",
       "\"\"\"\n",
       "                            OLS Regression Results                            \n",
       "==============================================================================\n",
       "Dep. Variable:                 tobinQ   R-squared:                       0.329\n",
       "Model:                            OLS   Adj. R-squared:                  0.326\n",
       "Method:                 Least Squares   F-statistic:                     113.1\n",
       "Date:                Tue, 17 May 2022   Prob (F-statistic):          1.48e-323\n",
       "Time:                        10:34:06   Log-Likelihood:                -51262.\n",
       "No. Observations:                3942   AIC:                         1.026e+05\n",
       "Df Residuals:                    3924   BIC:                         1.027e+05\n",
       "Df Model:                          17                                         \n",
       "Covariance Type:            nonrobust                                         \n",
       "==============================================================================\n",
       "                 coef    std err          t      P>|t|      [0.025      0.975]\n",
       "------------------------------------------------------------------------------\n",
       "const       8.239e+05   2.42e+04     33.999      0.000    7.76e+05    8.71e+05\n",
       "환경          3.007e+04   1850.820     16.244      0.000    2.64e+04    3.37e+04\n",
       "LEV         5.801e+04   8577.454      6.763      0.000    4.12e+04    7.48e+04\n",
       "SIZE       -3.693e+04   1034.648    -35.697      0.000    -3.9e+04   -3.49e+04\n",
       "ROE           -1.8710      7.482     -0.250      0.803     -16.540      12.799\n",
       "OCF         2.258e+05   2.59e+04      8.704      0.000    1.75e+05    2.77e+05\n",
       "CAPEX       -238.6577     18.933    -12.605      0.000    -275.778    -201.538\n",
       "누적수익률        -66.5328     26.451     -2.515      0.012    -118.392     -14.674\n",
       "2011        1.273e+05   8519.425     14.941      0.000    1.11e+05    1.44e+05\n",
       "2012        1.002e+05   6842.803     14.646      0.000    8.68e+04    1.14e+05\n",
       "2013        5.865e+04   5984.872      9.800      0.000    4.69e+04    7.04e+04\n",
       "2014        6.014e+04   5929.686     10.142      0.000    4.85e+04    7.18e+04\n",
       "2015        6.711e+04   5938.235     11.302      0.000    5.55e+04    7.88e+04\n",
       "2016        6.321e+04   5739.908     11.013      0.000     5.2e+04    7.45e+04\n",
       "2017         5.83e+04   5681.115     10.263      0.000    4.72e+04    6.94e+04\n",
       "2018        6.354e+04   5648.585     11.248      0.000    5.25e+04    7.46e+04\n",
       "2019        7.494e+04   5725.125     13.089      0.000    6.37e+04    8.62e+04\n",
       "2020        7.276e+04   5746.516     12.661      0.000    6.15e+04     8.4e+04\n",
       "2021        7.771e+04   5832.463     13.324      0.000    6.63e+04    8.91e+04\n",
       "==============================================================================\n",
       "Omnibus:                     6901.476   Durbin-Watson:                   1.106\n",
       "Prob(Omnibus):                  0.000   Jarque-Bera (JB):          8151881.689\n",
       "Skew:                          12.232   Prob(JB):                         0.00\n",
       "Kurtosis:                     224.433   Cond. No.                     2.08e+18\n",
       "==============================================================================\n",
       "\n",
       "Notes:\n",
       "[1] Standard Errors assume that the covariance matrix of the errors is correctly specified.\n",
       "[2] The smallest eigenvalue is 4.8e-29. This might indicate that there are\n",
       "strong multicollinearity problems or that the design matrix is singular.\n",
       "\"\"\""
      ]
     },
     "execution_count": 119,
     "metadata": {},
     "output_type": "execute_result"
    }
   ],
   "source": [
    "X = data[['환경', 'LEV', 'SIZE', 'ROE', 'OCF', 'CAPEX', '누적수익률']].join(pd.get_dummies(data['연도']))\n",
    "y = data['tobinQ']\n",
    "results = sm.OLS(y, sm.add_constant(X)).fit()\n",
    "results.summary()"
   ]
  },
  {
   "cell_type": "markdown",
   "metadata": {},
   "source": [
    "# 분산분석"
   ]
  },
  {
   "cell_type": "code",
   "execution_count": 155,
   "metadata": {},
   "outputs": [
    {
     "data": {
      "text/html": [
       "<div>\n",
       "<style scoped>\n",
       "    .dataframe tbody tr th:only-of-type {\n",
       "        vertical-align: middle;\n",
       "    }\n",
       "\n",
       "    .dataframe tbody tr th {\n",
       "        vertical-align: top;\n",
       "    }\n",
       "\n",
       "    .dataframe thead th {\n",
       "        text-align: right;\n",
       "    }\n",
       "</style>\n",
       "<table border=\"1\" class=\"dataframe\">\n",
       "  <thead>\n",
       "    <tr style=\"text-align: right;\">\n",
       "      <th></th>\n",
       "      <th>df</th>\n",
       "      <th>sum_sq</th>\n",
       "      <th>mean_sq</th>\n",
       "      <th>F</th>\n",
       "      <th>PR(&gt;F)</th>\n",
       "    </tr>\n",
       "  </thead>\n",
       "  <tbody>\n",
       "    <tr>\n",
       "      <th>종합등급</th>\n",
       "      <td>1.0</td>\n",
       "      <td>9.022847e+11</td>\n",
       "      <td>9.022847e+11</td>\n",
       "      <td>53.096479</td>\n",
       "      <td>3.816877e-13</td>\n",
       "    </tr>\n",
       "    <tr>\n",
       "      <th>Residual</th>\n",
       "      <td>3940.0</td>\n",
       "      <td>6.695362e+13</td>\n",
       "      <td>1.699331e+10</td>\n",
       "      <td>NaN</td>\n",
       "      <td>NaN</td>\n",
       "    </tr>\n",
       "  </tbody>\n",
       "</table>\n",
       "</div>"
      ],
      "text/plain": [
       "              df        sum_sq       mean_sq          F        PR(>F)\n",
       "종합등급         1.0  9.022847e+11  9.022847e+11  53.096479  3.816877e-13\n",
       "Residual  3940.0  6.695362e+13  1.699331e+10        NaN           NaN"
      ]
     },
     "execution_count": 155,
     "metadata": {},
     "output_type": "execute_result"
    }
   ],
   "source": [
    "from statsmodels.formula.api import ols\n",
    "from statsmodels.stats.anova import anova_lm\n",
    "\n",
    "model = ols('tobinQ ~ 종합등급', data).fit()\n",
    "anova_lm(model)"
   ]
  },
  {
   "cell_type": "code",
   "execution_count": 156,
   "metadata": {},
   "outputs": [
    {
     "data": {
      "text/html": [
       "<table class=\"simpletable\">\n",
       "<caption>Multiple Comparison of Means - Tukey HSD, FWER=0.05</caption>\n",
       "<tr>\n",
       "  <th>group1</th> <th>group2</th>  <th>meandiff</th>    <th>p-adj</th>    <th>lower</th>       <th>upper</th>    <th>reject</th>\n",
       "</tr>\n",
       "<tr>\n",
       "    <td>1.0</td>    <td>2.0</td>    <td>25.0169</td>     <td>1.0</td>  <td>-69099.0354</td> <td>69149.0693</td>   <td>False</td>\n",
       "</tr>\n",
       "<tr>\n",
       "    <td>1.0</td>    <td>3.0</td>   <td>4323.2534</td>    <td>1.0</td>  <td>-62623.9157</td> <td>71270.4226</td>   <td>False</td>\n",
       "</tr>\n",
       "<tr>\n",
       "    <td>1.0</td>    <td>4.0</td>   <td>9002.5697</td>   <td>0.999</td> <td>-59354.2332</td> <td>77359.3726</td>   <td>False</td>\n",
       "</tr>\n",
       "<tr>\n",
       "    <td>1.0</td>    <td>5.0</td>  <td>64873.1929</td>  <td>0.0873</td> <td>-5091.7733</td>  <td>134838.159</td>   <td>False</td>\n",
       "</tr>\n",
       "<tr>\n",
       "    <td>1.0</td>    <td>6.0</td>  <td>114672.2155</td> <td>0.0062</td> <td>21287.0007</td>  <td>208057.4302</td>  <td>True</td> \n",
       "</tr>\n",
       "<tr>\n",
       "    <td>2.0</td>    <td>3.0</td>   <td>4298.2365</td>  <td>0.9902</td> <td>-15722.6118</td> <td>24319.0848</td>   <td>False</td>\n",
       "</tr>\n",
       "<tr>\n",
       "    <td>2.0</td>    <td>4.0</td>   <td>8977.5527</td>  <td>0.8999</td> <td>-15344.5239</td> <td>33299.6293</td>   <td>False</td>\n",
       "</tr>\n",
       "<tr>\n",
       "    <td>2.0</td>    <td>5.0</td>  <td>64848.1759</td>    <td>0.0</td>  <td>36317.3611</td>  <td>93378.9908</td>   <td>True</td> \n",
       "</tr>\n",
       "<tr>\n",
       "    <td>2.0</td>    <td>6.0</td>  <td>114647.1986</td>   <td>0.0</td>  <td>46531.7874</td>  <td>182762.6098</td>  <td>True</td> \n",
       "</tr>\n",
       "<tr>\n",
       "    <td>3.0</td>    <td>4.0</td>   <td>4679.3162</td>  <td>0.9715</td> <td>-12506.4993</td> <td>21865.1318</td>   <td>False</td>\n",
       "</tr>\n",
       "<tr>\n",
       "    <td>3.0</td>    <td>5.0</td>  <td>60549.9394</td>    <td>0.0</td>  <td>37794.8028</td>   <td>83305.076</td>   <td>True</td> \n",
       "</tr>\n",
       "<tr>\n",
       "    <td>3.0</td>    <td>6.0</td>  <td>110348.9621</td>   <td>0.0</td>  <td>44443.7416</td>  <td>176254.1826</td>  <td>True</td> \n",
       "</tr>\n",
       "<tr>\n",
       "    <td>4.0</td>    <td>5.0</td>  <td>55870.6232</td>    <td>0.0</td>  <td>29252.4849</td>  <td>82488.7615</td>   <td>True</td> \n",
       "</tr>\n",
       "<tr>\n",
       "    <td>4.0</td>    <td>6.0</td>  <td>105669.6458</td> <td>0.0001</td> <td>38332.9758</td>  <td>173006.3159</td>  <td>True</td> \n",
       "</tr>\n",
       "<tr>\n",
       "    <td>5.0</td>    <td>6.0</td>  <td>49799.0226</td>  <td>0.3095</td> <td>-19169.6015</td> <td>118767.6468</td>  <td>False</td>\n",
       "</tr>\n",
       "</table>"
      ],
      "text/plain": [
       "<class 'statsmodels.iolib.table.SimpleTable'>"
      ]
     },
     "execution_count": 156,
     "metadata": {},
     "output_type": "execute_result"
    }
   ],
   "source": [
    "from statsmodels.stats.multicomp import pairwise_tukeyhsd\n",
    "\n",
    "hsd = pairwise_tukeyhsd(data['tobinQ'], data['종합등급'], alpha=0.05)\n",
    "hsd.summary()"
   ]
  },
  {
   "cell_type": "markdown",
   "metadata": {},
   "source": [
    "# 시각화"
   ]
  },
  {
   "cell_type": "code",
   "execution_count": 136,
   "metadata": {},
   "outputs": [],
   "source": [
    "import matplotlib.pyplot as plt \n",
    "import seaborn as sns\n",
    "\n",
    "plt.rcParams['font.family'] = 'NanumGothic'"
   ]
  },
  {
   "cell_type": "code",
   "execution_count": 150,
   "metadata": {},
   "outputs": [
    {
     "data": {
      "image/png": "[encoded data removed]",
      "text/plain": [
       "<Figure size 432x288 with 1 Axes>"
      ]
     },
     "metadata": {
      "needs_background": "light"
     },
     "output_type": "display_data"
    },
    {
     "data": {
      "image/png": "[encoded data removed]",
      "text/plain": [
       "<Figure size 432x288 with 1 Axes>"
      ]
     },
     "metadata": {
      "needs_background": "light"
     },
     "output_type": "display_data"
    },
    {
     "data": {
      "image/png": "[encoded data removed]",
      "text/plain": [
       "<Figure size 432x288 with 1 Axes>"
      ]
     },
     "metadata": {
      "needs_background": "light"
     },
     "output_type": "display_data"
    },
    {
     "data": {
      "image/png": "[encoded data removed]",
      "text/plain": [
       "<Figure size 432x288 with 1 Axes>"
      ]
     },
     "metadata": {
      "needs_background": "light"
     },
     "output_type": "display_data"
    }
   ],
   "source": [
    "group = ['종합등급', '환경', '사회', '지배구조']\n",
    "for g in group:\n",
    "    sns.barplot(data=data, x=g, y='tobinQ', estimator=np.mean)\n",
    "    plt.show()"
   ]
  },
  {
   "cell_type": "code",
   "execution_count": 151,
   "metadata": {},
   "outputs": [
    {
     "data": {
      "image/png": "[encoded data removed]",
      "text/plain": [
       "<Figure size 432x288 with 1 Axes>"
      ]
     },
     "metadata": {
      "needs_background": "light"
     },
     "output_type": "display_data"
    },
    {
     "data": {
      "image/png": "[encoded data removed]",
      "text/plain": [
       "<Figure size 432x288 with 1 Axes>"
      ]
     },
     "metadata": {
      "needs_background": "light"
     },
     "output_type": "display_data"
    },
    {
     "data": {
      "image/png": "[encoded data removed]",
      "text/plain": [
       "<Figure size 432x288 with 1 Axes>"
      ]
     },
     "metadata": {
      "needs_background": "light"
     },
     "output_type": "display_data"
    },
    {
     "data": {
      "image/png": "[encoded data removed]",
      "text/plain": [
       "<Figure size 432x288 with 1 Axes>"
      ]
     },
     "metadata": {
      "needs_background": "light"
     },
     "output_type": "display_data"
    }
   ],
   "source": [
    "group = ['종합등급', '환경', '사회', '지배구조']\n",
    "for g in group:\n",
    "    sns.barplot(data=data, x=g, y='ROA', estimator=np.mean)\n",
    "    plt.show()"
   ]
  },
  {
   "cell_type": "code",
   "execution_count": 149,
   "metadata": {},
   "outputs": [
    {
     "data": {
      "image/png": "[encoded data removed]",
      "text/plain": [
       "<Figure size 432x288 with 1 Axes>"
      ]
     },
     "metadata": {
      "needs_background": "light"
     },
     "output_type": "display_data"
    }
   ],
   "source": [
    "import matplotlib.pyplot as plt\n",
    "\n",
    "fig = plt.figure()\n",
    "sns.barplot(data=data, x='종합등급', y='tobinQ', estimator=np.mean)\n",
    "plt.show()\n",
    "\n",
    "sns.barplot(data=data, x='환경', y='tobinQ', estimator=np.mean)\n",
    "plt.show()"
   ]
  }
 ],
 "metadata": {
  "interpreter": {
   "hash": "9f5feb42f08914aecde0ece13ac07afe9f84906579ba918f8c70eb200f669000"
  },
  "kernelspec": {
   "display_name": "Python 3.7.6 ('min')",
   "language": "python",
   "name": "python3"
  },
  "language_info": {
   "codemirror_mode": {
    "name": "ipython",
    "version": 3
   },
   "file_extension": ".py",
   "mimetype": "text/x-python",
   "name": "python",
   "nbconvert_exporter": "python",
   "pygments_lexer": "ipython3",
   "version": "3.7.6"
  },
  "orig_nbformat": 4
 },
 "nbformat": 4,
 "nbformat_minor": 2
}
