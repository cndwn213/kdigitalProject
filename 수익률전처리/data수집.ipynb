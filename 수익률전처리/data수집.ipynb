{
 "cells": [
  {
   "cell_type": "code",
   "execution_count": 1,
   "outputs": [],
   "source": [
    "from bs4 import BeautifulSoup as bs\n",
    "from selenium import webdriver\n",
    "import pandas as pd\n",
    "from pandas_datareader import data as pdr\n",
    "import matplotlib.font_manager as fm\n",
    "import matplotlib.pyplot as plt\n",
    "import yfinance as yf\n",
    "import time\n",
    "import warnings\n",
    "import os\n",
    "warnings.filterwarnings('ignore')\n",
    "url = 'http://www.cgs.or.kr/business/esg_tab04.jsp?pg=1&pp=10&skey=&svalue=&sfyear=2021&styear=2021&sgtype=&sgrade=#ui_contents'"
   ],
   "metadata": {
    "collapsed": false,
    "pycharm": {
     "name": "#%%\n"
    }
   }
  },
  {
   "cell_type": "markdown",
   "source": [
    "### 셀레니움과 beautifulSoup으로 기업명과 기업코드 가져오기"
   ],
   "metadata": {
    "collapsed": false,
    "pycharm": {
     "name": "#%% md\n"
    }
   }
  },
  {
   "cell_type": "code",
   "execution_count": 66,
   "outputs": [],
   "source": [
    "def crawling_data(url):\n",
    "    driver = webdriver.Chrome('chromedriver/chromedriver.exe')\n",
    "    driver.get(url)\n",
    "\n",
    "    next_button = '//*[@id=\"ui_contents\"]/div[2]/div[4]/button[2]'\n",
    "    btn_cnt = 0\n",
    "    company_ticker_list = []\n",
    "\n",
    "    while btn_cnt < 10:\n",
    "        for page in range(2, 12):\n",
    "            html = driver.page_source\n",
    "            soup = bs(html, 'html.parser')\n",
    "\n",
    "            for code in range(1, 11):\n",
    "                name = soup.select(f'#ui_contents > div.rating-wrap > div.business_board > table > tbody > tr:nth-child({i}) > td:nth-child(2)')[0].text\n",
    "                ticker = soup.select(f'#ui_contents > div.rating-wrap > div.business_board > table > tbody > tr:nth-child({code}) > td:nth-child(3)')[0].text\n",
    "                company_ticker_list.append({name:ticker})\n",
    "                time.sleep(1)\n",
    "\n",
    "            page_button = f'//*[@id=\"ui_contents\"]/div[2]/div[4]/span/a[{page}]'\n",
    "\n",
    "            if page == 11:\n",
    "                driver.find_element_by_xpath(next_button).click()\n",
    "                btn_cnt+=1\n",
    "                continue\n",
    "            driver.find_element_by_xpath(page_button).click()\n",
    "            time.sleep(1)\n",
    "\n",
    "    df = pd.DataFrame(company_ticker_list)\n",
    "    return df"
   ],
   "metadata": {
    "collapsed": false,
    "pycharm": {
     "name": "#%%\n"
    }
   }
  },
  {
   "cell_type": "code",
   "execution_count": 54,
   "outputs": [
    {
     "data": {
      "text/plain": "      회사명  ticker\n0  AJ네트웍스  095570\n1   AK홀딩스  006840\n2   AP시스템  265520\n3     BGF  027410\n4  BGF리테일  282330",
      "text/html": "<div>\n<style scoped>\n    .dataframe tbody tr th:only-of-type {\n        vertical-align: middle;\n    }\n\n    .dataframe tbody tr th {\n        vertical-align: top;\n    }\n\n    .dataframe thead th {\n        text-align: right;\n    }\n</style>\n<table border=\"1\" class=\"dataframe\">\n  <thead>\n    <tr style=\"text-align: right;\">\n      <th></th>\n      <th>회사명</th>\n      <th>ticker</th>\n    </tr>\n  </thead>\n  <tbody>\n    <tr>\n      <th>0</th>\n      <td>AJ네트웍스</td>\n      <td>095570</td>\n    </tr>\n    <tr>\n      <th>1</th>\n      <td>AK홀딩스</td>\n      <td>006840</td>\n    </tr>\n    <tr>\n      <th>2</th>\n      <td>AP시스템</td>\n      <td>265520</td>\n    </tr>\n    <tr>\n      <th>3</th>\n      <td>BGF</td>\n      <td>027410</td>\n    </tr>\n    <tr>\n      <th>4</th>\n      <td>BGF리테일</td>\n      <td>282330</td>\n    </tr>\n  </tbody>\n</table>\n</div>"
     },
     "execution_count": 54,
     "metadata": {},
     "output_type": "execute_result"
    }
   ],
   "source": [
    "ticker_df = crawling_data(url)\n",
    "ticker_df.head()"
   ],
   "metadata": {
    "collapsed": false,
    "pycharm": {
     "name": "#%%\n"
    }
   }
  },
  {
   "cell_type": "code",
   "execution_count": 57,
   "outputs": [],
   "source": [
    "ticker_df.to_csv('./data/기업코드.csv',index=False)"
   ],
   "metadata": {
    "collapsed": false,
    "pycharm": {
     "name": "#%%\n"
    }
   }
  },
  {
   "cell_type": "code",
   "execution_count": 62,
   "outputs": [
    {
     "data": {
      "text/plain": "      회사명  ticker\n0  AJ네트웍스  095570\n1   AK홀딩스  006840\n2   AP시스템  265520\n3     BGF  027410\n4  BGF리테일  282330",
      "text/html": "<div>\n<style scoped>\n    .dataframe tbody tr th:only-of-type {\n        vertical-align: middle;\n    }\n\n    .dataframe tbody tr th {\n        vertical-align: top;\n    }\n\n    .dataframe thead th {\n        text-align: right;\n    }\n</style>\n<table border=\"1\" class=\"dataframe\">\n  <thead>\n    <tr style=\"text-align: right;\">\n      <th></th>\n      <th>회사명</th>\n      <th>ticker</th>\n    </tr>\n  </thead>\n  <tbody>\n    <tr>\n      <th>0</th>\n      <td>AJ네트웍스</td>\n      <td>095570</td>\n    </tr>\n    <tr>\n      <th>1</th>\n      <td>AK홀딩스</td>\n      <td>006840</td>\n    </tr>\n    <tr>\n      <th>2</th>\n      <td>AP시스템</td>\n      <td>265520</td>\n    </tr>\n    <tr>\n      <th>3</th>\n      <td>BGF</td>\n      <td>027410</td>\n    </tr>\n    <tr>\n      <th>4</th>\n      <td>BGF리테일</td>\n      <td>282330</td>\n    </tr>\n  </tbody>\n</table>\n</div>"
     },
     "execution_count": 62,
     "metadata": {},
     "output_type": "execute_result"
    }
   ],
   "source": [
    "# 잘 저장되이있는 지 확인\n",
    "ticker_df = pd.read_csv('./data/기업코드.csv', dtype=object)\n",
    "ticker_df.head()"
   ],
   "metadata": {
    "collapsed": false,
    "pycharm": {
     "name": "#%%\n"
    }
   }
  },
  {
   "cell_type": "code",
   "execution_count": 63,
   "outputs": [
    {
     "data": {
      "text/plain": "           회사명  ticker\n995      휠라홀딩스  081660\n996  휴니드테크놀러지스  005870\n997        휴비스  079980\n998        휴스틸  005010\n999        휴온스  243070",
      "text/html": "<div>\n<style scoped>\n    .dataframe tbody tr th:only-of-type {\n        vertical-align: middle;\n    }\n\n    .dataframe tbody tr th {\n        vertical-align: top;\n    }\n\n    .dataframe thead th {\n        text-align: right;\n    }\n</style>\n<table border=\"1\" class=\"dataframe\">\n  <thead>\n    <tr style=\"text-align: right;\">\n      <th></th>\n      <th>회사명</th>\n      <th>ticker</th>\n    </tr>\n  </thead>\n  <tbody>\n    <tr>\n      <th>995</th>\n      <td>휠라홀딩스</td>\n      <td>081660</td>\n    </tr>\n    <tr>\n      <th>996</th>\n      <td>휴니드테크놀러지스</td>\n      <td>005870</td>\n    </tr>\n    <tr>\n      <th>997</th>\n      <td>휴비스</td>\n      <td>079980</td>\n    </tr>\n    <tr>\n      <th>998</th>\n      <td>휴스틸</td>\n      <td>005010</td>\n    </tr>\n    <tr>\n      <th>999</th>\n      <td>휴온스</td>\n      <td>243070</td>\n    </tr>\n  </tbody>\n</table>\n</div>"
     },
     "execution_count": 63,
     "metadata": {},
     "output_type": "execute_result"
    }
   ],
   "source": [
    "ticker_df.tail()"
   ],
   "metadata": {
    "collapsed": false,
    "pycharm": {
     "name": "#%%\n"
    }
   }
  },
  {
   "cell_type": "markdown",
   "source": [
    "### openApi를 활용해 pdf 파일을 csv파일로 변환"
   ],
   "metadata": {
    "collapsed": false,
    "pycharm": {
     "name": "#%% md\n"
    }
   }
  },
  {
   "cell_type": "code",
   "execution_count": 75,
   "outputs": [
    {
     "name": "stdout",
     "output_type": "stream",
     "text": [
      "Collecting git+https://github.com/pdftables/python-pdftables-api.git"
     ]
    },
    {
     "name": "stderr",
     "output_type": "stream",
     "text": [
      "  Running command git clone --filter=blob:none --quiet https://github.com/pdftables/python-pdftables-api.git 'C:\\Users\\tjgml\\AppData\\Local\\Temp\\pip-req-build-s3m2innq'\n"
     ]
    },
    {
     "name": "stdout",
     "output_type": "stream",
     "text": [
      "\n",
      "  Cloning https://github.com/pdftables/python-pdftables-api.git to c:\\users\\tjgml\\appdata\\local\\temp\\pip-req-build-s3m2innq\n",
      "  Resolved https://github.com/pdftables/python-pdftables-api.git to commit a2d329a346197c4dcfc6d1b63b02a89dc87481e6\n",
      "  Preparing metadata (setup.py): started\n",
      "  Preparing metadata (setup.py): finished with status 'done'\n",
      "Requirement already satisfied: requests in c:\\users\\tjgml\\machinelearning\\kdigproj\\venv\\lib\\site-packages (from pdftables-api==1.1.0) (2.27.1)\n",
      "Requirement already satisfied: urllib3<1.27,>=1.21.1 in c:\\users\\tjgml\\machinelearning\\kdigproj\\venv\\lib\\site-packages (from requests->pdftables-api==1.1.0) (1.26.9)\n",
      "Requirement already satisfied: certifi>=2017.4.17 in c:\\users\\tjgml\\machinelearning\\kdigproj\\venv\\lib\\site-packages (from requests->pdftables-api==1.1.0) (2021.10.8)\n",
      "Requirement already satisfied: idna<4,>=2.5 in c:\\users\\tjgml\\machinelearning\\kdigproj\\venv\\lib\\site-packages (from requests->pdftables-api==1.1.0) (3.3)\n",
      "Requirement already satisfied: charset-normalizer~=2.0.0 in c:\\users\\tjgml\\machinelearning\\kdigproj\\venv\\lib\\site-packages (from requests->pdftables-api==1.1.0) (2.0.12)\n",
      "Building wheels for collected packages: pdftables-api\n",
      "  Building wheel for pdftables-api (setup.py): started\n",
      "  Building wheel for pdftables-api (setup.py): finished with status 'done'\n",
      "  Created wheel for pdftables-api: filename=pdftables_api-1.1.0-py3-none-any.whl size=5916 sha256=dfda3ab0066655d43faaa877ef71912121fa242d59b3bd395649a8549c5d3db6\n",
      "  Stored in directory: C:\\Users\\tjgml\\AppData\\Local\\Temp\\pip-ephem-wheel-cache-8xa3o6s0\\wheels\\08\\f9\\61\\03de7463e2d9a990f0ee3865faf7286ad320d0a0095bb99cc9\n",
      "Successfully built pdftables-api\n",
      "Installing collected packages: pdftables-api\n",
      "Successfully installed pdftables-api-1.1.0\n"
     ]
    }
   ],
   "source": [
    "# !pip install git+https://github.com/pdftables/python-pdftables-api.git"
   ],
   "metadata": {
    "collapsed": false,
    "pycharm": {
     "name": "#%%\n"
    }
   }
  },
  {
   "cell_type": "code",
   "execution_count": 156,
   "outputs": [],
   "source": [
    "# Import Module\n",
    "import pdftables_api\n",
    "\n",
    "# API KEY VERIFICATION\n",
    "key = 'o2avkfspsnqq'\n",
    "\n",
    "# csv로 변환\n",
    "def trans_csv(key, pdf_path, csv_path):\n",
    "    conversion = pdftables_api.Client(key)\n",
    "    conversion.csv(pdf_path, csv_path)\n",
    "\n",
    "file_list = os.listdir('./data/각종목ESG등급(11~18)/')\n",
    "krx_df_list = []\n",
    "for filename in file_list:\n",
    "    tmp_df = pd.read_csv(f'./data/각종목ESG등급(11~18)/{filename}')\n",
    "    krx_df_list.append(tmp_df)"
   ],
   "metadata": {
    "collapsed": false,
    "pycharm": {
     "name": "#%%\n"
    }
   }
  },
  {
   "cell_type": "code",
   "execution_count": 5,
   "outputs": [
    {
     "data": {
      "text/plain": "Index(['종목명', '통합등급', '환경', '사회', '지배구조', '평가연도'], dtype='object')"
     },
     "execution_count": 5,
     "metadata": {},
     "output_type": "execute_result"
    }
   ],
   "source": [
    "krx_df_list[0].columns"
   ],
   "metadata": {
    "collapsed": false,
    "pycharm": {
     "name": "#%%\n"
    }
   }
  },
  {
   "cell_type": "markdown",
   "source": [
    "## yfinance를 이용해 각 회사 주식 데이터 가져오기"
   ],
   "metadata": {
    "collapsed": false,
    "pycharm": {
     "name": "#%% md\n"
    }
   }
  },
  {
   "cell_type": "code",
   "execution_count": 9,
   "outputs": [],
   "source": [
    "def get_jusik_data(df, sdate, edate):\n",
    "    jusik_list = []\n",
    "\n",
    "    for ii in df.index:\n",
    "        cname = df.loc[ii, '기업명']\n",
    "        code = df.loc[ii, '기업코드'] + str('.KS')\n",
    "        print(cname, code)\n",
    "        if len(code) != 9:\n",
    "            print('잘못된 코드입니다.')\n",
    "            continue\n",
    "        df_aapi = yf.download(code, start=sdate, end=edate, progress=False)\n",
    "        jusik_list.append({cname : df_aapi})\n",
    "\n",
    "    return jusik_list"
   ],
   "metadata": {
    "collapsed": false,
    "pycharm": {
     "name": "#%%\n"
    }
   }
  },
  {
   "cell_type": "code",
   "execution_count": null,
   "outputs": [],
   "source": [
    "import numpy as np\n",
    "company_code_df = pd.read_csv('data/기업명_기업코드.csv', dtype=object)\n",
    "company_code_df.drop(columns=['Unnamed: 0'], inplace=True)\n",
    "company_jusik_list = get_jusik_data(company_code_df, '2010-01-01', '2022-03-31')"
   ],
   "metadata": {
    "collapsed": false,
    "pycharm": {
     "name": "#%%\n",
     "is_executing": true
    }
   }
  },
  {
   "cell_type": "code",
   "execution_count": null,
   "outputs": [],
   "source": [
    "# 2011년 이후부터 상장된 회사 리스트\n",
    "company_list = []\n",
    "\n",
    "for i in company_code_df.index:\n",
    "    name = company_code_df.loc[i, '기업명']\n",
    "    tmp_df2 = company_jusik_list[i].get(name)\n",
    "    year = int(str(tmp_df2.index[0])[:4])\n",
    "    if year > 2011:\n",
    "        print(year, name)\n",
    "        company_list.append(name)\n",
    "\n",
    "len(company_list)"
   ],
   "metadata": {
    "collapsed": false,
    "pycharm": {
     "name": "#%%\n",
     "is_executing": true
    }
   }
  },
  {
   "cell_type": "code",
   "execution_count": 26,
   "outputs": [],
   "source": [
    "## 뽑은 주식 데이터 회사별로 저장\n",
    "for i in company_code_df.index:\n",
    "    name = company_code_df.loc[i, '기업명']\n",
    "    jusik_df = company_jusik_list[i].get(name)\n",
    "    jusik_df.to_csv(f'./data/회사별주식데이터/{name}.csv')"
   ],
   "metadata": {
    "collapsed": false,
    "pycharm": {
     "name": "#%%\n"
    }
   }
  },
  {
   "cell_type": "markdown",
   "source": [
    "#### yfinance모듈로 KOSPI지수 구하기"
   ],
   "metadata": {
    "collapsed": false,
    "pycharm": {
     "name": "#%% md\n"
    }
   }
  },
  {
   "cell_type": "code",
   "execution_count": 55,
   "outputs": [
    {
     "name": "stdout",
     "output_type": "stream",
     "text": [
      "[*********************100%***********************]  1 of 1 completed\n"
     ]
    },
    {
     "data": {
      "text/plain": "                  KOSPI\nDate                   \n2011-01-03  2070.080078\n2011-01-04  2085.139893\n2011-01-05  2082.550049\n2011-01-06  2077.610107\n2011-01-07  2086.199951",
      "text/html": "<div>\n<style scoped>\n    .dataframe tbody tr th:only-of-type {\n        vertical-align: middle;\n    }\n\n    .dataframe tbody tr th {\n        vertical-align: top;\n    }\n\n    .dataframe thead th {\n        text-align: right;\n    }\n</style>\n<table border=\"1\" class=\"dataframe\">\n  <thead>\n    <tr style=\"text-align: right;\">\n      <th></th>\n      <th>KOSPI</th>\n    </tr>\n    <tr>\n      <th>Date</th>\n      <th></th>\n    </tr>\n  </thead>\n  <tbody>\n    <tr>\n      <th>2011-01-03</th>\n      <td>2070.080078</td>\n    </tr>\n    <tr>\n      <th>2011-01-04</th>\n      <td>2085.139893</td>\n    </tr>\n    <tr>\n      <th>2011-01-05</th>\n      <td>2082.550049</td>\n    </tr>\n    <tr>\n      <th>2011-01-06</th>\n      <td>2077.610107</td>\n    </tr>\n    <tr>\n      <th>2011-01-07</th>\n      <td>2086.199951</td>\n    </tr>\n  </tbody>\n</table>\n</div>"
     },
     "execution_count": 55,
     "metadata": {},
     "output_type": "execute_result"
    }
   ],
   "source": [
    "yf.pdr_override()\n",
    "kospi = pdr.get_data_yahoo('^KS11', '2011-01-01')\n",
    "\n",
    "df_kospi = pd.DataFrame({'KOSPI':kospi['Close']})\n",
    "df_kospi.head()"
   ],
   "metadata": {
    "collapsed": false,
    "pycharm": {
     "name": "#%%\n"
    }
   }
  },
  {
   "cell_type": "code",
   "execution_count": 56,
   "outputs": [
    {
     "data": {
      "text/plain": "                  KOSPI\nDate                   \n2022-04-28  2667.489990\n2022-04-29  2695.050049\n2022-05-02  2687.449951\n2022-05-03  2680.459961\n2022-05-04  2685.149902",
      "text/html": "<div>\n<style scoped>\n    .dataframe tbody tr th:only-of-type {\n        vertical-align: middle;\n    }\n\n    .dataframe tbody tr th {\n        vertical-align: top;\n    }\n\n    .dataframe thead th {\n        text-align: right;\n    }\n</style>\n<table border=\"1\" class=\"dataframe\">\n  <thead>\n    <tr style=\"text-align: right;\">\n      <th></th>\n      <th>KOSPI</th>\n    </tr>\n    <tr>\n      <th>Date</th>\n      <th></th>\n    </tr>\n  </thead>\n  <tbody>\n    <tr>\n      <th>2022-04-28</th>\n      <td>2667.489990</td>\n    </tr>\n    <tr>\n      <th>2022-04-29</th>\n      <td>2695.050049</td>\n    </tr>\n    <tr>\n      <th>2022-05-02</th>\n      <td>2687.449951</td>\n    </tr>\n    <tr>\n      <th>2022-05-03</th>\n      <td>2680.459961</td>\n    </tr>\n    <tr>\n      <th>2022-05-04</th>\n      <td>2685.149902</td>\n    </tr>\n  </tbody>\n</table>\n</div>"
     },
     "execution_count": 56,
     "metadata": {},
     "output_type": "execute_result"
    }
   ],
   "source": [
    "df_kospi.tail()"
   ],
   "metadata": {
    "collapsed": false,
    "pycharm": {
     "name": "#%%\n"
    }
   }
  },
  {
   "cell_type": "code",
   "execution_count": 61,
   "outputs": [
    {
     "data": {
      "text/plain": "<Figure size 720x432 with 1 Axes>",
      "image/png": "[encoded data removed]"
     },
     "metadata": {
      "needs_background": "light"
     },
     "output_type": "display_data"
    }
   ],
   "source": [
    "#한글폰트 적용\n",
    "path = 'C:/Windows/Fonts/gulim.ttc'\n",
    "font_name = fm.FontProperties(fname=path, size=50).get_name()\n",
    "plt.rc('font', family=font_name)\n",
    "\n",
    "plt.figure(figsize=(10,6))\n",
    "plt.plot(kospi.index, kospi.Close, 'r', label='코스피')\n",
    "plt.grid(True)\n",
    "plt.legend(loc='best')\n",
    "plt.savefig('./data/코스피시각화.jpg')\n",
    "plt.show()"
   ],
   "metadata": {
    "collapsed": false,
    "pycharm": {
     "name": "#%%\n"
    }
   }
  },
  {
   "cell_type": "code",
   "execution_count": 60,
   "outputs": [],
   "source": [
    "df_kospi.to_csv('./data/코스피지수.csv')"
   ],
   "metadata": {
    "collapsed": false,
    "pycharm": {
     "name": "#%%\n"
    }
   }
  },
  {
   "cell_type": "code",
   "execution_count": 74,
   "outputs": [
    {
     "data": {
      "text/plain": "     고유번호     기업명          자산총계          부채총계          자본총계        당기순이익    연도\n0  102113    경인양행  579492465098  327622550348  251869914750  27210074941  2021\n1  103592    광동제약  883845298043  356600480140  527244817903  25540744737  2021\n2  104519      국보  102314951997   70471633267   31843318730 -17669052258  2021\n3  104786  미래아이앤지   99668333058   28587955823   71080377235 -18081302852  2021\n4  104999     윌비스  294073485577  183381461941  110692023636  -8532095509  2021",
      "text/html": "<div>\n<style scoped>\n    .dataframe tbody tr th:only-of-type {\n        vertical-align: middle;\n    }\n\n    .dataframe tbody tr th {\n        vertical-align: top;\n    }\n\n    .dataframe thead th {\n        text-align: right;\n    }\n</style>\n<table border=\"1\" class=\"dataframe\">\n  <thead>\n    <tr style=\"text-align: right;\">\n      <th></th>\n      <th>고유번호</th>\n      <th>기업명</th>\n      <th>자산총계</th>\n      <th>부채총계</th>\n      <th>자본총계</th>\n      <th>당기순이익</th>\n      <th>연도</th>\n    </tr>\n  </thead>\n  <tbody>\n    <tr>\n      <th>0</th>\n      <td>102113</td>\n      <td>경인양행</td>\n      <td>579492465098</td>\n      <td>327622550348</td>\n      <td>251869914750</td>\n      <td>27210074941</td>\n      <td>2021</td>\n    </tr>\n    <tr>\n      <th>1</th>\n      <td>103592</td>\n      <td>광동제약</td>\n      <td>883845298043</td>\n      <td>356600480140</td>\n      <td>527244817903</td>\n      <td>25540744737</td>\n      <td>2021</td>\n    </tr>\n    <tr>\n      <th>2</th>\n      <td>104519</td>\n      <td>국보</td>\n      <td>102314951997</td>\n      <td>70471633267</td>\n      <td>31843318730</td>\n      <td>-17669052258</td>\n      <td>2021</td>\n    </tr>\n    <tr>\n      <th>3</th>\n      <td>104786</td>\n      <td>미래아이앤지</td>\n      <td>99668333058</td>\n      <td>28587955823</td>\n      <td>71080377235</td>\n      <td>-18081302852</td>\n      <td>2021</td>\n    </tr>\n    <tr>\n      <th>4</th>\n      <td>104999</td>\n      <td>윌비스</td>\n      <td>294073485577</td>\n      <td>183381461941</td>\n      <td>110692023636</td>\n      <td>-8532095509</td>\n      <td>2021</td>\n    </tr>\n  </tbody>\n</table>\n</div>"
     },
     "execution_count": 74,
     "metadata": {},
     "output_type": "execute_result"
    }
   ],
   "source": [
    "df_jamu = pd.read_csv('./data/전체.csv')\n",
    "df_jamu.drop(columns=['Unnamed: 0'], inplace=True)\n",
    "df_jamu.head()"
   ],
   "metadata": {
    "collapsed": false,
    "pycharm": {
     "name": "#%%\n"
    }
   }
  },
  {
   "cell_type": "code",
   "execution_count": 76,
   "outputs": [
    {
     "data": {
      "text/plain": "         고유번호     기업명           자산총계           부채총계           자본총계  \\\n5987   956930   동아에스티  1063538923196   509765483221   553773439975   \n5988   983040     한진칼  2315048938843   846537512824  1468511426019   \n5989   990165  아세아시멘트   809317420218   182684468071   626632952147   \n5990  1067516     골프존   178132252912    69278343432   108853909480   \n5991   120562    롯데지주  4228827416044  1431503351896  2797324064148   \n\n             당기순이익    연도  \n5987   48573315513  2015  \n5988 -193723899362  2015  \n5989   44346134836  2015  \n5990   36533154720  2015  \n5991   36831003453  2015  ",
      "text/html": "<div>\n<style scoped>\n    .dataframe tbody tr th:only-of-type {\n        vertical-align: middle;\n    }\n\n    .dataframe tbody tr th {\n        vertical-align: top;\n    }\n\n    .dataframe thead th {\n        text-align: right;\n    }\n</style>\n<table border=\"1\" class=\"dataframe\">\n  <thead>\n    <tr style=\"text-align: right;\">\n      <th></th>\n      <th>고유번호</th>\n      <th>기업명</th>\n      <th>자산총계</th>\n      <th>부채총계</th>\n      <th>자본총계</th>\n      <th>당기순이익</th>\n      <th>연도</th>\n    </tr>\n  </thead>\n  <tbody>\n    <tr>\n      <th>5987</th>\n      <td>956930</td>\n      <td>동아에스티</td>\n      <td>1063538923196</td>\n      <td>509765483221</td>\n      <td>553773439975</td>\n      <td>48573315513</td>\n      <td>2015</td>\n    </tr>\n    <tr>\n      <th>5988</th>\n      <td>983040</td>\n      <td>한진칼</td>\n      <td>2315048938843</td>\n      <td>846537512824</td>\n      <td>1468511426019</td>\n      <td>-193723899362</td>\n      <td>2015</td>\n    </tr>\n    <tr>\n      <th>5989</th>\n      <td>990165</td>\n      <td>아세아시멘트</td>\n      <td>809317420218</td>\n      <td>182684468071</td>\n      <td>626632952147</td>\n      <td>44346134836</td>\n      <td>2015</td>\n    </tr>\n    <tr>\n      <th>5990</th>\n      <td>1067516</td>\n      <td>골프존</td>\n      <td>178132252912</td>\n      <td>69278343432</td>\n      <td>108853909480</td>\n      <td>36533154720</td>\n      <td>2015</td>\n    </tr>\n    <tr>\n      <th>5991</th>\n      <td>120562</td>\n      <td>롯데지주</td>\n      <td>4228827416044</td>\n      <td>1431503351896</td>\n      <td>2797324064148</td>\n      <td>36831003453</td>\n      <td>2015</td>\n    </tr>\n  </tbody>\n</table>\n</div>"
     },
     "execution_count": 76,
     "metadata": {},
     "output_type": "execute_result"
    }
   ],
   "source": [
    "df_jamu.tail()"
   ],
   "metadata": {
    "collapsed": false,
    "pycharm": {
     "name": "#%%\n"
    }
   }
  },
  {
   "cell_type": "code",
   "execution_count": 75,
   "outputs": [
    {
     "data": {
      "text/plain": "     종목코드     종목명      2011_1분기      2011_2분기      2011_3분기      2011_4분기  \\\n0  069110      3H  4.421505e+10  4.780265e+10  4.631109e+10  3.723739e+10   \n1  060310      3S  1.500834e+11  1.480114e+11  3.503794e+11  9.867575e+11   \n2  900010  3노드디지탈  9.693474e+10  6.403669e+10  6.025486e+10  5.531356e+10   \n3  038120   AD모터스  4.673474e+10  6.283227e+10  5.068938e+10  3.961572e+10   \n4  013340     AJS  7.526157e+10  3.904602e+10  4.085304e+10  4.158156e+10   \n\n       2012_1분기      2012_2분기      2012_3분기      2012_4분기  ...      2019_4분기  \\\n0  3.341377e+10  2.787366e+10  3.579909e+10           NaN  ...           NaN   \n1  8.105189e+11  6.818519e+11  4.246380e+11  2.784926e+11  ...  1.233659e+11   \n2  6.666784e+10  4.846599e+10  5.162168e+10  5.260622e+10  ...           NaN   \n3  2.506364e+10  2.417696e+10  1.974917e+10  6.412671e+09  ...           NaN   \n4  4.818040e+10  3.632788e+10  3.888645e+10  3.414454e+10  ...           NaN   \n\n       2020_1분기      2020_2분기      2020_3분기      2020_4분기      2021_1분기  \\\n0           NaN           NaN           NaN           NaN           NaN   \n1  7.758085e+10  1.125983e+11  9.734207e+10  9.983493e+10  1.094778e+11   \n2           NaN           NaN           NaN           NaN           NaN   \n3           NaN           NaN           NaN           NaN           NaN   \n4           NaN           NaN           NaN           NaN           NaN   \n\n       2021_2분기      2021_3분기      2021_4분기      2022_1분기  \n0           NaN           NaN           NaN           NaN  \n1  1.452264e+11  1.782295e+11  1.518773e+11  1.518201e+11  \n2           NaN           NaN           NaN           NaN  \n3           NaN           NaN           NaN           NaN  \n4           NaN           NaN           NaN           NaN  \n\n[5 rows x 47 columns]",
      "text/html": "<div>\n<style scoped>\n    .dataframe tbody tr th:only-of-type {\n        vertical-align: middle;\n    }\n\n    .dataframe tbody tr th {\n        vertical-align: top;\n    }\n\n    .dataframe thead th {\n        text-align: right;\n    }\n</style>\n<table border=\"1\" class=\"dataframe\">\n  <thead>\n    <tr style=\"text-align: right;\">\n      <th></th>\n      <th>종목코드</th>\n      <th>종목명</th>\n      <th>2011_1분기</th>\n      <th>2011_2분기</th>\n      <th>2011_3분기</th>\n      <th>2011_4분기</th>\n      <th>2012_1분기</th>\n      <th>2012_2분기</th>\n      <th>2012_3분기</th>\n      <th>2012_4분기</th>\n      <th>...</th>\n      <th>2019_4분기</th>\n      <th>2020_1분기</th>\n      <th>2020_2분기</th>\n      <th>2020_3분기</th>\n      <th>2020_4분기</th>\n      <th>2021_1분기</th>\n      <th>2021_2분기</th>\n      <th>2021_3분기</th>\n      <th>2021_4분기</th>\n      <th>2022_1분기</th>\n    </tr>\n  </thead>\n  <tbody>\n    <tr>\n      <th>0</th>\n      <td>069110</td>\n      <td>3H</td>\n      <td>4.421505e+10</td>\n      <td>4.780265e+10</td>\n      <td>4.631109e+10</td>\n      <td>3.723739e+10</td>\n      <td>3.341377e+10</td>\n      <td>2.787366e+10</td>\n      <td>3.579909e+10</td>\n      <td>NaN</td>\n      <td>...</td>\n      <td>NaN</td>\n      <td>NaN</td>\n      <td>NaN</td>\n      <td>NaN</td>\n      <td>NaN</td>\n      <td>NaN</td>\n      <td>NaN</td>\n      <td>NaN</td>\n      <td>NaN</td>\n      <td>NaN</td>\n    </tr>\n    <tr>\n      <th>1</th>\n      <td>060310</td>\n      <td>3S</td>\n      <td>1.500834e+11</td>\n      <td>1.480114e+11</td>\n      <td>3.503794e+11</td>\n      <td>9.867575e+11</td>\n      <td>8.105189e+11</td>\n      <td>6.818519e+11</td>\n      <td>4.246380e+11</td>\n      <td>2.784926e+11</td>\n      <td>...</td>\n      <td>1.233659e+11</td>\n      <td>7.758085e+10</td>\n      <td>1.125983e+11</td>\n      <td>9.734207e+10</td>\n      <td>9.983493e+10</td>\n      <td>1.094778e+11</td>\n      <td>1.452264e+11</td>\n      <td>1.782295e+11</td>\n      <td>1.518773e+11</td>\n      <td>1.518201e+11</td>\n    </tr>\n    <tr>\n      <th>2</th>\n      <td>900010</td>\n      <td>3노드디지탈</td>\n      <td>9.693474e+10</td>\n      <td>6.403669e+10</td>\n      <td>6.025486e+10</td>\n      <td>5.531356e+10</td>\n      <td>6.666784e+10</td>\n      <td>4.846599e+10</td>\n      <td>5.162168e+10</td>\n      <td>5.260622e+10</td>\n      <td>...</td>\n      <td>NaN</td>\n      <td>NaN</td>\n      <td>NaN</td>\n      <td>NaN</td>\n      <td>NaN</td>\n      <td>NaN</td>\n      <td>NaN</td>\n      <td>NaN</td>\n      <td>NaN</td>\n      <td>NaN</td>\n    </tr>\n    <tr>\n      <th>3</th>\n      <td>038120</td>\n      <td>AD모터스</td>\n      <td>4.673474e+10</td>\n      <td>6.283227e+10</td>\n      <td>5.068938e+10</td>\n      <td>3.961572e+10</td>\n      <td>2.506364e+10</td>\n      <td>2.417696e+10</td>\n      <td>1.974917e+10</td>\n      <td>6.412671e+09</td>\n      <td>...</td>\n      <td>NaN</td>\n      <td>NaN</td>\n      <td>NaN</td>\n      <td>NaN</td>\n      <td>NaN</td>\n      <td>NaN</td>\n      <td>NaN</td>\n      <td>NaN</td>\n      <td>NaN</td>\n      <td>NaN</td>\n    </tr>\n    <tr>\n      <th>4</th>\n      <td>013340</td>\n      <td>AJS</td>\n      <td>7.526157e+10</td>\n      <td>3.904602e+10</td>\n      <td>4.085304e+10</td>\n      <td>4.158156e+10</td>\n      <td>4.818040e+10</td>\n      <td>3.632788e+10</td>\n      <td>3.888645e+10</td>\n      <td>3.414454e+10</td>\n      <td>...</td>\n      <td>NaN</td>\n      <td>NaN</td>\n      <td>NaN</td>\n      <td>NaN</td>\n      <td>NaN</td>\n      <td>NaN</td>\n      <td>NaN</td>\n      <td>NaN</td>\n      <td>NaN</td>\n      <td>NaN</td>\n    </tr>\n  </tbody>\n</table>\n<p>5 rows × 47 columns</p>\n</div>"
     },
     "execution_count": 75,
     "metadata": {},
     "output_type": "execute_result"
    }
   ],
   "source": [
    "df_siga = pd.read_csv('./data/시가총액.csv')\n",
    "df_siga.drop(columns=['Unnamed: 0'], inplace=True)\n",
    "df_siga.head()"
   ],
   "metadata": {
    "collapsed": false,
    "pycharm": {
     "name": "#%%\n"
    }
   }
  },
  {
   "cell_type": "code",
   "execution_count": null,
   "outputs": [],
   "source": [],
   "metadata": {
    "collapsed": false,
    "pycharm": {
     "name": "#%%\n"
    }
   }
  }
 ],
 "metadata": {
  "kernelspec": {
   "display_name": "Python 3",
   "language": "python",
   "name": "python3"
  },
  "language_info": {
   "codemirror_mode": {
    "name": "ipython",
    "version": 2
   },
   "file_extension": ".py",
   "mimetype": "text/x-python",
   "name": "python",
   "nbconvert_exporter": "python",
   "pygments_lexer": "ipython2",
   "version": "2.7.6"
  }
 },
 "nbformat": 4,
 "nbformat_minor": 0
}