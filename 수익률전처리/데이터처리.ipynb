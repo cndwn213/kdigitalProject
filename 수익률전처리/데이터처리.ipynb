{
 "cells": [
  {
   "cell_type": "code",
   "execution_count": 4,
   "outputs": [],
   "source": [
    "import numpy as np\n",
    "import pandas as pd\n",
    "import matplotlib.pyplot as plt\n",
    "import matplotlib as mpl\n",
    "import matplotlib.font_manager as fm\n",
    "import seaborn as sns\n",
    "import warnings\n",
    "warnings.filterwarnings('ignore')\n",
    "%matplotlib inline"
   ],
   "metadata": {
    "collapsed": false,
    "pycharm": {
     "name": "#%%\n"
    }
   }
  },
  {
   "cell_type": "code",
   "execution_count": 5,
   "outputs": [],
   "source": [
    "def read_data(filepath):\n",
    "    df = pd.read_csv(filepath)\n",
    "    return df"
   ],
   "metadata": {
    "collapsed": false,
    "pycharm": {
     "name": "#%%\n"
    }
   }
  },
  {
   "cell_type": "markdown",
   "source": [
    "### 회사 연도별 주식데이터를 통해 수익률 계산"
   ],
   "metadata": {
    "collapsed": false,
    "pycharm": {
     "name": "#%% md\n"
    }
   }
  },
  {
   "cell_type": "code",
   "execution_count": 13,
   "outputs": [],
   "source": [
    "def data_process_year(df):\n",
    "    year_list = []\n",
    "    month_list = []\n",
    "    day_list = []\n",
    "\n",
    "    for i in df.index:\n",
    "        date = df.loc[i, 'Date'].split('-')\n",
    "        year_list.append(date[0])\n",
    "        month_list.append(date[1])\n",
    "        day_list.append(date[2])\n",
    "\n",
    "    df['year'] = year_list\n",
    "    df['month'] = month_list\n",
    "    df['day'] = day_list\n",
    "\n",
    "    #날짜 데이터 타입 변경\n",
    "    df = df.astype({'year':'int64', 'month':'int64', 'day':'int64'})\n",
    "    # df_ym_db = df.groupby(['year', 'month'])[['Close']].mean()\n",
    "\n",
    "    mean_df = df.groupby(['year'])[['Close']].mean()\n",
    "    mean_df = mean_df.pct_change() * 100\n",
    "    mean_df.reset_index(drop=False, inplace=True)\n",
    "    mean_df.rename(columns={'Close':'수익률'}, inplace=True)\n",
    "\n",
    "    return mean_df\n",
    "\n",
    "def show_chart_year(name, df):\n",
    "    plt.rcParams['axes.unicode_minus'] = False\n",
    "    plt.rcParams['font.family'] = 'Malgun Gothic'\n",
    "    plt.figure(figsize=(10,6))\n",
    "\n",
    "    # sns.set(style='darkgrid')\n",
    "    sns.lineplot('year', '수익률', data=df)\n",
    "    plt.title(f'10년 동안 {name} 수익률(%)')\n",
    "    plt.show()\n"
   ],
   "metadata": {
    "collapsed": false,
    "pycharm": {
     "name": "#%%\n"
    }
   }
  },
  {
   "cell_type": "code",
   "execution_count": 99,
   "outputs": [
    {
     "data": {
      "text/plain": "<Figure size 720x432 with 1 Axes>",
      "image/png": "[encoded data removed]"
     },
     "metadata": {
      "needs_background": "light"
     },
     "output_type": "display_data"
    }
   ],
   "source": [
    "import os\n",
    "jusik_files = os.listdir('./data/회사별주식데이터/')\n",
    "total_profit_df = pd.DataFrame()\n",
    "company_name = []\n",
    "\n",
    "for name in jusik_files[:1]:\n",
    "    jusik_df = read_data(f'./data/회사별주식데이터/{name}')\n",
    "    profit_df = data_process_year(jusik_df)\n",
    "    # for i in range(len(profit_df)):\n",
    "    #     company_name.append(name[:-4])\n",
    "    # total_profit_df = pd.concat([total_profit_df, profit_df], ignore_index=True)\n",
    "    show_chart_year(name[:-4], profit_df)\n",
    "#\n",
    "# total_profit_df['종목명'] = company_name\n",
    "# total_profit_df.head()"
   ],
   "metadata": {
    "collapsed": false,
    "pycharm": {
     "name": "#%%\n"
    }
   }
  },
  {
   "cell_type": "code",
   "execution_count": 25,
   "outputs": [],
   "source": [
    "total_profit_df.to_csv('./data/모든회사수익률데이터/회사수익률.csv', index=False)"
   ],
   "metadata": {
    "collapsed": false,
    "pycharm": {
     "name": "#%%\n"
    }
   }
  },
  {
   "cell_type": "markdown",
   "source": [
    "### 회사별 연도별 수익률 데이터 하나로 합치기"
   ],
   "metadata": {
    "collapsed": false,
    "pycharm": {
     "name": "#%% md\n"
    }
   }
  },
  {
   "cell_type": "code",
   "execution_count": null,
   "outputs": [],
   "source": [
    "'''\n",
    "        연도 수익률 종합등급 환경 사회 지배구조 ROA ROE Q KOSPI\n",
    "회사1\n",
    "회사2\n",
    "회사3\n",
    "...\n",
    "회사N\n",
    "\n",
    "'''"
   ],
   "metadata": {
    "collapsed": false,
    "pycharm": {
     "name": "#%%\n"
    }
   }
  },
  {
   "cell_type": "markdown",
   "source": [
    "### 수익률과 ESG 등급 매치시키기 (merge)"
   ],
   "metadata": {
    "collapsed": false,
    "pycharm": {
     "name": "#%% md\n"
    }
   }
  },
  {
   "cell_type": "code",
   "execution_count": 6,
   "outputs": [
    {
     "data": {
      "text/plain": "       기업명 종합등급 환경  사회 지배구조    연도    기업코드\n0   AJ네트웍스    B  D   B    B  2022  095570\n1    AK홀딩스   B+  B  B+   B+  2022  006840\n2      BGF    A  A  A+    A  2022  027410\n3   BGF리테일    A  A  A+    A  2022  282330\n4  BNK금융지주   A+  A  A+   A+  2022  138930",
      "text/html": "<div>\n<style scoped>\n    .dataframe tbody tr th:only-of-type {\n        vertical-align: middle;\n    }\n\n    .dataframe tbody tr th {\n        vertical-align: top;\n    }\n\n    .dataframe thead th {\n        text-align: right;\n    }\n</style>\n<table border=\"1\" class=\"dataframe\">\n  <thead>\n    <tr style=\"text-align: right;\">\n      <th></th>\n      <th>기업명</th>\n      <th>종합등급</th>\n      <th>환경</th>\n      <th>사회</th>\n      <th>지배구조</th>\n      <th>연도</th>\n      <th>기업코드</th>\n    </tr>\n  </thead>\n  <tbody>\n    <tr>\n      <th>0</th>\n      <td>AJ네트웍스</td>\n      <td>B</td>\n      <td>D</td>\n      <td>B</td>\n      <td>B</td>\n      <td>2022</td>\n      <td>095570</td>\n    </tr>\n    <tr>\n      <th>1</th>\n      <td>AK홀딩스</td>\n      <td>B+</td>\n      <td>B</td>\n      <td>B+</td>\n      <td>B+</td>\n      <td>2022</td>\n      <td>006840</td>\n    </tr>\n    <tr>\n      <th>2</th>\n      <td>BGF</td>\n      <td>A</td>\n      <td>A</td>\n      <td>A+</td>\n      <td>A</td>\n      <td>2022</td>\n      <td>027410</td>\n    </tr>\n    <tr>\n      <th>3</th>\n      <td>BGF리테일</td>\n      <td>A</td>\n      <td>A</td>\n      <td>A+</td>\n      <td>A</td>\n      <td>2022</td>\n      <td>282330</td>\n    </tr>\n    <tr>\n      <th>4</th>\n      <td>BNK금융지주</td>\n      <td>A+</td>\n      <td>A</td>\n      <td>A+</td>\n      <td>A+</td>\n      <td>2022</td>\n      <td>138930</td>\n    </tr>\n  </tbody>\n</table>\n</div>"
     },
     "execution_count": 6,
     "metadata": {},
     "output_type": "execute_result"
    }
   ],
   "source": [
    "esg_df = pd.read_csv('data/data(11-18)/2011_2022_ESGdata')\n",
    "esg_df.drop(columns=['Unnamed: 0'], inplace=True)\n",
    "esg_df.head()"
   ],
   "metadata": {
    "collapsed": false,
    "pycharm": {
     "name": "#%%\n"
    }
   }
  },
  {
   "cell_type": "code",
   "execution_count": 7,
   "outputs": [
    {
     "data": {
      "text/plain": "         기업명 종합등급  환경  사회 지배구조    연도    기업코드\n8732  하나금융지주   B+  A+  B+    B  2011  086790\n8733    하나은행    B   A   B    B  2011  004940\n8734      서연    B   B   B    B  2018  007860\n8735    서연이화   B+  B+  B+    B  2018  200880\n8736  서울도시가스    B   B   B    B  2018  017390",
      "text/html": "<div>\n<style scoped>\n    .dataframe tbody tr th:only-of-type {\n        vertical-align: middle;\n    }\n\n    .dataframe tbody tr th {\n        vertical-align: top;\n    }\n\n    .dataframe thead th {\n        text-align: right;\n    }\n</style>\n<table border=\"1\" class=\"dataframe\">\n  <thead>\n    <tr style=\"text-align: right;\">\n      <th></th>\n      <th>기업명</th>\n      <th>종합등급</th>\n      <th>환경</th>\n      <th>사회</th>\n      <th>지배구조</th>\n      <th>연도</th>\n      <th>기업코드</th>\n    </tr>\n  </thead>\n  <tbody>\n    <tr>\n      <th>8732</th>\n      <td>하나금융지주</td>\n      <td>B+</td>\n      <td>A+</td>\n      <td>B+</td>\n      <td>B</td>\n      <td>2011</td>\n      <td>086790</td>\n    </tr>\n    <tr>\n      <th>8733</th>\n      <td>하나은행</td>\n      <td>B</td>\n      <td>A</td>\n      <td>B</td>\n      <td>B</td>\n      <td>2011</td>\n      <td>004940</td>\n    </tr>\n    <tr>\n      <th>8734</th>\n      <td>서연</td>\n      <td>B</td>\n      <td>B</td>\n      <td>B</td>\n      <td>B</td>\n      <td>2018</td>\n      <td>007860</td>\n    </tr>\n    <tr>\n      <th>8735</th>\n      <td>서연이화</td>\n      <td>B+</td>\n      <td>B+</td>\n      <td>B+</td>\n      <td>B</td>\n      <td>2018</td>\n      <td>200880</td>\n    </tr>\n    <tr>\n      <th>8736</th>\n      <td>서울도시가스</td>\n      <td>B</td>\n      <td>B</td>\n      <td>B</td>\n      <td>B</td>\n      <td>2018</td>\n      <td>017390</td>\n    </tr>\n  </tbody>\n</table>\n</div>"
     },
     "execution_count": 7,
     "metadata": {},
     "output_type": "execute_result"
    }
   ],
   "source": [
    "esg_df.tail()"
   ],
   "metadata": {
    "collapsed": false,
    "pycharm": {
     "name": "#%%\n"
    }
   }
  },
  {
   "cell_type": "code",
   "execution_count": 27,
   "outputs": [
    {
     "data": {
      "text/plain": "      종목명  year        수익률\n0  AJ네트웍스  2015        NaN\n1  AJ네트웍스  2016 -16.696604\n2  AJ네트웍스  2017  -5.305182\n3  AJ네트웍스  2018 -10.580189\n4  AJ네트웍스  2019 -19.419833",
      "text/html": "<div>\n<style scoped>\n    .dataframe tbody tr th:only-of-type {\n        vertical-align: middle;\n    }\n\n    .dataframe tbody tr th {\n        vertical-align: top;\n    }\n\n    .dataframe thead th {\n        text-align: right;\n    }\n</style>\n<table border=\"1\" class=\"dataframe\">\n  <thead>\n    <tr style=\"text-align: right;\">\n      <th></th>\n      <th>종목명</th>\n      <th>year</th>\n      <th>수익률</th>\n    </tr>\n  </thead>\n  <tbody>\n    <tr>\n      <th>0</th>\n      <td>AJ네트웍스</td>\n      <td>2015</td>\n      <td>NaN</td>\n    </tr>\n    <tr>\n      <th>1</th>\n      <td>AJ네트웍스</td>\n      <td>2016</td>\n      <td>-16.696604</td>\n    </tr>\n    <tr>\n      <th>2</th>\n      <td>AJ네트웍스</td>\n      <td>2017</td>\n      <td>-5.305182</td>\n    </tr>\n    <tr>\n      <th>3</th>\n      <td>AJ네트웍스</td>\n      <td>2018</td>\n      <td>-10.580189</td>\n    </tr>\n    <tr>\n      <th>4</th>\n      <td>AJ네트웍스</td>\n      <td>2019</td>\n      <td>-19.419833</td>\n    </tr>\n  </tbody>\n</table>\n</div>"
     },
     "execution_count": 27,
     "metadata": {},
     "output_type": "execute_result"
    }
   ],
   "source": [
    "total_profit_df = pd.read_csv('./data/모든회사수익률데이터/회사수익률.csv')\n",
    "total_profit_df = total_profit_df[['종목명', 'year', '수익률']]\n",
    "total_profit_df.head()"
   ],
   "metadata": {
    "collapsed": false,
    "pycharm": {
     "name": "#%%\n"
    }
   }
  },
  {
   "cell_type": "code",
   "execution_count": 33,
   "outputs": [],
   "source": [
    "del_list = []\n",
    "\n",
    "for i in total_profit_df.index:\n",
    "    year = total_profit_df.loc[i, 'year']\n",
    "    if year == 2010:\n",
    "        del_list.append(i)\n",
    "\n",
    "total_profit_df.drop(del_list, inplace=True)\n",
    "total_profit_df.rename(columns={'year':'연도'}, inplace=True)"
   ],
   "metadata": {
    "collapsed": false,
    "pycharm": {
     "name": "#%%\n"
    }
   }
  },
  {
   "cell_type": "code",
   "execution_count": 45,
   "outputs": [
    {
     "data": {
      "text/plain": "         종목명    연도        수익률\n0     AJ네트웍스  2015        NaN\n1     AJ네트웍스  2016 -16.696604\n2     AJ네트웍스  2017  -5.305182\n3     AJ네트웍스  2018 -10.580189\n4     AJ네트웍스  2019 -19.419833\n...      ...   ...        ...\n7982      후성  2018   9.756829\n7983      후성  2019 -16.629993\n7984      후성  2020   2.963594\n7985      후성  2021  71.718989\n7986      후성  2022  40.880806\n\n[7425 rows x 3 columns]",
      "text/html": "<div>\n<style scoped>\n    .dataframe tbody tr th:only-of-type {\n        vertical-align: middle;\n    }\n\n    .dataframe tbody tr th {\n        vertical-align: top;\n    }\n\n    .dataframe thead th {\n        text-align: right;\n    }\n</style>\n<table border=\"1\" class=\"dataframe\">\n  <thead>\n    <tr style=\"text-align: right;\">\n      <th></th>\n      <th>종목명</th>\n      <th>연도</th>\n      <th>수익률</th>\n    </tr>\n  </thead>\n  <tbody>\n    <tr>\n      <th>0</th>\n      <td>AJ네트웍스</td>\n      <td>2015</td>\n      <td>NaN</td>\n    </tr>\n    <tr>\n      <th>1</th>\n      <td>AJ네트웍스</td>\n      <td>2016</td>\n      <td>-16.696604</td>\n    </tr>\n    <tr>\n      <th>2</th>\n      <td>AJ네트웍스</td>\n      <td>2017</td>\n      <td>-5.305182</td>\n    </tr>\n    <tr>\n      <th>3</th>\n      <td>AJ네트웍스</td>\n      <td>2018</td>\n      <td>-10.580189</td>\n    </tr>\n    <tr>\n      <th>4</th>\n      <td>AJ네트웍스</td>\n      <td>2019</td>\n      <td>-19.419833</td>\n    </tr>\n    <tr>\n      <th>...</th>\n      <td>...</td>\n      <td>...</td>\n      <td>...</td>\n    </tr>\n    <tr>\n      <th>7982</th>\n      <td>후성</td>\n      <td>2018</td>\n      <td>9.756829</td>\n    </tr>\n    <tr>\n      <th>7983</th>\n      <td>후성</td>\n      <td>2019</td>\n      <td>-16.629993</td>\n    </tr>\n    <tr>\n      <th>7984</th>\n      <td>후성</td>\n      <td>2020</td>\n      <td>2.963594</td>\n    </tr>\n    <tr>\n      <th>7985</th>\n      <td>후성</td>\n      <td>2021</td>\n      <td>71.718989</td>\n    </tr>\n    <tr>\n      <th>7986</th>\n      <td>후성</td>\n      <td>2022</td>\n      <td>40.880806</td>\n    </tr>\n  </tbody>\n</table>\n<p>7425 rows × 3 columns</p>\n</div>"
     },
     "execution_count": 45,
     "metadata": {},
     "output_type": "execute_result"
    }
   ],
   "source": [
    "total_profit_df"
   ],
   "metadata": {
    "collapsed": false,
    "pycharm": {
     "name": "#%%\n"
    }
   }
  },
  {
   "cell_type": "code",
   "execution_count": 41,
   "outputs": [],
   "source": [
    "esg_df = esg_df[['기업명', '연도', '종합등급', '환경', '사회', '지배구조']]\n",
    "esg_df.rename(columns={'기업명':'종목명'}, inplace=True)"
   ],
   "metadata": {
    "collapsed": false,
    "pycharm": {
     "name": "#%%\n"
    }
   }
  },
  {
   "cell_type": "code",
   "execution_count": 47,
   "outputs": [
    {
     "data": {
      "text/plain": "         종목명    연도        수익률 종합등급   환경   사회 지배구조\n0     AJ네트웍스  2015        NaN  NaN  NaN  NaN  NaN\n1     AJ네트웍스  2016 -16.696604    B    C    B    B\n2     AJ네트웍스  2017  -5.305182    B    B    B    B\n3     AJ네트웍스  2018 -10.580189    B    C    B    B\n4     AJ네트웍스  2019 -19.419833    B    D    B    B\n...      ...   ...        ...  ...  ...  ...  ...\n7434      후성  2018   9.756829    B    B    B   B+\n7435      후성  2019 -16.629993    B    B    C    B\n7436      후성  2020   2.963594    C    B    C    C\n7437      후성  2021  71.718989   B+    A    B    B\n7438      후성  2022  40.880806   B+    A    B    B\n\n[7439 rows x 7 columns]",
      "text/html": "<div>\n<style scoped>\n    .dataframe tbody tr th:only-of-type {\n        vertical-align: middle;\n    }\n\n    .dataframe tbody tr th {\n        vertical-align: top;\n    }\n\n    .dataframe thead th {\n        text-align: right;\n    }\n</style>\n<table border=\"1\" class=\"dataframe\">\n  <thead>\n    <tr style=\"text-align: right;\">\n      <th></th>\n      <th>종목명</th>\n      <th>연도</th>\n      <th>수익률</th>\n      <th>종합등급</th>\n      <th>환경</th>\n      <th>사회</th>\n      <th>지배구조</th>\n    </tr>\n  </thead>\n  <tbody>\n    <tr>\n      <th>0</th>\n      <td>AJ네트웍스</td>\n      <td>2015</td>\n      <td>NaN</td>\n      <td>NaN</td>\n      <td>NaN</td>\n      <td>NaN</td>\n      <td>NaN</td>\n    </tr>\n    <tr>\n      <th>1</th>\n      <td>AJ네트웍스</td>\n      <td>2016</td>\n      <td>-16.696604</td>\n      <td>B</td>\n      <td>C</td>\n      <td>B</td>\n      <td>B</td>\n    </tr>\n    <tr>\n      <th>2</th>\n      <td>AJ네트웍스</td>\n      <td>2017</td>\n      <td>-5.305182</td>\n      <td>B</td>\n      <td>B</td>\n      <td>B</td>\n      <td>B</td>\n    </tr>\n    <tr>\n      <th>3</th>\n      <td>AJ네트웍스</td>\n      <td>2018</td>\n      <td>-10.580189</td>\n      <td>B</td>\n      <td>C</td>\n      <td>B</td>\n      <td>B</td>\n    </tr>\n    <tr>\n      <th>4</th>\n      <td>AJ네트웍스</td>\n      <td>2019</td>\n      <td>-19.419833</td>\n      <td>B</td>\n      <td>D</td>\n      <td>B</td>\n      <td>B</td>\n    </tr>\n    <tr>\n      <th>...</th>\n      <td>...</td>\n      <td>...</td>\n      <td>...</td>\n      <td>...</td>\n      <td>...</td>\n      <td>...</td>\n      <td>...</td>\n    </tr>\n    <tr>\n      <th>7434</th>\n      <td>후성</td>\n      <td>2018</td>\n      <td>9.756829</td>\n      <td>B</td>\n      <td>B</td>\n      <td>B</td>\n      <td>B+</td>\n    </tr>\n    <tr>\n      <th>7435</th>\n      <td>후성</td>\n      <td>2019</td>\n      <td>-16.629993</td>\n      <td>B</td>\n      <td>B</td>\n      <td>C</td>\n      <td>B</td>\n    </tr>\n    <tr>\n      <th>7436</th>\n      <td>후성</td>\n      <td>2020</td>\n      <td>2.963594</td>\n      <td>C</td>\n      <td>B</td>\n      <td>C</td>\n      <td>C</td>\n    </tr>\n    <tr>\n      <th>7437</th>\n      <td>후성</td>\n      <td>2021</td>\n      <td>71.718989</td>\n      <td>B+</td>\n      <td>A</td>\n      <td>B</td>\n      <td>B</td>\n    </tr>\n    <tr>\n      <th>7438</th>\n      <td>후성</td>\n      <td>2022</td>\n      <td>40.880806</td>\n      <td>B+</td>\n      <td>A</td>\n      <td>B</td>\n      <td>B</td>\n    </tr>\n  </tbody>\n</table>\n<p>7439 rows × 7 columns</p>\n</div>"
     },
     "execution_count": 47,
     "metadata": {},
     "output_type": "execute_result"
    }
   ],
   "source": [
    "merged_df = pd.merge(total_profit_df, esg_df, on=['종목명', '연도'], how='left')\n",
    "merged_df"
   ],
   "metadata": {
    "collapsed": false,
    "pycharm": {
     "name": "#%%\n"
    }
   }
  },
  {
   "cell_type": "markdown",
   "source": [
    "### 코스피 지수 연도별로 평균치 구하기"
   ],
   "metadata": {
    "collapsed": false,
    "pycharm": {
     "name": "#%% md\n"
    }
   }
  },
  {
   "cell_type": "code",
   "execution_count": 65,
   "outputs": [
    {
     "data": {
      "text/plain": "            Date        KOSPI\n0     2011-01-03  2070.080078\n1     2011-01-04  2085.139893\n2     2011-01-05  2082.550049\n3     2011-01-06  2077.610107\n4     2011-01-07  2086.199951\n...          ...          ...\n2785  2022-04-28  2667.489990\n2786  2022-04-29  2695.050049\n2787  2022-05-02  2687.449951\n2788  2022-05-03  2680.459961\n2789  2022-05-04  2685.149902\n\n[2790 rows x 2 columns]",
      "text/html": "<div>\n<style scoped>\n    .dataframe tbody tr th:only-of-type {\n        vertical-align: middle;\n    }\n\n    .dataframe tbody tr th {\n        vertical-align: top;\n    }\n\n    .dataframe thead th {\n        text-align: right;\n    }\n</style>\n<table border=\"1\" class=\"dataframe\">\n  <thead>\n    <tr style=\"text-align: right;\">\n      <th></th>\n      <th>Date</th>\n      <th>KOSPI</th>\n    </tr>\n  </thead>\n  <tbody>\n    <tr>\n      <th>0</th>\n      <td>2011-01-03</td>\n      <td>2070.080078</td>\n    </tr>\n    <tr>\n      <th>1</th>\n      <td>2011-01-04</td>\n      <td>2085.139893</td>\n    </tr>\n    <tr>\n      <th>2</th>\n      <td>2011-01-05</td>\n      <td>2082.550049</td>\n    </tr>\n    <tr>\n      <th>3</th>\n      <td>2011-01-06</td>\n      <td>2077.610107</td>\n    </tr>\n    <tr>\n      <th>4</th>\n      <td>2011-01-07</td>\n      <td>2086.199951</td>\n    </tr>\n    <tr>\n      <th>...</th>\n      <td>...</td>\n      <td>...</td>\n    </tr>\n    <tr>\n      <th>2785</th>\n      <td>2022-04-28</td>\n      <td>2667.489990</td>\n    </tr>\n    <tr>\n      <th>2786</th>\n      <td>2022-04-29</td>\n      <td>2695.050049</td>\n    </tr>\n    <tr>\n      <th>2787</th>\n      <td>2022-05-02</td>\n      <td>2687.449951</td>\n    </tr>\n    <tr>\n      <th>2788</th>\n      <td>2022-05-03</td>\n      <td>2680.459961</td>\n    </tr>\n    <tr>\n      <th>2789</th>\n      <td>2022-05-04</td>\n      <td>2685.149902</td>\n    </tr>\n  </tbody>\n</table>\n<p>2790 rows × 2 columns</p>\n</div>"
     },
     "execution_count": 65,
     "metadata": {},
     "output_type": "execute_result"
    }
   ],
   "source": [
    "kospi_df = pd.read_csv('data/코스피지수.csv')\n",
    "kospi_df"
   ],
   "metadata": {
    "collapsed": false,
    "pycharm": {
     "name": "#%%\n"
    }
   }
  },
  {
   "cell_type": "code",
   "execution_count": 66,
   "outputs": [],
   "source": [
    "def kospi_process(df):\n",
    "    year_list = []\n",
    "    month_list = []\n",
    "    day_list = []\n",
    "\n",
    "    for i in df.index:\n",
    "        date = df.loc[i, 'Date'].split('-')\n",
    "        year_list.append(date[0])\n",
    "        month_list.append(date[1])\n",
    "        day_list.append(date[2])\n",
    "\n",
    "    df['연도'] = year_list\n",
    "    df['month'] = month_list\n",
    "    df['day'] = day_list\n",
    "\n",
    "    #날짜 데이터 타입 변경\n",
    "    df = df.astype({'연도':'int64', 'month':'int64', 'day':'int64'})\n",
    "\n",
    "    mean_df = df.groupby(['연도'])[['KOSPI']].mean()\n",
    "\n",
    "    return mean_df"
   ],
   "metadata": {
    "collapsed": false,
    "pycharm": {
     "name": "#%%\n"
    }
   }
  },
  {
   "cell_type": "code",
   "execution_count": 67,
   "outputs": [],
   "source": [
    "kospi_df = kospi_process(kospi_df)\n",
    "kospi_df.reset_index(drop=False, inplace=True)\n",
    "kospi_df.to_csv('./data/연도별코스피지수.csv')"
   ],
   "metadata": {
    "collapsed": false,
    "pycharm": {
     "name": "#%%\n"
    }
   }
  },
  {
   "cell_type": "markdown",
   "source": [
    "### 최종 데이터에 코스피 지수 매치시키기"
   ],
   "metadata": {
    "collapsed": false,
    "pycharm": {
     "name": "#%% md\n"
    }
   }
  },
  {
   "cell_type": "code",
   "execution_count": 68,
   "outputs": [
    {
     "data": {
      "text/plain": "      연도        KOSPI\n0   2011  1984.542060\n1   2012  1930.372702\n2   2013  1960.499716\n3   2014  1982.158124\n4   2015  2011.848749\n5   2016  1987.003253\n6   2017  2310.368425\n7   2018  2325.009433\n8   2019  2106.053582\n9   2020  2220.068017\n10  2021  3111.217654\n11  2022  2742.057802",
      "text/html": "<div>\n<style scoped>\n    .dataframe tbody tr th:only-of-type {\n        vertical-align: middle;\n    }\n\n    .dataframe tbody tr th {\n        vertical-align: top;\n    }\n\n    .dataframe thead th {\n        text-align: right;\n    }\n</style>\n<table border=\"1\" class=\"dataframe\">\n  <thead>\n    <tr style=\"text-align: right;\">\n      <th></th>\n      <th>연도</th>\n      <th>KOSPI</th>\n    </tr>\n  </thead>\n  <tbody>\n    <tr>\n      <th>0</th>\n      <td>2011</td>\n      <td>1984.542060</td>\n    </tr>\n    <tr>\n      <th>1</th>\n      <td>2012</td>\n      <td>1930.372702</td>\n    </tr>\n    <tr>\n      <th>2</th>\n      <td>2013</td>\n      <td>1960.499716</td>\n    </tr>\n    <tr>\n      <th>3</th>\n      <td>2014</td>\n      <td>1982.158124</td>\n    </tr>\n    <tr>\n      <th>4</th>\n      <td>2015</td>\n      <td>2011.848749</td>\n    </tr>\n    <tr>\n      <th>5</th>\n      <td>2016</td>\n      <td>1987.003253</td>\n    </tr>\n    <tr>\n      <th>6</th>\n      <td>2017</td>\n      <td>2310.368425</td>\n    </tr>\n    <tr>\n      <th>7</th>\n      <td>2018</td>\n      <td>2325.009433</td>\n    </tr>\n    <tr>\n      <th>8</th>\n      <td>2019</td>\n      <td>2106.053582</td>\n    </tr>\n    <tr>\n      <th>9</th>\n      <td>2020</td>\n      <td>2220.068017</td>\n    </tr>\n    <tr>\n      <th>10</th>\n      <td>2021</td>\n      <td>3111.217654</td>\n    </tr>\n    <tr>\n      <th>11</th>\n      <td>2022</td>\n      <td>2742.057802</td>\n    </tr>\n  </tbody>\n</table>\n</div>"
     },
     "execution_count": 68,
     "metadata": {},
     "output_type": "execute_result"
    }
   ],
   "source": [
    "kospi_df"
   ],
   "metadata": {
    "collapsed": false,
    "pycharm": {
     "name": "#%%\n"
    }
   }
  },
  {
   "cell_type": "code",
   "execution_count": 75,
   "outputs": [
    {
     "data": {
      "text/plain": "         종목명    연도        수익률 종합등급   환경   사회 지배구조        KOSPI\n0     AJ네트웍스  2015        NaN  NaN  NaN  NaN  NaN  2011.848749\n1     AJ네트웍스  2016 -16.696604    B    C    B    B  1987.003253\n2     AJ네트웍스  2017  -5.305182    B    B    B    B  2310.368425\n3     AJ네트웍스  2018 -10.580189    B    C    B    B  2325.009433\n4     AJ네트웍스  2019 -19.419833    B    D    B    B  2106.053582\n...      ...   ...        ...  ...  ...  ...  ...          ...\n7434      후성  2018   9.756829    B    B    B   B+  2325.009433\n7435      후성  2019 -16.629993    B    B    C    B  2106.053582\n7436      후성  2020   2.963594    C    B    C    C  2220.068017\n7437      후성  2021  71.718989   B+    A    B    B  3111.217654\n7438      후성  2022  40.880806   B+    A    B    B  2742.057802\n\n[7439 rows x 8 columns]",
      "text/html": "<div>\n<style scoped>\n    .dataframe tbody tr th:only-of-type {\n        vertical-align: middle;\n    }\n\n    .dataframe tbody tr th {\n        vertical-align: top;\n    }\n\n    .dataframe thead th {\n        text-align: right;\n    }\n</style>\n<table border=\"1\" class=\"dataframe\">\n  <thead>\n    <tr style=\"text-align: right;\">\n      <th></th>\n      <th>종목명</th>\n      <th>연도</th>\n      <th>수익률</th>\n      <th>종합등급</th>\n      <th>환경</th>\n      <th>사회</th>\n      <th>지배구조</th>\n      <th>KOSPI</th>\n    </tr>\n  </thead>\n  <tbody>\n    <tr>\n      <th>0</th>\n      <td>AJ네트웍스</td>\n      <td>2015</td>\n      <td>NaN</td>\n      <td>NaN</td>\n      <td>NaN</td>\n      <td>NaN</td>\n      <td>NaN</td>\n      <td>2011.848749</td>\n    </tr>\n    <tr>\n      <th>1</th>\n      <td>AJ네트웍스</td>\n      <td>2016</td>\n      <td>-16.696604</td>\n      <td>B</td>\n      <td>C</td>\n      <td>B</td>\n      <td>B</td>\n      <td>1987.003253</td>\n    </tr>\n    <tr>\n      <th>2</th>\n      <td>AJ네트웍스</td>\n      <td>2017</td>\n      <td>-5.305182</td>\n      <td>B</td>\n      <td>B</td>\n      <td>B</td>\n      <td>B</td>\n      <td>2310.368425</td>\n    </tr>\n    <tr>\n      <th>3</th>\n      <td>AJ네트웍스</td>\n      <td>2018</td>\n      <td>-10.580189</td>\n      <td>B</td>\n      <td>C</td>\n      <td>B</td>\n      <td>B</td>\n      <td>2325.009433</td>\n    </tr>\n    <tr>\n      <th>4</th>\n      <td>AJ네트웍스</td>\n      <td>2019</td>\n      <td>-19.419833</td>\n      <td>B</td>\n      <td>D</td>\n      <td>B</td>\n      <td>B</td>\n      <td>2106.053582</td>\n    </tr>\n    <tr>\n      <th>...</th>\n      <td>...</td>\n      <td>...</td>\n      <td>...</td>\n      <td>...</td>\n      <td>...</td>\n      <td>...</td>\n      <td>...</td>\n      <td>...</td>\n    </tr>\n    <tr>\n      <th>7434</th>\n      <td>후성</td>\n      <td>2018</td>\n      <td>9.756829</td>\n      <td>B</td>\n      <td>B</td>\n      <td>B</td>\n      <td>B+</td>\n      <td>2325.009433</td>\n    </tr>\n    <tr>\n      <th>7435</th>\n      <td>후성</td>\n      <td>2019</td>\n      <td>-16.629993</td>\n      <td>B</td>\n      <td>B</td>\n      <td>C</td>\n      <td>B</td>\n      <td>2106.053582</td>\n    </tr>\n    <tr>\n      <th>7436</th>\n      <td>후성</td>\n      <td>2020</td>\n      <td>2.963594</td>\n      <td>C</td>\n      <td>B</td>\n      <td>C</td>\n      <td>C</td>\n      <td>2220.068017</td>\n    </tr>\n    <tr>\n      <th>7437</th>\n      <td>후성</td>\n      <td>2021</td>\n      <td>71.718989</td>\n      <td>B+</td>\n      <td>A</td>\n      <td>B</td>\n      <td>B</td>\n      <td>3111.217654</td>\n    </tr>\n    <tr>\n      <th>7438</th>\n      <td>후성</td>\n      <td>2022</td>\n      <td>40.880806</td>\n      <td>B+</td>\n      <td>A</td>\n      <td>B</td>\n      <td>B</td>\n      <td>2742.057802</td>\n    </tr>\n  </tbody>\n</table>\n<p>7439 rows × 8 columns</p>\n</div>"
     },
     "execution_count": 75,
     "metadata": {},
     "output_type": "execute_result"
    }
   ],
   "source": [
    "merged_df2 = pd.merge(merged_df, kospi_df, on='연도', how='left')\n",
    "merged_df2"
   ],
   "metadata": {
    "collapsed": false,
    "pycharm": {
     "name": "#%%\n"
    }
   }
  },
  {
   "cell_type": "code",
   "execution_count": 109,
   "outputs": [],
   "source": [
    "# def jemu_data_process(df):\n",
    "#     drop_idx = df[df['자산총계'] == '-'].index\n",
    "#     df.drop(drop_idx, inplace=True)\n",
    "#     df = df.astype({'자산총계':'int64'})\n",
    "#     df = df[['기업명', '연도', '자산총계', '자본총계', '당기순이익']]\n",
    "#\n",
    "#     jemu_year = []\n",
    "#     for i in df.index:\n",
    "#         name = df.loc[i, '기업명']\n",
    "#         year = str(df.loc[i, '연도'])[2:]\n",
    "#         jemu_year.append(name+'_'+year)\n",
    "#\n",
    "#     df['기업명_연도'] = jemu_year\n",
    "#     df = df[['기업명_연도', '자산총계', '자본총계', '당기순이익']]\n",
    "#\n",
    "#     # ROA, ROE 계산\n",
    "#     df['ROA'] = df['당기순이익'] / df['자산총계'] * 100\n",
    "#     df['ROE'] = df['당기순이익'] / df['자본총계'] * 100\n",
    "#     df.drop(columns=['자산총계', '자본총계', '당기순이익'], inplace=True)\n",
    "#\n",
    "#     return df\n",
    "#\n",
    "# def merge_df(df1, df2):\n",
    "#     merged_df = pd.merge(df1, df2, on='기업명_연도', how='left')\n",
    "#     return merged_df"
   ],
   "metadata": {
    "collapsed": false,
    "pycharm": {
     "name": "#%%\n"
    }
   }
  },
  {
   "cell_type": "code",
   "execution_count": 70,
   "outputs": [
    {
     "data": {
      "text/plain": "         종목명       2021       2020       2019      2018       2017       2016  \\\n0     지역난방공사   0.329259   0.459999  -0.434100 -4.003602   1.221306   2.468098   \n1    아시아나IDT  11.867460  -3.994284  -3.522264  4.468853   9.795924  12.854945   \n2       코스맥스   2.431885  -2.443426   1.521121  1.984152   1.661652   4.721321   \n3       경인양행   4.695501  -1.500994   3.468235  3.341888   1.335167   1.985928   \n4         국동  -4.718183   5.906318  -3.382628  1.715001  -8.435693   5.001944   \n..       ...        ...        ...        ...       ...        ...        ...   \n881     네이처셀 -45.988188 -22.005449   0.968753  4.226556  -0.895671  -9.251320   \n882   한국가스공사   2.208666  -0.447463   0.148223  1.327157  -3.208814  -1.529589   \n883   SK네트웍스   1.100212   0.479319  -1.209348  0.098687   0.478874  -0.946265   \n884       두산   2.524932  -3.191589   1.484781 -1.179043   0.159717   0.175883   \n885  오리엔트바이오 -21.859246 -16.802117 -35.883766 -8.530570 -15.250277  -1.432325   \n\n         2015      2014       2013       2012       2011  \n0    2.391064  1.398306   2.311534  -0.157896   2.020051  \n1         NaN       NaN        NaN        NaN        NaN  \n2    4.302619  4.837811        NaN        NaN        NaN  \n3    1.123672  3.241846   3.223183   1.004116   2.589728  \n4    5.584140  9.968135   5.489170 -10.959402  -1.769757  \n..        ...       ...        ...        ...        ...  \n881 -4.295236  7.723693 -15.245468  -6.537991  -1.012268  \n882  0.688375  0.956176  -0.466352   0.430084   0.763386  \n883  0.890377  0.371773  -6.665055   1.333901   1.624122  \n884 -5.389762  0.105994   0.417660   5.922213  12.960873  \n885 -1.200613 -7.317811   0.749424 -10.580991   2.941504  \n\n[886 rows x 12 columns]",
      "text/html": "<div>\n<style scoped>\n    .dataframe tbody tr th:only-of-type {\n        vertical-align: middle;\n    }\n\n    .dataframe tbody tr th {\n        vertical-align: top;\n    }\n\n    .dataframe thead th {\n        text-align: right;\n    }\n</style>\n<table border=\"1\" class=\"dataframe\">\n  <thead>\n    <tr style=\"text-align: right;\">\n      <th></th>\n      <th>종목명</th>\n      <th>2021</th>\n      <th>2020</th>\n      <th>2019</th>\n      <th>2018</th>\n      <th>2017</th>\n      <th>2016</th>\n      <th>2015</th>\n      <th>2014</th>\n      <th>2013</th>\n      <th>2012</th>\n      <th>2011</th>\n    </tr>\n  </thead>\n  <tbody>\n    <tr>\n      <th>0</th>\n      <td>지역난방공사</td>\n      <td>0.329259</td>\n      <td>0.459999</td>\n      <td>-0.434100</td>\n      <td>-4.003602</td>\n      <td>1.221306</td>\n      <td>2.468098</td>\n      <td>2.391064</td>\n      <td>1.398306</td>\n      <td>2.311534</td>\n      <td>-0.157896</td>\n      <td>2.020051</td>\n    </tr>\n    <tr>\n      <th>1</th>\n      <td>아시아나IDT</td>\n      <td>11.867460</td>\n      <td>-3.994284</td>\n      <td>-3.522264</td>\n      <td>4.468853</td>\n      <td>9.795924</td>\n      <td>12.854945</td>\n      <td>NaN</td>\n      <td>NaN</td>\n      <td>NaN</td>\n      <td>NaN</td>\n      <td>NaN</td>\n    </tr>\n    <tr>\n      <th>2</th>\n      <td>코스맥스</td>\n      <td>2.431885</td>\n      <td>-2.443426</td>\n      <td>1.521121</td>\n      <td>1.984152</td>\n      <td>1.661652</td>\n      <td>4.721321</td>\n      <td>4.302619</td>\n      <td>4.837811</td>\n      <td>NaN</td>\n      <td>NaN</td>\n      <td>NaN</td>\n    </tr>\n    <tr>\n      <th>3</th>\n      <td>경인양행</td>\n      <td>4.695501</td>\n      <td>-1.500994</td>\n      <td>3.468235</td>\n      <td>3.341888</td>\n      <td>1.335167</td>\n      <td>1.985928</td>\n      <td>1.123672</td>\n      <td>3.241846</td>\n      <td>3.223183</td>\n      <td>1.004116</td>\n      <td>2.589728</td>\n    </tr>\n    <tr>\n      <th>4</th>\n      <td>국동</td>\n      <td>-4.718183</td>\n      <td>5.906318</td>\n      <td>-3.382628</td>\n      <td>1.715001</td>\n      <td>-8.435693</td>\n      <td>5.001944</td>\n      <td>5.584140</td>\n      <td>9.968135</td>\n      <td>5.489170</td>\n      <td>-10.959402</td>\n      <td>-1.769757</td>\n    </tr>\n    <tr>\n      <th>...</th>\n      <td>...</td>\n      <td>...</td>\n      <td>...</td>\n      <td>...</td>\n      <td>...</td>\n      <td>...</td>\n      <td>...</td>\n      <td>...</td>\n      <td>...</td>\n      <td>...</td>\n      <td>...</td>\n      <td>...</td>\n    </tr>\n    <tr>\n      <th>881</th>\n      <td>네이처셀</td>\n      <td>-45.988188</td>\n      <td>-22.005449</td>\n      <td>0.968753</td>\n      <td>4.226556</td>\n      <td>-0.895671</td>\n      <td>-9.251320</td>\n      <td>-4.295236</td>\n      <td>7.723693</td>\n      <td>-15.245468</td>\n      <td>-6.537991</td>\n      <td>-1.012268</td>\n    </tr>\n    <tr>\n      <th>882</th>\n      <td>한국가스공사</td>\n      <td>2.208666</td>\n      <td>-0.447463</td>\n      <td>0.148223</td>\n      <td>1.327157</td>\n      <td>-3.208814</td>\n      <td>-1.529589</td>\n      <td>0.688375</td>\n      <td>0.956176</td>\n      <td>-0.466352</td>\n      <td>0.430084</td>\n      <td>0.763386</td>\n    </tr>\n    <tr>\n      <th>883</th>\n      <td>SK네트웍스</td>\n      <td>1.100212</td>\n      <td>0.479319</td>\n      <td>-1.209348</td>\n      <td>0.098687</td>\n      <td>0.478874</td>\n      <td>-0.946265</td>\n      <td>0.890377</td>\n      <td>0.371773</td>\n      <td>-6.665055</td>\n      <td>1.333901</td>\n      <td>1.624122</td>\n    </tr>\n    <tr>\n      <th>884</th>\n      <td>두산</td>\n      <td>2.524932</td>\n      <td>-3.191589</td>\n      <td>1.484781</td>\n      <td>-1.179043</td>\n      <td>0.159717</td>\n      <td>0.175883</td>\n      <td>-5.389762</td>\n      <td>0.105994</td>\n      <td>0.417660</td>\n      <td>5.922213</td>\n      <td>12.960873</td>\n    </tr>\n    <tr>\n      <th>885</th>\n      <td>오리엔트바이오</td>\n      <td>-21.859246</td>\n      <td>-16.802117</td>\n      <td>-35.883766</td>\n      <td>-8.530570</td>\n      <td>-15.250277</td>\n      <td>-1.432325</td>\n      <td>-1.200613</td>\n      <td>-7.317811</td>\n      <td>0.749424</td>\n      <td>-10.580991</td>\n      <td>2.941504</td>\n    </tr>\n  </tbody>\n</table>\n<p>886 rows × 12 columns</p>\n</div>"
     },
     "execution_count": 70,
     "metadata": {},
     "output_type": "execute_result"
    }
   ],
   "source": [
    "roa_df = pd.read_csv('./data/ROAE/ROA.csv')\n",
    "roa_df.drop(columns=['Unnamed: 0'], inplace=True)\n",
    "roa_df"
   ],
   "metadata": {
    "collapsed": false,
    "pycharm": {
     "name": "#%%\n"
    }
   }
  },
  {
   "cell_type": "code",
   "execution_count": 71,
   "outputs": [
    {
     "data": {
      "text/plain": "         종목명       2021       2020       2019       2018       2017  \\\n0     지역난방공사   1.177011   1.548808  -1.672549 -14.519332   3.819035   \n1    아시아나IDT  16.944344  -6.283906  -5.695105   6.222715  14.154269   \n2       코스맥스   7.378088 -10.685314   5.788710   8.709081   6.795555   \n3       경인양행  10.803226  -3.319684   6.895785   6.168180   2.265745   \n4         국동  -7.765321  12.730656  -6.907898   4.356388 -21.035857   \n..       ...        ...        ...        ...        ...        ...   \n881     네이처셀 -52.643072 -30.103738   1.101505   5.181698  -1.166962   \n882   한국가스공사  10.576671  -2.077309   0.715264   6.198465 -14.639740   \n883   SK네트웍스   4.334040   1.872976  -5.318852   0.331636   1.473706   \n884       두산   7.728926 -12.412377   6.350968  -4.765693   0.604322   \n885  오리엔트바이오 -32.203804 -24.276753 -48.166062 -20.282802 -27.739035   \n\n          2016       2015       2014       2013       2012       2011  \n0     7.019784   6.727201   4.059798   7.232557  -0.507174   6.705232  \n1    20.345358        NaN        NaN        NaN        NaN        NaN  \n2    15.165390  19.566545  19.565331        NaN        NaN        NaN  \n3     3.282643   1.825178   5.119207   5.383935   1.649455   4.696179  \n4    12.003213  16.766765  31.071544  26.013939 -76.540402 -20.692899  \n..         ...        ...        ...        ...        ...        ...  \n881 -14.651393  -6.269474  13.784261 -32.576785 -18.818102  -3.315452  \n882  -6.465498   2.896147   4.598989  -2.279680   2.087562   3.417943  \n883  -3.390968   2.899079   1.255567 -23.071956   4.622872   5.512201  \n884   0.638114 -20.263356   0.373491   1.437053  11.002250  23.388759  \n885  -2.755793  -2.651960 -16.521534   1.639198 -21.602158   3.933862  \n\n[886 rows x 12 columns]",
      "text/html": "<div>\n<style scoped>\n    .dataframe tbody tr th:only-of-type {\n        vertical-align: middle;\n    }\n\n    .dataframe tbody tr th {\n        vertical-align: top;\n    }\n\n    .dataframe thead th {\n        text-align: right;\n    }\n</style>\n<table border=\"1\" class=\"dataframe\">\n  <thead>\n    <tr style=\"text-align: right;\">\n      <th></th>\n      <th>종목명</th>\n      <th>2021</th>\n      <th>2020</th>\n      <th>2019</th>\n      <th>2018</th>\n      <th>2017</th>\n      <th>2016</th>\n      <th>2015</th>\n      <th>2014</th>\n      <th>2013</th>\n      <th>2012</th>\n      <th>2011</th>\n    </tr>\n  </thead>\n  <tbody>\n    <tr>\n      <th>0</th>\n      <td>지역난방공사</td>\n      <td>1.177011</td>\n      <td>1.548808</td>\n      <td>-1.672549</td>\n      <td>-14.519332</td>\n      <td>3.819035</td>\n      <td>7.019784</td>\n      <td>6.727201</td>\n      <td>4.059798</td>\n      <td>7.232557</td>\n      <td>-0.507174</td>\n      <td>6.705232</td>\n    </tr>\n    <tr>\n      <th>1</th>\n      <td>아시아나IDT</td>\n      <td>16.944344</td>\n      <td>-6.283906</td>\n      <td>-5.695105</td>\n      <td>6.222715</td>\n      <td>14.154269</td>\n      <td>20.345358</td>\n      <td>NaN</td>\n      <td>NaN</td>\n      <td>NaN</td>\n      <td>NaN</td>\n      <td>NaN</td>\n    </tr>\n    <tr>\n      <th>2</th>\n      <td>코스맥스</td>\n      <td>7.378088</td>\n      <td>-10.685314</td>\n      <td>5.788710</td>\n      <td>8.709081</td>\n      <td>6.795555</td>\n      <td>15.165390</td>\n      <td>19.566545</td>\n      <td>19.565331</td>\n      <td>NaN</td>\n      <td>NaN</td>\n      <td>NaN</td>\n    </tr>\n    <tr>\n      <th>3</th>\n      <td>경인양행</td>\n      <td>10.803226</td>\n      <td>-3.319684</td>\n      <td>6.895785</td>\n      <td>6.168180</td>\n      <td>2.265745</td>\n      <td>3.282643</td>\n      <td>1.825178</td>\n      <td>5.119207</td>\n      <td>5.383935</td>\n      <td>1.649455</td>\n      <td>4.696179</td>\n    </tr>\n    <tr>\n      <th>4</th>\n      <td>국동</td>\n      <td>-7.765321</td>\n      <td>12.730656</td>\n      <td>-6.907898</td>\n      <td>4.356388</td>\n      <td>-21.035857</td>\n      <td>12.003213</td>\n      <td>16.766765</td>\n      <td>31.071544</td>\n      <td>26.013939</td>\n      <td>-76.540402</td>\n      <td>-20.692899</td>\n    </tr>\n    <tr>\n      <th>...</th>\n      <td>...</td>\n      <td>...</td>\n      <td>...</td>\n      <td>...</td>\n      <td>...</td>\n      <td>...</td>\n      <td>...</td>\n      <td>...</td>\n      <td>...</td>\n      <td>...</td>\n      <td>...</td>\n      <td>...</td>\n    </tr>\n    <tr>\n      <th>881</th>\n      <td>네이처셀</td>\n      <td>-52.643072</td>\n      <td>-30.103738</td>\n      <td>1.101505</td>\n      <td>5.181698</td>\n      <td>-1.166962</td>\n      <td>-14.651393</td>\n      <td>-6.269474</td>\n      <td>13.784261</td>\n      <td>-32.576785</td>\n      <td>-18.818102</td>\n      <td>-3.315452</td>\n    </tr>\n    <tr>\n      <th>882</th>\n      <td>한국가스공사</td>\n      <td>10.576671</td>\n      <td>-2.077309</td>\n      <td>0.715264</td>\n      <td>6.198465</td>\n      <td>-14.639740</td>\n      <td>-6.465498</td>\n      <td>2.896147</td>\n      <td>4.598989</td>\n      <td>-2.279680</td>\n      <td>2.087562</td>\n      <td>3.417943</td>\n    </tr>\n    <tr>\n      <th>883</th>\n      <td>SK네트웍스</td>\n      <td>4.334040</td>\n      <td>1.872976</td>\n      <td>-5.318852</td>\n      <td>0.331636</td>\n      <td>1.473706</td>\n      <td>-3.390968</td>\n      <td>2.899079</td>\n      <td>1.255567</td>\n      <td>-23.071956</td>\n      <td>4.622872</td>\n      <td>5.512201</td>\n    </tr>\n    <tr>\n      <th>884</th>\n      <td>두산</td>\n      <td>7.728926</td>\n      <td>-12.412377</td>\n      <td>6.350968</td>\n      <td>-4.765693</td>\n      <td>0.604322</td>\n      <td>0.638114</td>\n      <td>-20.263356</td>\n      <td>0.373491</td>\n      <td>1.437053</td>\n      <td>11.002250</td>\n      <td>23.388759</td>\n    </tr>\n    <tr>\n      <th>885</th>\n      <td>오리엔트바이오</td>\n      <td>-32.203804</td>\n      <td>-24.276753</td>\n      <td>-48.166062</td>\n      <td>-20.282802</td>\n      <td>-27.739035</td>\n      <td>-2.755793</td>\n      <td>-2.651960</td>\n      <td>-16.521534</td>\n      <td>1.639198</td>\n      <td>-21.602158</td>\n      <td>3.933862</td>\n    </tr>\n  </tbody>\n</table>\n<p>886 rows × 12 columns</p>\n</div>"
     },
     "execution_count": 71,
     "metadata": {},
     "output_type": "execute_result"
    }
   ],
   "source": [
    "roe_df = pd.read_csv('./data/ROAE/ROE.csv')\n",
    "roe_df.drop(columns=['Unnamed: 0'], inplace=True)\n",
    "roe_df"
   ],
   "metadata": {
    "collapsed": false,
    "pycharm": {
     "name": "#%%\n"
    }
   }
  },
  {
   "cell_type": "code",
   "execution_count": 74,
   "outputs": [
    {
     "name": "stdout",
     "output_type": "stream",
     "text": [
      "<class 'pandas.core.frame.DataFrame'>\n",
      "RangeIndex: 886 entries, 0 to 885\n",
      "Data columns (total 12 columns):\n",
      " #   Column  Non-Null Count  Dtype  \n",
      "---  ------  --------------  -----  \n",
      " 0   종목명     886 non-null    object \n",
      " 1   2021    880 non-null    float64\n",
      " 2   2020    884 non-null    float64\n",
      " 3   2019    881 non-null    float64\n",
      " 4   2018    876 non-null    float64\n",
      " 5   2017    867 non-null    float64\n",
      " 6   2016    846 non-null    float64\n",
      " 7   2015    820 non-null    float64\n",
      " 8   2014    800 non-null    float64\n",
      " 9   2013    777 non-null    float64\n",
      " 10  2012    654 non-null    float64\n",
      " 11  2011    634 non-null    float64\n",
      "dtypes: float64(11), object(1)\n",
      "memory usage: 83.2+ KB\n"
     ]
    }
   ],
   "source": [
    "roa_df.info()"
   ],
   "metadata": {
    "collapsed": false,
    "pycharm": {
     "name": "#%%\n"
    }
   }
  },
  {
   "cell_type": "code",
   "execution_count": 88,
   "outputs": [
    {
     "data": {
      "text/plain": "         종목명    연도        수익률 종합등급   환경   사회 지배구조        KOSPI\n0     AJ네트웍스  2015        NaN  NaN  NaN  NaN  NaN  2011.848749\n1     AJ네트웍스  2016 -16.696604    B    C    B    B  1987.003253\n2     AJ네트웍스  2017  -5.305182    B    B    B    B  2310.368425\n3     AJ네트웍스  2018 -10.580189    B    C    B    B  2325.009433\n4     AJ네트웍스  2019 -19.419833    B    D    B    B  2106.053582\n...      ...   ...        ...  ...  ...  ...  ...          ...\n7433      후성  2017  45.240416    B    C    B   B+  2310.368425\n7434      후성  2018   9.756829    B    B    B   B+  2325.009433\n7435      후성  2019 -16.629993    B    B    C    B  2106.053582\n7436      후성  2020   2.963594    C    B    C    C  2220.068017\n7437      후성  2021  71.718989   B+    A    B    B  3111.217654\n\n[6804 rows x 8 columns]",
      "text/html": "<div>\n<style scoped>\n    .dataframe tbody tr th:only-of-type {\n        vertical-align: middle;\n    }\n\n    .dataframe tbody tr th {\n        vertical-align: top;\n    }\n\n    .dataframe thead th {\n        text-align: right;\n    }\n</style>\n<table border=\"1\" class=\"dataframe\">\n  <thead>\n    <tr style=\"text-align: right;\">\n      <th></th>\n      <th>종목명</th>\n      <th>연도</th>\n      <th>수익률</th>\n      <th>종합등급</th>\n      <th>환경</th>\n      <th>사회</th>\n      <th>지배구조</th>\n      <th>KOSPI</th>\n    </tr>\n  </thead>\n  <tbody>\n    <tr>\n      <th>0</th>\n      <td>AJ네트웍스</td>\n      <td>2015</td>\n      <td>NaN</td>\n      <td>NaN</td>\n      <td>NaN</td>\n      <td>NaN</td>\n      <td>NaN</td>\n      <td>2011.848749</td>\n    </tr>\n    <tr>\n      <th>1</th>\n      <td>AJ네트웍스</td>\n      <td>2016</td>\n      <td>-16.696604</td>\n      <td>B</td>\n      <td>C</td>\n      <td>B</td>\n      <td>B</td>\n      <td>1987.003253</td>\n    </tr>\n    <tr>\n      <th>2</th>\n      <td>AJ네트웍스</td>\n      <td>2017</td>\n      <td>-5.305182</td>\n      <td>B</td>\n      <td>B</td>\n      <td>B</td>\n      <td>B</td>\n      <td>2310.368425</td>\n    </tr>\n    <tr>\n      <th>3</th>\n      <td>AJ네트웍스</td>\n      <td>2018</td>\n      <td>-10.580189</td>\n      <td>B</td>\n      <td>C</td>\n      <td>B</td>\n      <td>B</td>\n      <td>2325.009433</td>\n    </tr>\n    <tr>\n      <th>4</th>\n      <td>AJ네트웍스</td>\n      <td>2019</td>\n      <td>-19.419833</td>\n      <td>B</td>\n      <td>D</td>\n      <td>B</td>\n      <td>B</td>\n      <td>2106.053582</td>\n    </tr>\n    <tr>\n      <th>...</th>\n      <td>...</td>\n      <td>...</td>\n      <td>...</td>\n      <td>...</td>\n      <td>...</td>\n      <td>...</td>\n      <td>...</td>\n      <td>...</td>\n    </tr>\n    <tr>\n      <th>7433</th>\n      <td>후성</td>\n      <td>2017</td>\n      <td>45.240416</td>\n      <td>B</td>\n      <td>C</td>\n      <td>B</td>\n      <td>B+</td>\n      <td>2310.368425</td>\n    </tr>\n    <tr>\n      <th>7434</th>\n      <td>후성</td>\n      <td>2018</td>\n      <td>9.756829</td>\n      <td>B</td>\n      <td>B</td>\n      <td>B</td>\n      <td>B+</td>\n      <td>2325.009433</td>\n    </tr>\n    <tr>\n      <th>7435</th>\n      <td>후성</td>\n      <td>2019</td>\n      <td>-16.629993</td>\n      <td>B</td>\n      <td>B</td>\n      <td>C</td>\n      <td>B</td>\n      <td>2106.053582</td>\n    </tr>\n    <tr>\n      <th>7436</th>\n      <td>후성</td>\n      <td>2020</td>\n      <td>2.963594</td>\n      <td>C</td>\n      <td>B</td>\n      <td>C</td>\n      <td>C</td>\n      <td>2220.068017</td>\n    </tr>\n    <tr>\n      <th>7437</th>\n      <td>후성</td>\n      <td>2021</td>\n      <td>71.718989</td>\n      <td>B+</td>\n      <td>A</td>\n      <td>B</td>\n      <td>B</td>\n      <td>3111.217654</td>\n    </tr>\n  </tbody>\n</table>\n<p>6804 rows × 8 columns</p>\n</div>"
     },
     "execution_count": 88,
     "metadata": {},
     "output_type": "execute_result"
    }
   ],
   "source": [
    "del_list = []\n",
    "for i in merged_df2.index:\n",
    "    year = merged_df2.loc[i, '연도']\n",
    "    if year == 2022:\n",
    "        del_list.append(i)\n",
    "\n",
    "merged_df2.drop(del_list, inplace=True)\n",
    "merged_df2"
   ],
   "metadata": {
    "collapsed": false,
    "pycharm": {
     "name": "#%%\n"
    }
   }
  },
  {
   "cell_type": "code",
   "execution_count": 77,
   "outputs": [
    {
     "data": {
      "text/plain": "              2021       2020       2019      2018       2017       2016  \\\n종목명                                                                        \n지역난방공사    0.329259   0.459999  -0.434100 -4.003602   1.221306   2.468098   \n아시아나IDT  11.867460  -3.994284  -3.522264  4.468853   9.795924  12.854945   \n코스맥스      2.431885  -2.443426   1.521121  1.984152   1.661652   4.721321   \n경인양행      4.695501  -1.500994   3.468235  3.341888   1.335167   1.985928   \n국동       -4.718183   5.906318  -3.382628  1.715001  -8.435693   5.001944   \n...            ...        ...        ...       ...        ...        ...   \n네이처셀    -45.988188 -22.005449   0.968753  4.226556  -0.895671  -9.251320   \n한국가스공사    2.208666  -0.447463   0.148223  1.327157  -3.208814  -1.529589   \nSK네트웍스    1.100212   0.479319  -1.209348  0.098687   0.478874  -0.946265   \n두산        2.524932  -3.191589   1.484781 -1.179043   0.159717   0.175883   \n오리엔트바이오 -21.859246 -16.802117 -35.883766 -8.530570 -15.250277  -1.432325   \n\n             2015      2014       2013       2012       2011  \n종목명                                                           \n지역난방공사   2.391064  1.398306   2.311534  -0.157896   2.020051  \n아시아나IDT       NaN       NaN        NaN        NaN        NaN  \n코스맥스     4.302619  4.837811        NaN        NaN        NaN  \n경인양행     1.123672  3.241846   3.223183   1.004116   2.589728  \n국동       5.584140  9.968135   5.489170 -10.959402  -1.769757  \n...           ...       ...        ...        ...        ...  \n네이처셀    -4.295236  7.723693 -15.245468  -6.537991  -1.012268  \n한국가스공사   0.688375  0.956176  -0.466352   0.430084   0.763386  \nSK네트웍스   0.890377  0.371773  -6.665055   1.333901   1.624122  \n두산      -5.389762  0.105994   0.417660   5.922213  12.960873  \n오리엔트바이오 -1.200613 -7.317811   0.749424 -10.580991   2.941504  \n\n[886 rows x 11 columns]",
      "text/html": "<div>\n<style scoped>\n    .dataframe tbody tr th:only-of-type {\n        vertical-align: middle;\n    }\n\n    .dataframe tbody tr th {\n        vertical-align: top;\n    }\n\n    .dataframe thead th {\n        text-align: right;\n    }\n</style>\n<table border=\"1\" class=\"dataframe\">\n  <thead>\n    <tr style=\"text-align: right;\">\n      <th></th>\n      <th>2021</th>\n      <th>2020</th>\n      <th>2019</th>\n      <th>2018</th>\n      <th>2017</th>\n      <th>2016</th>\n      <th>2015</th>\n      <th>2014</th>\n      <th>2013</th>\n      <th>2012</th>\n      <th>2011</th>\n    </tr>\n    <tr>\n      <th>종목명</th>\n      <th></th>\n      <th></th>\n      <th></th>\n      <th></th>\n      <th></th>\n      <th></th>\n      <th></th>\n      <th></th>\n      <th></th>\n      <th></th>\n      <th></th>\n    </tr>\n  </thead>\n  <tbody>\n    <tr>\n      <th>지역난방공사</th>\n      <td>0.329259</td>\n      <td>0.459999</td>\n      <td>-0.434100</td>\n      <td>-4.003602</td>\n      <td>1.221306</td>\n      <td>2.468098</td>\n      <td>2.391064</td>\n      <td>1.398306</td>\n      <td>2.311534</td>\n      <td>-0.157896</td>\n      <td>2.020051</td>\n    </tr>\n    <tr>\n      <th>아시아나IDT</th>\n      <td>11.867460</td>\n      <td>-3.994284</td>\n      <td>-3.522264</td>\n      <td>4.468853</td>\n      <td>9.795924</td>\n      <td>12.854945</td>\n      <td>NaN</td>\n      <td>NaN</td>\n      <td>NaN</td>\n      <td>NaN</td>\n      <td>NaN</td>\n    </tr>\n    <tr>\n      <th>코스맥스</th>\n      <td>2.431885</td>\n      <td>-2.443426</td>\n      <td>1.521121</td>\n      <td>1.984152</td>\n      <td>1.661652</td>\n      <td>4.721321</td>\n      <td>4.302619</td>\n      <td>4.837811</td>\n      <td>NaN</td>\n      <td>NaN</td>\n      <td>NaN</td>\n    </tr>\n    <tr>\n      <th>경인양행</th>\n      <td>4.695501</td>\n      <td>-1.500994</td>\n      <td>3.468235</td>\n      <td>3.341888</td>\n      <td>1.335167</td>\n      <td>1.985928</td>\n      <td>1.123672</td>\n      <td>3.241846</td>\n      <td>3.223183</td>\n      <td>1.004116</td>\n      <td>2.589728</td>\n    </tr>\n    <tr>\n      <th>국동</th>\n      <td>-4.718183</td>\n      <td>5.906318</td>\n      <td>-3.382628</td>\n      <td>1.715001</td>\n      <td>-8.435693</td>\n      <td>5.001944</td>\n      <td>5.584140</td>\n      <td>9.968135</td>\n      <td>5.489170</td>\n      <td>-10.959402</td>\n      <td>-1.769757</td>\n    </tr>\n    <tr>\n      <th>...</th>\n      <td>...</td>\n      <td>...</td>\n      <td>...</td>\n      <td>...</td>\n      <td>...</td>\n      <td>...</td>\n      <td>...</td>\n      <td>...</td>\n      <td>...</td>\n      <td>...</td>\n      <td>...</td>\n    </tr>\n    <tr>\n      <th>네이처셀</th>\n      <td>-45.988188</td>\n      <td>-22.005449</td>\n      <td>0.968753</td>\n      <td>4.226556</td>\n      <td>-0.895671</td>\n      <td>-9.251320</td>\n      <td>-4.295236</td>\n      <td>7.723693</td>\n      <td>-15.245468</td>\n      <td>-6.537991</td>\n      <td>-1.012268</td>\n    </tr>\n    <tr>\n      <th>한국가스공사</th>\n      <td>2.208666</td>\n      <td>-0.447463</td>\n      <td>0.148223</td>\n      <td>1.327157</td>\n      <td>-3.208814</td>\n      <td>-1.529589</td>\n      <td>0.688375</td>\n      <td>0.956176</td>\n      <td>-0.466352</td>\n      <td>0.430084</td>\n      <td>0.763386</td>\n    </tr>\n    <tr>\n      <th>SK네트웍스</th>\n      <td>1.100212</td>\n      <td>0.479319</td>\n      <td>-1.209348</td>\n      <td>0.098687</td>\n      <td>0.478874</td>\n      <td>-0.946265</td>\n      <td>0.890377</td>\n      <td>0.371773</td>\n      <td>-6.665055</td>\n      <td>1.333901</td>\n      <td>1.624122</td>\n    </tr>\n    <tr>\n      <th>두산</th>\n      <td>2.524932</td>\n      <td>-3.191589</td>\n      <td>1.484781</td>\n      <td>-1.179043</td>\n      <td>0.159717</td>\n      <td>0.175883</td>\n      <td>-5.389762</td>\n      <td>0.105994</td>\n      <td>0.417660</td>\n      <td>5.922213</td>\n      <td>12.960873</td>\n    </tr>\n    <tr>\n      <th>오리엔트바이오</th>\n      <td>-21.859246</td>\n      <td>-16.802117</td>\n      <td>-35.883766</td>\n      <td>-8.530570</td>\n      <td>-15.250277</td>\n      <td>-1.432325</td>\n      <td>-1.200613</td>\n      <td>-7.317811</td>\n      <td>0.749424</td>\n      <td>-10.580991</td>\n      <td>2.941504</td>\n    </tr>\n  </tbody>\n</table>\n<p>886 rows × 11 columns</p>\n</div>"
     },
     "execution_count": 77,
     "metadata": {},
     "output_type": "execute_result"
    }
   ],
   "source": [
    "roa_df.set_index('종목명', inplace=True)\n",
    "roa_df"
   ],
   "metadata": {
    "collapsed": false,
    "pycharm": {
     "name": "#%%\n"
    }
   }
  },
  {
   "cell_type": "code",
   "execution_count": 78,
   "outputs": [
    {
     "data": {
      "text/plain": "              2021       2020       2019       2018       2017       2016  \\\n종목명                                                                         \n지역난방공사    1.177011   1.548808  -1.672549 -14.519332   3.819035   7.019784   \n아시아나IDT  16.944344  -6.283906  -5.695105   6.222715  14.154269  20.345358   \n코스맥스      7.378088 -10.685314   5.788710   8.709081   6.795555  15.165390   \n경인양행     10.803226  -3.319684   6.895785   6.168180   2.265745   3.282643   \n국동       -7.765321  12.730656  -6.907898   4.356388 -21.035857  12.003213   \n...            ...        ...        ...        ...        ...        ...   \n네이처셀    -52.643072 -30.103738   1.101505   5.181698  -1.166962 -14.651393   \n한국가스공사   10.576671  -2.077309   0.715264   6.198465 -14.639740  -6.465498   \nSK네트웍스    4.334040   1.872976  -5.318852   0.331636   1.473706  -3.390968   \n두산        7.728926 -12.412377   6.350968  -4.765693   0.604322   0.638114   \n오리엔트바이오 -32.203804 -24.276753 -48.166062 -20.282802 -27.739035  -2.755793   \n\n              2015       2014       2013       2012       2011  \n종목명                                                             \n지역난방공사    6.727201   4.059798   7.232557  -0.507174   6.705232  \n아시아나IDT        NaN        NaN        NaN        NaN        NaN  \n코스맥스     19.566545  19.565331        NaN        NaN        NaN  \n경인양행      1.825178   5.119207   5.383935   1.649455   4.696179  \n국동       16.766765  31.071544  26.013939 -76.540402 -20.692899  \n...            ...        ...        ...        ...        ...  \n네이처셀     -6.269474  13.784261 -32.576785 -18.818102  -3.315452  \n한국가스공사    2.896147   4.598989  -2.279680   2.087562   3.417943  \nSK네트웍스    2.899079   1.255567 -23.071956   4.622872   5.512201  \n두산      -20.263356   0.373491   1.437053  11.002250  23.388759  \n오리엔트바이오  -2.651960 -16.521534   1.639198 -21.602158   3.933862  \n\n[886 rows x 11 columns]",
      "text/html": "<div>\n<style scoped>\n    .dataframe tbody tr th:only-of-type {\n        vertical-align: middle;\n    }\n\n    .dataframe tbody tr th {\n        vertical-align: top;\n    }\n\n    .dataframe thead th {\n        text-align: right;\n    }\n</style>\n<table border=\"1\" class=\"dataframe\">\n  <thead>\n    <tr style=\"text-align: right;\">\n      <th></th>\n      <th>2021</th>\n      <th>2020</th>\n      <th>2019</th>\n      <th>2018</th>\n      <th>2017</th>\n      <th>2016</th>\n      <th>2015</th>\n      <th>2014</th>\n      <th>2013</th>\n      <th>2012</th>\n      <th>2011</th>\n    </tr>\n    <tr>\n      <th>종목명</th>\n      <th></th>\n      <th></th>\n      <th></th>\n      <th></th>\n      <th></th>\n      <th></th>\n      <th></th>\n      <th></th>\n      <th></th>\n      <th></th>\n      <th></th>\n    </tr>\n  </thead>\n  <tbody>\n    <tr>\n      <th>지역난방공사</th>\n      <td>1.177011</td>\n      <td>1.548808</td>\n      <td>-1.672549</td>\n      <td>-14.519332</td>\n      <td>3.819035</td>\n      <td>7.019784</td>\n      <td>6.727201</td>\n      <td>4.059798</td>\n      <td>7.232557</td>\n      <td>-0.507174</td>\n      <td>6.705232</td>\n    </tr>\n    <tr>\n      <th>아시아나IDT</th>\n      <td>16.944344</td>\n      <td>-6.283906</td>\n      <td>-5.695105</td>\n      <td>6.222715</td>\n      <td>14.154269</td>\n      <td>20.345358</td>\n      <td>NaN</td>\n      <td>NaN</td>\n      <td>NaN</td>\n      <td>NaN</td>\n      <td>NaN</td>\n    </tr>\n    <tr>\n      <th>코스맥스</th>\n      <td>7.378088</td>\n      <td>-10.685314</td>\n      <td>5.788710</td>\n      <td>8.709081</td>\n      <td>6.795555</td>\n      <td>15.165390</td>\n      <td>19.566545</td>\n      <td>19.565331</td>\n      <td>NaN</td>\n      <td>NaN</td>\n      <td>NaN</td>\n    </tr>\n    <tr>\n      <th>경인양행</th>\n      <td>10.803226</td>\n      <td>-3.319684</td>\n      <td>6.895785</td>\n      <td>6.168180</td>\n      <td>2.265745</td>\n      <td>3.282643</td>\n      <td>1.825178</td>\n      <td>5.119207</td>\n      <td>5.383935</td>\n      <td>1.649455</td>\n      <td>4.696179</td>\n    </tr>\n    <tr>\n      <th>국동</th>\n      <td>-7.765321</td>\n      <td>12.730656</td>\n      <td>-6.907898</td>\n      <td>4.356388</td>\n      <td>-21.035857</td>\n      <td>12.003213</td>\n      <td>16.766765</td>\n      <td>31.071544</td>\n      <td>26.013939</td>\n      <td>-76.540402</td>\n      <td>-20.692899</td>\n    </tr>\n    <tr>\n      <th>...</th>\n      <td>...</td>\n      <td>...</td>\n      <td>...</td>\n      <td>...</td>\n      <td>...</td>\n      <td>...</td>\n      <td>...</td>\n      <td>...</td>\n      <td>...</td>\n      <td>...</td>\n      <td>...</td>\n    </tr>\n    <tr>\n      <th>네이처셀</th>\n      <td>-52.643072</td>\n      <td>-30.103738</td>\n      <td>1.101505</td>\n      <td>5.181698</td>\n      <td>-1.166962</td>\n      <td>-14.651393</td>\n      <td>-6.269474</td>\n      <td>13.784261</td>\n      <td>-32.576785</td>\n      <td>-18.818102</td>\n      <td>-3.315452</td>\n    </tr>\n    <tr>\n      <th>한국가스공사</th>\n      <td>10.576671</td>\n      <td>-2.077309</td>\n      <td>0.715264</td>\n      <td>6.198465</td>\n      <td>-14.639740</td>\n      <td>-6.465498</td>\n      <td>2.896147</td>\n      <td>4.598989</td>\n      <td>-2.279680</td>\n      <td>2.087562</td>\n      <td>3.417943</td>\n    </tr>\n    <tr>\n      <th>SK네트웍스</th>\n      <td>4.334040</td>\n      <td>1.872976</td>\n      <td>-5.318852</td>\n      <td>0.331636</td>\n      <td>1.473706</td>\n      <td>-3.390968</td>\n      <td>2.899079</td>\n      <td>1.255567</td>\n      <td>-23.071956</td>\n      <td>4.622872</td>\n      <td>5.512201</td>\n    </tr>\n    <tr>\n      <th>두산</th>\n      <td>7.728926</td>\n      <td>-12.412377</td>\n      <td>6.350968</td>\n      <td>-4.765693</td>\n      <td>0.604322</td>\n      <td>0.638114</td>\n      <td>-20.263356</td>\n      <td>0.373491</td>\n      <td>1.437053</td>\n      <td>11.002250</td>\n      <td>23.388759</td>\n    </tr>\n    <tr>\n      <th>오리엔트바이오</th>\n      <td>-32.203804</td>\n      <td>-24.276753</td>\n      <td>-48.166062</td>\n      <td>-20.282802</td>\n      <td>-27.739035</td>\n      <td>-2.755793</td>\n      <td>-2.651960</td>\n      <td>-16.521534</td>\n      <td>1.639198</td>\n      <td>-21.602158</td>\n      <td>3.933862</td>\n    </tr>\n  </tbody>\n</table>\n<p>886 rows × 11 columns</p>\n</div>"
     },
     "execution_count": 78,
     "metadata": {},
     "output_type": "execute_result"
    }
   ],
   "source": [
    "roe_df.set_index('종목명', inplace=True)\n",
    "roe_df"
   ],
   "metadata": {
    "collapsed": false,
    "pycharm": {
     "name": "#%%\n"
    }
   }
  },
  {
   "cell_type": "code",
   "execution_count": 90,
   "outputs": [],
   "source": [
    "company_list = roa_df.index.to_list()"
   ],
   "metadata": {
    "collapsed": false,
    "pycharm": {
     "name": "#%%\n"
    }
   }
  },
  {
   "cell_type": "code",
   "execution_count": 91,
   "outputs": [],
   "source": [
    "roa_list = []\n",
    "roe_list = []\n",
    "\n",
    "for i in merged_df2.index:\n",
    "    company_name = merged_df2.loc[i, '종목명']\n",
    "    year = str(merged_df2.loc[i, '연도'])\n",
    "\n",
    "    if company_name in company_list:\n",
    "        roa_val = roa_df.loc[company_name, year]\n",
    "        roe_val = roe_df.loc[company_name, year]\n",
    "    else:\n",
    "        roa_val = ' '\n",
    "        roe_val = ' '\n",
    "\n",
    "    roa_list.append(roa_val)\n",
    "    roe_list.append(roe_val)"
   ],
   "metadata": {
    "collapsed": false,
    "pycharm": {
     "name": "#%%\n"
    }
   }
  },
  {
   "cell_type": "code",
   "execution_count": 94,
   "outputs": [],
   "source": [
    "merged_df2['ROA'] = roa_list\n",
    "merged_df2['ROE'] = roe_list"
   ],
   "metadata": {
    "collapsed": false,
    "pycharm": {
     "name": "#%%\n"
    }
   }
  },
  {
   "cell_type": "code",
   "execution_count": 95,
   "outputs": [
    {
     "data": {
      "text/plain": "         종목명    연도        수익률 종합등급   환경   사회 지배구조        KOSPI       ROA  \\\n0     AJ네트웍스  2015        NaN  NaN  NaN  NaN  NaN  2011.848749  1.680447   \n1     AJ네트웍스  2016 -16.696604    B    C    B    B  1987.003253  0.820595   \n2     AJ네트웍스  2017  -5.305182    B    B    B    B  2310.368425  0.877023   \n3     AJ네트웍스  2018 -10.580189    B    C    B    B  2325.009433  1.447255   \n4     AJ네트웍스  2019 -19.419833    B    D    B    B  2106.053582  2.336252   \n...      ...   ...        ...  ...  ...  ...  ...          ...       ...   \n7433      후성  2017  45.240416    B    C    B   B+  2310.368425  8.928117   \n7434      후성  2018   9.756829    B    B    B   B+  2325.009433  6.353841   \n7435      후성  2019 -16.629993    B    B    C    B  2106.053582  0.038912   \n7436      후성  2020   2.963594    C    B    C    C  2220.068017  0.490757   \n7437      후성  2021  71.718989   B+    A    B    B  3111.217654  5.075085   \n\n            ROE  \n0      7.283971  \n1      3.995265  \n2       4.61727  \n3      7.577926  \n4     12.128881  \n...         ...  \n7433  13.509607  \n7434  11.426047  \n7435   0.084715  \n7436   1.081137  \n7437  11.034945  \n\n[6804 rows x 10 columns]",
      "text/html": "<div>\n<style scoped>\n    .dataframe tbody tr th:only-of-type {\n        vertical-align: middle;\n    }\n\n    .dataframe tbody tr th {\n        vertical-align: top;\n    }\n\n    .dataframe thead th {\n        text-align: right;\n    }\n</style>\n<table border=\"1\" class=\"dataframe\">\n  <thead>\n    <tr style=\"text-align: right;\">\n      <th></th>\n      <th>종목명</th>\n      <th>연도</th>\n      <th>수익률</th>\n      <th>종합등급</th>\n      <th>환경</th>\n      <th>사회</th>\n      <th>지배구조</th>\n      <th>KOSPI</th>\n      <th>ROA</th>\n      <th>ROE</th>\n    </tr>\n  </thead>\n  <tbody>\n    <tr>\n      <th>0</th>\n      <td>AJ네트웍스</td>\n      <td>2015</td>\n      <td>NaN</td>\n      <td>NaN</td>\n      <td>NaN</td>\n      <td>NaN</td>\n      <td>NaN</td>\n      <td>2011.848749</td>\n      <td>1.680447</td>\n      <td>7.283971</td>\n    </tr>\n    <tr>\n      <th>1</th>\n      <td>AJ네트웍스</td>\n      <td>2016</td>\n      <td>-16.696604</td>\n      <td>B</td>\n      <td>C</td>\n      <td>B</td>\n      <td>B</td>\n      <td>1987.003253</td>\n      <td>0.820595</td>\n      <td>3.995265</td>\n    </tr>\n    <tr>\n      <th>2</th>\n      <td>AJ네트웍스</td>\n      <td>2017</td>\n      <td>-5.305182</td>\n      <td>B</td>\n      <td>B</td>\n      <td>B</td>\n      <td>B</td>\n      <td>2310.368425</td>\n      <td>0.877023</td>\n      <td>4.61727</td>\n    </tr>\n    <tr>\n      <th>3</th>\n      <td>AJ네트웍스</td>\n      <td>2018</td>\n      <td>-10.580189</td>\n      <td>B</td>\n      <td>C</td>\n      <td>B</td>\n      <td>B</td>\n      <td>2325.009433</td>\n      <td>1.447255</td>\n      <td>7.577926</td>\n    </tr>\n    <tr>\n      <th>4</th>\n      <td>AJ네트웍스</td>\n      <td>2019</td>\n      <td>-19.419833</td>\n      <td>B</td>\n      <td>D</td>\n      <td>B</td>\n      <td>B</td>\n      <td>2106.053582</td>\n      <td>2.336252</td>\n      <td>12.128881</td>\n    </tr>\n    <tr>\n      <th>...</th>\n      <td>...</td>\n      <td>...</td>\n      <td>...</td>\n      <td>...</td>\n      <td>...</td>\n      <td>...</td>\n      <td>...</td>\n      <td>...</td>\n      <td>...</td>\n      <td>...</td>\n    </tr>\n    <tr>\n      <th>7433</th>\n      <td>후성</td>\n      <td>2017</td>\n      <td>45.240416</td>\n      <td>B</td>\n      <td>C</td>\n      <td>B</td>\n      <td>B+</td>\n      <td>2310.368425</td>\n      <td>8.928117</td>\n      <td>13.509607</td>\n    </tr>\n    <tr>\n      <th>7434</th>\n      <td>후성</td>\n      <td>2018</td>\n      <td>9.756829</td>\n      <td>B</td>\n      <td>B</td>\n      <td>B</td>\n      <td>B+</td>\n      <td>2325.009433</td>\n      <td>6.353841</td>\n      <td>11.426047</td>\n    </tr>\n    <tr>\n      <th>7435</th>\n      <td>후성</td>\n      <td>2019</td>\n      <td>-16.629993</td>\n      <td>B</td>\n      <td>B</td>\n      <td>C</td>\n      <td>B</td>\n      <td>2106.053582</td>\n      <td>0.038912</td>\n      <td>0.084715</td>\n    </tr>\n    <tr>\n      <th>7436</th>\n      <td>후성</td>\n      <td>2020</td>\n      <td>2.963594</td>\n      <td>C</td>\n      <td>B</td>\n      <td>C</td>\n      <td>C</td>\n      <td>2220.068017</td>\n      <td>0.490757</td>\n      <td>1.081137</td>\n    </tr>\n    <tr>\n      <th>7437</th>\n      <td>후성</td>\n      <td>2021</td>\n      <td>71.718989</td>\n      <td>B+</td>\n      <td>A</td>\n      <td>B</td>\n      <td>B</td>\n      <td>3111.217654</td>\n      <td>5.075085</td>\n      <td>11.034945</td>\n    </tr>\n  </tbody>\n</table>\n<p>6804 rows × 10 columns</p>\n</div>"
     },
     "execution_count": 95,
     "metadata": {},
     "output_type": "execute_result"
    }
   ],
   "source": [
    "merged_df2"
   ],
   "metadata": {
    "collapsed": false,
    "pycharm": {
     "name": "#%%\n"
    }
   }
  },
  {
   "cell_type": "code",
   "execution_count": 98,
   "outputs": [
    {
     "data": {
      "text/plain": "2021    5.663071\n2020   -0.208845\n2019    2.336252\n2018    1.447255\n2017    0.877023\n2016    0.820595\n2015    1.680447\n2014    1.951326\n2013    1.450233\n2012    1.255483\n2011    1.030702\nName: AJ네트웍스, dtype: float64"
     },
     "execution_count": 98,
     "metadata": {},
     "output_type": "execute_result"
    }
   ],
   "source": [
    "roa_df.loc['AJ네트웍스']"
   ],
   "metadata": {
    "collapsed": false,
    "pycharm": {
     "name": "#%%\n"
    }
   }
  },
  {
   "cell_type": "code",
   "execution_count": null,
   "outputs": [],
   "source": [],
   "metadata": {
    "collapsed": false,
    "pycharm": {
     "name": "#%%\n"
    }
   }
  },
  {
   "cell_type": "code",
   "execution_count": null,
   "outputs": [],
   "source": [],
   "metadata": {
    "collapsed": false,
    "pycharm": {
     "name": "#%%\n"
    }
   }
  }
 ],
 "metadata": {
  "kernelspec": {
   "display_name": "Python 3",
   "language": "python",
   "name": "python3"
  },
  "language_info": {
   "codemirror_mode": {
    "name": "ipython",
    "version": 2
   },
   "file_extension": ".py",
   "mimetype": "text/x-python",
   "name": "python",
   "nbconvert_exporter": "python",
   "pygments_lexer": "ipython2",
   "version": "2.7.6"
  }
 },
 "nbformat": 4,
 "nbformat_minor": 0
}