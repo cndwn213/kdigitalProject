{
 "cells": [
  {
   "cell_type": "code",
   "execution_count": 1,
   "metadata": {
    "ExecuteTime": {
     "end_time": "2022-05-10T02:09:10.427167Z",
     "start_time": "2022-05-10T02:09:09.369894Z"
    }
   },
   "outputs": [],
   "source": [
    "import pandas as pd\n",
    "\n",
    "import warnings \n",
    "warnings.filterwarnings(\"ignore\")"
   ]
  },
  {
   "cell_type": "markdown",
   "metadata": {},
   "source": [
    "# ROA, ROE 계산"
   ]
  },
  {
   "cell_type": "code",
   "execution_count": 2,
   "metadata": {
    "ExecuteTime": {
     "end_time": "2022-05-10T02:09:12.695147Z",
     "start_time": "2022-05-10T02:09:12.578216Z"
    }
   },
   "outputs": [],
   "source": [
    "자산총계 = pd.read_csv(\"./data/자산총계_최종.csv\", index_col = 0)\n",
    "부채총계 = pd.read_csv(\"./data/부채총계_최종.csv\", index_col = 0)\n",
    "자본총계 = pd.read_csv(\"./data/자본총계_최종.csv\", index_col = 0)\n",
    "당기순이익 = pd.read_csv(\"./data/당기순이익_최종.csv\", index_col = 0)"
   ]
  },
  {
   "cell_type": "code",
   "execution_count": 3,
   "metadata": {
    "ExecuteTime": {
     "end_time": "2022-05-10T02:09:24.130399Z",
     "start_time": "2022-05-10T02:09:15.249116Z"
    }
   },
   "outputs": [],
   "source": [
    "ROA = pd.DataFrame()\n",
    "for name in 자산총계['corp_name']:\n",
    "    na_cnt =  자산총계[자산총계.corp_name == name].isnull().sum(axis=1).values[0]\n",
    "    if na_cnt == 0:\n",
    "        roa = 당기순이익[당기순이익.corp_name == name].iloc[:, 3:].values / 자산총계[자산총계.corp_name == name].iloc[:, 3:].values\n",
    "        roa = pd.DataFrame(roa, columns = 자본총계.columns[3:])\n",
    "    else:\n",
    "        roa = 당기순이익[당기순이익.corp_name == name].iloc[:, 3:-na_cnt].values / 자산총계[자산총계.corp_name == name].iloc[:, 3:-na_cnt].values\n",
    "        roa = pd.DataFrame(roa, columns = 자본총계.columns[3:-na_cnt])\n",
    "    roa = roa*100\n",
    "    roa.insert(0, '종목명', name)\n",
    "    ROA = pd.concat([ROA, roa])\n",
    "ROA.reset_index(drop=True, inplace=True)"
   ]
  },
  {
   "cell_type": "code",
   "execution_count": 4,
   "metadata": {
    "ExecuteTime": {
     "end_time": "2022-05-10T02:09:40.825082Z",
     "start_time": "2022-05-10T02:09:32.620068Z"
    }
   },
   "outputs": [],
   "source": [
    "ROE = pd.DataFrame()\n",
    "for name in 자본총계['corp_name']:\n",
    "    na_cnt =  자본총계[자본총계.corp_name == name].isnull().sum(axis=1).values[0]\n",
    "    \n",
    "    if na_cnt == 0:\n",
    "        roe = 당기순이익[당기순이익.corp_name == name].iloc[:, 3:].values / 자본총계[자본총계.corp_name == name].iloc[:, 3:].values\n",
    "        roe = pd.DataFrame(roe, columns = 자본총계.columns[3:])\n",
    "    else:\n",
    "        roe = 당기순이익[당기순이익.corp_name == name].iloc[:, 3:-na_cnt].values / 자본총계[자본총계.corp_name == name].iloc[:, 3:-na_cnt].values\n",
    "        roe = pd.DataFrame(roe, columns = 자본총계.columns[3:-na_cnt])\n",
    "        \n",
    "    roe = roe*100\n",
    "    roe.insert(0, '종목명', name)\n",
    "    ROE = pd.concat([ROE, roe])\n",
    "ROE.reset_index(drop=True, inplace=True)"
   ]
  },
  {
   "cell_type": "code",
   "execution_count": 305,
   "metadata": {
    "ExecuteTime": {
     "end_time": "2022-05-09T08:08:04.134374Z",
     "start_time": "2022-05-09T08:08:04.019442Z"
    }
   },
   "outputs": [],
   "source": [
    "ROE.to_csv('./data/ROE.csv')\n",
    "ROA.to_csv('./data/ROA.csv')"
   ]
  }
 ],
 "metadata": {
  "kernelspec": {
   "display_name": "Python 3",
   "language": "python",
   "name": "python3"
  },
  "language_info": {
   "codemirror_mode": {
    "name": "ipython",
    "version": 3
   },
   "file_extension": ".py",
   "mimetype": "text/x-python",
   "name": "python",
   "nbconvert_exporter": "python",
   "pygments_lexer": "ipython3",
   "version": "3.7.6"
  },
  "toc": {
   "base_numbering": 1,
   "nav_menu": {},
   "number_sections": true,
   "sideBar": true,
   "skip_h1_title": false,
   "title_cell": "Table of Contents",
   "title_sidebar": "Contents",
   "toc_cell": false,
   "toc_position": {},
   "toc_section_display": true,
   "toc_window_display": false
  },
  "varInspector": {
   "cols": {
    "lenName": 16,
    "lenType": 16,
    "lenVar": 40
   },
   "kernels_config": {
    "python": {
     "delete_cmd_postfix": "",
     "delete_cmd_prefix": "del ",
     "library": "var_list.py",
     "varRefreshCmd": "print(var_dic_list())"
    },
    "r": {
     "delete_cmd_postfix": ") ",
     "delete_cmd_prefix": "rm(",
     "library": "var_list.r",
     "varRefreshCmd": "cat(var_dic_list()) "
    }
   },
   "types_to_exclude": [
    "module",
    "function",
    "builtin_function_or_method",
    "instance",
    "_Feature"
   ],
   "window_display": false
  }
 },
 "nbformat": 4,
 "nbformat_minor": 4
}
