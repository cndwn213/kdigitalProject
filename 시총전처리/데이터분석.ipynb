{
 "cells": [
  {
   "cell_type": "code",
   "execution_count": 1,
   "id": "a4b61511",
   "metadata": {},
   "outputs": [],
   "source": [
    "import pandas as pd\n",
    "import numpy as np\n",
    "import seaborn as sns\n",
    "import matplotlib.pyplot as plt"
   ]
  },
  {
   "cell_type": "code",
   "execution_count": 20,
   "id": "9078e981",
   "metadata": {},
   "outputs": [],
   "source": [
    "df1 = pd.read_csv('C:/Users/ksw07/Desktop/multi/1차 프로젝트/데이터/최종데이터_ESG환산.csv')"
   ]
  },
  {
   "cell_type": "code",
   "execution_count": 21,
   "id": "6c4b2d43",
   "metadata": {},
   "outputs": [
    {
     "data": {
      "text/plain": [
       "종목명           0\n",
       "연도            0\n",
       "누적수익률         0\n",
       "종합등급        472\n",
       "환경          325\n",
       "사회          442\n",
       "지배구조        589\n",
       "ROA         650\n",
       "ROE         655\n",
       "tobinQ      927\n",
       "코스피누적수익률      0\n",
       "dtype: int64"
      ]
     },
     "execution_count": 21,
     "metadata": {},
     "output_type": "execute_result"
    }
   ],
   "source": [
    "df.isna().sum()"
   ]
  },
  {
   "cell_type": "code",
   "execution_count": 56,
   "id": "6eb845a1",
   "metadata": {},
   "outputs": [],
   "source": [
    "df = df.dropna()"
   ]
  },
  {
   "cell_type": "code",
   "execution_count": 57,
   "id": "b6225535",
   "metadata": {},
   "outputs": [
    {
     "data": {
      "text/plain": [
       "종목명         0\n",
       "연도          0\n",
       "누적수익률       0\n",
       "종합등급        0\n",
       "환경          0\n",
       "사회          0\n",
       "지배구조        0\n",
       "ROA         0\n",
       "ROE         0\n",
       "tobinQ      0\n",
       "코스피누적수익률    0\n",
       "dtype: int64"
      ]
     },
     "execution_count": 57,
     "metadata": {},
     "output_type": "execute_result"
    }
   ],
   "source": [
    "df.isna().sum()"
   ]
  },
  {
   "cell_type": "code",
   "execution_count": 58,
   "id": "fa6bc961",
   "metadata": {},
   "outputs": [],
   "source": [
    "df = df.reset_index(drop=True)"
   ]
  },
  {
   "cell_type": "code",
   "execution_count": 59,
   "id": "7a23f20e",
   "metadata": {},
   "outputs": [
    {
     "data": {
      "text/html": [
       "<div>\n",
       "<style scoped>\n",
       "    .dataframe tbody tr th:only-of-type {\n",
       "        vertical-align: middle;\n",
       "    }\n",
       "\n",
       "    .dataframe tbody tr th {\n",
       "        vertical-align: top;\n",
       "    }\n",
       "\n",
       "    .dataframe thead th {\n",
       "        text-align: right;\n",
       "    }\n",
       "</style>\n",
       "<table border=\"1\" class=\"dataframe\">\n",
       "  <thead>\n",
       "    <tr style=\"text-align: right;\">\n",
       "      <th></th>\n",
       "      <th>종목명</th>\n",
       "      <th>연도</th>\n",
       "      <th>누적수익률</th>\n",
       "      <th>종합등급</th>\n",
       "      <th>환경</th>\n",
       "      <th>사회</th>\n",
       "      <th>지배구조</th>\n",
       "      <th>ROA</th>\n",
       "      <th>ROE</th>\n",
       "      <th>tobinQ</th>\n",
       "      <th>코스피누적수익률</th>\n",
       "    </tr>\n",
       "  </thead>\n",
       "  <tbody>\n",
       "    <tr>\n",
       "      <th>0</th>\n",
       "      <td>AJ네트웍스</td>\n",
       "      <td>2016</td>\n",
       "      <td>-16.696604214681077</td>\n",
       "      <td>3.0</td>\n",
       "      <td>2.0</td>\n",
       "      <td>3.0</td>\n",
       "      <td>3.0</td>\n",
       "      <td>0.820595</td>\n",
       "      <td>3.995265</td>\n",
       "      <td>0.756037</td>\n",
       "      <td>0.244437</td>\n",
       "    </tr>\n",
       "    <tr>\n",
       "      <th>1</th>\n",
       "      <td>AJ네트웍스</td>\n",
       "      <td>2017</td>\n",
       "      <td>-21.11600115237536</td>\n",
       "      <td>3.0</td>\n",
       "      <td>3.0</td>\n",
       "      <td>3.0</td>\n",
       "      <td>3.0</td>\n",
       "      <td>0.877023</td>\n",
       "      <td>4.617270</td>\n",
       "      <td>0.719738</td>\n",
       "      <td>14.838077</td>\n",
       "    </tr>\n",
       "    <tr>\n",
       "      <th>2</th>\n",
       "      <td>AJ네트웍스</td>\n",
       "      <td>2018</td>\n",
       "      <td>-15.324072500773934</td>\n",
       "      <td>3.0</td>\n",
       "      <td>2.0</td>\n",
       "      <td>3.0</td>\n",
       "      <td>3.0</td>\n",
       "      <td>1.447255</td>\n",
       "      <td>7.577926</td>\n",
       "      <td>0.574388</td>\n",
       "      <td>17.010852</td>\n",
       "    </tr>\n",
       "    <tr>\n",
       "      <th>3</th>\n",
       "      <td>AJ네트웍스</td>\n",
       "      <td>2019</td>\n",
       "      <td>-27.94536701833392</td>\n",
       "      <td>3.0</td>\n",
       "      <td>1.0</td>\n",
       "      <td>3.0</td>\n",
       "      <td>3.0</td>\n",
       "      <td>2.336252</td>\n",
       "      <td>12.128881</td>\n",
       "      <td>0.651385</td>\n",
       "      <td>-8.843388</td>\n",
       "    </tr>\n",
       "    <tr>\n",
       "      <th>4</th>\n",
       "      <td>AJ네트웍스</td>\n",
       "      <td>2020</td>\n",
       "      <td>-37.50319295527726</td>\n",
       "      <td>3.0</td>\n",
       "      <td>1.0</td>\n",
       "      <td>3.0</td>\n",
       "      <td>3.0</td>\n",
       "      <td>-0.208845</td>\n",
       "      <td>-1.151640</td>\n",
       "      <td>0.556895</td>\n",
       "      <td>-4.513591</td>\n",
       "    </tr>\n",
       "    <tr>\n",
       "      <th>...</th>\n",
       "      <td>...</td>\n",
       "      <td>...</td>\n",
       "      <td>...</td>\n",
       "      <td>...</td>\n",
       "      <td>...</td>\n",
       "      <td>...</td>\n",
       "      <td>...</td>\n",
       "      <td>...</td>\n",
       "      <td>...</td>\n",
       "      <td>...</td>\n",
       "      <td>...</td>\n",
       "    </tr>\n",
       "    <tr>\n",
       "      <th>5191</th>\n",
       "      <td>후성</td>\n",
       "      <td>2017</td>\n",
       "      <td>132.7177676791267</td>\n",
       "      <td>3.0</td>\n",
       "      <td>2.0</td>\n",
       "      <td>3.0</td>\n",
       "      <td>4.0</td>\n",
       "      <td>8.928117</td>\n",
       "      <td>13.509607</td>\n",
       "      <td>4.251250</td>\n",
       "      <td>14.838077</td>\n",
       "    </tr>\n",
       "    <tr>\n",
       "      <th>5192</th>\n",
       "      <td>후성</td>\n",
       "      <td>2018</td>\n",
       "      <td>59.411274840086506</td>\n",
       "      <td>3.0</td>\n",
       "      <td>3.0</td>\n",
       "      <td>3.0</td>\n",
       "      <td>4.0</td>\n",
       "      <td>6.353841</td>\n",
       "      <td>11.426047</td>\n",
       "      <td>3.626249</td>\n",
       "      <td>17.010852</td>\n",
       "    </tr>\n",
       "    <tr>\n",
       "      <th>5193</th>\n",
       "      <td>후성</td>\n",
       "      <td>2019</td>\n",
       "      <td>-8.495724488232403</td>\n",
       "      <td>3.0</td>\n",
       "      <td>3.0</td>\n",
       "      <td>2.0</td>\n",
       "      <td>3.0</td>\n",
       "      <td>0.038912</td>\n",
       "      <td>0.084715</td>\n",
       "      <td>3.073370</td>\n",
       "      <td>-8.843388</td>\n",
       "    </tr>\n",
       "    <tr>\n",
       "      <th>5194</th>\n",
       "      <td>후성</td>\n",
       "      <td>2020</td>\n",
       "      <td>-14.159244338233002</td>\n",
       "      <td>2.0</td>\n",
       "      <td>3.0</td>\n",
       "      <td>2.0</td>\n",
       "      <td>2.0</td>\n",
       "      <td>0.490757</td>\n",
       "      <td>1.081137</td>\n",
       "      <td>3.307261</td>\n",
       "      <td>-4.513591</td>\n",
       "    </tr>\n",
       "    <tr>\n",
       "      <th>5195</th>\n",
       "      <td>후성</td>\n",
       "      <td>2021</td>\n",
       "      <td>76.80804336098694</td>\n",
       "      <td>4.0</td>\n",
       "      <td>5.0</td>\n",
       "      <td>3.0</td>\n",
       "      <td>3.0</td>\n",
       "      <td>5.075085</td>\n",
       "      <td>11.034945</td>\n",
       "      <td>5.061703</td>\n",
       "      <td>47.727374</td>\n",
       "    </tr>\n",
       "  </tbody>\n",
       "</table>\n",
       "<p>5196 rows × 11 columns</p>\n",
       "</div>"
      ],
      "text/plain": [
       "         종목명    연도                누적수익률  종합등급   환경   사회  지배구조       ROA  \\\n",
       "0     AJ네트웍스  2016  -16.696604214681077   3.0  2.0  3.0   3.0  0.820595   \n",
       "1     AJ네트웍스  2017   -21.11600115237536   3.0  3.0  3.0   3.0  0.877023   \n",
       "2     AJ네트웍스  2018  -15.324072500773934   3.0  2.0  3.0   3.0  1.447255   \n",
       "3     AJ네트웍스  2019   -27.94536701833392   3.0  1.0  3.0   3.0  2.336252   \n",
       "4     AJ네트웍스  2020   -37.50319295527726   3.0  1.0  3.0   3.0 -0.208845   \n",
       "...      ...   ...                  ...   ...  ...  ...   ...       ...   \n",
       "5191      후성  2017    132.7177676791267   3.0  2.0  3.0   4.0  8.928117   \n",
       "5192      후성  2018   59.411274840086506   3.0  3.0  3.0   4.0  6.353841   \n",
       "5193      후성  2019   -8.495724488232403   3.0  3.0  2.0   3.0  0.038912   \n",
       "5194      후성  2020  -14.159244338233002   2.0  3.0  2.0   2.0  0.490757   \n",
       "5195      후성  2021    76.80804336098694   4.0  5.0  3.0   3.0  5.075085   \n",
       "\n",
       "            ROE    tobinQ   코스피누적수익률  \n",
       "0      3.995265  0.756037   0.244437  \n",
       "1      4.617270  0.719738  14.838077  \n",
       "2      7.577926  0.574388  17.010852  \n",
       "3     12.128881  0.651385  -8.843388  \n",
       "4     -1.151640  0.556895  -4.513591  \n",
       "...         ...       ...        ...  \n",
       "5191  13.509607  4.251250  14.838077  \n",
       "5192  11.426047  3.626249  17.010852  \n",
       "5193   0.084715  3.073370  -8.843388  \n",
       "5194   1.081137  3.307261  -4.513591  \n",
       "5195  11.034945  5.061703  47.727374  \n",
       "\n",
       "[5196 rows x 11 columns]"
      ]
     },
     "execution_count": 59,
     "metadata": {},
     "output_type": "execute_result"
    }
   ],
   "source": [
    "df"
   ]
  },
  {
   "cell_type": "code",
   "execution_count": 55,
   "id": "4e96dab6",
   "metadata": {},
   "outputs": [],
   "source": [
    "from sklearn.linear_model import LinearRegression\n",
    "from sklearn.model_selection import train_test_split"
   ]
  },
  {
   "cell_type": "code",
   "execution_count": 94,
   "id": "2e434a27",
   "metadata": {},
   "outputs": [
    {
     "data": {
      "text/plain": [
       "LinearRegression()"
      ]
     },
     "execution_count": 94,
     "metadata": {},
     "output_type": "execute_result"
    }
   ],
   "source": [
    "X = df[['종합등급', '환경', '사회', '지배구조', '연도', '코스피누적수익률']]\n",
    "y= df['tobinQ']\n",
    "X_train, X_test, y_train, y_test = train_test_split(\n",
    "    X, y, random_state=2022)\n",
    "\n",
    "lr = LinearRegression()\n",
    "lr.fit(X_train, y_train)"
   ]
  },
  {
   "cell_type": "code",
   "execution_count": 95,
   "id": "8521140f",
   "metadata": {},
   "outputs": [
    {
     "data": {
      "text/plain": [
       "array([ 23763.92843039,  10546.73647259,  -5211.24754185, ...,\n",
       "       -32181.4280246 ,  -2561.25683493,   5746.4711669 ])"
      ]
     },
     "execution_count": 95,
     "metadata": {},
     "output_type": "execute_result"
    }
   ],
   "source": [
    "lr.predict(X_test)"
   ]
  },
  {
   "cell_type": "code",
   "execution_count": 96,
   "id": "5f0889d0",
   "metadata": {},
   "outputs": [
    {
     "data": {
      "text/plain": [
       "0.010212576876656665"
      ]
     },
     "execution_count": 96,
     "metadata": {},
     "output_type": "execute_result"
    }
   ],
   "source": [
    "lr.score(X_test, y_test)"
   ]
  },
  {
   "cell_type": "code",
   "execution_count": 97,
   "id": "858b62ef",
   "metadata": {},
   "outputs": [
    {
     "data": {
      "text/plain": [
       "지배구조        18832.1\n",
       "환경           7855.2\n",
       "사회           5858.1\n",
       "코스피누적수익률      235.3\n",
       "연도          -5347.1\n",
       "종합등급        -9571.4\n",
       "dtype: float64"
      ]
     },
     "execution_count": 97,
     "metadata": {},
     "output_type": "execute_result"
    }
   ],
   "source": [
    "coef = pd.Series(data=np.round(lr.coef_, 1), index=X.columns)\n",
    "coef.sort_values(ascending=False)\n"
   ]
  },
  {
   "cell_type": "code",
   "execution_count": 98,
   "id": "a3f81a4c",
   "metadata": {},
   "outputs": [
    {
     "data": {
      "text/html": [
       "<table class=\"simpletable\">\n",
       "<caption>OLS Regression Results</caption>\n",
       "<tr>\n",
       "  <th>Dep. Variable:</th>         <td>tobinQ</td>      <th>  R-squared:         </th> <td>   0.015</td> \n",
       "</tr>\n",
       "<tr>\n",
       "  <th>Model:</th>                   <td>OLS</td>       <th>  Adj. R-squared:    </th> <td>   0.014</td> \n",
       "</tr>\n",
       "<tr>\n",
       "  <th>Method:</th>             <td>Least Squares</td>  <th>  F-statistic:       </th> <td>   15.97</td> \n",
       "</tr>\n",
       "<tr>\n",
       "  <th>Date:</th>             <td>Wed, 11 May 2022</td> <th>  Prob (F-statistic):</th> <td>1.20e-15</td> \n",
       "</tr>\n",
       "<tr>\n",
       "  <th>Time:</th>                 <td>17:06:08</td>     <th>  Log-Likelihood:    </th> <td> -68024.</td> \n",
       "</tr>\n",
       "<tr>\n",
       "  <th>No. Observations:</th>      <td>  5196</td>      <th>  AIC:               </th> <td>1.361e+05</td>\n",
       "</tr>\n",
       "<tr>\n",
       "  <th>Df Residuals:</th>          <td>  5190</td>      <th>  BIC:               </th> <td>1.361e+05</td>\n",
       "</tr>\n",
       "<tr>\n",
       "  <th>Df Model:</th>              <td>     5</td>      <th>                     </th>     <td> </td>    \n",
       "</tr>\n",
       "<tr>\n",
       "  <th>Covariance Type:</th>      <td>nonrobust</td>    <th>                     </th>     <td> </td>    \n",
       "</tr>\n",
       "</table>\n",
       "<table class=\"simpletable\">\n",
       "<tr>\n",
       "      <td></td>         <th>coef</th>     <th>std err</th>      <th>t</th>      <th>P>|t|</th>  <th>[0.025</th>    <th>0.975]</th>  \n",
       "</tr>\n",
       "<tr>\n",
       "  <th>Intercept</th> <td>-5.594e+04</td> <td> 7715.324</td> <td>   -7.250</td> <td> 0.000</td> <td>-7.11e+04</td> <td>-4.08e+04</td>\n",
       "</tr>\n",
       "<tr>\n",
       "  <th>종합등급</th>      <td>  695.7420</td> <td> 5537.867</td> <td>    0.126</td> <td> 0.900</td> <td>-1.02e+04</td> <td> 1.16e+04</td>\n",
       "</tr>\n",
       "<tr>\n",
       "  <th>환경</th>        <td> 7846.5006</td> <td> 2310.452</td> <td>    3.396</td> <td> 0.001</td> <td> 3317.042</td> <td> 1.24e+04</td>\n",
       "</tr>\n",
       "<tr>\n",
       "  <th>사회</th>        <td>   16.9414</td> <td> 3102.632</td> <td>    0.005</td> <td> 0.996</td> <td>-6065.524</td> <td> 6099.407</td>\n",
       "</tr>\n",
       "<tr>\n",
       "  <th>지배구조</th>      <td>  1.23e+04</td> <td> 3470.211</td> <td>    3.543</td> <td> 0.000</td> <td> 5491.941</td> <td> 1.91e+04</td>\n",
       "</tr>\n",
       "<tr>\n",
       "  <th>코스피누적수익률</th>  <td>  -67.2539</td> <td>  106.808</td> <td>   -0.630</td> <td> 0.529</td> <td> -276.642</td> <td>  142.134</td>\n",
       "</tr>\n",
       "</table>\n",
       "<table class=\"simpletable\">\n",
       "<tr>\n",
       "  <th>Omnibus:</th>       <td>10482.002</td> <th>  Durbin-Watson:     </th>   <td>   1.270</td>  \n",
       "</tr>\n",
       "<tr>\n",
       "  <th>Prob(Omnibus):</th>  <td> 0.000</td>   <th>  Jarque-Bera (JB):  </th> <td>22061127.896</td>\n",
       "</tr>\n",
       "<tr>\n",
       "  <th>Skew:</th>           <td>16.718</td>   <th>  Prob(JB):          </th>   <td>    0.00</td>  \n",
       "</tr>\n",
       "<tr>\n",
       "  <th>Kurtosis:</th>       <td>320.460</td>  <th>  Cond. No.          </th>   <td>    87.4</td>  \n",
       "</tr>\n",
       "</table><br/><br/>Notes:<br/>[1] Standard Errors assume that the covariance matrix of the errors is correctly specified."
      ],
      "text/plain": [
       "<class 'statsmodels.iolib.summary.Summary'>\n",
       "\"\"\"\n",
       "                            OLS Regression Results                            \n",
       "==============================================================================\n",
       "Dep. Variable:                 tobinQ   R-squared:                       0.015\n",
       "Model:                            OLS   Adj. R-squared:                  0.014\n",
       "Method:                 Least Squares   F-statistic:                     15.97\n",
       "Date:                Wed, 11 May 2022   Prob (F-statistic):           1.20e-15\n",
       "Time:                        17:06:08   Log-Likelihood:                -68024.\n",
       "No. Observations:                5196   AIC:                         1.361e+05\n",
       "Df Residuals:                    5190   BIC:                         1.361e+05\n",
       "Df Model:                           5                                         \n",
       "Covariance Type:            nonrobust                                         \n",
       "==============================================================================\n",
       "                 coef    std err          t      P>|t|      [0.025      0.975]\n",
       "------------------------------------------------------------------------------\n",
       "Intercept  -5.594e+04   7715.324     -7.250      0.000   -7.11e+04   -4.08e+04\n",
       "종합등급         695.7420   5537.867      0.126      0.900   -1.02e+04    1.16e+04\n",
       "환경          7846.5006   2310.452      3.396      0.001    3317.042    1.24e+04\n",
       "사회            16.9414   3102.632      0.005      0.996   -6065.524    6099.407\n",
       "지배구조         1.23e+04   3470.211      3.543      0.000    5491.941    1.91e+04\n",
       "코스피누적수익률     -67.2539    106.808     -0.630      0.529    -276.642     142.134\n",
       "==============================================================================\n",
       "Omnibus:                    10482.002   Durbin-Watson:                   1.270\n",
       "Prob(Omnibus):                  0.000   Jarque-Bera (JB):         22061127.896\n",
       "Skew:                          16.718   Prob(JB):                         0.00\n",
       "Kurtosis:                     320.460   Cond. No.                         87.4\n",
       "==============================================================================\n",
       "\n",
       "Notes:\n",
       "[1] Standard Errors assume that the covariance matrix of the errors is correctly specified.\n",
       "\"\"\""
      ]
     },
     "execution_count": 98,
     "metadata": {},
     "output_type": "execute_result"
    }
   ],
   "source": [
    "import statsmodels.formula.api as sm\n",
    "result = sm.ols(formula = 'tobinQ ~ 종합등급 + 환경 + 사회 + 지배구조 + 코스피누적수익률', data = df).fit()\n",
    "result.summary()"
   ]
  },
  {
   "cell_type": "code",
   "execution_count": null,
   "id": "e310c176",
   "metadata": {},
   "outputs": [],
   "source": []
  }
 ],
 "metadata": {
  "kernelspec": {
   "display_name": "Python 3 (ipykernel)",
   "language": "python",
   "name": "python3"
  },
  "language_info": {
   "codemirror_mode": {
    "name": "ipython",
    "version": 3
   },
   "file_extension": ".py",
   "mimetype": "text/x-python",
   "name": "python",
   "nbconvert_exporter": "python",
   "pygments_lexer": "ipython3",
   "version": "3.9.7"
  }
 },
 "nbformat": 4,
 "nbformat_minor": 5
}
